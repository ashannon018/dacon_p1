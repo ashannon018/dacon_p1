{
 "cells": [
  {
   "cell_type": "code",
   "execution_count": 27,
   "metadata": {},
   "outputs": [],
   "source": [
    "import pandas as pd \n",
    "df = pd.read_csv('train.csv')\n",
    "df_test = pd.read_csv('test.csv')\n",
    "disease_list=df[\"SUBCLASS\"].unique()\n",
    "#df_test.drop(columns=['ID'], inplace=True)\n",
    "import warnings\n",
    "warnings.filterwarnings('ignore')"
   ]
  },
  {
   "cell_type": "code",
   "execution_count": 45,
   "metadata": {},
   "outputs": [],
   "source": [
    "from collections import defaultdict\n",
    "th_d = defaultdict()\n",
    "for d in disease_list :\n",
    "    th_d[d] = 5\n",
    "th_d['OV']=0"
   ]
  },
  {
   "cell_type": "code",
   "execution_count": 46,
   "metadata": {},
   "outputs": [],
   "source": [
    "from collections import defaultdict\n",
    "gdic = defaultdict()\n",
    "\n",
    "def get_gene_list1():\n",
    "    selected_genes = set()\n",
    "    for d in disease_list:\n",
    "        count_df = df[df.SUBCLASS==d].apply(lambda x : x!='WT').agg(sum)\n",
    "        count_df = count_df[2:].reset_index(name='count')        \n",
    "        th = th_d[d]#6 if df[df.SUBCLASS==d].shape[0] > 350 else 1\n",
    "        gene_list = count_df[count_df['count']>th]['index'].values\n",
    "        \n",
    "        gdic[d] = gene_list\n",
    "        #selected_genes.update(gene_list)\n",
    "get_gene_list1()"
   ]
  },
  {
   "cell_type": "code",
   "execution_count": 21,
   "metadata": {},
   "outputs": [
    {
     "name": "stdout",
     "output_type": "stream",
     "text": [
      "KIPAN\n",
      "VHL       154\n",
      "DST        27\n",
      "KMT2D      26\n",
      "MTOR       25\n",
      "PABPC1     24\n",
      "TP53       24\n",
      "PCLO       21\n",
      "RYR1       19\n",
      "MET        19\n",
      "PLEC       19\n",
      "dtype: int64\n",
      "SARC\n",
      "TP53     52\n",
      "ATRX     25\n",
      "PCLO     14\n",
      "RB1      13\n",
      "RYR1     10\n",
      "RYR2     10\n",
      "PEG3      9\n",
      "PKHD1     9\n",
      "AHNAK     9\n",
      "DMD       8\n",
      "dtype: int64\n",
      "SKCM\n",
      "BRAF      139\n",
      "PCLO      133\n",
      "MXRA5     105\n",
      "MYH1       91\n",
      "RYR1       90\n",
      "MYH4       90\n",
      "SCN10A     89\n",
      "MYH2       88\n",
      "RELN       85\n",
      "SYNE1      84\n",
      "dtype: int64\n",
      "KIRC\n",
      "VHL       151\n",
      "MTOR       19\n",
      "DST        19\n",
      "KMT2D      17\n",
      "PABPC1     16\n",
      "PTEN       12\n",
      "NOTCH2     12\n",
      "SYNE1      12\n",
      "PCLO       12\n",
      "RYR1       11\n",
      "dtype: int64\n",
      "GBMLGG\n",
      "IDH1      189\n",
      "TP53      169\n",
      "ATRX       99\n",
      "PTEN       75\n",
      "EGFR       67\n",
      "NF1        36\n",
      "PCLO       34\n",
      "RYR2       33\n",
      "PIK3CA     31\n",
      "PKHD1      26\n",
      "dtype: int64\n",
      "STES\n",
      "TP53       214\n",
      "SYNE1      116\n",
      "PCLO        91\n",
      "RYR2        88\n",
      "SPTA1       79\n",
      "KMT2D       73\n",
      "RYR1        63\n",
      "DMD         60\n",
      "PIK3CA      59\n",
      "COL12A1     59\n",
      "dtype: int64\n",
      "BRCA\n",
      "PIK3CA    250\n",
      "TP53      218\n",
      "CDH1       73\n",
      "GATA3      58\n",
      "MAP3K1     56\n",
      "RYR2       52\n",
      "SYNE1      46\n",
      "DMD        34\n",
      "RYR1       31\n",
      "SPTA1      30\n",
      "dtype: int64\n",
      "THCA\n",
      "BRAF       186\n",
      "HRAS        12\n",
      "TG          12\n",
      "RYR1         6\n",
      "CDH8         5\n",
      "DLC1         5\n",
      "SLC12A4      5\n",
      "COL5A3       5\n",
      "PKHD1        5\n",
      "ENPP2        4\n",
      "dtype: int64\n",
      "LIHC\n",
      "TP53      41\n",
      "CTNNB1    38\n",
      "RYR2      26\n",
      "DST       19\n",
      "PCLO      18\n",
      "DMD       16\n",
      "SPTA1     15\n",
      "SYNE1     14\n",
      "FBN2      14\n",
      "VCAN      12\n",
      "dtype: int64\n",
      "HNSC\n",
      "TP53      147\n",
      "CDKN2A     48\n",
      "PIK3CA     47\n",
      "SYNE1      43\n",
      "NOTCH1     42\n",
      "KMT2D      40\n",
      "PCLO       40\n",
      "RYR2       33\n",
      "DMD        29\n",
      "LAMA2      26\n",
      "dtype: int64\n",
      "PAAD\n",
      "TP53       79\n",
      "CDKN2A     19\n",
      "RYR1       12\n",
      "GNAS        9\n",
      "PLEC        9\n",
      "CACNA1B     8\n",
      "AMOT        8\n",
      "SPTA1       8\n",
      "DMD         7\n",
      "MYLK        7\n",
      "dtype: int64\n",
      "OV\n",
      "TP53      190\n",
      "RYR2       13\n",
      "COL6A3     11\n",
      "RYR1       10\n",
      "EGFR       10\n",
      "DST        10\n",
      "AHNAK      10\n",
      "NF1        10\n",
      "PKHD1      10\n",
      "DMD         9\n",
      "dtype: int64\n",
      "PRAD\n",
      "SPOP      28\n",
      "TP53      14\n",
      "SPTA1     11\n",
      "SYNE1     10\n",
      "KMT2D      9\n",
      "CTNNB1     7\n",
      "AHNAK      7\n",
      "PCLO       7\n",
      "PLCB4      7\n",
      "VWF        7\n",
      "dtype: int64\n",
      "UCEC\n",
      "PTEN      122\n",
      "PIK3CA     97\n",
      "CTNNB1     61\n",
      "TP53       50\n",
      "RYR2       37\n",
      "CTCF       36\n",
      "RYR1       35\n",
      "DST        35\n",
      "DMD        35\n",
      "KMT2D      35\n",
      "dtype: int64\n",
      "LAML\n",
      "NPM1      41\n",
      "IDH1      18\n",
      "IDH2      17\n",
      "RUNX1     12\n",
      "TP53      11\n",
      "CEBPA     10\n",
      "PTPN11     8\n",
      "SMC1A      6\n",
      "KIT        6\n",
      "SMC3       4\n",
      "dtype: int64\n",
      "COAD\n",
      "APC       160\n",
      "TP53      115\n",
      "SYNE1      62\n",
      "FBXW7      37\n",
      "DMD        35\n",
      "PIK3CA     34\n",
      "RYR1       32\n",
      "RYR2       32\n",
      "COL6A3     32\n",
      "LAMA1      30\n",
      "dtype: int64\n",
      "ACC\n",
      "PLEC      38\n",
      "LRIG1     25\n",
      "SOWAHC    24\n",
      "CMPK2     20\n",
      "NFKB2     18\n",
      "TM7SF2    16\n",
      "MEFV      16\n",
      "PTGIR     16\n",
      "PEX6      15\n",
      "ERCC2     15\n",
      "dtype: int64\n",
      "LGG\n",
      "IDH1      180\n",
      "TP53      116\n",
      "ATRX       83\n",
      "NOTCH1     17\n",
      "PIK3CA     15\n",
      "NF1        12\n",
      "IDH2        9\n",
      "RYR2        8\n",
      "EGFR        8\n",
      "PTEN        8\n",
      "dtype: int64\n",
      "LUSC\n",
      "TP53       127\n",
      "RYR2        76\n",
      "SYNE1       61\n",
      "SPTA1       49\n",
      "PKHD1       41\n",
      "COL11A1     35\n",
      "KMT2D       35\n",
      "PCLO        34\n",
      "DMD         31\n",
      "PDE4DIP     30\n",
      "dtype: int64\n",
      "LUAD\n",
      "TP53     77\n",
      "RYR2     72\n",
      "SPTA1    48\n",
      "PCLO     42\n",
      "RYR1     35\n",
      "DMD      33\n",
      "PTPRD    33\n",
      "RELN     32\n",
      "MXRA5    29\n",
      "NLRP3    29\n",
      "dtype: int64\n",
      "CESC\n",
      "PIK3CA    35\n",
      "SYNE1     24\n",
      "DST       23\n",
      "RYR2      22\n",
      "PLEC      17\n",
      "KMT2D     17\n",
      "PKD1      16\n",
      "DMD       15\n",
      "CREBBP    14\n",
      "PCLO      14\n",
      "dtype: int64\n",
      "PCPG\n",
      "HRAS       15\n",
      "NF1        10\n",
      "CHEK2       8\n",
      "COL12A1     5\n",
      "ATRX        5\n",
      "RET         4\n",
      "AHNAK       4\n",
      "CDC27       4\n",
      "ALMS1       4\n",
      "NCOA6       4\n",
      "dtype: int64\n",
      "THYM\n",
      "HRAS       8\n",
      "TP53       4\n",
      "PCLO       3\n",
      "PLXNB2     3\n",
      "NF1        3\n",
      "AXL        2\n",
      "CHEK2      2\n",
      "CLIP1      2\n",
      "CLIP2      2\n",
      "COL17A1    2\n",
      "dtype: int64\n",
      "BLCA\n",
      "TP53       55\n",
      "KMT2D      31\n",
      "PIK3CA     23\n",
      "SYNE1      22\n",
      "SPTAN1     19\n",
      "RYR2       17\n",
      "ERCC2      17\n",
      "AHNAK      16\n",
      "CDKN1A     16\n",
      "PDE4DIP    16\n",
      "dtype: int64\n",
      "TGCT\n",
      "KIT       19\n",
      "NCOR2     13\n",
      "CELSR1    12\n",
      "PLEC      10\n",
      "PKD1       9\n",
      "CDC27      8\n",
      "RYR1       7\n",
      "BMP2K      7\n",
      "IRS2       6\n",
      "NCOA6      6\n",
      "dtype: int64\n",
      "DLBC\n",
      "KMT2D      15\n",
      "BTG2       12\n",
      "SYNE1      10\n",
      "BTG1       10\n",
      "DST         9\n",
      "PIM1        9\n",
      "PCLO        7\n",
      "KALRN       7\n",
      "TNFAIP3     7\n",
      "HLA-C       7\n",
      "dtype: int64\n"
     ]
    }
   ],
   "source": [
    "for d in disease_list:\n",
    "    disease_df = df[df[\"SUBCLASS\"] == d]\n",
    "\n",
    "    non_wt_counts = (disease_df != 'WT').sum()  # \"WT\"가 아닌 행 개수\n",
    "    nsorted = non_wt_counts.sort_values(ascending=False) #빈도 수가 높은 순서대로 정렬\n",
    "    print(d)\n",
    "    print(nsorted.iloc[2:12])\n",
    "\n",
    "#n = 20 # 추출한 상위 유전자 개수\n",
    "##genes.extend(list(nsorted[2:2+n].index))\n",
    "\n",
    "#print(f'{disease} - 전체 행의 개수 : {len(disease_df)}')\n",
    "##dd = nsorted[2:n].reset_index()\n",
    "##gene_list1 = dd['index'].values\n",
    "##gene_set.update(gene_list1)\n",
    "#print(gene_list1)\n"
   ]
  },
  {
   "cell_type": "code",
   "execution_count": 8,
   "metadata": {},
   "outputs": [
    {
     "data": {
      "text/plain": [
       "ID          120\n",
       "SUBCLASS    120\n",
       "TP53         79\n",
       "CDKN2A       19\n",
       "RYR1         12\n",
       "           ... \n",
       "NNMT          0\n",
       "NOCT          0\n",
       "NOG           0\n",
       "NOL3          0\n",
       "NPM1          0\n",
       "Length: 4386, dtype: int64"
      ]
     },
     "execution_count": 8,
     "metadata": {},
     "output_type": "execute_result"
    }
   ],
   "source": [
    "d='PAAD'\n",
    "disease_df = df[df[\"SUBCLASS\"] == d]\n",
    "\n",
    "non_wt_counts = (disease_df != 'WT').sum()  # \"WT\"가 아닌 행 개수\n",
    "nsorted = non_wt_counts.sort_values(ascending=False) #빈도 수가 높은 순서대로 정렬\n",
    "nsorted\n"
   ]
  },
  {
   "cell_type": "code",
   "execution_count": null,
   "metadata": {},
   "outputs": [],
   "source": []
  },
  {
   "cell_type": "code",
   "execution_count": null,
   "metadata": {},
   "outputs": [],
   "source": []
  },
  {
   "cell_type": "code",
   "execution_count": null,
   "metadata": {},
   "outputs": [],
   "source": []
  },
  {
   "cell_type": "code",
   "execution_count": null,
   "metadata": {},
   "outputs": [],
   "source": [
    "df[df['SUBCLASS']=='OV'][0:1].sum().sort_values(ascending=False).str.replace('WT','-').drop(['SUBCLASS','ID']).reset_index()"
   ]
  },
  {
   "cell_type": "code",
   "execution_count": null,
   "metadata": {},
   "outputs": [],
   "source": [
    "df[df['SUBCLASS']=='OV'][0:3]"
   ]
  },
  {
   "cell_type": "code",
   "execution_count": null,
   "metadata": {},
   "outputs": [],
   "source": [
    "df[df['SUBCLASS']=='OV'][0:5].sum().sort_values(ascending=False).str.replace('WT','').drop(['SUBCLASS','ID'])\n",
    "#b_strings = df[df.SUBCLASS == 'OV'].sum().sort_values(ascending=False).str.replace('WT','-').reset_index()"
   ]
  },
  {
   "cell_type": "code",
   "execution_count": null,
   "metadata": {},
   "outputs": [],
   "source": [
    "df[df['SUBCLASS']=='OV'][0:5].sum().reset_index(name='sttr').sort_values(by='sttr', ascending=False)"
   ]
  },
  {
   "cell_type": "code",
   "execution_count": null,
   "metadata": {},
   "outputs": [],
   "source": [
    "kk = df[df.SUBCLASS=='OV'].apply(lambda x : x!='WT').sum().reset_index(name='count').sort_values(by='count')\n",
    "kk[kk['count'] >0]\n"
   ]
  },
  {
   "cell_type": "code",
   "execution_count": null,
   "metadata": {},
   "outputs": [],
   "source": [
    "df_test"
   ]
  },
  {
   "cell_type": "code",
   "execution_count": 8,
   "metadata": {},
   "outputs": [],
   "source": [
    "b_strings = df_test.replace('WT','-')\n",
    "b_strings.to_csv('b-strings-TEST-1.csv')"
   ]
  },
  {
   "cell_type": "code",
   "execution_count": null,
   "metadata": {},
   "outputs": [],
   "source": [
    "genes = []\n",
    "gene_set = set()\n",
    "for disease in df[\"SUBCLASS\"].unique():\n",
    "    disease_df = df[df[\"SUBCLASS\"] == disease]\n",
    "\n",
    "    non_wt_counts = (disease_df == 'WT').sum()  # \"WT\"가 아닌 행 개수\n",
    "    \n",
    "    non_wt_counts_sorted = non_wt_counts.sort_values(ascending=False) #빈도 수가 높은 순서대로 정렬\n",
    "\n",
    "    n = 20 # 추출한 상위 유전자 개수\n",
    "    genes.extend(list(non_wt_counts_sorted[2:2+n].index))\n",
    "\n",
    "    #print(f'{disease} - 전체 행의 개수 : {len(disease_df)}')\n",
    "    dd = non_wt_counts_sorted[2:n].reset_index()\n",
    "    gene_list1 = dd['index'].values\n",
    "    gene_set.update(gene_list1)\n",
    "    #print(gene_list1)\n",
    "gene_set"
   ]
  },
  {
   "cell_type": "code",
   "execution_count": null,
   "metadata": {},
   "outputs": [],
   "source": [
    "len(gene_set)"
   ]
  },
  {
   "cell_type": "code",
   "execution_count": 68,
   "metadata": {},
   "outputs": [],
   "source": [
    "\n",
    "for d in df[\"SUBCLASS\"].unique():\n",
    "    df = pd.read_csv('train.csv')\n",
    "    #Remove Blank genes\n",
    "    aa= df[df.SUBCLASS == d].sum().sort_values(ascending=False).str.replace('WT','').reset_index(name='count')\n",
    "    rlist = list(aa[aa['count']==''].reset_index()['index'])\n",
    "    df.drop(columns = rlist , axis=1, inplace=True)\n",
    "    \n",
    "    \n",
    "    #change * Write\n",
    "    \n",
    "    aaa = df[df.SUBCLASS == d].drop(['SUBCLASS','ID'],axis=1).reset_index()\n",
    "    \n",
    "    for c in aaa.columns[1:]:\n",
    "        aaa[c] = aaa[c].apply(lambda x : '-' if x =='WT' else 'X')\n",
    "    aaa.to_csv('./data4/bstr-'+d+'-1.csv')\n",
    "    \n",
    "    #df.dropna(axis=1)\n",
    "    #b_strings = df[df.SUBCLASS == d].sum().sort_values(ascending=False).str.replace('WT','-').drop(['SUBCLASS','ID']).reset_index()\n",
    "    \n",
    "    \n",
    "    "
   ]
  },
  {
   "cell_type": "code",
   "execution_count": null,
   "metadata": {},
   "outputs": [],
   "source": [
    "disease_list = df.SUBCLASS.unique()\n",
    "\n",
    "for d in disease_list:\n",
    "    b_strings = df[df.SUBCLASS == d].sum().sort_values(ascending=False).str.replace('WT','-').drop(['SUBCLASS','ID']).reset_index()\n",
    "    b_strings.to_csv('./data3/bstr-'+d+'-1.csv')"
   ]
  },
  {
   "cell_type": "code",
   "execution_count": null,
   "metadata": {},
   "outputs": [],
   "source": []
  },
  {
   "cell_type": "code",
   "execution_count": null,
   "metadata": {},
   "outputs": [],
   "source": []
  },
  {
   "cell_type": "code",
   "execution_count": 12,
   "metadata": {},
   "outputs": [
    {
     "data": {
      "text/plain": [
       "RYR2        --Y4494Y---------V2281V Q4201H----------E883Q-...\n",
       "DHX15       ---------Y499N--------------------------------...\n",
       "KCNE2       ----------Y47F--------------------------------...\n",
       "NLGN3       -----------Y827S------------------------------...\n",
       "ABCE1       ---------------Y290C--------------------------...\n",
       "                                  ...                        \n",
       "BRPF3       N902S---------D635N---------------------------...\n",
       "PIK3CA      N345K-E545K---H1047R-E545K----E542K--P366R D93...\n",
       "TEX15       G368G-----------------------------------------...\n",
       "RUNX1       D96fs----------------D96fs-------Q186fs-------...\n",
       "SUBCLASS    BRCABRCABRCABRCABRCABRCABRCABRCABRCABRCABRCABR...\n",
       "Length: 4386, dtype: object"
      ]
     },
     "execution_count": 12,
     "metadata": {},
     "output_type": "execute_result"
    }
   ],
   "source": [
    "df[df.SUBCLASS == 'BRCA'].sum().sort_values(ascending=False).str.replace('WT','-')"
   ]
  },
  {
   "cell_type": "code",
   "execution_count": null,
   "metadata": {},
   "outputs": [],
   "source": [
    "df[df.SUBCLASS == 'BRCA'].sum().sort_values(ascending=False).str.replace('WT','-')"
   ]
  },
  {
   "cell_type": "code",
   "execution_count": null,
   "metadata": {},
   "outputs": [],
   "source": [
    "df[df.SUBCLASS == 'BRCA'].sum().sort_values(ascending=False).str.replace('WT','-').drop(['SUBCLASS','ID'])\n"
   ]
  },
  {
   "cell_type": "code",
   "execution_count": null,
   "metadata": {},
   "outputs": [],
   "source": [
    "df[df.SUBCLASS == 'BRCA']"
   ]
  },
  {
   "cell_type": "code",
   "execution_count": null,
   "metadata": {},
   "outputs": [],
   "source": [
    "df[df.SUBCLASS == 'BRCA'].sum()"
   ]
  },
  {
   "cell_type": "code",
   "execution_count": null,
   "metadata": {},
   "outputs": [],
   "source": [
    "df.sum()"
   ]
  },
  {
   "cell_type": "code",
   "execution_count": null,
   "metadata": {},
   "outputs": [],
   "source": [
    "df_test.agg(axis=0, sum)"
   ]
  },
  {
   "cell_type": "code",
   "execution_count": null,
   "metadata": {},
   "outputs": [],
   "source": [
    "df_test.replace('WT', '-')"
   ]
  },
  {
   "cell_type": "code",
   "execution_count": null,
   "metadata": {},
   "outputs": [],
   "source": [
    "df[df.SUBCLASS=='OV'].sum().sort_values(ascending=False)"
   ]
  },
  {
   "cell_type": "code",
   "execution_count": null,
   "metadata": {},
   "outputs": [],
   "source": [
    "df_test"
   ]
  },
  {
   "cell_type": "code",
   "execution_count": null,
   "metadata": {},
   "outputs": [],
   "source": [
    "df_test.iloc[0:1].sum().sort_values(ascending=False).str.replace('WT','-').reset_index()"
   ]
  },
  {
   "cell_type": "code",
   "execution_count": null,
   "metadata": {},
   "outputs": [],
   "source": [
    "tf = df_test.iloc[0:1].sum().sort_values(ascending=False).str.replace('WT','-').reset_index()\n",
    "#tf = tf.iloc[:, 1]\n",
    "tf[~tf.applymap(lambda x: x=='-').any(axis=1)] "
   ]
  },
  {
   "cell_type": "code",
   "execution_count": null,
   "metadata": {},
   "outputs": [],
   "source": [
    "df.shape"
   ]
  },
  {
   "cell_type": "code",
   "execution_count": null,
   "metadata": {},
   "outputs": [],
   "source": [
    "gdic['OV']"
   ]
  },
  {
   "cell_type": "code",
   "execution_count": null,
   "metadata": {},
   "outputs": [],
   "source": [
    "rows = df[df.SUBCLASS == 'OV'].loc[:, gdic['OV']]\n",
    "#.iloc[0:1].iloc[:, 2:]\n",
    "rows.sum().sort_values(ascending=False).str.replace('WT','-').reset_index()\n",
    "#gene_list = count_df[count_df['count']>1]['index'].values\n",
    "#print(d, len(gene_list))\n",
    "        \n",
    "#a2= a2[~a2.applymap(lambda x: isinstance(x, str) and len(x) < 2).any(axis=1)] \n",
    "#a2l = a2['index']\n"
   ]
  },
  {
   "cell_type": "code",
   "execution_count": null,
   "metadata": {},
   "outputs": [],
   "source": [
    "df.iloc[2:3]"
   ]
  },
  {
   "cell_type": "code",
   "execution_count": 4,
   "metadata": {},
   "outputs": [],
   "source": []
  },
  {
   "cell_type": "code",
   "execution_count": 47,
   "metadata": {},
   "outputs": [
    {
     "data": {
      "text/plain": [
       "ART3       Y51Y------------------------------------------...\n",
       "EOMES      ------Y679*-----------------------------------...\n",
       "PLCL1      --------Y597Y---------------------------------...\n",
       "ZC2HC1C    ------------Y35N------------------------------...\n",
       "UAP1       ---------------Y154C--------------------------...\n",
       "                                 ...                        \n",
       "INHBA      I411fs----------------------------------------...\n",
       "GSN        F756S-----------------------------------------...\n",
       "KLF6       E76E------------------------------------------...\n",
       "EGFR       D837V-----------------------------------------...\n",
       "COPS5      A42A------------------------------------------...\n",
       "Length: 1958, dtype: object"
      ]
     },
     "execution_count": 47,
     "metadata": {},
     "output_type": "execute_result"
    }
   ],
   "source": [
    "dldd = 'OV'\n",
    "\n",
    "rows = df[df.SUBCLASS == dldd].loc[:, gdic[dldd]]\n",
    "dl = rows.sum().sort_values(ascending=False).str.replace('WT','-').reset_index()['index']\n",
    "rows.sum().sort_values(ascending=False).str.replace('WT','-')"
   ]
  },
  {
   "cell_type": "code",
   "execution_count": 48,
   "metadata": {},
   "outputs": [
    {
     "data": {
      "text/plain": [
       "1958"
      ]
     },
     "execution_count": 48,
     "metadata": {},
     "output_type": "execute_result"
    }
   ],
   "source": [
    "len(dl)"
   ]
  },
  {
   "cell_type": "code",
   "execution_count": 38,
   "metadata": {},
   "outputs": [
    {
     "data": {
      "text/plain": [
       "ABCA1      WT\n",
       "ABCA3      WT\n",
       "ABCA4      WT\n",
       "ABCA5      WT\n",
       "ABCA9      WT\n",
       "           ..\n",
       "XPNPEP1    WT\n",
       "ZBP1       WT\n",
       "ZFPM2      WT\n",
       "ZNF112     WT\n",
       "ZNF292     WT\n",
       "Name: 84, Length: 363, dtype: object"
      ]
     },
     "execution_count": 38,
     "metadata": {},
     "output_type": "execute_result"
    }
   ],
   "source": [
    "d='OV'\n",
    "sum_t = 0\n",
    "targetd = df[df.SUBCLASS == d].loc[:, gdic[d]] ##d\n",
    "row = targetd.iloc[3]"
   ]
  },
  {
   "cell_type": "code",
   "execution_count": 63,
   "metadata": {},
   "outputs": [
    {
     "name": "stdout",
     "output_type": "stream",
     "text": [
      "10\n",
      "{'ERBB3', 'HIPK2', 'TP53', 'RB1', 'BRCA1', 'PEX16', 'SLC38A1', 'MOV10', 'MAML2', 'HAO1', 'INHA', 'LATS1', 'NOTCH4', 'ANGPT1', 'EPHB2', 'ACKR1'}\n",
      "{'R342*', 'K306E', 'R4W', 'K662K', 'S224S', 'C291S', 'Q607Q', 'Q975H', 'STRSS122fs', 'Q702K', 'C86fs', 'V438I', 'P228L', 'G986G', 'N1265fs', 'T772I'}\n",
      "11\n",
      "{'SF3A1', 'PMPCA', 'SLC29A2', 'FETUB', 'GAA', 'PDE4DIP', 'TUBGCP6', 'COL6A2', 'COL3A1', 'TACR3', 'APC', 'GRB2', 'HK1', 'WNT6', 'UNC13B', 'TP53', 'FCGR1A', 'SELE', 'MYBPC3', 'NOTCH4', 'ASL', 'XPOT', 'NFASC', 'DPP4', 'CUL3', 'SLC2A3', 'ITIH1', 'HMGCS2'}\n",
      "{'K368N', 'E695Q', 'S443Y', 'W179*', 'Q1809K', 'V775V', 'T400T', 'L130M', 'V272M', 'S1389S', 'D92H', 'S918Y', 'R310G', 'L83V', 'N1112N', 'E130D', 'Q1429R', 'K269N', 'V711L', 'D1149N', 'Q246P', 'A79A', 'K1407R', 'R827C', 'G109V', 'T514S', 'F82L', 'A926S'}\n",
      "12\n",
      "{'NDRG1', 'USP15', 'ARHGEF7', 'VCAN', 'ARHGEF3', 'PCNT', 'RPS6KA1', 'CHRNA5', 'ZC2HC1C', 'GMPS', 'GNPAT', 'CYP4B1', 'PLCB1', 'CYP7A1', 'VEGFA', 'FLNA', 'CHST2', 'DMD'}\n",
      "{'W103C', 'L623V', 'L467F', 'D232Y G322V', 'F498L', 'P3553P', 'H112Y', 'P359A', 'D326E', 'V269M', 'A614T', 'L289L', 'G703A', 'A566A', 'E2902Q', 'E567G', 'Y35N', 'V124L'}\n",
      "13\n",
      "{'NDRG1', 'TP53', 'NCK2', 'TIMELESS', 'CES1', 'ACTC1', 'LRP1', 'MAPK9', 'PAX3', 'SMAD1', 'PAOX', 'ARPP21', 'OSMR', 'PC', 'KIF4A', 'MARK3', 'ABCA3'}\n",
      "{'I888T', 'E120K', 'SP347fs', 'T88S', 'N90S', 'V42V', 'S127F', 'W420C', 'H730R', 'S241G', 'R236H', 'A434G', 'P71P', 'G4316V', 'V17L', 'I6F', 'Q751Q'}\n",
      "14\n",
      "{'KNTC1', 'PKHD1', 'TP53', 'NUP205', 'AHNAK', 'AP2B1', 'ABCB7', 'SLC25A23', 'NRXN2', 'MAPK12', 'APC', 'PAX6', 'TUBA3C', 'CFTR'}\n",
      "{'N386K', 'V293V', 'I195T', 'V503I', 'T253T', 'Y300Y', 'F156L', 'L267S', 'A134V', 'A893V', 'K4253R', 'R1882S', 'R253R', 'IN1782fs'}\n",
      "15\n",
      "{'TP53', 'ATP8B1', 'COL4A1', 'SLC6A14', 'PDCD4', 'MMP16', 'NADSYN1', 'NOD1', 'UAP1'}\n",
      "{'G892G', 'G245R', 'I567V', 'Y154C', 'S76S', 'V359L', 'L578P', 'K757N', 'F550I'}\n",
      "16\n",
      "{'CHRNA1', 'HSP90B1', 'EFEMP1', 'DLC1', 'SLC4A4', 'TMEM8B', 'HIRA', 'SPTB', 'TOMM40', 'MYH9', 'TNFAIP3', 'ABCA5', 'RPTOR'}\n",
      "{'K20Q', 'I246I', 'G8R', 'G192G', 'P901H', 'V478L', 'W1221C', 'R1294C', 'M423I', 'D47N', 'G242R', 'D438E', 'A221fs'}\n",
      "17\n",
      "{'SORBS1', 'TP53', 'SPTAN1', 'LAS1L', 'PCM1', 'MMP2', 'CDON', 'HLA-E', 'SGCE', 'NDRG1', 'SCN8A', 'FLT4'}\n",
      "{'Q433E', 'R83R', 'P157L', 'G571S', 'Q6R', 'S21C', 'S468S', 'S1024S', 'I2185V', 'A376A', 'R249G', 'L1495L'}\n",
      "18\n",
      "{'IL17RB', 'NUP205', 'PLIN2', 'NR1H4', 'GNB2', 'MAP1B', 'FKBP5'}\n",
      "{'T396K', 'M101T', 'T302M', 'G43E', 'E374V', 'V37V', 'G286G'}\n",
      "19\n",
      "{'NT5E', 'MTOR', 'PABPC1', 'NOS1', 'CSF1', 'SYNE1', 'MAP3K7', 'ALB', 'DYRK1A', 'TRIM21', 'ENTPD5', 'SPDEF', 'APC', 'CSF2RB', 'IMMT', 'NFX1', 'RABEP1', 'DNMBP', 'CDH11', 'ITIH5', 'TP53', 'A2M', 'CCNF', 'GHRL', 'IRF6', 'TGFBR3', 'HKDC1', 'CLU', 'BIRC2', 'MED24', 'ZNF185', 'ALDH2', 'ANXA2', 'ATP8B1', 'PSMC3', 'FGD6', 'DDB1', 'ESYT1', 'ABCA9', 'GABARAPL2', 'ECT2', 'GART', 'SLC30A5', 'TULP2'}\n",
      "{'P855H', 'T410R', 'D98H', 'G475R', 'N474K', 'N113D', 'V830V', 'E1286G', 'S229S', 'P234L', 'F326S', 'Q1051H D152D', 'H94N', 'A131P', 'T246T', 'I283V', 'I454T', 'H162H', 'G1001W', 'T31fs', 'D225H', 'C520Y', 'V135I', 'S109S', 'G88V', 'G245S', 'E333D', 'V250L', 'G45V', 'I215I', 'S150F', 'F998L', 'P721L', 'S438S', 'E875K', 'E646D', 'A85S', 'I545V', 'G79V', 'L423F', 'G5491G', 'LG286fs', 'E45D', 'S601F'}\n"
     ]
    }
   ],
   "source": [
    "\n",
    "#len_dl = len(dl)\n",
    "d='OV'\n",
    "sum_t = 0\n",
    "targetd = df[df.SUBCLASS == d].loc[:, gdic[d]] ##d\n",
    "\n",
    "for i in range (10, 20):#targetd.shape[0]):\n",
    "    print(i)\n",
    "    bset=set()\n",
    "    row = targetd.iloc[i:i+1]#.iloc[:, 1:]\n",
    "    \n",
    "    count_df = row.apply(lambda x : x!='WT').agg(sum).reset_index(name='count')\n",
    "    arow_list = count_df.loc[count_df['count'] > 0]['index']\n",
    "    #a = set(arow_list).union(set())\n",
    "    for a in arow_list:\n",
    "        \n",
    "        bset.add(row[a].values[0])\n",
    "    print(set(arow_list))    \n",
    "    print(bset)\n",
    "    \n",
    "    #print(count_df.replace('WT','').agg(sum))\n",
    "        #print(i, arow_list)\n",
    "    #res= sequence_similarity_shorter(dl.to_list(), arow_list.to_list())\n",
    "    #print(i, res)\n",
    "    #sum_t += res\n",
    "#print(dldd, d, sum_t / targetd.shape[0])\n"
   ]
  },
  {
   "cell_type": "code",
   "execution_count": 70,
   "metadata": {},
   "outputs": [
    {
     "data": {
      "text/plain": [
       "'TEST_0003,,,,,,,,,,,,,,,,,,,,,,,,,,,,,,,,,,,,,,,,,,,,,,,,,,,,,,,,,,,,,,,,,,,,,,,,,,,,,,,,,,,,,,,,,,,,,,,,,,,,,,,,,,,,,,,,,,,,,,,,,,,,,,,,,,,,,,,,,,,,,,,,,,,,,,,,,,,,,,,,,,,,,,,,,,,,,,,,,,,,,,,,,,,,,,,,,,,,,,,,,,,,,,,,,,,,,,,,,,,,,,,,,,,,,,,,,,,,,,,,,,,,,,,,,,,,,,,,,,,,,,,,,,,,,,,,,,,,,,,,,,,,,,,,,,,,,,,,,,,,,,,,,,,,,,,,,,,,,,,,,,,,,,,,,,,,,,,,,,,,,,,,,,,,,,,,,,,,,,,,,,,,,,,,,,,,,,,,,,,,,,,,,,,,,,,,,,,,,,,,,,,,,,,,,,,,,,,,,,,,,,,S413F,,,,,,,,,,,,,,,,,,,,,,,L171L,,,,,,,,,,,,,,,,,,,,,,,,,,,,,,,,,,,,,,,,,,,,,,,,,,,,,,,,,,,,,,,,,,,,,,,,,,,,,,,,,,,,,,,,,,,,,,,,,,,,,,,,,,,,,,,,,,,,,,,,,,,,,,,,,,,,,,,,,,,,,,,,,,,,,,,,,,,,,,,,,,,,,,,,,,,,,,,,,,,,,,,,,,,,,,,,,,,,,,,,,,,,,,,,,,,,,,,,,,,,,,,,,,,,,,,,,,,,,,,,,,,,,,,,,,,,,,,,,,,,,,,,,,,,,,,,,,,,,,,,,,,,,,,,,,,,,,,,,,,,,,,,,,,,,,,,,,,,,,,,,,,,,,,,,,,,,,,,,,,,,,,,,A894A,,,,,,,,,,,,,,,,,,,,,,,,,,,,,,,,,,,,,,,,,,,,,,,,,,,,,,,,,,,,,,,,,,,,,,,,,,,,,,,,,,,,,,,,,,,,,,,,,,,,,,,,,,,,,,,,,,,,,,,,,,,,,,,,,,,,,,,,,,,,,,,,,,,,,,,,,,,,,,,,,,,,,,,,,,,,,,,,,,,,,,,,,,,,,,,,,,,,,,,,,,,,,,,,,,,,,,,,,,,,,,,,,,,,,,,,,,,,,,,,,,,,,,,,,,,,,,,,,,,,,,,,,,,,,,,,,,,,,,,,,,,,,,,,,,,,,,,,,,,,,,,,,,,,,,,,,,,,,,,,,,,,,,,,,,,,,,,,,,,,,,,,,,,,,,,,,,,,,,,,,,,,,,,,,,,,,,,,,,,,,,,,,,,,,,,,,,,,,,,,,,,,,,,,,,,,,,,,,,,,,,,,,,,,,,,,,,,,,,,,,,,,,,,,,,,,,,,,,,,,,,,,,,,,,,,,,,,,,,,,,,,,,,,,,,,,,,,,,,,,,,,,,,,,,,,,,,,,,,,,,,,,,,,,,,,,,,,,,,,,,,,,,,,,,,,,,,,,,,,,,,,,,,,,,,,,,,,,,,,,,,,,,,,,,,,,,,,,,,,,,,,,,,,,,,,,,,,,,,,,,,,,,,,,,,,,,,,,,,,,,,,,,,,,,,,,,,,,,,,,,,,,,,,,,,,,,,,,,,,,,,,,,,,,,,,,,,,,,,,,,,,,,,,,,,,,,,,,,,,,,,,,,,,,,,,,,,,,,,,,,,,,,,,,,,,,,D805G,,,,,,,,,,,,,,,,,,,,,,,,,,,,,,,,,,,,,,,,,,,,,,,,,,,,,,,,,,,,,,,,,,,,,,,,,,,,,,,,,,,,,,,,,,,,,,,,,,,,,,,,,,,,,,,,,,,,,,,,,,,,,,,,,,,,,,,,,,,,,,,,,,,,,,,,,,,,,,,,,,,,,,,,,,,,,,,,,,,,,,,,,,,,,,,,,,,,,,,,,,,,,,,,,,,,,,,,,,,,,,,,,,,,,,,,,,,,,,,,,,,,,,,,,,,,,,,,,,,,,,,,,,,,,,,,,,,,,,,,,,,,,,,,,,,,,,,,,,,,,,,,,,,,,,,,,,,,,,,,,,,,,,,,,,,,,,,,,,,,R132H,,,,,,,,,,,,,,,,,,,,,,,,,,,,,,,,,,,,,,,,,,,,,,,,,,,,,,,,,,,,,,,,,,,,,,,,,,,,,,,,,,,,,,,,,,,,,,,,,,,,,,,,,,,,,,,,,,,,,,,,,,,,,,,,,,,,,,,,,,,,,,,,,,,,,,,,,,,,,,,,,,,,,,,,,,,,,,,,,,,,,,,,,,,,,,,,,,,,,,,,,,,,,,,,,,,,,,,,,,,,,,,,,,,,,,,,,,,,,,,,,,,,,,,,,,,,,,,,,,,,,,,,,,,,,,,,,,,,,,,,,,,,,,,,,,,,,,,,,,,,,,,,,,,,,,,,,,,,,,,,,,,,,,,,,,,,,,,,,,,,,,,,,,,,,,,,,,,,,,,,,,,,,,,,,,,,,,,,,,,,,,,,,,,,,,,,,,,,,,,,,,,,,,,,,,,,,,,,,,,,,,,,,,,,,,,,,,,,,,,,,,,,,,,,,,,,,,,,,,,,,,,,,,,,,,,,,,,,,,,,,,,,,,,,,,,,,,,,,,,,,,,,,,,,,,,,,,,,,,,,,,,,,,,,,,,,,,,,,,,,,,,,,,,,,,,,,,,,,,,,,,,,,,,,,,,,,,,,,,,,,,,,,,,,,,,,,,,,,,,,,,,,,,,,,,,,,,,,,,,,,,,,,,,,,,,,,,,,,,,,,,,,,,,,,,,,,,,,,,,,,,,,,,,,,,,,,,,,,,,,,,,,,,,,,,,,,,,,,,,,,,,,,,,,,,,,,,,,,,,,,,,,,,,,,,,,,,,,,,,,,,,,,,,,,,,,,,,,,,,,,,,,,,,,,,,,,,,,,,,,,,,,,,,,,,,,,,,,,,,,,,,,,,,,,,,,,,,,,,,,,,,,,,,,,,,,,,,,,,,,,,,,,,,,,,,,,,,,,,,,,,,,,,,,,,,,,,,,,,,,,,,,,,,,,,,,,,,,,,,,,,,,,,,,,,,,,,,,,,,,,,,,,,,,,,,,,,,,,,,,,,,,,,,,,,,,,,,,,,,,,,,,,,,,,,,,,,,,,,,,,,,,,,,,,,,,,,,,,,,,,,,,,,,,,,,,,,,,,,,,,,,,,,,,,,,,,,,,,,,,,,,,,,,,,,,,,,,,,,,,,,,,,,,,,,,,,,,,,,,,,,,,,,,,,,,,,,,,,,,,,,,,,,,,,,,,,,,,,,,,,,,,,,,,,,,,,,,,,,,,,,,,,,,,,,,,,,,,,,,,,,,,,,,,,,,,,,,,,,,,,,,,,,,,,,,,,,,,,,,,,,,,,,,,,,,,,,,,,,,,,,,,,,,,,,,,,,,,,,,,,,,,,,,,,,,,,,,,,,,,,,,,,,,,,,,,,,,,,,,,,,,,,,,,,,,,,,,,,,,,,,,,,,,,,,,,,,,,,,,,,,,,,,,,,,,,,,,,,,,,,,,,,,,,,,,,,,,,,,,,,,,,,,,,,,,,,,,,,,,,,,,,,,,,,,,,,,,,,,,,,,,,,,,,,,,,,,,,,,,,,,,,,,,,,,,,,,,,,,,,,,,,,,,,,,,,N464S,,,,,,,,,,,,,,,,,,,,,,,,,,,,,,,,,,,,,,,,,,,,,,,,,,,,,,,,,,,,,,,,,,,,,,,,,,,,,,,,,,,,,,,,,,,,,,,,,,,,,,,,,,,,,,,,,,,,,,,,,,,,,,,,,,,,,,,,,,,,,,,,,,,,,,,,,,,,,,,,,,,,,,,,,,,,,,,,,,,,,,,,,,,,,,,,,,,,,,,,,,,,,,,,,,,,,,,,,,,,,,,,,,,,,,,,,,,,,,,,,,,,,,,,,,,,,,,,,,,,,,,,,,,,,,,,,,,,,,,,,,,,,,,,,,,,,,,,,,,,,,,,,,,,,,,,,,,,,,,,,,,,,,,,,,,,,,,,,,,,,,,,,,,,,,,,,,,,,,,,,,,,,,,,,,,,,,,,,,,,,,,,,,,,,,,,,,,,,,,,,,,,,,,,,,,,,,,,,,,,,,,,,,,,,,,,,,,,,,,,,,,,,,,,,,,,,,,,,,,,,,,,,,,,,,,,,,,,,,,,,,,,,,,,,,,,,,,,,,,,,,,,,,,,,,,,,,,,,,,,,,,,,,,,,,,,,,,,,,,,,,,,,,,,,,,,,,,,,,,,,,,,,,,,,,,,,,,,,,,,,,,,,,,,,,,,,,,,,,,,,,,,,,,,,,,,,,,,,,,,,,,,,,,,,,,,,,,,,,,,,,,,,,,,,,,,,,E106K,,,,,,,,,,,,,,,,,,,,,,,,,,,,,,,,,,,,,,,,,,,,,,,,,,,,,,,,,,,,,,,,,,,,,,,,,,,,,,,,,,,,,,,,,,,,,,,,,,,,,,,,,,,,,,R306*,,,,,,,,,,,,,,,,,,,,,,,,,,,,,,,,,,,,,,,,,,,,,,,,,,,,,,,,,,,,,,,,,,,,,,,,,,,,,,,,,,,,,,,,,,,,,,,,,,,,,,,,,,,,,,,,,,,,,,,,,,,,,,,,,,,,,,,,,,,,,,,,,,,,,,,,,,,,,,,,,,,,,,,,,,,,,,,,,,,,,,,,,,,,,,,,,,,,,,,,,,,,,,,,,,,,,,,,,,,,,,,,,,,,,,,,,,,,,,,,,,,,,,,,,,,,,,,,,,,,,,,,,,,,,,,,,,,,'"
      ]
     },
     "execution_count": 70,
     "metadata": {},
     "output_type": "execute_result"
    }
   ],
   "source": [
    "df_test.iloc[3].replace('WT',',').agg(sum)"
   ]
  },
  {
   "cell_type": "code",
   "execution_count": 75,
   "metadata": {},
   "outputs": [
    {
     "name": "stdout",
     "output_type": "stream",
     "text": [
      "3\n",
      "Genes: {'BCAM', 'RBPJ', 'TH', 'TP53', 'BEST1', 'CIITA', 'IDH1', 'GAPVD1'}\n",
      "Strin: {'A894A', 'N464S', 'D805G', 'S413F', 'R306*', 'R132H', 'E106K', 'L171L'}\n",
      "4\n",
      "Genes: {'RYR2', 'SLC39A6', 'CD81', 'POLQ', 'RAD23A', 'GRM8', 'MYH10', 'MTCH2', 'WNT2', 'ATRX', 'DIAPH3', 'LAMP3', 'SPOP', 'FBN1', 'GYS1', 'DST', 'SLIT3', 'MYH4', 'ALMS1', 'NPM1', 'SYNE1', 'ABCC1', 'INPP4B', 'NRAP', 'DCC', 'SKI', 'MIOS', 'BCAR1', 'DENND5A', 'CADM2', 'ECH1', 'FLT4', 'KALRN', 'PEX11A', 'ITIH5', 'RAD21', 'TP53', 'RHCG', 'IFT88', 'NOS2', 'TFCP2L1', 'NAB2', 'PLOD1', 'THBS2', 'CCNA2', 'DDX60', 'HSPA8', 'IMPA2', 'NID2', 'SAMD9', 'WWC1', 'RPS6KA2', 'LCP1', 'PCLO', 'ITGB8', 'ADAM8', 'NOD1', 'ABCB11', 'NTRK3', 'RSL1D1', 'PIK3CD', 'GAD2', 'FOSL2', 'DPYSL4', 'TOR1B', 'SLC22A12', 'AGRN', 'PAM', 'ADCY2', 'COL11A1', 'FASLG', 'CHEK1'}\n",
      "Strin: {'L3131F', 'A513T', 'C785Y', 'P65P P236L', 'R617S', 'P73P', 'A12V', 'S715C', 'I752I', 'R113R', 'V15V', 'T750N', 'D55N', 'V853I', 'W1706G', 'L785L', 'M244L', 'R137R', 'R980C', 'E56K', 'R21R', 'P299P', 'P843K', 'G312G', 'T247N', 'R6575*', 'N283N', 'F847I', 'E388K', 'L4L', 'R513C', 'P1015H H492D', 'L22L', 'A449A', 'G441S', 'R357Q', 'Y612S', 'N161K', 'T24I', 'L35L', 'E216V', 'C340Y', 'T29T', 'L166P', 'F116fs', 'V1279A', 'R131G', 'G1317G', 'S205S', 'T315N', 'A141A', 'E246*', 'A14T', 'V377L', 'A391P', 'V466V', 'T113R', 'S54C', 'V157F', 'E789E', 'V894A', 'A1401T', 'K160N', 'V794V', 'N555K', 'M362L', 'R707R', 'A271A', 'S377*', 'H470H', 'F109F', 'L402L'}\n"
     ]
    }
   ],
   "source": [
    "for i in range (3,5):#targetd.shape[0]):\n",
    "    print(i)\n",
    "    bset = set()    \n",
    "    row = df_test.iloc[i:i+1].iloc[:, 1:]\n",
    "    count_df = row.apply(lambda x : x!='WT').agg(sum).reset_index(name='count')\n",
    "    arow_list = count_df.loc[count_df['count'] > 0]['index']\n",
    "    #a = set(arow_list).union(set())\n",
    "    for a in arow_list:    \n",
    "        bset.add(row[a].values[0])\n",
    "    print(\"Genes:\", set(arow_list))    \n",
    "    print(\"Strin:\", bset)"
   ]
  },
  {
   "cell_type": "code",
   "execution_count": 144,
   "metadata": {},
   "outputs": [
    {
     "name": "stdout",
     "output_type": "stream",
     "text": [
      "3\n",
      "transaction TRAIN_0003\n",
      "SUBCLASS KIRC\n",
      "Genes: {'ZEB1', 'LAMB3', 'SLC4A4', 'TPH1', 'EIF4G2', 'F5', 'EGFR'}\n",
      "Strin: {'P128P', 'F617S', 'L838M', 'E1297E', 'T176T', 'Y904H', 'E197*'}\n",
      "4\n",
      "transaction TRAIN_0004\n",
      "SUBCLASS GBMLGG\n",
      "Genes: {'KNTC1', 'CACNA1H', 'CAD', 'MVP', 'EDC4', 'DEPDC1', 'PTGER4', 'DIABLO', 'DST', 'PLAT', 'SYNE1', 'DSC2', 'NFKB2', 'MYOM1', 'MYH7', 'FAP', 'NR4A1', 'WEE1', 'ERCC5', 'TP53', 'AHNAK', 'PRSS36', 'MPZL1', 'CCNA2', 'CALCR', 'NUDT21', 'CHRM4', 'C8B', 'ALOX15B', 'PTEN', 'GPC3', 'PCDHB1', 'CASP9', 'TNFSF9'}\n",
      "Strin: {'R600H', 'R947C', 'R581P', 'L523L', 'G21G', 'T85T', 'G797G', 'S1478S', 'E453A', 'A25V', 'S435I', 'V109L', 'S485N', 'D143G', 'S86A', 'R145R', 'E1479V', 'D721G', 'R420C', 'M239R', 'D6D', 'S443S', 'F111L', 'P441L', 'T79T', 'K528N', 'P88S', 'K684R', 'S359S', 'D2283D', 'M246R', 'P62S', 'T446P', 'A263T'}\n"
     ]
    }
   ],
   "source": [
    "for i in range (3,5):#targetd.shape[0]):\n",
    "    print(i)\n",
    "    bset = set()\n",
    "    row = df.iloc[i:i+1]\n",
    "    print(\"transaction\", row[['ID']].values[0][0])\n",
    "    print(\"SUBCLASS\", row[['SUBCLASS']].values[0][0])\n",
    "    row = row.iloc[:, 2:]\n",
    "    count_df = row.apply(lambda x : x!='WT').agg(sum).reset_index(name='count')\n",
    "    arow_list = count_df.loc[count_df['count'] > 0]['index']\n",
    "    #a = set(arow_list).union(set())\n",
    "    for a in arow_list:    \n",
    "        bset.add(row[a].values[0])\n",
    "    print(\"Genes:\", set(arow_list))    \n",
    "    print(\"Strin:\", bset)\n",
    "    \n"
   ]
  },
  {
   "cell_type": "code",
   "execution_count": 149,
   "metadata": {},
   "outputs": [
    {
     "name": "stdout",
     "output_type": "stream",
     "text": [
      "Collecting pymongo\n",
      "  Downloading pymongo-4.10.1-cp310-cp310-macosx_10_9_x86_64.whl.metadata (22 kB)\n",
      "Collecting dnspython<3.0.0,>=1.16.0 (from pymongo)\n",
      "  Downloading dnspython-2.7.0-py3-none-any.whl.metadata (5.8 kB)\n",
      "Downloading pymongo-4.10.1-cp310-cp310-macosx_10_9_x86_64.whl (835 kB)\n",
      "\u001b[2K   \u001b[90m━━━━━━━━━━━━━━━━━━━━━━━━━━━━━━━━━━━━━━━━\u001b[0m \u001b[32m835.5/835.5 kB\u001b[0m \u001b[31m8.7 MB/s\u001b[0m eta \u001b[36m0:00:00\u001b[0m\n",
      "\u001b[?25hDownloading dnspython-2.7.0-py3-none-any.whl (313 kB)\n",
      "Installing collected packages: dnspython, pymongo\n",
      "Successfully installed dnspython-2.7.0 pymongo-4.10.1\n"
     ]
    }
   ],
   "source": [
    "!pip install pymongo\n"
   ]
  },
  {
   "cell_type": "code",
   "execution_count": 150,
   "metadata": {},
   "outputs": [],
   "source": [
    "from pymongo import MongoClient\n",
    "\n",
    "# MongoDB에 연결\n",
    "client = MongoClient(\"mongodb://localhost:27017/\")  # 로컬 MongoDB 인스턴스\n",
    "db = client[\"genetic_database\"]  # 데이터베이스 선택\n",
    "collection = db[\"disease_info\"]  # 컬렉션 선택"
   ]
  },
  {
   "cell_type": "code",
   "execution_count": 157,
   "metadata": {},
   "outputs": [
    {
     "name": "stdout",
     "output_type": "stream",
     "text": [
      "3\n",
      "{'tranNo': ('TRAIN_0003',), 'target_class': ('KIRC',), 'genes': ({'ZEB1', 'LAMB3', 'SLC4A4', 'TPH1', 'EIF4G2', 'F5', 'EGFR'},)}\n"
     ]
    },
    {
     "ename": "ServerSelectionTimeoutError",
     "evalue": "localhost:27017: [Errno 61] Connection refused (configured timeouts: socketTimeoutMS: 20000.0ms, connectTimeoutMS: 20000.0ms), Timeout: 30s, Topology Description: <TopologyDescription id: 6703a8a3513ff2ede7785591, topology_type: Unknown, servers: [<ServerDescription ('localhost', 27017) server_type: Unknown, rtt: None, error=AutoReconnect('localhost:27017: [Errno 61] Connection refused (configured timeouts: socketTimeoutMS: 20000.0ms, connectTimeoutMS: 20000.0ms)')>]>",
     "output_type": "error",
     "traceback": [
      "\u001b[0;31m---------------------------------------------------------------------------\u001b[0m",
      "\u001b[0;31mServerSelectionTimeoutError\u001b[0m               Traceback (most recent call last)",
      "Cell \u001b[0;32mIn[157], line 26\u001b[0m\n\u001b[1;32m     23\u001b[0m \u001b[38;5;28mprint\u001b[39m(data)\n\u001b[1;32m     25\u001b[0m \u001b[38;5;66;03m# 데이터 삽입\u001b[39;00m\n\u001b[0;32m---> 26\u001b[0m \u001b[43mcollection\u001b[49m\u001b[38;5;241;43m.\u001b[39;49m\u001b[43minsert_one\u001b[49m\u001b[43m(\u001b[49m\u001b[43mdata\u001b[49m\u001b[43m)\u001b[49m\n",
      "File \u001b[0;32m~/.pyenv/versions/3.10.10/lib/python3.10/site-packages/pymongo/synchronous/collection.py:891\u001b[0m, in \u001b[0;36mCollection.insert_one\u001b[0;34m(self, document, bypass_document_validation, session, comment)\u001b[0m\n\u001b[1;32m    887\u001b[0m     document[\u001b[38;5;124m\"\u001b[39m\u001b[38;5;124m_id\u001b[39m\u001b[38;5;124m\"\u001b[39m] \u001b[38;5;241m=\u001b[39m ObjectId()  \u001b[38;5;66;03m# type: ignore[index]\u001b[39;00m\n\u001b[1;32m    889\u001b[0m write_concern \u001b[38;5;241m=\u001b[39m \u001b[38;5;28mself\u001b[39m\u001b[38;5;241m.\u001b[39m_write_concern_for(session)\n\u001b[1;32m    890\u001b[0m \u001b[38;5;28;01mreturn\u001b[39;00m InsertOneResult(\n\u001b[0;32m--> 891\u001b[0m     \u001b[38;5;28;43mself\u001b[39;49m\u001b[38;5;241;43m.\u001b[39;49m\u001b[43m_insert_one\u001b[49m\u001b[43m(\u001b[49m\n\u001b[1;32m    892\u001b[0m \u001b[43m        \u001b[49m\u001b[43mdocument\u001b[49m\u001b[43m,\u001b[49m\n\u001b[1;32m    893\u001b[0m \u001b[43m        \u001b[49m\u001b[43mordered\u001b[49m\u001b[38;5;241;43m=\u001b[39;49m\u001b[38;5;28;43;01mTrue\u001b[39;49;00m\u001b[43m,\u001b[49m\n\u001b[1;32m    894\u001b[0m \u001b[43m        \u001b[49m\u001b[43mwrite_concern\u001b[49m\u001b[38;5;241;43m=\u001b[39;49m\u001b[43mwrite_concern\u001b[49m\u001b[43m,\u001b[49m\n\u001b[1;32m    895\u001b[0m \u001b[43m        \u001b[49m\u001b[43mop_id\u001b[49m\u001b[38;5;241;43m=\u001b[39;49m\u001b[38;5;28;43;01mNone\u001b[39;49;00m\u001b[43m,\u001b[49m\n\u001b[1;32m    896\u001b[0m \u001b[43m        \u001b[49m\u001b[43mbypass_doc_val\u001b[49m\u001b[38;5;241;43m=\u001b[39;49m\u001b[43mbypass_document_validation\u001b[49m\u001b[43m,\u001b[49m\n\u001b[1;32m    897\u001b[0m \u001b[43m        \u001b[49m\u001b[43msession\u001b[49m\u001b[38;5;241;43m=\u001b[39;49m\u001b[43msession\u001b[49m\u001b[43m,\u001b[49m\n\u001b[1;32m    898\u001b[0m \u001b[43m        \u001b[49m\u001b[43mcomment\u001b[49m\u001b[38;5;241;43m=\u001b[39;49m\u001b[43mcomment\u001b[49m\u001b[43m,\u001b[49m\n\u001b[1;32m    899\u001b[0m \u001b[43m    \u001b[49m\u001b[43m)\u001b[49m,\n\u001b[1;32m    900\u001b[0m     write_concern\u001b[38;5;241m.\u001b[39macknowledged,\n\u001b[1;32m    901\u001b[0m )\n",
      "File \u001b[0;32m~/.pyenv/versions/3.10.10/lib/python3.10/site-packages/pymongo/synchronous/collection.py:831\u001b[0m, in \u001b[0;36mCollection._insert_one\u001b[0;34m(self, doc, ordered, write_concern, op_id, bypass_doc_val, session, comment)\u001b[0m\n\u001b[1;32m    819\u001b[0m     result \u001b[38;5;241m=\u001b[39m conn\u001b[38;5;241m.\u001b[39mcommand(\n\u001b[1;32m    820\u001b[0m         \u001b[38;5;28mself\u001b[39m\u001b[38;5;241m.\u001b[39m_database\u001b[38;5;241m.\u001b[39mname,\n\u001b[1;32m    821\u001b[0m         command,\n\u001b[0;32m   (...)\u001b[0m\n\u001b[1;32m    826\u001b[0m         retryable_write\u001b[38;5;241m=\u001b[39mretryable_write,\n\u001b[1;32m    827\u001b[0m     )\n\u001b[1;32m    829\u001b[0m     _check_write_command_response(result)\n\u001b[0;32m--> 831\u001b[0m \u001b[38;5;28;43mself\u001b[39;49m\u001b[38;5;241;43m.\u001b[39;49m\u001b[43m_database\u001b[49m\u001b[38;5;241;43m.\u001b[39;49m\u001b[43mclient\u001b[49m\u001b[38;5;241;43m.\u001b[39;49m\u001b[43m_retryable_write\u001b[49m\u001b[43m(\u001b[49m\n\u001b[1;32m    832\u001b[0m \u001b[43m    \u001b[49m\u001b[43macknowledged\u001b[49m\u001b[43m,\u001b[49m\u001b[43m \u001b[49m\u001b[43m_insert_command\u001b[49m\u001b[43m,\u001b[49m\u001b[43m \u001b[49m\u001b[43msession\u001b[49m\u001b[43m,\u001b[49m\u001b[43m \u001b[49m\u001b[43moperation\u001b[49m\u001b[38;5;241;43m=\u001b[39;49m\u001b[43m_Op\u001b[49m\u001b[38;5;241;43m.\u001b[39;49m\u001b[43mINSERT\u001b[49m\n\u001b[1;32m    833\u001b[0m \u001b[43m\u001b[49m\u001b[43m)\u001b[49m\n\u001b[1;32m    835\u001b[0m \u001b[38;5;28;01mif\u001b[39;00m \u001b[38;5;129;01mnot\u001b[39;00m \u001b[38;5;28misinstance\u001b[39m(doc, RawBSONDocument):\n\u001b[1;32m    836\u001b[0m     \u001b[38;5;28;01mreturn\u001b[39;00m doc\u001b[38;5;241m.\u001b[39mget(\u001b[38;5;124m\"\u001b[39m\u001b[38;5;124m_id\u001b[39m\u001b[38;5;124m\"\u001b[39m)\n",
      "File \u001b[0;32m~/.pyenv/versions/3.10.10/lib/python3.10/site-packages/pymongo/synchronous/mongo_client.py:1898\u001b[0m, in \u001b[0;36mMongoClient._retryable_write\u001b[0;34m(self, retryable, func, session, operation, bulk, operation_id)\u001b[0m\n\u001b[1;32m   1884\u001b[0m \u001b[38;5;250m\u001b[39m\u001b[38;5;124;03m\"\"\"Execute an operation with consecutive retries if possible\u001b[39;00m\n\u001b[1;32m   1885\u001b[0m \n\u001b[1;32m   1886\u001b[0m \u001b[38;5;124;03mReturns func()'s return value on success. On error retries the same\u001b[39;00m\n\u001b[0;32m   (...)\u001b[0m\n\u001b[1;32m   1895\u001b[0m \u001b[38;5;124;03m:param bulk: bulk abstraction to execute operations in bulk, defaults to None\u001b[39;00m\n\u001b[1;32m   1896\u001b[0m \u001b[38;5;124;03m\"\"\"\u001b[39;00m\n\u001b[1;32m   1897\u001b[0m \u001b[38;5;28;01mwith\u001b[39;00m \u001b[38;5;28mself\u001b[39m\u001b[38;5;241m.\u001b[39m_tmp_session(session) \u001b[38;5;28;01mas\u001b[39;00m s:\n\u001b[0;32m-> 1898\u001b[0m     \u001b[38;5;28;01mreturn\u001b[39;00m \u001b[38;5;28;43mself\u001b[39;49m\u001b[38;5;241;43m.\u001b[39;49m\u001b[43m_retry_with_session\u001b[49m\u001b[43m(\u001b[49m\u001b[43mretryable\u001b[49m\u001b[43m,\u001b[49m\u001b[43m \u001b[49m\u001b[43mfunc\u001b[49m\u001b[43m,\u001b[49m\u001b[43m \u001b[49m\u001b[43ms\u001b[49m\u001b[43m,\u001b[49m\u001b[43m \u001b[49m\u001b[43mbulk\u001b[49m\u001b[43m,\u001b[49m\u001b[43m \u001b[49m\u001b[43moperation\u001b[49m\u001b[43m,\u001b[49m\u001b[43m \u001b[49m\u001b[43moperation_id\u001b[49m\u001b[43m)\u001b[49m\n",
      "File \u001b[0;32m~/.pyenv/versions/3.10.10/lib/python3.10/site-packages/pymongo/synchronous/mongo_client.py:1784\u001b[0m, in \u001b[0;36mMongoClient._retry_with_session\u001b[0;34m(self, retryable, func, session, bulk, operation, operation_id)\u001b[0m\n\u001b[1;32m   1779\u001b[0m \u001b[38;5;66;03m# Ensure that the options supports retry_writes and there is a valid session not in\u001b[39;00m\n\u001b[1;32m   1780\u001b[0m \u001b[38;5;66;03m# transaction, otherwise, we will not support retry behavior for this txn.\u001b[39;00m\n\u001b[1;32m   1781\u001b[0m retryable \u001b[38;5;241m=\u001b[39m \u001b[38;5;28mbool\u001b[39m(\n\u001b[1;32m   1782\u001b[0m     retryable \u001b[38;5;129;01mand\u001b[39;00m \u001b[38;5;28mself\u001b[39m\u001b[38;5;241m.\u001b[39moptions\u001b[38;5;241m.\u001b[39mretry_writes \u001b[38;5;129;01mand\u001b[39;00m session \u001b[38;5;129;01mand\u001b[39;00m \u001b[38;5;129;01mnot\u001b[39;00m session\u001b[38;5;241m.\u001b[39min_transaction\n\u001b[1;32m   1783\u001b[0m )\n\u001b[0;32m-> 1784\u001b[0m \u001b[38;5;28;01mreturn\u001b[39;00m \u001b[38;5;28;43mself\u001b[39;49m\u001b[38;5;241;43m.\u001b[39;49m\u001b[43m_retry_internal\u001b[49m\u001b[43m(\u001b[49m\n\u001b[1;32m   1785\u001b[0m \u001b[43m    \u001b[49m\u001b[43mfunc\u001b[49m\u001b[38;5;241;43m=\u001b[39;49m\u001b[43mfunc\u001b[49m\u001b[43m,\u001b[49m\n\u001b[1;32m   1786\u001b[0m \u001b[43m    \u001b[49m\u001b[43msession\u001b[49m\u001b[38;5;241;43m=\u001b[39;49m\u001b[43msession\u001b[49m\u001b[43m,\u001b[49m\n\u001b[1;32m   1787\u001b[0m \u001b[43m    \u001b[49m\u001b[43mbulk\u001b[49m\u001b[38;5;241;43m=\u001b[39;49m\u001b[43mbulk\u001b[49m\u001b[43m,\u001b[49m\n\u001b[1;32m   1788\u001b[0m \u001b[43m    \u001b[49m\u001b[43moperation\u001b[49m\u001b[38;5;241;43m=\u001b[39;49m\u001b[43moperation\u001b[49m\u001b[43m,\u001b[49m\n\u001b[1;32m   1789\u001b[0m \u001b[43m    \u001b[49m\u001b[43mretryable\u001b[49m\u001b[38;5;241;43m=\u001b[39;49m\u001b[43mretryable\u001b[49m\u001b[43m,\u001b[49m\n\u001b[1;32m   1790\u001b[0m \u001b[43m    \u001b[49m\u001b[43moperation_id\u001b[49m\u001b[38;5;241;43m=\u001b[39;49m\u001b[43moperation_id\u001b[49m\u001b[43m,\u001b[49m\n\u001b[1;32m   1791\u001b[0m \u001b[43m\u001b[49m\u001b[43m)\u001b[49m\n",
      "File \u001b[0;32m~/.pyenv/versions/3.10.10/lib/python3.10/site-packages/pymongo/_csot.py:119\u001b[0m, in \u001b[0;36mapply.<locals>.csot_wrapper\u001b[0;34m(self, *args, **kwargs)\u001b[0m\n\u001b[1;32m    117\u001b[0m         \u001b[38;5;28;01mwith\u001b[39;00m _TimeoutContext(timeout):\n\u001b[1;32m    118\u001b[0m             \u001b[38;5;28;01mreturn\u001b[39;00m func(\u001b[38;5;28mself\u001b[39m, \u001b[38;5;241m*\u001b[39margs, \u001b[38;5;241m*\u001b[39m\u001b[38;5;241m*\u001b[39mkwargs)\n\u001b[0;32m--> 119\u001b[0m \u001b[38;5;28;01mreturn\u001b[39;00m \u001b[43mfunc\u001b[49m\u001b[43m(\u001b[49m\u001b[38;5;28;43mself\u001b[39;49m\u001b[43m,\u001b[49m\u001b[43m \u001b[49m\u001b[38;5;241;43m*\u001b[39;49m\u001b[43margs\u001b[49m\u001b[43m,\u001b[49m\u001b[43m \u001b[49m\u001b[38;5;241;43m*\u001b[39;49m\u001b[38;5;241;43m*\u001b[39;49m\u001b[43mkwargs\u001b[49m\u001b[43m)\u001b[49m\n",
      "File \u001b[0;32m~/.pyenv/versions/3.10.10/lib/python3.10/site-packages/pymongo/synchronous/mongo_client.py:1830\u001b[0m, in \u001b[0;36mMongoClient._retry_internal\u001b[0;34m(self, func, session, bulk, operation, is_read, address, read_pref, retryable, operation_id)\u001b[0m\n\u001b[1;32m   1793\u001b[0m \u001b[38;5;129m@_csot\u001b[39m\u001b[38;5;241m.\u001b[39mapply\n\u001b[1;32m   1794\u001b[0m \u001b[38;5;28;01mdef\u001b[39;00m \u001b[38;5;21m_retry_internal\u001b[39m(\n\u001b[1;32m   1795\u001b[0m     \u001b[38;5;28mself\u001b[39m,\n\u001b[0;32m   (...)\u001b[0m\n\u001b[1;32m   1804\u001b[0m     operation_id: Optional[\u001b[38;5;28mint\u001b[39m] \u001b[38;5;241m=\u001b[39m \u001b[38;5;28;01mNone\u001b[39;00m,\n\u001b[1;32m   1805\u001b[0m ) \u001b[38;5;241m-\u001b[39m\u001b[38;5;241m>\u001b[39m T:\n\u001b[1;32m   1806\u001b[0m \u001b[38;5;250m    \u001b[39m\u001b[38;5;124;03m\"\"\"Internal retryable helper for all client transactions.\u001b[39;00m\n\u001b[1;32m   1807\u001b[0m \n\u001b[1;32m   1808\u001b[0m \u001b[38;5;124;03m    :param func: Callback function we want to retry\u001b[39;00m\n\u001b[0;32m   (...)\u001b[0m\n\u001b[1;32m   1817\u001b[0m \u001b[38;5;124;03m    :return: Output of the calling func()\u001b[39;00m\n\u001b[1;32m   1818\u001b[0m \u001b[38;5;124;03m    \"\"\"\u001b[39;00m\n\u001b[1;32m   1819\u001b[0m     \u001b[38;5;28;01mreturn\u001b[39;00m \u001b[43m_ClientConnectionRetryable\u001b[49m\u001b[43m(\u001b[49m\n\u001b[1;32m   1820\u001b[0m \u001b[43m        \u001b[49m\u001b[43mmongo_client\u001b[49m\u001b[38;5;241;43m=\u001b[39;49m\u001b[38;5;28;43mself\u001b[39;49m\u001b[43m,\u001b[49m\n\u001b[1;32m   1821\u001b[0m \u001b[43m        \u001b[49m\u001b[43mfunc\u001b[49m\u001b[38;5;241;43m=\u001b[39;49m\u001b[43mfunc\u001b[49m\u001b[43m,\u001b[49m\n\u001b[1;32m   1822\u001b[0m \u001b[43m        \u001b[49m\u001b[43mbulk\u001b[49m\u001b[38;5;241;43m=\u001b[39;49m\u001b[43mbulk\u001b[49m\u001b[43m,\u001b[49m\n\u001b[1;32m   1823\u001b[0m \u001b[43m        \u001b[49m\u001b[43moperation\u001b[49m\u001b[38;5;241;43m=\u001b[39;49m\u001b[43moperation\u001b[49m\u001b[43m,\u001b[49m\n\u001b[1;32m   1824\u001b[0m \u001b[43m        \u001b[49m\u001b[43mis_read\u001b[49m\u001b[38;5;241;43m=\u001b[39;49m\u001b[43mis_read\u001b[49m\u001b[43m,\u001b[49m\n\u001b[1;32m   1825\u001b[0m \u001b[43m        \u001b[49m\u001b[43msession\u001b[49m\u001b[38;5;241;43m=\u001b[39;49m\u001b[43msession\u001b[49m\u001b[43m,\u001b[49m\n\u001b[1;32m   1826\u001b[0m \u001b[43m        \u001b[49m\u001b[43mread_pref\u001b[49m\u001b[38;5;241;43m=\u001b[39;49m\u001b[43mread_pref\u001b[49m\u001b[43m,\u001b[49m\n\u001b[1;32m   1827\u001b[0m \u001b[43m        \u001b[49m\u001b[43maddress\u001b[49m\u001b[38;5;241;43m=\u001b[39;49m\u001b[43maddress\u001b[49m\u001b[43m,\u001b[49m\n\u001b[1;32m   1828\u001b[0m \u001b[43m        \u001b[49m\u001b[43mretryable\u001b[49m\u001b[38;5;241;43m=\u001b[39;49m\u001b[43mretryable\u001b[49m\u001b[43m,\u001b[49m\n\u001b[1;32m   1829\u001b[0m \u001b[43m        \u001b[49m\u001b[43moperation_id\u001b[49m\u001b[38;5;241;43m=\u001b[39;49m\u001b[43moperation_id\u001b[49m\u001b[43m,\u001b[49m\n\u001b[0;32m-> 1830\u001b[0m \u001b[43m    \u001b[49m\u001b[43m)\u001b[49m\u001b[38;5;241;43m.\u001b[39;49m\u001b[43mrun\u001b[49m\u001b[43m(\u001b[49m\u001b[43m)\u001b[49m\n",
      "File \u001b[0;32m~/.pyenv/versions/3.10.10/lib/python3.10/site-packages/pymongo/synchronous/mongo_client.py:2554\u001b[0m, in \u001b[0;36m_ClientConnectionRetryable.run\u001b[0;34m(self)\u001b[0m\n\u001b[1;32m   2552\u001b[0m \u001b[38;5;28mself\u001b[39m\u001b[38;5;241m.\u001b[39m_check_last_error(check_csot\u001b[38;5;241m=\u001b[39m\u001b[38;5;28;01mTrue\u001b[39;00m)\n\u001b[1;32m   2553\u001b[0m \u001b[38;5;28;01mtry\u001b[39;00m:\n\u001b[0;32m-> 2554\u001b[0m     \u001b[38;5;28;01mreturn\u001b[39;00m \u001b[38;5;28mself\u001b[39m\u001b[38;5;241m.\u001b[39m_read() \u001b[38;5;28;01mif\u001b[39;00m \u001b[38;5;28mself\u001b[39m\u001b[38;5;241m.\u001b[39m_is_read \u001b[38;5;28;01melse\u001b[39;00m \u001b[38;5;28;43mself\u001b[39;49m\u001b[38;5;241;43m.\u001b[39;49m\u001b[43m_write\u001b[49m\u001b[43m(\u001b[49m\u001b[43m)\u001b[49m\n\u001b[1;32m   2555\u001b[0m \u001b[38;5;28;01mexcept\u001b[39;00m ServerSelectionTimeoutError:\n\u001b[1;32m   2556\u001b[0m     \u001b[38;5;66;03m# The application may think the write was never attempted\u001b[39;00m\n\u001b[1;32m   2557\u001b[0m     \u001b[38;5;66;03m# if we raise ServerSelectionTimeoutError on the retry\u001b[39;00m\n\u001b[1;32m   2558\u001b[0m     \u001b[38;5;66;03m# attempt. Raise the original exception instead.\u001b[39;00m\n\u001b[1;32m   2559\u001b[0m     \u001b[38;5;28mself\u001b[39m\u001b[38;5;241m.\u001b[39m_check_last_error()\n",
      "File \u001b[0;32m~/.pyenv/versions/3.10.10/lib/python3.10/site-packages/pymongo/synchronous/mongo_client.py:2662\u001b[0m, in \u001b[0;36m_ClientConnectionRetryable._write\u001b[0;34m(self)\u001b[0m\n\u001b[1;32m   2660\u001b[0m max_wire_version \u001b[38;5;241m=\u001b[39m \u001b[38;5;241m0\u001b[39m\n\u001b[1;32m   2661\u001b[0m is_mongos \u001b[38;5;241m=\u001b[39m \u001b[38;5;28;01mFalse\u001b[39;00m\n\u001b[0;32m-> 2662\u001b[0m \u001b[38;5;28mself\u001b[39m\u001b[38;5;241m.\u001b[39m_server \u001b[38;5;241m=\u001b[39m \u001b[38;5;28;43mself\u001b[39;49m\u001b[38;5;241;43m.\u001b[39;49m\u001b[43m_get_server\u001b[49m\u001b[43m(\u001b[49m\u001b[43m)\u001b[49m\n\u001b[1;32m   2663\u001b[0m \u001b[38;5;28;01mwith\u001b[39;00m \u001b[38;5;28mself\u001b[39m\u001b[38;5;241m.\u001b[39m_client\u001b[38;5;241m.\u001b[39m_checkout(\u001b[38;5;28mself\u001b[39m\u001b[38;5;241m.\u001b[39m_server, \u001b[38;5;28mself\u001b[39m\u001b[38;5;241m.\u001b[39m_session) \u001b[38;5;28;01mas\u001b[39;00m conn:\n\u001b[1;32m   2664\u001b[0m     max_wire_version \u001b[38;5;241m=\u001b[39m conn\u001b[38;5;241m.\u001b[39mmax_wire_version\n",
      "File \u001b[0;32m~/.pyenv/versions/3.10.10/lib/python3.10/site-packages/pymongo/synchronous/mongo_client.py:2645\u001b[0m, in \u001b[0;36m_ClientConnectionRetryable._get_server\u001b[0;34m(self)\u001b[0m\n\u001b[1;32m   2640\u001b[0m \u001b[38;5;28;01mdef\u001b[39;00m \u001b[38;5;21m_get_server\u001b[39m(\u001b[38;5;28mself\u001b[39m) \u001b[38;5;241m-\u001b[39m\u001b[38;5;241m>\u001b[39m Server:\n\u001b[1;32m   2641\u001b[0m \u001b[38;5;250m    \u001b[39m\u001b[38;5;124;03m\"\"\"Retrieves a server object based on provided object context\u001b[39;00m\n\u001b[1;32m   2642\u001b[0m \n\u001b[1;32m   2643\u001b[0m \u001b[38;5;124;03m    :return: Abstraction to connect to server\u001b[39;00m\n\u001b[1;32m   2644\u001b[0m \u001b[38;5;124;03m    \"\"\"\u001b[39;00m\n\u001b[0;32m-> 2645\u001b[0m     \u001b[38;5;28;01mreturn\u001b[39;00m \u001b[38;5;28;43mself\u001b[39;49m\u001b[38;5;241;43m.\u001b[39;49m\u001b[43m_client\u001b[49m\u001b[38;5;241;43m.\u001b[39;49m\u001b[43m_select_server\u001b[49m\u001b[43m(\u001b[49m\n\u001b[1;32m   2646\u001b[0m \u001b[43m        \u001b[49m\u001b[38;5;28;43mself\u001b[39;49m\u001b[38;5;241;43m.\u001b[39;49m\u001b[43m_server_selector\u001b[49m\u001b[43m,\u001b[49m\n\u001b[1;32m   2647\u001b[0m \u001b[43m        \u001b[49m\u001b[38;5;28;43mself\u001b[39;49m\u001b[38;5;241;43m.\u001b[39;49m\u001b[43m_session\u001b[49m\u001b[43m,\u001b[49m\n\u001b[1;32m   2648\u001b[0m \u001b[43m        \u001b[49m\u001b[38;5;28;43mself\u001b[39;49m\u001b[38;5;241;43m.\u001b[39;49m\u001b[43m_operation\u001b[49m\u001b[43m,\u001b[49m\n\u001b[1;32m   2649\u001b[0m \u001b[43m        \u001b[49m\u001b[43maddress\u001b[49m\u001b[38;5;241;43m=\u001b[39;49m\u001b[38;5;28;43mself\u001b[39;49m\u001b[38;5;241;43m.\u001b[39;49m\u001b[43m_address\u001b[49m\u001b[43m,\u001b[49m\n\u001b[1;32m   2650\u001b[0m \u001b[43m        \u001b[49m\u001b[43mdeprioritized_servers\u001b[49m\u001b[38;5;241;43m=\u001b[39;49m\u001b[38;5;28;43mself\u001b[39;49m\u001b[38;5;241;43m.\u001b[39;49m\u001b[43m_deprioritized_servers\u001b[49m\u001b[43m,\u001b[49m\n\u001b[1;32m   2651\u001b[0m \u001b[43m        \u001b[49m\u001b[43moperation_id\u001b[49m\u001b[38;5;241;43m=\u001b[39;49m\u001b[38;5;28;43mself\u001b[39;49m\u001b[38;5;241;43m.\u001b[39;49m\u001b[43m_operation_id\u001b[49m\u001b[43m,\u001b[49m\n\u001b[1;32m   2652\u001b[0m \u001b[43m    \u001b[49m\u001b[43m)\u001b[49m\n",
      "File \u001b[0;32m~/.pyenv/versions/3.10.10/lib/python3.10/site-packages/pymongo/synchronous/mongo_client.py:1649\u001b[0m, in \u001b[0;36mMongoClient._select_server\u001b[0;34m(self, server_selector, session, operation, address, deprioritized_servers, operation_id)\u001b[0m\n\u001b[1;32m   1647\u001b[0m             \u001b[38;5;28;01mraise\u001b[39;00m AutoReconnect(\u001b[38;5;124m\"\u001b[39m\u001b[38;5;124mserver \u001b[39m\u001b[38;5;132;01m%s\u001b[39;00m\u001b[38;5;124m:\u001b[39m\u001b[38;5;132;01m%s\u001b[39;00m\u001b[38;5;124m no longer available\u001b[39m\u001b[38;5;124m\"\u001b[39m \u001b[38;5;241m%\u001b[39m address)  \u001b[38;5;66;03m# noqa: UP031\u001b[39;00m\n\u001b[1;32m   1648\u001b[0m     \u001b[38;5;28;01melse\u001b[39;00m:\n\u001b[0;32m-> 1649\u001b[0m         server \u001b[38;5;241m=\u001b[39m \u001b[43mtopology\u001b[49m\u001b[38;5;241;43m.\u001b[39;49m\u001b[43mselect_server\u001b[49m\u001b[43m(\u001b[49m\n\u001b[1;32m   1650\u001b[0m \u001b[43m            \u001b[49m\u001b[43mserver_selector\u001b[49m\u001b[43m,\u001b[49m\n\u001b[1;32m   1651\u001b[0m \u001b[43m            \u001b[49m\u001b[43moperation\u001b[49m\u001b[43m,\u001b[49m\n\u001b[1;32m   1652\u001b[0m \u001b[43m            \u001b[49m\u001b[43mdeprioritized_servers\u001b[49m\u001b[38;5;241;43m=\u001b[39;49m\u001b[43mdeprioritized_servers\u001b[49m\u001b[43m,\u001b[49m\n\u001b[1;32m   1653\u001b[0m \u001b[43m            \u001b[49m\u001b[43moperation_id\u001b[49m\u001b[38;5;241;43m=\u001b[39;49m\u001b[43moperation_id\u001b[49m\u001b[43m,\u001b[49m\n\u001b[1;32m   1654\u001b[0m \u001b[43m        \u001b[49m\u001b[43m)\u001b[49m\n\u001b[1;32m   1655\u001b[0m     \u001b[38;5;28;01mreturn\u001b[39;00m server\n\u001b[1;32m   1656\u001b[0m \u001b[38;5;28;01mexcept\u001b[39;00m PyMongoError \u001b[38;5;28;01mas\u001b[39;00m exc:\n\u001b[1;32m   1657\u001b[0m     \u001b[38;5;66;03m# Server selection errors in a transaction are transient.\u001b[39;00m\n",
      "File \u001b[0;32m~/.pyenv/versions/3.10.10/lib/python3.10/site-packages/pymongo/synchronous/topology.py:398\u001b[0m, in \u001b[0;36mTopology.select_server\u001b[0;34m(self, selector, operation, server_selection_timeout, address, deprioritized_servers, operation_id)\u001b[0m\n\u001b[1;32m    388\u001b[0m \u001b[38;5;28;01mdef\u001b[39;00m \u001b[38;5;21mselect_server\u001b[39m(\n\u001b[1;32m    389\u001b[0m     \u001b[38;5;28mself\u001b[39m,\n\u001b[1;32m    390\u001b[0m     selector: Callable[[Selection], Selection],\n\u001b[0;32m   (...)\u001b[0m\n\u001b[1;32m    395\u001b[0m     operation_id: Optional[\u001b[38;5;28mint\u001b[39m] \u001b[38;5;241m=\u001b[39m \u001b[38;5;28;01mNone\u001b[39;00m,\n\u001b[1;32m    396\u001b[0m ) \u001b[38;5;241m-\u001b[39m\u001b[38;5;241m>\u001b[39m Server:\n\u001b[1;32m    397\u001b[0m \u001b[38;5;250m    \u001b[39m\u001b[38;5;124;03m\"\"\"Like select_servers, but choose a random server if several match.\"\"\"\u001b[39;00m\n\u001b[0;32m--> 398\u001b[0m     server \u001b[38;5;241m=\u001b[39m \u001b[38;5;28;43mself\u001b[39;49m\u001b[38;5;241;43m.\u001b[39;49m\u001b[43m_select_server\u001b[49m\u001b[43m(\u001b[49m\n\u001b[1;32m    399\u001b[0m \u001b[43m        \u001b[49m\u001b[43mselector\u001b[49m\u001b[43m,\u001b[49m\n\u001b[1;32m    400\u001b[0m \u001b[43m        \u001b[49m\u001b[43moperation\u001b[49m\u001b[43m,\u001b[49m\n\u001b[1;32m    401\u001b[0m \u001b[43m        \u001b[49m\u001b[43mserver_selection_timeout\u001b[49m\u001b[43m,\u001b[49m\n\u001b[1;32m    402\u001b[0m \u001b[43m        \u001b[49m\u001b[43maddress\u001b[49m\u001b[43m,\u001b[49m\n\u001b[1;32m    403\u001b[0m \u001b[43m        \u001b[49m\u001b[43mdeprioritized_servers\u001b[49m\u001b[43m,\u001b[49m\n\u001b[1;32m    404\u001b[0m \u001b[43m        \u001b[49m\u001b[43moperation_id\u001b[49m\u001b[38;5;241;43m=\u001b[39;49m\u001b[43moperation_id\u001b[49m\u001b[43m,\u001b[49m\n\u001b[1;32m    405\u001b[0m \u001b[43m    \u001b[49m\u001b[43m)\u001b[49m\n\u001b[1;32m    406\u001b[0m     \u001b[38;5;28;01mif\u001b[39;00m _csot\u001b[38;5;241m.\u001b[39mget_timeout():\n\u001b[1;32m    407\u001b[0m         _csot\u001b[38;5;241m.\u001b[39mset_rtt(server\u001b[38;5;241m.\u001b[39mdescription\u001b[38;5;241m.\u001b[39mmin_round_trip_time)\n",
      "File \u001b[0;32m~/.pyenv/versions/3.10.10/lib/python3.10/site-packages/pymongo/synchronous/topology.py:376\u001b[0m, in \u001b[0;36mTopology._select_server\u001b[0;34m(self, selector, operation, server_selection_timeout, address, deprioritized_servers, operation_id)\u001b[0m\n\u001b[1;32m    367\u001b[0m \u001b[38;5;28;01mdef\u001b[39;00m \u001b[38;5;21m_select_server\u001b[39m(\n\u001b[1;32m    368\u001b[0m     \u001b[38;5;28mself\u001b[39m,\n\u001b[1;32m    369\u001b[0m     selector: Callable[[Selection], Selection],\n\u001b[0;32m   (...)\u001b[0m\n\u001b[1;32m    374\u001b[0m     operation_id: Optional[\u001b[38;5;28mint\u001b[39m] \u001b[38;5;241m=\u001b[39m \u001b[38;5;28;01mNone\u001b[39;00m,\n\u001b[1;32m    375\u001b[0m ) \u001b[38;5;241m-\u001b[39m\u001b[38;5;241m>\u001b[39m Server:\n\u001b[0;32m--> 376\u001b[0m     servers \u001b[38;5;241m=\u001b[39m \u001b[38;5;28;43mself\u001b[39;49m\u001b[38;5;241;43m.\u001b[39;49m\u001b[43mselect_servers\u001b[49m\u001b[43m(\u001b[49m\n\u001b[1;32m    377\u001b[0m \u001b[43m        \u001b[49m\u001b[43mselector\u001b[49m\u001b[43m,\u001b[49m\u001b[43m \u001b[49m\u001b[43moperation\u001b[49m\u001b[43m,\u001b[49m\u001b[43m \u001b[49m\u001b[43mserver_selection_timeout\u001b[49m\u001b[43m,\u001b[49m\u001b[43m \u001b[49m\u001b[43maddress\u001b[49m\u001b[43m,\u001b[49m\u001b[43m \u001b[49m\u001b[43moperation_id\u001b[49m\n\u001b[1;32m    378\u001b[0m \u001b[43m    \u001b[49m\u001b[43m)\u001b[49m\n\u001b[1;32m    379\u001b[0m     servers \u001b[38;5;241m=\u001b[39m _filter_servers(servers, deprioritized_servers)\n\u001b[1;32m    380\u001b[0m     \u001b[38;5;28;01mif\u001b[39;00m \u001b[38;5;28mlen\u001b[39m(servers) \u001b[38;5;241m==\u001b[39m \u001b[38;5;241m1\u001b[39m:\n",
      "File \u001b[0;32m~/.pyenv/versions/3.10.10/lib/python3.10/site-packages/pymongo/synchronous/topology.py:283\u001b[0m, in \u001b[0;36mTopology.select_servers\u001b[0;34m(self, selector, operation, server_selection_timeout, address, operation_id)\u001b[0m\n\u001b[1;32m    280\u001b[0m     server_timeout \u001b[38;5;241m=\u001b[39m server_selection_timeout\n\u001b[1;32m    282\u001b[0m \u001b[38;5;28;01mwith\u001b[39;00m \u001b[38;5;28mself\u001b[39m\u001b[38;5;241m.\u001b[39m_lock:\n\u001b[0;32m--> 283\u001b[0m     server_descriptions \u001b[38;5;241m=\u001b[39m \u001b[38;5;28;43mself\u001b[39;49m\u001b[38;5;241;43m.\u001b[39;49m\u001b[43m_select_servers_loop\u001b[49m\u001b[43m(\u001b[49m\n\u001b[1;32m    284\u001b[0m \u001b[43m        \u001b[49m\u001b[43mselector\u001b[49m\u001b[43m,\u001b[49m\u001b[43m \u001b[49m\u001b[43mserver_timeout\u001b[49m\u001b[43m,\u001b[49m\u001b[43m \u001b[49m\u001b[43moperation\u001b[49m\u001b[43m,\u001b[49m\u001b[43m \u001b[49m\u001b[43moperation_id\u001b[49m\u001b[43m,\u001b[49m\u001b[43m \u001b[49m\u001b[43maddress\u001b[49m\n\u001b[1;32m    285\u001b[0m \u001b[43m    \u001b[49m\u001b[43m)\u001b[49m\n\u001b[1;32m    287\u001b[0m     \u001b[38;5;28;01mreturn\u001b[39;00m [\n\u001b[1;32m    288\u001b[0m         cast(Server, \u001b[38;5;28mself\u001b[39m\u001b[38;5;241m.\u001b[39mget_server_by_address(sd\u001b[38;5;241m.\u001b[39maddress)) \u001b[38;5;28;01mfor\u001b[39;00m sd \u001b[38;5;129;01min\u001b[39;00m server_descriptions\n\u001b[1;32m    289\u001b[0m     ]\n",
      "File \u001b[0;32m~/.pyenv/versions/3.10.10/lib/python3.10/site-packages/pymongo/synchronous/topology.py:333\u001b[0m, in \u001b[0;36mTopology._select_servers_loop\u001b[0;34m(self, selector, timeout, operation, operation_id, address)\u001b[0m\n\u001b[1;32m    322\u001b[0m     \u001b[38;5;28;01mif\u001b[39;00m _SERVER_SELECTION_LOGGER\u001b[38;5;241m.\u001b[39misEnabledFor(logging\u001b[38;5;241m.\u001b[39mDEBUG):\n\u001b[1;32m    323\u001b[0m         _debug_log(\n\u001b[1;32m    324\u001b[0m             _SERVER_SELECTION_LOGGER,\n\u001b[1;32m    325\u001b[0m             message\u001b[38;5;241m=\u001b[39m_ServerSelectionStatusMessage\u001b[38;5;241m.\u001b[39mFAILED,\n\u001b[0;32m   (...)\u001b[0m\n\u001b[1;32m    331\u001b[0m             failure\u001b[38;5;241m=\u001b[39m\u001b[38;5;28mself\u001b[39m\u001b[38;5;241m.\u001b[39m_error_message(selector),\n\u001b[1;32m    332\u001b[0m         )\n\u001b[0;32m--> 333\u001b[0m     \u001b[38;5;28;01mraise\u001b[39;00m ServerSelectionTimeoutError(\n\u001b[1;32m    334\u001b[0m         \u001b[38;5;124mf\u001b[39m\u001b[38;5;124m\"\u001b[39m\u001b[38;5;132;01m{\u001b[39;00m\u001b[38;5;28mself\u001b[39m\u001b[38;5;241m.\u001b[39m_error_message(selector)\u001b[38;5;132;01m}\u001b[39;00m\u001b[38;5;124m, Timeout: \u001b[39m\u001b[38;5;132;01m{\u001b[39;00mtimeout\u001b[38;5;132;01m}\u001b[39;00m\u001b[38;5;124ms, Topology Description: \u001b[39m\u001b[38;5;132;01m{\u001b[39;00m\u001b[38;5;28mself\u001b[39m\u001b[38;5;241m.\u001b[39mdescription\u001b[38;5;132;01m!r}\u001b[39;00m\u001b[38;5;124m\"\u001b[39m\n\u001b[1;32m    335\u001b[0m     )\n\u001b[1;32m    337\u001b[0m \u001b[38;5;28;01mif\u001b[39;00m \u001b[38;5;129;01mnot\u001b[39;00m logged_waiting:\n\u001b[1;32m    338\u001b[0m     _debug_log(\n\u001b[1;32m    339\u001b[0m         _SERVER_SELECTION_LOGGER,\n\u001b[1;32m    340\u001b[0m         message\u001b[38;5;241m=\u001b[39m_ServerSelectionStatusMessage\u001b[38;5;241m.\u001b[39mWAITING,\n\u001b[0;32m   (...)\u001b[0m\n\u001b[1;32m    346\u001b[0m         remainingTimeMS\u001b[38;5;241m=\u001b[39m\u001b[38;5;28mint\u001b[39m(end_time \u001b[38;5;241m-\u001b[39m time\u001b[38;5;241m.\u001b[39mmonotonic()),\n\u001b[1;32m    347\u001b[0m     )\n",
      "\u001b[0;31mServerSelectionTimeoutError\u001b[0m: localhost:27017: [Errno 61] Connection refused (configured timeouts: socketTimeoutMS: 20000.0ms, connectTimeoutMS: 20000.0ms), Timeout: 30s, Topology Description: <TopologyDescription id: 6703a8a3513ff2ede7785591, topology_type: Unknown, servers: [<ServerDescription ('localhost', 27017) server_type: Unknown, rtt: None, error=AutoReconnect('localhost:27017: [Errno 61] Connection refused (configured timeouts: socketTimeoutMS: 20000.0ms, connectTimeoutMS: 20000.0ms)')>]>"
     ]
    }
   ],
   "source": [
    "for i in range (3,5):#targetd.shape[0]):\n",
    "    print(i)\n",
    "    bset = set()\n",
    "    row1 = df.iloc[i:i+1]\n",
    "    row = row1.iloc[:, 2:]\n",
    "    count_df = row.apply(lambda x : x!='WT').agg(sum).reset_index(name='count')\n",
    "    arow_list = count_df.loc[count_df['count'] > 0]['index']\n",
    "    #a = set(arow_list).union(set())\n",
    "    for a in arow_list:    \n",
    "        bset.add(row[a].values[0])\n",
    "    #print(\"Genes:\", set(arow_list))    \n",
    "    #print(\"Strin:\", bset)\n",
    "    \n",
    "    data =dict()\n",
    "    \n",
    "    data[\"tranNo\"] =  row1[['ID']].values[0][0],\n",
    "    data[\"target_class\"] =  row1[['SUBCLASS']].values[0][0],\n",
    "    data[\"genes\"]= set(arow_list),\n",
    "    #\"vstr\": bset\n",
    "    \n",
    "    # 딕셔너리를 JSON으로 변환\n",
    "    #document = pd.Series(data).to_json()\n",
    "    print(data)\n",
    "    \n",
    "    # 데이터 삽입\n",
    "    collection.insert_one(data)\n"
   ]
  },
  {
   "cell_type": "code",
   "execution_count": null,
   "metadata": {},
   "outputs": [],
   "source": []
  },
  {
   "cell_type": "code",
   "execution_count": 141,
   "metadata": {},
   "outputs": [
    {
     "data": {
      "text/plain": [
       "'G503VL179RTEST_0384'"
      ]
     },
     "execution_count": 141,
     "metadata": {},
     "output_type": "execute_result"
    }
   ],
   "source": [
    "df_test.iloc[384].replace('WT', '').sort_values().agg(sum)"
   ]
  },
  {
   "cell_type": "code",
   "execution_count": null,
   "metadata": {},
   "outputs": [],
   "source": [
    "df_test.iloc[384].replace('WT', '').sort_values().agg(sum)"
   ]
  },
  {
   "cell_type": "code",
   "execution_count": 143,
   "metadata": {},
   "outputs": [
    {
     "data": {
      "text/plain": [
       "ID          TRAIN_4584\n",
       "SUBCLASS        GBMLGG\n",
       "A2M                 WT\n",
       "AAAS                WT\n",
       "AADAT               WT\n",
       "               ...    \n",
       "ZNRF4               WT\n",
       "ZPBP                WT\n",
       "ZW10                WT\n",
       "ZWINT               WT\n",
       "ZYX                 WT\n",
       "Name: 4584, Length: 4386, dtype: object"
      ]
     },
     "execution_count": 143,
     "metadata": {},
     "output_type": "execute_result"
    }
   ],
   "source": [
    "df.iloc[4584]"
   ]
  },
  {
   "cell_type": "code",
   "execution_count": null,
   "metadata": {},
   "outputs": [],
   "source": [
    "def get_simiarity_rate(d):\n",
    "    targetd = df[df.SUBCLASS == d]\n",
    "    sum_t = 0\n",
    "    for i in range (targetd.shape[0]):\n",
    "        row = targetd.loc[:,gdic[d]].iloc[i:i+1].iloc[:, 2:]\n",
    "        count_df = row.apply(lambda x : x!='WT').agg(sum).reset_index(name='count')\n",
    "        arow_list = count_df.loc[count_df['count'] >0]['index']\n",
    "        res= sequence_similarity(dl.to_list(), arow_list.to_list())\n",
    "        #print(i, res)\n",
    "        sum_t += res\n",
    "    return int(sum_t)/len(targetd)\n",
    "for d in disease_list:\n",
    "    print(d, get_simiarity_rate(d))"
   ]
  },
  {
   "cell_type": "code",
   "execution_count": null,
   "metadata": {},
   "outputs": [],
   "source": [
    "def get_simiarity_rate(d):\n",
    "    targetd = df[df.SUBCLASS == d]\n",
    "    sum_t = 0\n",
    "    for i in range (targetd.shape[0]):\n",
    "        row = targetd.loc[:,gdic[d]].iloc[i:i+1].iloc[:, 2:]\n",
    "        count_df = row.apply(lambda x : x!='WT').agg(sum).reset_index(name='count')\n",
    "        arow_list = count_df.loc[count_df['count'] >0]['index']\n",
    "        res= sequence_similarity_shorter(dl.to_list(), arow_list.to_list())\n",
    "        #print(i, res)\n",
    "        sum_t += res\n",
    "    return int(sum_t)/len(targetd)\n",
    "for d in disease_list:\n",
    "    print(d, get_simiarity_rate(d))"
   ]
  },
  {
   "cell_type": "code",
   "execution_count": null,
   "metadata": {},
   "outputs": [],
   "source": [
    "d = 'OV'\n",
    "targetd = df[df.SUBCLASS == d]\n",
    "sum_t = 0\n",
    "for i in range (targetd.shape[0]):\n",
    "    row = targetd.loc[:,gdic[d]].iloc[i:i+1].iloc[:, 2:]\n",
    "    count_df = row.apply(lambda x : x!='WT').agg(sum).reset_index(name='count')\n",
    "    arow_list = count_df.loc[count_df['count'] >0]['index']\n",
    "    res= sequence_similarity(dl.to_list(), arow_list.to_list())\n",
    "    #print(i, res)\n",
    "    sum_t += res\n",
    "print(int(sum_t)/len(targetd))\n",
    "\n",
    "#for d in disease_list:\n",
    "    #print(d, get_simiarity_rate(d))"
   ]
  },
  {
   "cell_type": "code",
   "execution_count": null,
   "metadata": {},
   "outputs": [],
   "source": []
  },
  {
   "cell_type": "code",
   "execution_count": 82,
   "metadata": {},
   "outputs": [
    {
     "data": {
      "text/plain": [
       "ID          TRAIN_2476\n",
       "SUBCLASS          KIRC\n",
       "A2M                 WT\n",
       "AAAS                WT\n",
       "AADAT               WT\n",
       "               ...    \n",
       "ZNRF4               WT\n",
       "ZPBP                WT\n",
       "ZW10                WT\n",
       "ZWINT               WT\n",
       "ZYX                 WT\n",
       "Name: 2476, Length: 4386, dtype: object"
      ]
     },
     "execution_count": 82,
     "metadata": {},
     "output_type": "execute_result"
    }
   ],
   "source": [
    "df.iloc[2476]"
   ]
  },
  {
   "cell_type": "code",
   "execution_count": null,
   "metadata": {},
   "outputs": [],
   "source": [
    "td = df[df.SUBCLASS == 'OV']\n",
    "td = td.loc[:, list(glist)]\n",
    "td\n",
    "#b1 = td.sum().sort_values(ascending=False).str.replace('WT','-').reset_index()['index']\n",
    "#print('OV', sequence_similarity(b1[:400], a2l[:400]))\n",
    "    \n"
   ]
  },
  {
   "cell_type": "code",
   "execution_count": null,
   "metadata": {},
   "outputs": [],
   "source": [
    "print('OV', sequence_similarity(b1[:2000], a2l[:2000]))"
   ]
  },
  {
   "cell_type": "code",
   "execution_count": null,
   "metadata": {},
   "outputs": [],
   "source": [
    "df[df.SUBCLASS == 'OV']"
   ]
  },
  {
   "cell_type": "code",
   "execution_count": 78,
   "metadata": {},
   "outputs": [],
   "source": [
    "aa = ['ABR', 'ACTC1', 'ADRA1B', 'AHNAK', 'APC', 'ARRB2', 'ATP6V0A1', 'CCDC106', 'CCNF', 'CD8A', 'CDH11', 'CEL', 'CFD', 'CFTR', 'CHCHD10', 'COL1A2', 'COL4A1', 'CRMP1', 'EPS8L2', 'FCN1', 'FGF6', 'FUT8', 'GLUL', 'GNAS', 'GRINA', 'GUK1', 'GYS2', 'HDAC9', 'HEY2', 'HLA-A', 'HSD17B4', 'HTR7', 'IFITM2', 'IGSF1', 'ITGB8', 'ITIH4', 'KCNK15', 'KIF18B', 'KMT2D', 'LAMA3', 'LIG3', 'MADCAM1', 'MAGEE1', 'MEP1A', 'MMP9', 'MYO15A', 'NAV2', 'NCK2', 'NEFH', 'NLGN2', 'PABPC1', 'PGK2', 'PIAS2', 'PLPP3', 'POLE', 'PPP2R1B', 'PPP2R5B', 'PTCH1', 'PTGER4', 'PURA', 'RACGAP1', 'SLC12A2', 'SLC22A18', 'SPEG', 'STAG1', 'TP53', 'TPX2', 'TRIM25', 'TUBGCP6', 'USP1', 'UTP20', 'XYLT2', 'ZW10']\n"
   ]
  },
  {
   "cell_type": "code",
   "execution_count": 79,
   "metadata": {},
   "outputs": [
    {
     "data": {
      "text/plain": [
       "73"
      ]
     },
     "execution_count": 79,
     "metadata": {},
     "output_type": "execute_result"
    }
   ],
   "source": [
    "len(aa)"
   ]
  },
  {
   "cell_type": "code",
   "execution_count": 146,
   "metadata": {},
   "outputs": [],
   "source": [
    "a2l.to_csv('b-a2l.csv')\n"
   ]
  },
  {
   "cell_type": "code",
   "execution_count": 102,
   "metadata": {},
   "outputs": [],
   "source": [
    "def lcs(a1, a2):\n",
    "    # 두 시퀀스의 길이\n",
    "    len_a1 = len(a1)\n",
    "    len_a2 = len(a2)\n",
    "\n",
    "    # (len_a1 + 1) x (len_a2 + 1) 크기의 테이블 생성\n",
    "    dp = [[0] * (len_a2 + 1) for _ in range(len_a1 + 1)]\n",
    "\n",
    "    # 동적 프로그래밍으로 LCS 계산\n",
    "    for i in range(1, len_a1 + 1):\n",
    "        for j in range(1, len_a2 + 1):\n",
    "            if a1[i - 1] == a2[j - 1]:\n",
    "                dp[i][j] = dp[i - 1][j - 1] + 1\n",
    "            else:\n",
    "                dp[i][j] = max(dp[i - 1][j], dp[i][j - 1])\n",
    "\n",
    "    # LCS의 길이 반환\n",
    "    return dp[len_a1][len_a2]\n",
    "def lcs_optimized(a1, a2):\n",
    "    if len(a1) < len(a2):\n",
    "        a1, a2 = a2, a1  # a1을 항상 더 긴 시퀀스로 설정\n",
    "\n",
    "    previous = [0] * (len(a2) + 1)\n",
    "    \n",
    "    # 메모리 최적화: 현재 행과 이전 행만 유지\n",
    "    for i in range(1, len(a1) + 1):\n",
    "        current = [0] * (len(a2) + 1)\n",
    "        for j in range(1, len(a2) + 1):\n",
    "            if a1[i - 1] == a2[j - 1]:\n",
    "                current[j] = previous[j - 1] + 1\n",
    "            else:\n",
    "                current[j] = max(previous[j], current[j - 1])\n",
    "        previous = current  # 현재 행을 이전 행으로 대체\n",
    "    \n",
    "    return previous[len(a2)]\n",
    " \n",
    "\n",
    "def sequence_similarity(a1, a2):\n",
    "    # LCS 길이를 계산\n",
    "    lcs_length = lcs_optimized(a1, a2)\n",
    "\n",
    "    # 두 시퀀스의 최대 길이를 기준으로 일치도를 계산\n",
    "    max_len = max(len(a1), len(a2))\n",
    "\n",
    "    if max_len == 0:\n",
    "        return 1.0  # 두 시퀀스가 모두 비어 있으면 일치도 1\n",
    "\n",
    "    # 일치도 계산 (LCS 길이 / 두 시퀀스 중 긴 쪽의 길이)\n",
    "    similarity = lcs_length / max_len\n",
    "\n",
    "    return similarity\n",
    "\n",
    "def sequence_similarity_shorter(a1, a2):\n",
    "    # LCS 길이를 계산\n",
    "    lcs_length = lcs(a1, a2)\n",
    "\n",
    "    # 두 시퀀스의 최소 길이를 기준으로 일치도를 계산\n",
    "    min_len = min(len(a1), len(a2))\n",
    "\n",
    "    if min_len == 0:\n",
    "        return 1.0  # 두 시퀀스가 모두 비어 있으면 일치도 1\n",
    "\n",
    "    # 일치도 계산 (LCS 길이 / 두 시퀀스 중 짧은 쪽의 길이)\n",
    "    similarity = lcs_length / min_len\n",
    "\n",
    "    return similarity\n",
    "\n",
    "\n",
    "def sequence_similarity_average(a1, a2):\n",
    "    # LCS 길이를 계산\n",
    "    lcs_length = lcs(a1, a2)\n",
    "\n",
    "    # 두 시퀀스 길이의 평균을 기준으로 일치도를 계산\n",
    "    avg_len = (len(a1) + len(a2)) / 2\n",
    "\n",
    "    if avg_len == 0:\n",
    "        return 1.0  # 두 시퀀스가 모두 비어 있으면 일치도 1\n",
    "\n",
    "    # 일치도 계산 (LCS 길이 / 두 시퀀스 길이의 평균)\n",
    "    similarity = lcs_length / avg_len\n",
    "\n",
    "    return similarity\n",
    "def pad_sequences(a1, a2, pad_value=None):\n",
    "    len_a1 = len(a1)\n",
    "    len_a2 = len(a2)\n",
    "    \n",
    "    if len_a1 > len_a2:\n",
    "        a2.extend([pad_value] * (len_a1 - len_a2))\n",
    "    elif len_a2 > len_a1:\n",
    "        a1.extend([pad_value] * (len_a2 - len_a1))\n",
    "    \n",
    "    return a1, a2\n",
    "\n",
    "def sequence_similarity_with_padding(a1, a2):\n",
    "    # 시퀀스 길이 맞추기 (패딩 추가)\n",
    "    a1, a2 = pad_sequences(a1, a2, pad_value='')\n",
    "\n",
    "    # LCS 길이를 계산\n",
    "    lcs_length = lcs(a1, a2)\n",
    "\n",
    "    # 두 시퀀스의 최대 길이를 기준으로 일치도를 계산\n",
    "    max_len = max(len(a1), len(a2))\n",
    "\n",
    "    if max_len == 0:\n",
    "        return 1.0  # 두 시퀀스가 모두 비어 있으면 일치도 1\n",
    "\n",
    "    # 일치도 계산 (LCS 길이 / 두 시퀀스 중 긴 쪽의 길이)\n",
    "    similarity = lcs_length / max_len\n",
    "\n",
    "    return similarity\n",
    "\n"
   ]
  },
  {
   "cell_type": "code",
   "execution_count": 127,
   "metadata": {},
   "outputs": [
    {
     "data": {
      "text/plain": [
       "'KIPAN'"
      ]
     },
     "execution_count": 127,
     "metadata": {},
     "output_type": "execute_result"
    }
   ],
   "source": [
    "df.iloc[0][1]"
   ]
  },
  {
   "cell_type": "code",
   "execution_count": 130,
   "metadata": {},
   "outputs": [
    {
     "data": {
      "text/html": [
       "<div>\n",
       "<style scoped>\n",
       "    .dataframe tbody tr th:only-of-type {\n",
       "        vertical-align: middle;\n",
       "    }\n",
       "\n",
       "    .dataframe tbody tr th {\n",
       "        vertical-align: top;\n",
       "    }\n",
       "\n",
       "    .dataframe thead th {\n",
       "        text-align: right;\n",
       "    }\n",
       "</style>\n",
       "<table border=\"1\" class=\"dataframe\">\n",
       "  <thead>\n",
       "    <tr style=\"text-align: right;\">\n",
       "      <th></th>\n",
       "      <th>SUBCLASS</th>\n",
       "    </tr>\n",
       "  </thead>\n",
       "  <tbody>\n",
       "    <tr>\n",
       "      <th>0</th>\n",
       "      <td>KIPAN</td>\n",
       "    </tr>\n",
       "    <tr>\n",
       "      <th>1</th>\n",
       "      <td>SARC</td>\n",
       "    </tr>\n",
       "    <tr>\n",
       "      <th>2</th>\n",
       "      <td>SKCM</td>\n",
       "    </tr>\n",
       "    <tr>\n",
       "      <th>3</th>\n",
       "      <td>KIRC</td>\n",
       "    </tr>\n",
       "    <tr>\n",
       "      <th>4</th>\n",
       "      <td>GBMLGG</td>\n",
       "    </tr>\n",
       "    <tr>\n",
       "      <th>...</th>\n",
       "      <td>...</td>\n",
       "    </tr>\n",
       "    <tr>\n",
       "      <th>6196</th>\n",
       "      <td>LUAD</td>\n",
       "    </tr>\n",
       "    <tr>\n",
       "      <th>6197</th>\n",
       "      <td>LGG</td>\n",
       "    </tr>\n",
       "    <tr>\n",
       "      <th>6198</th>\n",
       "      <td>COAD</td>\n",
       "    </tr>\n",
       "    <tr>\n",
       "      <th>6199</th>\n",
       "      <td>TGCT</td>\n",
       "    </tr>\n",
       "    <tr>\n",
       "      <th>6200</th>\n",
       "      <td>SKCM</td>\n",
       "    </tr>\n",
       "  </tbody>\n",
       "</table>\n",
       "<p>6201 rows × 1 columns</p>\n",
       "</div>"
      ],
      "text/plain": [
       "     SUBCLASS\n",
       "0       KIPAN\n",
       "1        SARC\n",
       "2        SKCM\n",
       "3        KIRC\n",
       "4      GBMLGG\n",
       "...       ...\n",
       "6196     LUAD\n",
       "6197      LGG\n",
       "6198     COAD\n",
       "6199     TGCT\n",
       "6200     SKCM\n",
       "\n",
       "[6201 rows x 1 columns]"
      ]
     },
     "execution_count": 130,
     "metadata": {},
     "output_type": "execute_result"
    }
   ],
   "source": [
    "df[['SUBCLASS']]"
   ]
  },
  {
   "cell_type": "code",
   "execution_count": 138,
   "metadata": {},
   "outputs": [
    {
     "ename": "KeyboardInterrupt",
     "evalue": "",
     "output_type": "error",
     "traceback": [
      "\u001b[0;31m---------------------------------------------------------------------------\u001b[0m",
      "\u001b[0;31mKeyboardInterrupt\u001b[0m                         Traceback (most recent call last)",
      "Cell \u001b[0;32mIn[138], line 7\u001b[0m\n\u001b[1;32m      4\u001b[0m bset \u001b[38;5;241m=\u001b[39m \u001b[38;5;28mset\u001b[39m()\n\u001b[1;32m      6\u001b[0m row \u001b[38;5;241m=\u001b[39m df\u001b[38;5;241m.\u001b[39miloc[i:i\u001b[38;5;241m+\u001b[39m\u001b[38;5;241m1\u001b[39m]\u001b[38;5;241m.\u001b[39miloc[:, \u001b[38;5;241m2\u001b[39m:]\u001b[38;5;66;03m#remove ID,SUBCLASS\u001b[39;00m\n\u001b[0;32m----> 7\u001b[0m count_df \u001b[38;5;241m=\u001b[39m \u001b[43mrow\u001b[49m\u001b[38;5;241;43m.\u001b[39;49m\u001b[43mapply\u001b[49m\u001b[43m(\u001b[49m\u001b[38;5;28;43;01mlambda\u001b[39;49;00m\u001b[43m \u001b[49m\u001b[43mx\u001b[49m\u001b[43m \u001b[49m\u001b[43m:\u001b[49m\u001b[43m \u001b[49m\u001b[43mx\u001b[49m\u001b[38;5;241;43m!=\u001b[39;49m\u001b[38;5;124;43m'\u001b[39;49m\u001b[38;5;124;43mWT\u001b[39;49m\u001b[38;5;124;43m'\u001b[39;49m\u001b[43m)\u001b[49m\u001b[38;5;241m.\u001b[39magg(\u001b[38;5;28msum\u001b[39m)\u001b[38;5;241m.\u001b[39mreset_index(name\u001b[38;5;241m=\u001b[39m\u001b[38;5;124m'\u001b[39m\u001b[38;5;124mcount\u001b[39m\u001b[38;5;124m'\u001b[39m)\n\u001b[1;32m      8\u001b[0m g_setl \u001b[38;5;241m=\u001b[39m count_df\u001b[38;5;241m.\u001b[39mloc[count_df[\u001b[38;5;124m'\u001b[39m\u001b[38;5;124mcount\u001b[39m\u001b[38;5;124m'\u001b[39m] \u001b[38;5;241m>\u001b[39m \u001b[38;5;241m0\u001b[39m][\u001b[38;5;124m'\u001b[39m\u001b[38;5;124mindex\u001b[39m\u001b[38;5;124m'\u001b[39m]\n\u001b[1;32m      9\u001b[0m \u001b[38;5;66;03m#a = set(g_setl).union(set())\u001b[39;00m\n",
      "File \u001b[0;32m~/.pyenv/versions/3.10.10/lib/python3.10/site-packages/pandas/core/frame.py:10374\u001b[0m, in \u001b[0;36mDataFrame.apply\u001b[0;34m(self, func, axis, raw, result_type, args, by_row, engine, engine_kwargs, **kwargs)\u001b[0m\n\u001b[1;32m  10360\u001b[0m \u001b[38;5;28;01mfrom\u001b[39;00m \u001b[38;5;21;01mpandas\u001b[39;00m\u001b[38;5;21;01m.\u001b[39;00m\u001b[38;5;21;01mcore\u001b[39;00m\u001b[38;5;21;01m.\u001b[39;00m\u001b[38;5;21;01mapply\u001b[39;00m \u001b[38;5;28;01mimport\u001b[39;00m frame_apply\n\u001b[1;32m  10362\u001b[0m op \u001b[38;5;241m=\u001b[39m frame_apply(\n\u001b[1;32m  10363\u001b[0m     \u001b[38;5;28mself\u001b[39m,\n\u001b[1;32m  10364\u001b[0m     func\u001b[38;5;241m=\u001b[39mfunc,\n\u001b[0;32m   (...)\u001b[0m\n\u001b[1;32m  10372\u001b[0m     kwargs\u001b[38;5;241m=\u001b[39mkwargs,\n\u001b[1;32m  10373\u001b[0m )\n\u001b[0;32m> 10374\u001b[0m \u001b[38;5;28;01mreturn\u001b[39;00m \u001b[43mop\u001b[49m\u001b[38;5;241;43m.\u001b[39;49m\u001b[43mapply\u001b[49m\u001b[43m(\u001b[49m\u001b[43m)\u001b[49m\u001b[38;5;241m.\u001b[39m__finalize__(\u001b[38;5;28mself\u001b[39m, method\u001b[38;5;241m=\u001b[39m\u001b[38;5;124m\"\u001b[39m\u001b[38;5;124mapply\u001b[39m\u001b[38;5;124m\"\u001b[39m)\n",
      "File \u001b[0;32m~/.pyenv/versions/3.10.10/lib/python3.10/site-packages/pandas/core/apply.py:916\u001b[0m, in \u001b[0;36mFrameApply.apply\u001b[0;34m(self)\u001b[0m\n\u001b[1;32m    913\u001b[0m \u001b[38;5;28;01melif\u001b[39;00m \u001b[38;5;28mself\u001b[39m\u001b[38;5;241m.\u001b[39mraw:\n\u001b[1;32m    914\u001b[0m     \u001b[38;5;28;01mreturn\u001b[39;00m \u001b[38;5;28mself\u001b[39m\u001b[38;5;241m.\u001b[39mapply_raw(engine\u001b[38;5;241m=\u001b[39m\u001b[38;5;28mself\u001b[39m\u001b[38;5;241m.\u001b[39mengine, engine_kwargs\u001b[38;5;241m=\u001b[39m\u001b[38;5;28mself\u001b[39m\u001b[38;5;241m.\u001b[39mengine_kwargs)\n\u001b[0;32m--> 916\u001b[0m \u001b[38;5;28;01mreturn\u001b[39;00m \u001b[38;5;28;43mself\u001b[39;49m\u001b[38;5;241;43m.\u001b[39;49m\u001b[43mapply_standard\u001b[49m\u001b[43m(\u001b[49m\u001b[43m)\u001b[49m\n",
      "File \u001b[0;32m~/.pyenv/versions/3.10.10/lib/python3.10/site-packages/pandas/core/apply.py:1068\u001b[0m, in \u001b[0;36mFrameApply.apply_standard\u001b[0;34m(self)\u001b[0m\n\u001b[1;32m   1065\u001b[0m     results, res_index \u001b[38;5;241m=\u001b[39m \u001b[38;5;28mself\u001b[39m\u001b[38;5;241m.\u001b[39mapply_series_numba()\n\u001b[1;32m   1067\u001b[0m \u001b[38;5;66;03m# wrap results\u001b[39;00m\n\u001b[0;32m-> 1068\u001b[0m \u001b[38;5;28;01mreturn\u001b[39;00m \u001b[38;5;28;43mself\u001b[39;49m\u001b[38;5;241;43m.\u001b[39;49m\u001b[43mwrap_results\u001b[49m\u001b[43m(\u001b[49m\u001b[43mresults\u001b[49m\u001b[43m,\u001b[49m\u001b[43m \u001b[49m\u001b[43mres_index\u001b[49m\u001b[43m)\u001b[49m\n",
      "File \u001b[0;32m~/.pyenv/versions/3.10.10/lib/python3.10/site-packages/pandas/core/apply.py:1107\u001b[0m, in \u001b[0;36mFrameApply.wrap_results\u001b[0;34m(self, results, res_index)\u001b[0m\n\u001b[1;32m   1105\u001b[0m \u001b[38;5;66;03m# see if we can infer the results\u001b[39;00m\n\u001b[1;32m   1106\u001b[0m \u001b[38;5;28;01mif\u001b[39;00m \u001b[38;5;28mlen\u001b[39m(results) \u001b[38;5;241m>\u001b[39m \u001b[38;5;241m0\u001b[39m \u001b[38;5;129;01mand\u001b[39;00m \u001b[38;5;241m0\u001b[39m \u001b[38;5;129;01min\u001b[39;00m results \u001b[38;5;129;01mand\u001b[39;00m is_sequence(results[\u001b[38;5;241m0\u001b[39m]):\n\u001b[0;32m-> 1107\u001b[0m     \u001b[38;5;28;01mreturn\u001b[39;00m \u001b[38;5;28;43mself\u001b[39;49m\u001b[38;5;241;43m.\u001b[39;49m\u001b[43mwrap_results_for_axis\u001b[49m\u001b[43m(\u001b[49m\u001b[43mresults\u001b[49m\u001b[43m,\u001b[49m\u001b[43m \u001b[49m\u001b[43mres_index\u001b[49m\u001b[43m)\u001b[49m\n\u001b[1;32m   1109\u001b[0m \u001b[38;5;66;03m# dict of scalars\u001b[39;00m\n\u001b[1;32m   1110\u001b[0m \n\u001b[1;32m   1111\u001b[0m \u001b[38;5;66;03m# the default dtype of an empty Series is `object`, but this\u001b[39;00m\n\u001b[1;32m   1112\u001b[0m \u001b[38;5;66;03m# code can be hit by df.mean() where the result should have dtype\u001b[39;00m\n\u001b[1;32m   1113\u001b[0m \u001b[38;5;66;03m# float64 even if it's an empty Series.\u001b[39;00m\n\u001b[1;32m   1114\u001b[0m constructor_sliced \u001b[38;5;241m=\u001b[39m \u001b[38;5;28mself\u001b[39m\u001b[38;5;241m.\u001b[39mobj\u001b[38;5;241m.\u001b[39m_constructor_sliced\n",
      "File \u001b[0;32m~/.pyenv/versions/3.10.10/lib/python3.10/site-packages/pandas/core/apply.py:1219\u001b[0m, in \u001b[0;36mFrameRowApply.wrap_results_for_axis\u001b[0;34m(self, results, res_index)\u001b[0m\n\u001b[1;32m   1216\u001b[0m     \u001b[38;5;28;01mreturn\u001b[39;00m res\n\u001b[1;32m   1218\u001b[0m \u001b[38;5;28;01mtry\u001b[39;00m:\n\u001b[0;32m-> 1219\u001b[0m     result \u001b[38;5;241m=\u001b[39m \u001b[38;5;28;43mself\u001b[39;49m\u001b[38;5;241;43m.\u001b[39;49m\u001b[43mobj\u001b[49m\u001b[38;5;241;43m.\u001b[39;49m\u001b[43m_constructor\u001b[49m\u001b[43m(\u001b[49m\u001b[43mdata\u001b[49m\u001b[38;5;241;43m=\u001b[39;49m\u001b[43mresults\u001b[49m\u001b[43m)\u001b[49m\n\u001b[1;32m   1220\u001b[0m \u001b[38;5;28;01mexcept\u001b[39;00m \u001b[38;5;167;01mValueError\u001b[39;00m \u001b[38;5;28;01mas\u001b[39;00m err:\n\u001b[1;32m   1221\u001b[0m     \u001b[38;5;28;01mif\u001b[39;00m \u001b[38;5;124m\"\u001b[39m\u001b[38;5;124mAll arrays must be of the same length\u001b[39m\u001b[38;5;124m\"\u001b[39m \u001b[38;5;129;01min\u001b[39;00m \u001b[38;5;28mstr\u001b[39m(err):\n\u001b[1;32m   1222\u001b[0m         \u001b[38;5;66;03m# e.g. result = [[2, 3], [1.5], ['foo', 'bar']]\u001b[39;00m\n\u001b[1;32m   1223\u001b[0m         \u001b[38;5;66;03m#  see test_agg_listlike_result GH#29587\u001b[39;00m\n",
      "File \u001b[0;32m~/.pyenv/versions/3.10.10/lib/python3.10/site-packages/pandas/core/frame.py:778\u001b[0m, in \u001b[0;36mDataFrame.__init__\u001b[0;34m(self, data, index, columns, dtype, copy)\u001b[0m\n\u001b[1;32m    772\u001b[0m     mgr \u001b[38;5;241m=\u001b[39m \u001b[38;5;28mself\u001b[39m\u001b[38;5;241m.\u001b[39m_init_mgr(\n\u001b[1;32m    773\u001b[0m         data, axes\u001b[38;5;241m=\u001b[39m{\u001b[38;5;124m\"\u001b[39m\u001b[38;5;124mindex\u001b[39m\u001b[38;5;124m\"\u001b[39m: index, \u001b[38;5;124m\"\u001b[39m\u001b[38;5;124mcolumns\u001b[39m\u001b[38;5;124m\"\u001b[39m: columns}, dtype\u001b[38;5;241m=\u001b[39mdtype, copy\u001b[38;5;241m=\u001b[39mcopy\n\u001b[1;32m    774\u001b[0m     )\n\u001b[1;32m    776\u001b[0m \u001b[38;5;28;01melif\u001b[39;00m \u001b[38;5;28misinstance\u001b[39m(data, \u001b[38;5;28mdict\u001b[39m):\n\u001b[1;32m    777\u001b[0m     \u001b[38;5;66;03m# GH#38939 de facto copy defaults to False only in non-dict cases\u001b[39;00m\n\u001b[0;32m--> 778\u001b[0m     mgr \u001b[38;5;241m=\u001b[39m \u001b[43mdict_to_mgr\u001b[49m\u001b[43m(\u001b[49m\u001b[43mdata\u001b[49m\u001b[43m,\u001b[49m\u001b[43m \u001b[49m\u001b[43mindex\u001b[49m\u001b[43m,\u001b[49m\u001b[43m \u001b[49m\u001b[43mcolumns\u001b[49m\u001b[43m,\u001b[49m\u001b[43m \u001b[49m\u001b[43mdtype\u001b[49m\u001b[38;5;241;43m=\u001b[39;49m\u001b[43mdtype\u001b[49m\u001b[43m,\u001b[49m\u001b[43m \u001b[49m\u001b[43mcopy\u001b[49m\u001b[38;5;241;43m=\u001b[39;49m\u001b[43mcopy\u001b[49m\u001b[43m,\u001b[49m\u001b[43m \u001b[49m\u001b[43mtyp\u001b[49m\u001b[38;5;241;43m=\u001b[39;49m\u001b[43mmanager\u001b[49m\u001b[43m)\u001b[49m\n\u001b[1;32m    779\u001b[0m \u001b[38;5;28;01melif\u001b[39;00m \u001b[38;5;28misinstance\u001b[39m(data, ma\u001b[38;5;241m.\u001b[39mMaskedArray):\n\u001b[1;32m    780\u001b[0m     \u001b[38;5;28;01mfrom\u001b[39;00m \u001b[38;5;21;01mnumpy\u001b[39;00m\u001b[38;5;21;01m.\u001b[39;00m\u001b[38;5;21;01mma\u001b[39;00m \u001b[38;5;28;01mimport\u001b[39;00m mrecords\n",
      "File \u001b[0;32m~/.pyenv/versions/3.10.10/lib/python3.10/site-packages/pandas/core/internals/construction.py:503\u001b[0m, in \u001b[0;36mdict_to_mgr\u001b[0;34m(data, index, columns, dtype, typ, copy)\u001b[0m\n\u001b[1;32m    499\u001b[0m     \u001b[38;5;28;01melse\u001b[39;00m:\n\u001b[1;32m    500\u001b[0m         \u001b[38;5;66;03m# dtype check to exclude e.g. range objects, scalars\u001b[39;00m\n\u001b[1;32m    501\u001b[0m         arrays \u001b[38;5;241m=\u001b[39m [x\u001b[38;5;241m.\u001b[39mcopy() \u001b[38;5;28;01mif\u001b[39;00m \u001b[38;5;28mhasattr\u001b[39m(x, \u001b[38;5;124m\"\u001b[39m\u001b[38;5;124mdtype\u001b[39m\u001b[38;5;124m\"\u001b[39m) \u001b[38;5;28;01melse\u001b[39;00m x \u001b[38;5;28;01mfor\u001b[39;00m x \u001b[38;5;129;01min\u001b[39;00m arrays]\n\u001b[0;32m--> 503\u001b[0m \u001b[38;5;28;01mreturn\u001b[39;00m \u001b[43marrays_to_mgr\u001b[49m\u001b[43m(\u001b[49m\u001b[43marrays\u001b[49m\u001b[43m,\u001b[49m\u001b[43m \u001b[49m\u001b[43mcolumns\u001b[49m\u001b[43m,\u001b[49m\u001b[43m \u001b[49m\u001b[43mindex\u001b[49m\u001b[43m,\u001b[49m\u001b[43m \u001b[49m\u001b[43mdtype\u001b[49m\u001b[38;5;241;43m=\u001b[39;49m\u001b[43mdtype\u001b[49m\u001b[43m,\u001b[49m\u001b[43m \u001b[49m\u001b[43mtyp\u001b[49m\u001b[38;5;241;43m=\u001b[39;49m\u001b[43mtyp\u001b[49m\u001b[43m,\u001b[49m\u001b[43m \u001b[49m\u001b[43mconsolidate\u001b[49m\u001b[38;5;241;43m=\u001b[39;49m\u001b[43mcopy\u001b[49m\u001b[43m)\u001b[49m\n",
      "File \u001b[0;32m~/.pyenv/versions/3.10.10/lib/python3.10/site-packages/pandas/core/internals/construction.py:119\u001b[0m, in \u001b[0;36marrays_to_mgr\u001b[0;34m(arrays, columns, index, dtype, verify_integrity, typ, consolidate)\u001b[0m\n\u001b[1;32m    116\u001b[0m         index \u001b[38;5;241m=\u001b[39m ensure_index(index)\n\u001b[1;32m    118\u001b[0m     \u001b[38;5;66;03m# don't force copy because getting jammed in an ndarray anyway\u001b[39;00m\n\u001b[0;32m--> 119\u001b[0m     arrays, refs \u001b[38;5;241m=\u001b[39m \u001b[43m_homogenize\u001b[49m\u001b[43m(\u001b[49m\u001b[43marrays\u001b[49m\u001b[43m,\u001b[49m\u001b[43m \u001b[49m\u001b[43mindex\u001b[49m\u001b[43m,\u001b[49m\u001b[43m \u001b[49m\u001b[43mdtype\u001b[49m\u001b[43m)\u001b[49m\n\u001b[1;32m    120\u001b[0m     \u001b[38;5;66;03m# _homogenize ensures\u001b[39;00m\n\u001b[1;32m    121\u001b[0m     \u001b[38;5;66;03m#  - all(len(x) == len(index) for x in arrays)\u001b[39;00m\n\u001b[1;32m    122\u001b[0m     \u001b[38;5;66;03m#  - all(x.ndim == 1 for x in arrays)\u001b[39;00m\n\u001b[0;32m   (...)\u001b[0m\n\u001b[1;32m    125\u001b[0m \n\u001b[1;32m    126\u001b[0m \u001b[38;5;28;01melse\u001b[39;00m:\n\u001b[1;32m    127\u001b[0m     index \u001b[38;5;241m=\u001b[39m ensure_index(index)\n",
      "File \u001b[0;32m~/.pyenv/versions/3.10.10/lib/python3.10/site-packages/pandas/core/internals/construction.py:608\u001b[0m, in \u001b[0;36m_homogenize\u001b[0;34m(data, index, dtype)\u001b[0m\n\u001b[1;32m    606\u001b[0m \u001b[38;5;28;01mif\u001b[39;00m dtype \u001b[38;5;129;01mis\u001b[39;00m \u001b[38;5;129;01mnot\u001b[39;00m \u001b[38;5;28;01mNone\u001b[39;00m:\n\u001b[1;32m    607\u001b[0m     val \u001b[38;5;241m=\u001b[39m val\u001b[38;5;241m.\u001b[39mastype(dtype, copy\u001b[38;5;241m=\u001b[39m\u001b[38;5;28;01mFalse\u001b[39;00m)\n\u001b[0;32m--> 608\u001b[0m \u001b[38;5;28;01mif\u001b[39;00m \u001b[38;5;28misinstance\u001b[39m(val, ABCSeries) \u001b[38;5;129;01mand\u001b[39;00m val\u001b[38;5;241m.\u001b[39mindex \u001b[38;5;129;01mis\u001b[39;00m \u001b[38;5;129;01mnot\u001b[39;00m index:\n\u001b[1;32m    609\u001b[0m     \u001b[38;5;66;03m# Forces alignment. No need to copy data since we\u001b[39;00m\n\u001b[1;32m    610\u001b[0m     \u001b[38;5;66;03m# are putting it into an ndarray later\u001b[39;00m\n\u001b[1;32m    611\u001b[0m     val \u001b[38;5;241m=\u001b[39m val\u001b[38;5;241m.\u001b[39mreindex(index, copy\u001b[38;5;241m=\u001b[39m\u001b[38;5;28;01mFalse\u001b[39;00m)\n\u001b[1;32m    612\u001b[0m refs\u001b[38;5;241m.\u001b[39mappend(val\u001b[38;5;241m.\u001b[39m_references)\n",
      "\u001b[0;31mKeyboardInterrupt\u001b[0m: "
     ]
    }
   ],
   "source": [
    "to_compare = ['DDX10', 'ELOVL5']\n",
    "for i in range(0, df.shape[0]): \n",
    "    \n",
    "    bset = set()\n",
    "    \n",
    "    row = df.iloc[i:i+1].iloc[:, 2:]#remove ID,SUBCLASS\n",
    "    count_df = row.apply(lambda x : x!='WT').agg(sum).reset_index(name='count')\n",
    "    g_setl = count_df.loc[count_df['count'] > 0]['index']\n",
    "    #a = set(g_setl).union(set())\n",
    "    \n",
    "    if to_compare[0] in set(g_setl):\n",
    "        print(i)\n",
    "        sim = sequence_similarity_shorter(to_compare, set(g_setl))\n",
    "        print(i, df.iloc[i]['SUBCLASS'], sim)\n",
    "        #print(bset.add(row[i].values[0]))\n",
    "        #print(\"Strin:\", bset)\n",
    "    \n",
    "    \n",
    "    #\n",
    "    #print(\"Genes:\", set(g_setl))\n",
    "    #print(\"Strin:\", bset)\n",
    "    \n",
    "    "
   ]
  },
  {
   "cell_type": "code",
   "execution_count": null,
   "metadata": {},
   "outputs": [],
   "source": [
    "a1[0] in a2"
   ]
  },
  {
   "cell_type": "code",
   "execution_count": 110,
   "metadata": {},
   "outputs": [
    {
     "data": {
      "text/plain": [
       "1.0"
      ]
     },
     "execution_count": 110,
     "metadata": {},
     "output_type": "execute_result"
    }
   ],
   "source": [
    "a1 = ['DDX10', 'ELOVL5']\n",
    "a2 = ['AAAS', 'ABCB4', 'ABCC1', 'ABCC4', 'ABL1', 'ACKR3', 'ACOX2', 'ACSL1', 'ACSS2', 'ACVR1B', 'ADAD1', 'ADAM10', 'ADAM2', 'ADAMTS5', 'ADCY2', 'ADH5', 'ADIPOQ', 'AGO4', 'AHNAK', 'AIFM3', 'AKAP12', 'ALAS1', 'ALDH1A1', 'ALDH2', 'ALS2', 'ANLN', 'ARHGEF7', 'ATAD2', 'ATP1A1', 'ATP7A', 'ATXN1', 'AUTS2', 'AVPR1A', 'AXIN2', 'BAZ2A', 'BIRC2', 'BRAF', 'BTBD3', 'CACNA1A', 'CACNA1H', 'CAMKK2', 'CASP8', 'CAST', 'CCR5', 'CCT6A', 'CD302', 'CD47', 'CD7', 'CDADC1', 'CDH13', 'CDH16', 'CDH3', 'CDH4', 'CDK5RAP2', 'CDON', 'CELSR1', 'CELSR2', 'CENPJ', 'CKAP4', 'CLDN9', 'COL11A1', 'COL16A1', 'COL2A1', 'COL5A1', 'CORO1A', 'CPT1A', 'CREBBP', 'CSTF3', 'CTSB', 'CTSV', 'CTTN', 'CXCR3', 'CYP2C18', 'DAAM1', 'DDX10', 'DGCR8', 'DHRS2', 'DIO1', 'DLC1', 'DLK2', 'DNM1L', 'DOCK10', 'DOCK2', 'DSC3', 'DST', 'DUSP6', 'DVL2', 'DYRK1A', 'DYRK3', 'EIF3A', 'EIF4G3', 'ELL', 'ELOVL5', 'ELOVL6', 'ENO1', 'ERN1', 'ESR1', 'EVL', 'EWSR1', 'EXO1', 'EZR', 'F12', 'F5', 'FADS2', 'FBXO9', 'FBXW7', 'FCN1', 'FEN1', 'FGD6', 'FKBP4', 'FLNA', 'FLNB', 'FN1', 'FSCN1', 'FXN', 'GEMIN4', 'GJB3', 'GMPR2', 'GPD1', 'GPI', 'GPRC5C', 'GSS', 'HSPB1', 'HUWE1', 'ICAM5', 'IDH2', 'IDH3G', 'IGF1R', 'IL17RA', 'IL1RL1', 'IL6', 'IPO4', 'IRF9', 'IRS4', 'ISG20L2', 'ISL1', 'ITIH5', 'ITPK1', 'JAG2', 'JUP', 'KALRN', 'KCND1', 'KDM3A', 'KIF3C', 'KIF5B', 'KIFAP3', 'KLF10', 'KMT2D', 'KRT15', 'KRT31', 'LAMA1', 'LAMA3', 'LAMB3', 'LGALS3BP', 'LIG1', 'LRP1', 'LTBP1', 'LTF', 'LUM', 'MAP3K1', 'MAP4K1', 'MAPKAP1', 'MAST3', 'MCCC1', 'MEF2D', 'MEIS2', 'MLF1', 'MMP15', 'MMP16', 'MMP2', 'MMP9', 'MPI', 'MVK', 'MYH10', 'MYH3', 'MYH9', 'MYOT', 'NAV2', 'NCOA3', 'NCSTN', 'NDST2', 'NDUFAF4', 'NET1', 'NINJ1', 'NKX3-1', 'NMI', 'NOD1', 'NOLC1', 'NOS2', 'NOTCH2', 'NTRK3', 'NUFIP1', 'NXF1', 'ODF2', 'OLFM1', 'P2RY1', 'PAIP1', 'PCDHB1', 'PCM1', 'PEG3', 'PEX12', 'PFKL', 'PHF3', 'PHGDH', 'PHKA2', 'PIK3CD', 'PKHD1', 'PLAGL1', 'PLEC', 'PLXNB1', 'PPARGC1A', 'PRKCB', 'PTCH1', 'PTPN6', 'PTPRC', 'PTPRG', 'PTPRM', 'PYGL', 'RET', 'RHOT1', 'ROCK1', 'ROS1', 'RPL3L', 'RXRG', 'RYR1', 'RYR2', 'SCARB1', 'SCN9A', 'SCUBE2', 'SEC14L1', 'SEC24D', 'SFRP1', 'SHROOM2', 'SIDT1', 'SLC12A3', 'SLC35A3', 'SLC39A6', 'SLC6A12', 'SLC6A9', 'SLC7A1', 'SLN', 'SMAD1', 'SMC1A', 'SMC3', 'SMC4', 'SMOX', 'SMTN', 'SNAPC4', 'SPTAN1', 'SREBF2', 'ST14', 'STAB1', 'STAG3', 'STARD3', 'STAU1', 'SVIL', 'SYNJ2', 'TAOK2', 'TCF7L2', 'TDO2', 'TEAD4', 'TFDP1', 'TG', 'THBD', 'THBS3', 'TIMELESS', 'TIMM10', 'TJP3', 'TK1', 'TLE4', 'TM7SF3', 'TMEM164', 'TNC', 'TNFRSF1A', 'TNIP1', 'TNIP2', 'TOP1', 'TRIB2', 'TSC1', 'TSPYL2', 'TUBA3C', 'TXNRD2', 'TYK2', 'UBE2D1', 'UBE2L6', 'UNC13B', 'UNC5C', 'UQCRB', 'USO1', 'WEE1', 'WNT1', 'WWC1', 'XPC', 'YWHAZ', 'ZNF292', 'ZNFX1']\n",
    "set(a1).intersection(set(a2))\n",
    "#sequence_similarity_shorter(a1, a2)"
   ]
  },
  {
   "cell_type": "code",
   "execution_count": null,
   "metadata": {},
   "outputs": [],
   "source": [
    "df[df.SUBCLASS == 'OV'].sum().sort_values(ascending=False).str.replace('WT','-').reset_index()['index']"
   ]
  },
  {
   "cell_type": "code",
   "execution_count": null,
   "metadata": {},
   "outputs": [],
   "source": [
    "\n",
    "b_strings = df[df.SUBCLASS == 'OV'].sum().sort_values(ascending=False).str.replace('WT','-').reset_index()\n",
    "b_strings.to_csv('b-test-strings.csv')"
   ]
  },
  {
   "cell_type": "code",
   "execution_count": 32,
   "metadata": {},
   "outputs": [],
   "source": [
    "disease_list = df.SUBCLASS.unique()\n",
    "for d in disease_list:\n",
    "    b_strings = df[df.SUBCLASS == d].sum().sort_values(ascending=False).str.replace('WT','').drop(['SUBCLASS','ID']).reset_index()\n",
    "    b_strings.to_csv('./data/bstr-'+d+'-1.csv')"
   ]
  },
  {
   "cell_type": "code",
   "execution_count": null,
   "metadata": {},
   "outputs": [],
   "source": []
  },
  {
   "cell_type": "code",
   "execution_count": 15,
   "metadata": {},
   "outputs": [],
   "source": [
    "disease_list = df.SUBCLASS.unique()\n",
    "for d in disease_list:\n",
    "    b_strings = df[df.SUBCLASS == d].sum().sort_values(ascending=False).str.replace('WT','-').drop(['SUBCLASS','ID']).reset_index()\n",
    "    b_strings.to_csv('./data2/bstr-'+d+'-1.csv')"
   ]
  },
  {
   "cell_type": "code",
   "execution_count": null,
   "metadata": {},
   "outputs": [],
   "source": [
    "df[df['SUBCLASS']=='DLBC']"
   ]
  },
  {
   "cell_type": "code",
   "execution_count": null,
   "metadata": {},
   "outputs": [],
   "source": [
    "import numpy as np \n",
    "dfs = df[df['SUBCLASS']=='DLBC']\n",
    "dfs.columns"
   ]
  },
  {
   "cell_type": "code",
   "execution_count": null,
   "metadata": {},
   "outputs": [],
   "source": [
    "dfs"
   ]
  },
  {
   "cell_type": "code",
   "execution_count": null,
   "metadata": {},
   "outputs": [],
   "source": [
    "genes = []\n",
    "for disease in df[\"SUBCLASS\"].unique():\n",
    "    disease_df = df[df[\"SUBCLASS\"] == disease]\n",
    "\n",
    "    non_wt_counts = (disease_df != 'WT').sum()  # \"WT\"가 아닌 행 개수\n",
    "    #non_wt_counts_sorted = non_wt_counts.sort_values(ascending=False) #빈도 수가 높은 순서대로 정렬\n",
    "    non_wt_counts_sorted = non_wt_counts[non_wt_counts>100].sort_values(ascending=False) #빈도 수가 높은 순서대로 정렬\n",
    "\n",
    "    n = 10 # 추출한 상위 유전자 개수\n",
    "    genes.extend(list(non_wt_counts_sorted[2:2+n].index))\n",
    "\n",
    "    print(f'{disease} - 전체 행의 개수 : {len(disease_df)}')\n",
    "    print(non_wt_counts_sorted[2:10])\n",
    "    print()"
   ]
  },
  {
   "cell_type": "code",
   "execution_count": null,
   "metadata": {},
   "outputs": [],
   "source": [
    "for  x in df.iloc[0]:\n",
    "    if x != 'WT': print(x)\n"
   ]
  },
  {
   "cell_type": "code",
   "execution_count": null,
   "metadata": {},
   "outputs": [],
   "source": []
  },
  {
   "cell_type": "code",
   "execution_count": null,
   "metadata": {},
   "outputs": [],
   "source": [
    "len(df_test.columns)"
   ]
  },
  {
   "cell_type": "code",
   "execution_count": null,
   "metadata": {},
   "outputs": [],
   "source": [
    "len(df_test)"
   ]
  },
  {
   "cell_type": "code",
   "execution_count": null,
   "metadata": {},
   "outputs": [],
   "source": [
    "df.colu"
   ]
  }
 ],
 "metadata": {
  "kernelspec": {
   "display_name": "Python 3",
   "language": "python",
   "name": "python3"
  },
  "language_info": {
   "codemirror_mode": {
    "name": "ipython",
    "version": 3
   },
   "file_extension": ".py",
   "mimetype": "text/x-python",
   "name": "python",
   "nbconvert_exporter": "python",
   "pygments_lexer": "ipython3",
   "version": "3.10.10"
  }
 },
 "nbformat": 4,
 "nbformat_minor": 2
}
