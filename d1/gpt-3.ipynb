{
 "cells": [
  {
   "cell_type": "code",
   "execution_count": 1,
   "metadata": {},
   "outputs": [
    {
     "name": "stdout",
     "output_type": "stream",
     "text": [
      "두 시퀀스의 순서 일치도: 0.57\n"
     ]
    }
   ],
   "source": [
    "def lcs(a1, a2):\n",
    "    # 두 시퀀스의 길이\n",
    "    len_a1 = len(a1)\n",
    "    len_a2 = len(a2)\n",
    "\n",
    "    # (len_a1 + 1) x (len_a2 + 1) 크기의 테이블 생성\n",
    "    dp = [[0] * (len_a2 + 1) for _ in range(len_a1 + 1)]\n",
    "\n",
    "    # 동적 프로그래밍으로 LCS 계산\n",
    "    for i in range(1, len_a1 + 1):\n",
    "        for j in range(1, len_a2 + 1):\n",
    "            if a1[i - 1] == a2[j - 1]:\n",
    "                dp[i][j] = dp[i - 1][j - 1] + 1\n",
    "            else:\n",
    "                dp[i][j] = max(dp[i - 1][j], dp[i][j - 1])\n",
    "\n",
    "    # LCS의 길이 반환\n",
    "    return dp[len_a1][len_a2]\n",
    "\n",
    "def sequence_similarity(a1, a2):\n",
    "    # LCS 길이를 계산\n",
    "    lcs_length = lcs(a1, a2)\n",
    "\n",
    "    # 두 시퀀스의 최대 길이를 기준으로 일치도를 계산\n",
    "    max_len = max(len(a1), len(a2))\n",
    "\n",
    "    if max_len == 0:\n",
    "        return 1.0  # 두 시퀀스가 모두 비어 있으면 일치도 1\n",
    "\n",
    "    # 일치도 계산 (LCS 길이 / 두 시퀀스 중 긴 쪽의 길이)\n",
    "    similarity = lcs_length / max_len\n",
    "\n",
    "    return similarity\n",
    "\n",
    "# 리스트 형태의 예시 시퀀스\n",
    "a1 = ['A', 'G', 'G', 'T', 'A', 'B']\n",
    "a2 = ['G', 'X', 'T', 'X', 'A', 'Y', 'B']\n",
    "\n",
    "similarity = sequence_similarity(a1, a2)\n",
    "print(f\"두 시퀀스의 순서 일치도: {similarity:.2f}\")\n"
   ]
  },
  {
   "cell_type": "code",
   "execution_count": null,
   "metadata": {},
   "outputs": [],
   "source": []
  }
 ],
 "metadata": {
  "kernelspec": {
   "display_name": "Python 3",
   "language": "python",
   "name": "python3"
  },
  "language_info": {
   "codemirror_mode": {
    "name": "ipython",
    "version": 3
   },
   "file_extension": ".py",
   "mimetype": "text/x-python",
   "name": "python",
   "nbconvert_exporter": "python",
   "pygments_lexer": "ipython3",
   "version": "3.10.10"
  }
 },
 "nbformat": 4,
 "nbformat_minor": 2
}
