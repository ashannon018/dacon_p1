{
 "cells": [
  {
   "cell_type": "code",
   "execution_count": 26,
   "metadata": {},
   "outputs": [],
   "source": [
    "import pandas as pd \n",
    "data = pd.read_csv('train.csv')\n",
    "df = data.copy()"
   ]
  },
  {
   "cell_type": "code",
   "execution_count": null,
   "metadata": {},
   "outputs": [],
   "source": [
    "import numpy as np\n",
    "\n",
    "\n",
    "df_target = df['SUBCLASS']\n",
    "df.drop(columns=['ID','SUBCLASS'], inplace=True)\n",
    "from sklearn.preprocessing import LabelEncoder\n",
    "encoder = LabelEncoder()\n",
    "for c in df.columns:\n",
    "    df[c] = encoder.fit_transform(df[c])\n",
    "\n",
    "df"
   ]
  },
  {
   "cell_type": "code",
   "execution_count": null,
   "metadata": {},
   "outputs": [],
   "source": [
    "df_test = pd.read_csv('test.csv')\n",
    "df_test.drop(columns='ID', inplace=True)\n",
    "\n",
    "for c in df_test.columns:\n",
    "    df_test[c] = encoder.transform(df_test[c])\n",
    "df_test"
   ]
  },
  {
   "cell_type": "code",
   "execution_count": null,
   "metadata": {},
   "outputs": [],
   "source": [
    "from sklearn.ensemble import RandomForestClassifier\n",
    "X = df\n",
    "y = df_target\n",
    "y\n"
   ]
  },
  {
   "cell_type": "code",
   "execution_count": null,
   "metadata": {},
   "outputs": [],
   "source": []
  },
  {
   "cell_type": "code",
   "execution_count": 31,
   "metadata": {},
   "outputs": [],
   "source": [
    "model = RandomForestClassifier(\n",
    "            n_estimators=50, ## 붓스트랩 샘플 개수 또는 base_estimator 개수\n",
    "            criterion='entropy', ## 불순도 측도\n",
    "            max_depth=5, ## 개별 나무의 최대 깊이\n",
    "            max_features='sqrt', ## 매 분리시 랜덤으로 뽑을 변수 개수\n",
    "            max_samples=1.0, ## 붓스트랩 샘플 비율 => 1이면 학습데이터를 모두 샘플링한다.\n",
    "            bootstrap=True, ## 복원 추출,  False이면 비복원 추출\n",
    "            oob_score=True, ## Out-of-bag 데이터를 이용한 성능 계산\n",
    "            random_state=100\n",
    ").fit(X,y)\n"
   ]
  },
  {
   "cell_type": "code",
   "execution_count": null,
   "metadata": {},
   "outputs": [],
   "source": [
    "## 예측\n",
    "print(model.predict(X)[:3]) \n",
    "print()\n"
   ]
  },
  {
   "cell_type": "code",
   "execution_count": null,
   "metadata": {},
   "outputs": [],
   "source": [
    "X[:3]"
   ]
  },
  {
   "cell_type": "code",
   "execution_count": null,
   "metadata": {},
   "outputs": [],
   "source": [
    "## 성능 평가\n",
    "print(model.oob_score_) ## Out-of-bag 성능 평가 점수\n",
    "print('정확도 : ', model.score(X,y)) ## 테스트 성능 평가 점수(Accuracy)\n",
    "print()\n",
    "## 변수 중요도\n",
    "print(model.feature_importances_)\n",
    "\n",
    "\n"
   ]
  },
  {
   "cell_type": "code",
   "execution_count": null,
   "metadata": {},
   "outputs": [],
   "source": [
    "res = model.predict(df_test)\n",
    "res"
   ]
  },
  {
   "cell_type": "code",
   "execution_count": null,
   "metadata": {},
   "outputs": [],
   "source": [
    "df_test1 = pd.read_csv('test.csv')\n",
    "res_df = pd.DataFrame ({'ID' : df_test1['ID'], 'SUBCLASS' : res})\n",
    "res_df\n",
    "\n"
   ]
  },
  {
   "cell_type": "code",
   "execution_count": 37,
   "metadata": {},
   "outputs": [],
   "source": [
    "res_df.to_csv('res02.csv',index = False)"
   ]
  },
  {
   "cell_type": "code",
   "execution_count": null,
   "metadata": {},
   "outputs": [],
   "source": [
    "df['SUBCLASS'].value_counts()"
   ]
  },
  {
   "cell_type": "code",
   "execution_count": null,
   "metadata": {},
   "outputs": [],
   "source": [
    "len(df['SUBCLASS'].unique())"
   ]
  },
  {
   "cell_type": "code",
   "execution_count": null,
   "metadata": {},
   "outputs": [],
   "source": [
    "df[df.SUBCLASS == 'BRCA'].sum().sort_values(ascending=False).str.replace('WT','')"
   ]
  },
  {
   "cell_type": "code",
   "execution_count": null,
   "metadata": {},
   "outputs": [],
   "source": [
    "df[df['SUBCLASS']=='DLBC']"
   ]
  },
  {
   "cell_type": "code",
   "execution_count": null,
   "metadata": {},
   "outputs": [],
   "source": [
    "import numpy as np \n",
    "dfs = df[df['SUBCLASS']=='DLBC']\n",
    "dfs.columns"
   ]
  },
  {
   "cell_type": "code",
   "execution_count": null,
   "metadata": {},
   "outputs": [],
   "source": [
    "for c in dfs.columns:\n",
    "    dfs[c] = np.where(dfs[c] == 'WT', 0, 1)\n",
    "dfs\n",
    "\n",
    "    "
   ]
  },
  {
   "cell_type": "code",
   "execution_count": null,
   "metadata": {},
   "outputs": [],
   "source": [
    "dfs = df[df['SUBCLASS']=='DLBC']\n",
    "dfs.apply(lambda x: x(if x=='WT' else x=1))"
   ]
  },
  {
   "cell_type": "code",
   "execution_count": null,
   "metadata": {},
   "outputs": [],
   "source": [
    "genes = []\n",
    "for disease in df[\"SUBCLASS\"].unique():\n",
    "    disease_df = df[df[\"SUBCLASS\"] == disease]\n",
    "\n",
    "    non_wt_counts = (disease_df != 'WT').sum()  # \"WT\"가 아닌 행 개수\n",
    "    non_wt_counts_sorted = non_wt_counts.sort_values(ascending=False) #빈도 수가 높은 순서대로 정렬\n",
    "\n",
    "    n = 10 # 추출한 상위 유전자 개수\n",
    "    genes.extend(list(non_wt_counts_sorted[2:2+n].index))\n",
    "\n",
    "    print(f'{disease} - 전체 행의 개수 : {len(disease_df)}')\n",
    "    print(non_wt_counts_sorted[2:10])\n",
    "    print()"
   ]
  },
  {
   "cell_type": "code",
   "execution_count": null,
   "metadata": {},
   "outputs": [],
   "source": [
    "for  x in df.iloc[0]:\n",
    "    if x != 'WT': print(x)\n"
   ]
  },
  {
   "cell_type": "code",
   "execution_count": null,
   "metadata": {},
   "outputs": [],
   "source": []
  },
  {
   "cell_type": "code",
   "execution_count": null,
   "metadata": {},
   "outputs": [],
   "source": [
    "len(df_test.columns)"
   ]
  },
  {
   "cell_type": "code",
   "execution_count": null,
   "metadata": {},
   "outputs": [],
   "source": [
    "len(df_test)"
   ]
  },
  {
   "cell_type": "code",
   "execution_count": null,
   "metadata": {},
   "outputs": [],
   "source": [
    "df.colu"
   ]
  }
 ],
 "metadata": {
  "kernelspec": {
   "display_name": "Python 3",
   "language": "python",
   "name": "python3"
  },
  "language_info": {
   "codemirror_mode": {
    "name": "ipython",
    "version": 3
   },
   "file_extension": ".py",
   "mimetype": "text/x-python",
   "name": "python",
   "nbconvert_exporter": "python",
   "pygments_lexer": "ipython3",
   "version": "3.10.10"
  }
 },
 "nbformat": 4,
 "nbformat_minor": 2
}
