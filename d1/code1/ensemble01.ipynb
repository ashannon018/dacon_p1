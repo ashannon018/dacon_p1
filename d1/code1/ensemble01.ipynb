{
 "cells": [
  {
   "cell_type": "code",
   "execution_count": 967,
   "metadata": {},
   "outputs": [],
   "source": []
  },
  {
   "cell_type": "code",
   "execution_count": 12,
   "metadata": {},
   "outputs": [],
   "source": [
    "#cdf =dd.groupby('SUBCLASS').sum().reset_index()\n",
    "#cdf"
   ]
  },
  {
   "cell_type": "code",
   "execution_count": 19,
   "metadata": {},
   "outputs": [
    {
     "data": {
      "text/html": [
       "<div>\n",
       "<style scoped>\n",
       "    .dataframe tbody tr th:only-of-type {\n",
       "        vertical-align: middle;\n",
       "    }\n",
       "\n",
       "    .dataframe tbody tr th {\n",
       "        vertical-align: top;\n",
       "    }\n",
       "\n",
       "    .dataframe thead th {\n",
       "        text-align: right;\n",
       "    }\n",
       "</style>\n",
       "<table border=\"1\" class=\"dataframe\">\n",
       "  <thead>\n",
       "    <tr style=\"text-align: right;\">\n",
       "      <th></th>\n",
       "      <th>Count</th>\n",
       "      <th>Percentage</th>\n",
       "    </tr>\n",
       "    <tr>\n",
       "      <th>SUBCLASS</th>\n",
       "      <th></th>\n",
       "      <th></th>\n",
       "    </tr>\n",
       "  </thead>\n",
       "  <tbody>\n",
       "    <tr>\n",
       "      <th>BRCA</th>\n",
       "      <td>786</td>\n",
       "      <td>12.675375</td>\n",
       "    </tr>\n",
       "    <tr>\n",
       "      <th>KIPAN</th>\n",
       "      <td>515</td>\n",
       "      <td>8.305112</td>\n",
       "    </tr>\n",
       "    <tr>\n",
       "      <th>GBMLGG</th>\n",
       "      <td>461</td>\n",
       "      <td>7.434285</td>\n",
       "    </tr>\n",
       "    <tr>\n",
       "      <th>STES</th>\n",
       "      <td>379</td>\n",
       "      <td>6.111917</td>\n",
       "    </tr>\n",
       "    <tr>\n",
       "      <th>KIRC</th>\n",
       "      <td>334</td>\n",
       "      <td>5.386228</td>\n",
       "    </tr>\n",
       "    <tr>\n",
       "      <th>THCA</th>\n",
       "      <td>324</td>\n",
       "      <td>5.224964</td>\n",
       "    </tr>\n",
       "    <tr>\n",
       "      <th>SKCM</th>\n",
       "      <td>276</td>\n",
       "      <td>4.450895</td>\n",
       "    </tr>\n",
       "    <tr>\n",
       "      <th>PRAD</th>\n",
       "      <td>266</td>\n",
       "      <td>4.289631</td>\n",
       "    </tr>\n",
       "    <tr>\n",
       "      <th>OV</th>\n",
       "      <td>253</td>\n",
       "      <td>4.079987</td>\n",
       "    </tr>\n",
       "    <tr>\n",
       "      <th>LGG</th>\n",
       "      <td>229</td>\n",
       "      <td>3.692953</td>\n",
       "    </tr>\n",
       "    <tr>\n",
       "      <th>HNSC</th>\n",
       "      <td>223</td>\n",
       "      <td>3.596194</td>\n",
       "    </tr>\n",
       "    <tr>\n",
       "      <th>COAD</th>\n",
       "      <td>223</td>\n",
       "      <td>3.596194</td>\n",
       "    </tr>\n",
       "    <tr>\n",
       "      <th>UCEC</th>\n",
       "      <td>198</td>\n",
       "      <td>3.193033</td>\n",
       "    </tr>\n",
       "    <tr>\n",
       "      <th>SARC</th>\n",
       "      <td>198</td>\n",
       "      <td>3.193033</td>\n",
       "    </tr>\n",
       "    <tr>\n",
       "      <th>LUAD</th>\n",
       "      <td>184</td>\n",
       "      <td>2.967263</td>\n",
       "    </tr>\n",
       "    <tr>\n",
       "      <th>LUSC</th>\n",
       "      <td>178</td>\n",
       "      <td>2.870505</td>\n",
       "    </tr>\n",
       "    <tr>\n",
       "      <th>LIHC</th>\n",
       "      <td>158</td>\n",
       "      <td>2.547976</td>\n",
       "    </tr>\n",
       "    <tr>\n",
       "      <th>LAML</th>\n",
       "      <td>158</td>\n",
       "      <td>2.547976</td>\n",
       "    </tr>\n",
       "    <tr>\n",
       "      <th>CESC</th>\n",
       "      <td>155</td>\n",
       "      <td>2.499597</td>\n",
       "    </tr>\n",
       "    <tr>\n",
       "      <th>PCPG</th>\n",
       "      <td>147</td>\n",
       "      <td>2.370585</td>\n",
       "    </tr>\n",
       "    <tr>\n",
       "      <th>TGCT</th>\n",
       "      <td>124</td>\n",
       "      <td>1.999677</td>\n",
       "    </tr>\n",
       "    <tr>\n",
       "      <th>PAAD</th>\n",
       "      <td>120</td>\n",
       "      <td>1.935172</td>\n",
       "    </tr>\n",
       "    <tr>\n",
       "      <th>BLCA</th>\n",
       "      <td>104</td>\n",
       "      <td>1.677149</td>\n",
       "    </tr>\n",
       "    <tr>\n",
       "      <th>THYM</th>\n",
       "      <td>98</td>\n",
       "      <td>1.580390</td>\n",
       "    </tr>\n",
       "    <tr>\n",
       "      <th>ACC</th>\n",
       "      <td>72</td>\n",
       "      <td>1.161103</td>\n",
       "    </tr>\n",
       "    <tr>\n",
       "      <th>DLBC</th>\n",
       "      <td>38</td>\n",
       "      <td>0.612804</td>\n",
       "    </tr>\n",
       "  </tbody>\n",
       "</table>\n",
       "</div>"
      ],
      "text/plain": [
       "          Count  Percentage\n",
       "SUBCLASS                   \n",
       "BRCA        786   12.675375\n",
       "KIPAN       515    8.305112\n",
       "GBMLGG      461    7.434285\n",
       "STES        379    6.111917\n",
       "KIRC        334    5.386228\n",
       "THCA        324    5.224964\n",
       "SKCM        276    4.450895\n",
       "PRAD        266    4.289631\n",
       "OV          253    4.079987\n",
       "LGG         229    3.692953\n",
       "HNSC        223    3.596194\n",
       "COAD        223    3.596194\n",
       "UCEC        198    3.193033\n",
       "SARC        198    3.193033\n",
       "LUAD        184    2.967263\n",
       "LUSC        178    2.870505\n",
       "LIHC        158    2.547976\n",
       "LAML        158    2.547976\n",
       "CESC        155    2.499597\n",
       "PCPG        147    2.370585\n",
       "TGCT        124    1.999677\n",
       "PAAD        120    1.935172\n",
       "BLCA        104    1.677149\n",
       "THYM         98    1.580390\n",
       "ACC          72    1.161103\n",
       "DLBC         38    0.612804"
      ]
     },
     "execution_count": 19,
     "metadata": {},
     "output_type": "execute_result"
    }
   ],
   "source": [
    "#data = pd.read_csv('../input/train.csv')\n",
    "\n",
    "# SUBCLASS별로 행의 개수와 비율 계산\n",
    "#subclass_counts = data['SUBCLASS'].value_counts()\n",
    "#subclass_percentages = (subclass_counts / len(data)) * 100\n",
    "\n",
    "# SUBCLASS별로 행 개수와 비율을 DataFrame으로 정리\n",
    "#subclass_distribution = pd.DataFrame({\n",
    "#    'Count': subclass_counts,\n",
    "#    'Percentage': subclass_percentages\n",
    "#})\n",
    "#subclass_distribution"
   ]
  },
  {
   "cell_type": "code",
   "execution_count": 968,
   "metadata": {},
   "outputs": [
    {
     "data": {
      "text/html": [
       "<div>\n",
       "<style scoped>\n",
       "    .dataframe tbody tr th:only-of-type {\n",
       "        vertical-align: middle;\n",
       "    }\n",
       "\n",
       "    .dataframe tbody tr th {\n",
       "        vertical-align: top;\n",
       "    }\n",
       "\n",
       "    .dataframe thead th {\n",
       "        text-align: right;\n",
       "    }\n",
       "</style>\n",
       "<table border=\"1\" class=\"dataframe\">\n",
       "  <thead>\n",
       "    <tr style=\"text-align: right;\">\n",
       "      <th></th>\n",
       "      <th>SUBCLASS</th>\n",
       "      <th>A2M</th>\n",
       "      <th>AAAS</th>\n",
       "      <th>AADAT</th>\n",
       "      <th>AARS1</th>\n",
       "      <th>ABAT</th>\n",
       "      <th>ABCA1</th>\n",
       "      <th>ABCA2</th>\n",
       "      <th>ABCA3</th>\n",
       "      <th>ABCA4</th>\n",
       "      <th>...</th>\n",
       "      <th>ZNF292</th>\n",
       "      <th>ZNF365</th>\n",
       "      <th>ZNF639</th>\n",
       "      <th>ZNF707</th>\n",
       "      <th>ZNFX1</th>\n",
       "      <th>ZNRF4</th>\n",
       "      <th>ZPBP</th>\n",
       "      <th>ZW10</th>\n",
       "      <th>ZWINT</th>\n",
       "      <th>ZYX</th>\n",
       "    </tr>\n",
       "  </thead>\n",
       "  <tbody>\n",
       "    <tr>\n",
       "      <th>0</th>\n",
       "      <td>KIPAN</td>\n",
       "      <td>WT</td>\n",
       "      <td>WT</td>\n",
       "      <td>WT</td>\n",
       "      <td>WT</td>\n",
       "      <td>WT</td>\n",
       "      <td>WT</td>\n",
       "      <td>WT</td>\n",
       "      <td>WT</td>\n",
       "      <td>WT</td>\n",
       "      <td>...</td>\n",
       "      <td>WT</td>\n",
       "      <td>WT</td>\n",
       "      <td>WT</td>\n",
       "      <td>WT</td>\n",
       "      <td>WT</td>\n",
       "      <td>WT</td>\n",
       "      <td>WT</td>\n",
       "      <td>WT</td>\n",
       "      <td>WT</td>\n",
       "      <td>WT</td>\n",
       "    </tr>\n",
       "    <tr>\n",
       "      <th>1</th>\n",
       "      <td>SARC</td>\n",
       "      <td>WT</td>\n",
       "      <td>WT</td>\n",
       "      <td>WT</td>\n",
       "      <td>WT</td>\n",
       "      <td>WT</td>\n",
       "      <td>WT</td>\n",
       "      <td>WT</td>\n",
       "      <td>WT</td>\n",
       "      <td>WT</td>\n",
       "      <td>...</td>\n",
       "      <td>WT</td>\n",
       "      <td>WT</td>\n",
       "      <td>WT</td>\n",
       "      <td>WT</td>\n",
       "      <td>WT</td>\n",
       "      <td>WT</td>\n",
       "      <td>WT</td>\n",
       "      <td>WT</td>\n",
       "      <td>WT</td>\n",
       "      <td>WT</td>\n",
       "    </tr>\n",
       "    <tr>\n",
       "      <th>2</th>\n",
       "      <td>SKCM</td>\n",
       "      <td>R895R</td>\n",
       "      <td>WT</td>\n",
       "      <td>WT</td>\n",
       "      <td>WT</td>\n",
       "      <td>WT</td>\n",
       "      <td>WT</td>\n",
       "      <td>WT</td>\n",
       "      <td>WT</td>\n",
       "      <td>WT</td>\n",
       "      <td>...</td>\n",
       "      <td>WT</td>\n",
       "      <td>WT</td>\n",
       "      <td>WT</td>\n",
       "      <td>WT</td>\n",
       "      <td>WT</td>\n",
       "      <td>WT</td>\n",
       "      <td>WT</td>\n",
       "      <td>WT</td>\n",
       "      <td>WT</td>\n",
       "      <td>WT</td>\n",
       "    </tr>\n",
       "    <tr>\n",
       "      <th>3</th>\n",
       "      <td>KIRC</td>\n",
       "      <td>WT</td>\n",
       "      <td>WT</td>\n",
       "      <td>WT</td>\n",
       "      <td>WT</td>\n",
       "      <td>WT</td>\n",
       "      <td>WT</td>\n",
       "      <td>WT</td>\n",
       "      <td>WT</td>\n",
       "      <td>WT</td>\n",
       "      <td>...</td>\n",
       "      <td>WT</td>\n",
       "      <td>WT</td>\n",
       "      <td>WT</td>\n",
       "      <td>WT</td>\n",
       "      <td>WT</td>\n",
       "      <td>WT</td>\n",
       "      <td>WT</td>\n",
       "      <td>WT</td>\n",
       "      <td>WT</td>\n",
       "      <td>WT</td>\n",
       "    </tr>\n",
       "    <tr>\n",
       "      <th>4</th>\n",
       "      <td>GBMLGG</td>\n",
       "      <td>WT</td>\n",
       "      <td>WT</td>\n",
       "      <td>WT</td>\n",
       "      <td>WT</td>\n",
       "      <td>WT</td>\n",
       "      <td>WT</td>\n",
       "      <td>WT</td>\n",
       "      <td>WT</td>\n",
       "      <td>WT</td>\n",
       "      <td>...</td>\n",
       "      <td>WT</td>\n",
       "      <td>WT</td>\n",
       "      <td>WT</td>\n",
       "      <td>WT</td>\n",
       "      <td>WT</td>\n",
       "      <td>WT</td>\n",
       "      <td>WT</td>\n",
       "      <td>WT</td>\n",
       "      <td>WT</td>\n",
       "      <td>WT</td>\n",
       "    </tr>\n",
       "    <tr>\n",
       "      <th>...</th>\n",
       "      <td>...</td>\n",
       "      <td>...</td>\n",
       "      <td>...</td>\n",
       "      <td>...</td>\n",
       "      <td>...</td>\n",
       "      <td>...</td>\n",
       "      <td>...</td>\n",
       "      <td>...</td>\n",
       "      <td>...</td>\n",
       "      <td>...</td>\n",
       "      <td>...</td>\n",
       "      <td>...</td>\n",
       "      <td>...</td>\n",
       "      <td>...</td>\n",
       "      <td>...</td>\n",
       "      <td>...</td>\n",
       "      <td>...</td>\n",
       "      <td>...</td>\n",
       "      <td>...</td>\n",
       "      <td>...</td>\n",
       "      <td>...</td>\n",
       "    </tr>\n",
       "    <tr>\n",
       "      <th>6196</th>\n",
       "      <td>LUAD</td>\n",
       "      <td>WT</td>\n",
       "      <td>WT</td>\n",
       "      <td>WT</td>\n",
       "      <td>WT</td>\n",
       "      <td>WT</td>\n",
       "      <td>WT</td>\n",
       "      <td>WT</td>\n",
       "      <td>WT</td>\n",
       "      <td>WT</td>\n",
       "      <td>...</td>\n",
       "      <td>WT</td>\n",
       "      <td>WT</td>\n",
       "      <td>WT</td>\n",
       "      <td>WT</td>\n",
       "      <td>WT</td>\n",
       "      <td>WT</td>\n",
       "      <td>WT</td>\n",
       "      <td>WT</td>\n",
       "      <td>WT</td>\n",
       "      <td>WT</td>\n",
       "    </tr>\n",
       "    <tr>\n",
       "      <th>6197</th>\n",
       "      <td>LGG</td>\n",
       "      <td>WT</td>\n",
       "      <td>WT</td>\n",
       "      <td>WT</td>\n",
       "      <td>WT</td>\n",
       "      <td>WT</td>\n",
       "      <td>WT</td>\n",
       "      <td>WT</td>\n",
       "      <td>WT</td>\n",
       "      <td>WT</td>\n",
       "      <td>...</td>\n",
       "      <td>WT</td>\n",
       "      <td>WT</td>\n",
       "      <td>WT</td>\n",
       "      <td>WT</td>\n",
       "      <td>WT</td>\n",
       "      <td>WT</td>\n",
       "      <td>WT</td>\n",
       "      <td>WT</td>\n",
       "      <td>WT</td>\n",
       "      <td>WT</td>\n",
       "    </tr>\n",
       "    <tr>\n",
       "      <th>6198</th>\n",
       "      <td>COAD</td>\n",
       "      <td>WT</td>\n",
       "      <td>WT</td>\n",
       "      <td>WT</td>\n",
       "      <td>WT</td>\n",
       "      <td>WT</td>\n",
       "      <td>WT</td>\n",
       "      <td>WT</td>\n",
       "      <td>WT</td>\n",
       "      <td>WT</td>\n",
       "      <td>...</td>\n",
       "      <td>WT</td>\n",
       "      <td>WT</td>\n",
       "      <td>WT</td>\n",
       "      <td>WT</td>\n",
       "      <td>WT</td>\n",
       "      <td>WT</td>\n",
       "      <td>WT</td>\n",
       "      <td>WT</td>\n",
       "      <td>T181S</td>\n",
       "      <td>WT</td>\n",
       "    </tr>\n",
       "    <tr>\n",
       "      <th>6199</th>\n",
       "      <td>TGCT</td>\n",
       "      <td>WT</td>\n",
       "      <td>WT</td>\n",
       "      <td>WT</td>\n",
       "      <td>WT</td>\n",
       "      <td>WT</td>\n",
       "      <td>WT</td>\n",
       "      <td>WT</td>\n",
       "      <td>WT</td>\n",
       "      <td>WT</td>\n",
       "      <td>...</td>\n",
       "      <td>WT</td>\n",
       "      <td>WT</td>\n",
       "      <td>WT</td>\n",
       "      <td>WT</td>\n",
       "      <td>WT</td>\n",
       "      <td>WT</td>\n",
       "      <td>WT</td>\n",
       "      <td>WT</td>\n",
       "      <td>WT</td>\n",
       "      <td>WT</td>\n",
       "    </tr>\n",
       "    <tr>\n",
       "      <th>6200</th>\n",
       "      <td>SKCM</td>\n",
       "      <td>WT</td>\n",
       "      <td>WT</td>\n",
       "      <td>WT</td>\n",
       "      <td>WT</td>\n",
       "      <td>WT</td>\n",
       "      <td>WT</td>\n",
       "      <td>WT</td>\n",
       "      <td>WT</td>\n",
       "      <td>WT</td>\n",
       "      <td>...</td>\n",
       "      <td>WT</td>\n",
       "      <td>WT</td>\n",
       "      <td>WT</td>\n",
       "      <td>WT</td>\n",
       "      <td>WT</td>\n",
       "      <td>WT</td>\n",
       "      <td>WT</td>\n",
       "      <td>WT</td>\n",
       "      <td>WT</td>\n",
       "      <td>WT</td>\n",
       "    </tr>\n",
       "  </tbody>\n",
       "</table>\n",
       "<p>6201 rows × 4385 columns</p>\n",
       "</div>"
      ],
      "text/plain": [
       "     SUBCLASS    A2M AAAS AADAT AARS1 ABAT ABCA1 ABCA2 ABCA3 ABCA4  ...  \\\n",
       "0       KIPAN     WT   WT    WT    WT   WT    WT    WT    WT    WT  ...   \n",
       "1        SARC     WT   WT    WT    WT   WT    WT    WT    WT    WT  ...   \n",
       "2        SKCM  R895R   WT    WT    WT   WT    WT    WT    WT    WT  ...   \n",
       "3        KIRC     WT   WT    WT    WT   WT    WT    WT    WT    WT  ...   \n",
       "4      GBMLGG     WT   WT    WT    WT   WT    WT    WT    WT    WT  ...   \n",
       "...       ...    ...  ...   ...   ...  ...   ...   ...   ...   ...  ...   \n",
       "6196     LUAD     WT   WT    WT    WT   WT    WT    WT    WT    WT  ...   \n",
       "6197      LGG     WT   WT    WT    WT   WT    WT    WT    WT    WT  ...   \n",
       "6198     COAD     WT   WT    WT    WT   WT    WT    WT    WT    WT  ...   \n",
       "6199     TGCT     WT   WT    WT    WT   WT    WT    WT    WT    WT  ...   \n",
       "6200     SKCM     WT   WT    WT    WT   WT    WT    WT    WT    WT  ...   \n",
       "\n",
       "     ZNF292 ZNF365 ZNF639 ZNF707 ZNFX1 ZNRF4 ZPBP ZW10  ZWINT ZYX  \n",
       "0        WT     WT     WT     WT    WT    WT   WT   WT     WT  WT  \n",
       "1        WT     WT     WT     WT    WT    WT   WT   WT     WT  WT  \n",
       "2        WT     WT     WT     WT    WT    WT   WT   WT     WT  WT  \n",
       "3        WT     WT     WT     WT    WT    WT   WT   WT     WT  WT  \n",
       "4        WT     WT     WT     WT    WT    WT   WT   WT     WT  WT  \n",
       "...     ...    ...    ...    ...   ...   ...  ...  ...    ...  ..  \n",
       "6196     WT     WT     WT     WT    WT    WT   WT   WT     WT  WT  \n",
       "6197     WT     WT     WT     WT    WT    WT   WT   WT     WT  WT  \n",
       "6198     WT     WT     WT     WT    WT    WT   WT   WT  T181S  WT  \n",
       "6199     WT     WT     WT     WT    WT    WT   WT   WT     WT  WT  \n",
       "6200     WT     WT     WT     WT    WT    WT   WT   WT     WT  WT  \n",
       "\n",
       "[6201 rows x 4385 columns]"
      ]
     },
     "execution_count": 968,
     "metadata": {},
     "output_type": "execute_result"
    }
   ],
   "source": [
    "import pandas as pd\n",
    "import matplotlib.pyplot as plt\n",
    "import seaborn as sns\n",
    "\n",
    "data = pd.read_csv('../input/train.csv')\n",
    "data.drop('ID',axis=1, inplace=True)\n",
    "data"
   ]
  },
  {
   "cell_type": "code",
   "execution_count": 969,
   "metadata": {},
   "outputs": [
    {
     "data": {
      "text/html": [
       "<div>\n",
       "<style scoped>\n",
       "    .dataframe tbody tr th:only-of-type {\n",
       "        vertical-align: middle;\n",
       "    }\n",
       "\n",
       "    .dataframe tbody tr th {\n",
       "        vertical-align: top;\n",
       "    }\n",
       "\n",
       "    .dataframe thead th {\n",
       "        text-align: right;\n",
       "    }\n",
       "</style>\n",
       "<table border=\"1\" class=\"dataframe\">\n",
       "  <thead>\n",
       "    <tr style=\"text-align: right;\">\n",
       "      <th></th>\n",
       "      <th>disease</th>\n",
       "      <th>counts</th>\n",
       "    </tr>\n",
       "  </thead>\n",
       "  <tbody>\n",
       "    <tr>\n",
       "      <th>0</th>\n",
       "      <td>BRCA</td>\n",
       "      <td>786</td>\n",
       "    </tr>\n",
       "    <tr>\n",
       "      <th>1</th>\n",
       "      <td>KIPAN</td>\n",
       "      <td>515</td>\n",
       "    </tr>\n",
       "    <tr>\n",
       "      <th>2</th>\n",
       "      <td>GBMLGG</td>\n",
       "      <td>461</td>\n",
       "    </tr>\n",
       "    <tr>\n",
       "      <th>3</th>\n",
       "      <td>STES</td>\n",
       "      <td>379</td>\n",
       "    </tr>\n",
       "    <tr>\n",
       "      <th>4</th>\n",
       "      <td>KIRC</td>\n",
       "      <td>334</td>\n",
       "    </tr>\n",
       "    <tr>\n",
       "      <th>5</th>\n",
       "      <td>THCA</td>\n",
       "      <td>324</td>\n",
       "    </tr>\n",
       "    <tr>\n",
       "      <th>6</th>\n",
       "      <td>SKCM</td>\n",
       "      <td>276</td>\n",
       "    </tr>\n",
       "    <tr>\n",
       "      <th>7</th>\n",
       "      <td>PRAD</td>\n",
       "      <td>266</td>\n",
       "    </tr>\n",
       "    <tr>\n",
       "      <th>8</th>\n",
       "      <td>OV</td>\n",
       "      <td>253</td>\n",
       "    </tr>\n",
       "    <tr>\n",
       "      <th>9</th>\n",
       "      <td>LGG</td>\n",
       "      <td>229</td>\n",
       "    </tr>\n",
       "    <tr>\n",
       "      <th>10</th>\n",
       "      <td>HNSC</td>\n",
       "      <td>223</td>\n",
       "    </tr>\n",
       "    <tr>\n",
       "      <th>11</th>\n",
       "      <td>COAD</td>\n",
       "      <td>223</td>\n",
       "    </tr>\n",
       "    <tr>\n",
       "      <th>12</th>\n",
       "      <td>UCEC</td>\n",
       "      <td>198</td>\n",
       "    </tr>\n",
       "    <tr>\n",
       "      <th>13</th>\n",
       "      <td>SARC</td>\n",
       "      <td>198</td>\n",
       "    </tr>\n",
       "    <tr>\n",
       "      <th>14</th>\n",
       "      <td>LUAD</td>\n",
       "      <td>184</td>\n",
       "    </tr>\n",
       "    <tr>\n",
       "      <th>15</th>\n",
       "      <td>LUSC</td>\n",
       "      <td>178</td>\n",
       "    </tr>\n",
       "    <tr>\n",
       "      <th>16</th>\n",
       "      <td>LIHC</td>\n",
       "      <td>158</td>\n",
       "    </tr>\n",
       "    <tr>\n",
       "      <th>17</th>\n",
       "      <td>LAML</td>\n",
       "      <td>158</td>\n",
       "    </tr>\n",
       "    <tr>\n",
       "      <th>18</th>\n",
       "      <td>CESC</td>\n",
       "      <td>155</td>\n",
       "    </tr>\n",
       "    <tr>\n",
       "      <th>19</th>\n",
       "      <td>PCPG</td>\n",
       "      <td>147</td>\n",
       "    </tr>\n",
       "    <tr>\n",
       "      <th>20</th>\n",
       "      <td>TGCT</td>\n",
       "      <td>124</td>\n",
       "    </tr>\n",
       "    <tr>\n",
       "      <th>21</th>\n",
       "      <td>PAAD</td>\n",
       "      <td>120</td>\n",
       "    </tr>\n",
       "    <tr>\n",
       "      <th>22</th>\n",
       "      <td>BLCA</td>\n",
       "      <td>104</td>\n",
       "    </tr>\n",
       "    <tr>\n",
       "      <th>23</th>\n",
       "      <td>THYM</td>\n",
       "      <td>98</td>\n",
       "    </tr>\n",
       "    <tr>\n",
       "      <th>24</th>\n",
       "      <td>ACC</td>\n",
       "      <td>72</td>\n",
       "    </tr>\n",
       "    <tr>\n",
       "      <th>25</th>\n",
       "      <td>DLBC</td>\n",
       "      <td>38</td>\n",
       "    </tr>\n",
       "  </tbody>\n",
       "</table>\n",
       "</div>"
      ],
      "text/plain": [
       "   disease  counts\n",
       "0     BRCA     786\n",
       "1    KIPAN     515\n",
       "2   GBMLGG     461\n",
       "3     STES     379\n",
       "4     KIRC     334\n",
       "5     THCA     324\n",
       "6     SKCM     276\n",
       "7     PRAD     266\n",
       "8       OV     253\n",
       "9      LGG     229\n",
       "10    HNSC     223\n",
       "11    COAD     223\n",
       "12    UCEC     198\n",
       "13    SARC     198\n",
       "14    LUAD     184\n",
       "15    LUSC     178\n",
       "16    LIHC     158\n",
       "17    LAML     158\n",
       "18    CESC     155\n",
       "19    PCPG     147\n",
       "20    TGCT     124\n",
       "21    PAAD     120\n",
       "22    BLCA     104\n",
       "23    THYM      98\n",
       "24     ACC      72\n",
       "25    DLBC      38"
      ]
     },
     "execution_count": 969,
     "metadata": {},
     "output_type": "execute_result"
    }
   ],
   "source": [
    "diseaseList = data.SUBCLASS.value_counts().rename_axis('disease').reset_index(name='counts')\n",
    "diseaseList"
   ]
  },
  {
   "cell_type": "code",
   "execution_count": 971,
   "metadata": {},
   "outputs": [],
   "source": [
    "def drawing_class_dist(disease, top=0, base=0):\n",
    "    df_ = data.copy()\n",
    "    count_df = df_[df_.SUBCLASS==disease].apply(lambda x : x!='WT').agg(sum)\n",
    "    count_df = count_df[2:].reset_index(name='count')        \n",
    "    #num_transaction = diseaseList[diseaseList.disease == disease]['counts'].values[0]\n",
    "    cdf_sub = count_df[count_df['count']>base]\n",
    "\n",
    "    print(cdf_sub.sort_values(by='count', ascending=False))\n",
    "    cdf_sub.plot()\n",
    "    #sdf = cdf_sub.sort_values(by='count', ascending=False)[top:]"
   ]
  },
  {
   "cell_type": "code",
   "execution_count": 972,
   "metadata": {},
   "outputs": [
    {
     "name": "stdout",
     "output_type": "stream",
     "text": [
      "       index  count\n",
      "3017    PLEC     38\n",
      "2243   LRIG1     25\n",
      "3770  SOWAHC     24\n",
      "845    CMPK2     20\n",
      "2647   NFKB2     18\n",
      "...      ...    ...\n",
      "18     ABCB9      1\n",
      "19     ABCC1      1\n",
      "22     ABCC4      1\n",
      "24     ABCC8      1\n",
      "25     ABCD1      1\n",
      "\n",
      "[1580 rows x 2 columns]\n"
     ]
    },
    {
     "data": {
      "image/png": "[encoded data removed]",
      "text/plain": [
       "<Figure size 640x480 with 1 Axes>"
      ]
     },
     "metadata": {},
     "output_type": "display_data"
    }
   ],
   "source": [
    "#drawing_class_dist('ACC', 0, 0)"
   ]
  },
  {
   "cell_type": "code",
   "execution_count": null,
   "metadata": {},
   "outputs": [],
   "source": [
    "import pandas as pd\n",
    "import warnings\n",
    "warnings.filterwarnings('ignore')\n",
    "\n",
    "from sklearn.preprocessing import LabelEncoder\n",
    "from sklearn.model_selection import train_test_split\n",
    "import xgboost as xgb \n",
    "from xgboost import XGBClassifier, plot_importance\n",
    "from itertools import combinations\n",
    "\n",
    "# 로지스틱 회귀 모델 학습\n",
    "from sklearn.linear_model import LogisticRegression\n",
    "from sklearn.metrics import accuracy_score, confusion_matrix, classification_report\n"
   ]
  },
  {
   "cell_type": "code",
   "execution_count": null,
   "metadata": {},
   "outputs": [],
   "source": [
    "command_r('BRCA', 0, 3, 'rf', 0.80)\n",
    "command_r('KIPAN', 0, 1, 'logi', 0.63)\n",
    "command_r('GBMLGG', 0, 0, 'logi', 0.62)\n",
    "command_r('STES', 0, 0, 'logi', 0.81) #0.73\n",
    "command_r('KIRC', 0, 0, 'rf', 0.74) # 0.4\n",
    "command_r('THCA', 0, 0, 'rf', 0.83)#0.73\n",
    "command_r('SKCM', 0, 5, 'rf', 0.88) #87 \n",
    "command_r('PRAD', 0, 0, 'rf', 0.71)\n",
    "command_r('OV', 1, 0, 'rf', 0.65)#0.63 (1,0) 0.63\n",
    "command_r('LGG', 2, 0, 'rf', 0.73) #2,0  0.7\n",
    "command_r('HNSC', 2, 1, 'rf', 0.739)#1,0 0.74 / 0,0 0.75\n",
    "command_r('COAD', 0, 2, 'rf', 0.85)#0,0 0.9/\n",
    "command_r('UCEC', 0, 2, 'rf', 0.7169)#0.729\n",
    "command_r('SARC', 0, 2, 'rf', 0.716)#0.729\n",
    "command_r('LUAD', 0, 2, 'rf', 0.71)\n",
    "command_r('LUSC', 0, 2, 'rf', 0.735)\n",
    "command_r('LIHC', 0, 1, 'rf', 0.70) #0,2 0.69\n",
    "command_r('LAML', 0, 0, 'rf', 0.68)\n",
    "command_r('CESC', 0, 2, 'rf', 0.72) #0.716\n",
    "command_r('PCPG', 0, 0, 'rf', 0.72)\n",
    "command_r('TGCT', 0, 0, 'rf', 0.69)\n",
    "command_r('PAAD', 0, 1, 'rf', 0.758)\n",
    "command_r('BLCA', 0, 0, 'rf', 0.67)\n",
    "command_r('THYM', 0, 0, 'rf', 0.5)\n",
    "command_r('ACC', 0, 1, 'rf', 0.875) #0,0 0.9\n",
    "command_r('DLBC', 0, 0, 'rf', 0.65)"
   ]
  },
  {
   "cell_type": "code",
   "execution_count": 1002,
   "metadata": {},
   "outputs": [],
   "source": [
    "train_data =pd.read_csv('../input/train.csv')\n",
    "test_data = pd.read_csv('../input/test.csv')"
   ]
  },
  {
   "cell_type": "code",
   "execution_count": 973,
   "metadata": {},
   "outputs": [],
   "source": [
    "def get_genes(disease, top=0, base=0):\n",
    "    print(disease)\n",
    "    df_= data.copy()\n",
    "    count_df = df_[df_.SUBCLASS==disease].apply(lambda x : x!='WT').agg(sum)\n",
    "    count_df = count_df[2:].reset_index(name='count')\n",
    "    cdf_sub = count_df[count_df['count']>base]\n",
    "    #print(cdf_sub.sort_values(by='count', ascending=False))\n",
    "    sdf = cdf_sub.sort_values(by='count', ascending=False)[top:]\n",
    "    return list(sdf['index'].values)  "
   ]
  },
  {
   "cell_type": "code",
   "execution_count": 974,
   "metadata": {},
   "outputs": [],
   "source": [
    "def get_logi_classifier(X_train, y_train):\n",
    "    clf1 = LogisticRegression()\n",
    "    clf1.fit(X_train, y_train)\n",
    "\n",
    "    return clf1"
   ]
  },
  {
   "cell_type": "code",
   "execution_count": 975,
   "metadata": {},
   "outputs": [],
   "source": [
    "from sklearn.ensemble import RandomForestClassifier\n",
    "def get_rf_classifier(X_train, y_train):\n",
    "    clf = RandomForestClassifier(\n",
    "        n_estimators= 500,             # 트리의 개수 (너무 적으면 모델이 불안정하고, 너무 많으면 학습 시간이 오래 걸림)\n",
    "        max_features= 'sqrt',          # 각 트리에서 선택할 피처의 수 (sqrt는 약 63개 피처를 사용, 피처가 많을 때 좋은 기본값)\n",
    "        max_depth= None,               # 트리의 최대 깊이 (None이면 트리가 완전히 성장할 때까지 분할)\n",
    "        min_samples_split= 2,          # 노드를 분할하기 위한 최소 샘플 수 (default값)\n",
    "        min_samples_leaf= 1,           # 리프 노드에 있어야 하는 최소 샘플 수 (default값)\n",
    "        bootstrap= True,               # 부트스트랩 샘플링을 사용할지 여부 (default는 True, 부트스트랩을 사용하면 트리 간의 다양성을 증가)\n",
    "        n_jobs= -1,                    # 가능한 모든 CPU 코어를 사용하여 학습 (병렬 처리)\n",
    "        random_state= 42,              # 재현성을 위해 랜덤 시드 설정\n",
    "        class_weight='balanced',      # 데이터 불균형일 경우 자동으로 가중치 조정\n",
    "        verbose=1                     # 학습 과정에서 출력 메시지 (진행 상황을 확인할 수 있음)\n",
    "        )\n",
    "    clf.fit(X_train, y_train)\n",
    "    #y_pred = clf.predict(X_test)\n",
    "    return clf"
   ]
  },
  {
   "cell_type": "code",
   "execution_count": 976,
   "metadata": {},
   "outputs": [
    {
     "name": "stdout",
     "output_type": "stream",
     "text": [
      "BRCA\n",
      "KIPAN\n",
      "GBMLGG\n",
      "STES\n",
      "KIRC\n",
      "THCA\n",
      "SKCM\n",
      "PRAD\n",
      "OV\n",
      "LGG\n",
      "HNSC\n",
      "COAD\n",
      "UCEC\n",
      "SARC\n",
      "LUAD\n",
      "LUSC\n",
      "LIHC\n",
      "LAML\n",
      "CESC\n",
      "PCPG\n",
      "TGCT\n",
      "PAAD\n",
      "BLCA\n",
      "THYM\n",
      "ACC\n",
      "DLBC\n"
     ]
    }
   ],
   "source": [
    "\n",
    "# 각 서브클래스별로 사용할 주요 컬럼 그룹을 정의\n",
    "#features_kipan = ['feature_1', 'feature_2', 'feature_3']  # KIPAN에 중요한 컬럼\n",
    "#features_gbmlgg = ['feature_4', 'feature_5']               # GBMLGG에 중요한 컬럼\n",
    "#features_brca = ['feature_6', 'feature_7']                 # BRCA에 중요한 컬럼\n",
    "\n",
    "f0 = get_genes('BRCA', 0, 3)\n",
    "f1 = get_genes('KIPAN', 0, 1)\n",
    "f2 = get_genes('GBMLGG', 0)\n",
    "f3 = get_genes('STES', 0, 0)\n",
    "f4 = get_genes('KIRC', 0, 0)\n",
    "f5 = get_genes('THCA', 0, 0)\n",
    "f6 = get_genes('SKCM', 0, 5)\n",
    "f7 = get_genes('PRAD', 0, 0)\n",
    "f8 = get_genes('OV', 1, 0)\n",
    "f9 = get_genes('LGG', 2, 0)\n",
    "f10 = get_genes('HNSC', 2, 1)\n",
    "f11 = get_genes('COAD', 0, 2)\n",
    "f12 = get_genes('UCEC', 0, 2)\n",
    "f13 = get_genes('SARC', 0, 2)\n",
    "f14 = get_genes('LUAD', 0, 2)\n",
    "f15 = get_genes('LUSC', 0, 2)\n",
    "f16 = get_genes('LIHC', 0, 1)\n",
    "f17 = get_genes('LAML', 0, 0)\n",
    "f18 = get_genes('CESC', 0, 2)\n",
    "f19 = get_genes('PCPG', 0, 0)\n",
    "f20 = get_genes('TGCT', 0, 0)\n",
    "f21 = get_genes('PAAD', 0, 1)\n",
    "f22 = get_genes('BLCA', 0, 0)\n",
    "f23 = get_genes('THYM', 0, 0)\n",
    "f24 = get_genes('ACC', 0, 1)\n",
    "f25 = get_genes('DLBC', 0, 0)"
   ]
  },
  {
   "cell_type": "code",
   "execution_count": 1076,
   "metadata": {},
   "outputs": [],
   "source": [
    "ref0 = pd.read_csv('../reference_data/BRCA.csv')\n",
    "fr0 = set(ref0['g.name']).intersection(set(f0))\n",
    "\n",
    "ref1= pd.read_csv('../reference_data/KIPAN.csv')\n",
    "fr1 = set(ref1['g.name']).intersection(set(f1))\n",
    "\n",
    "ref2  = pd.read_csv('../reference_data/GBMLGG.csv')\n",
    "fr2 = set(ref2['g.name']).intersection(set(f2))\n",
    "\n",
    "ref3  = pd.read_csv('../reference_data/STES.csv')\n",
    "fr3  = set(ref3['g.name']).intersection(set(f3))\n",
    "\n",
    "ref4  = pd.read_csv('../reference_data/KIRC.csv')\n",
    "fr4  = set(ref4['g.name']).intersection(set(f4))\n",
    "\n",
    "ref5  = pd.read_csv('../reference_data/THCA.csv')\n",
    "fr5 = set(ref5['g.name']).intersection(set(f5))\n",
    "\n",
    "ref6  = pd.read_csv('../reference_data/SKCM.csv')\n",
    "fr6 = set(ref6['g.name']).intersection(set(f6))\n",
    "\n",
    "ref7  = pd.read_csv('../reference_data/PRAD.csv')\n",
    "fr7  = set(ref7['g.name']).intersection(set(f7))\n"
   ]
  },
  {
   "cell_type": "code",
   "execution_count": 1077,
   "metadata": {},
   "outputs": [
    {
     "ename": "FileNotFoundError",
     "evalue": "[Errno 2] No such file or directory: '../reference_data/LUAD.csv'",
     "output_type": "error",
     "traceback": [
      "\u001b[0;31m---------------------------------------------------------------------------\u001b[0m",
      "\u001b[0;31mFileNotFoundError\u001b[0m                         Traceback (most recent call last)",
      "Cell \u001b[0;32mIn[1077], line 19\u001b[0m\n\u001b[1;32m     16\u001b[0m ref13  \u001b[38;5;241m=\u001b[39m pd\u001b[38;5;241m.\u001b[39mread_csv(\u001b[38;5;124m'\u001b[39m\u001b[38;5;124m../reference_data/SARC.csv\u001b[39m\u001b[38;5;124m'\u001b[39m)\n\u001b[1;32m     17\u001b[0m fr13 \u001b[38;5;241m=\u001b[39m \u001b[38;5;28mset\u001b[39m(ref13[\u001b[38;5;124m'\u001b[39m\u001b[38;5;124mg.name\u001b[39m\u001b[38;5;124m'\u001b[39m])\u001b[38;5;241m.\u001b[39mintersection(\u001b[38;5;28mset\u001b[39m(f13))\n\u001b[0;32m---> 19\u001b[0m ref14  \u001b[38;5;241m=\u001b[39m \u001b[43mpd\u001b[49m\u001b[38;5;241;43m.\u001b[39;49m\u001b[43mread_csv\u001b[49m\u001b[43m(\u001b[49m\u001b[38;5;124;43m'\u001b[39;49m\u001b[38;5;124;43m../reference_data/LUAD.csv\u001b[39;49m\u001b[38;5;124;43m'\u001b[39;49m\u001b[43m)\u001b[49m\n\u001b[1;32m     20\u001b[0m fr14 \u001b[38;5;241m=\u001b[39m \u001b[38;5;28mset\u001b[39m(ref14[\u001b[38;5;124m'\u001b[39m\u001b[38;5;124mg.name\u001b[39m\u001b[38;5;124m'\u001b[39m])\u001b[38;5;241m.\u001b[39mintersection(\u001b[38;5;28mset\u001b[39m(f14))\n\u001b[1;32m     22\u001b[0m ref15  \u001b[38;5;241m=\u001b[39m pd\u001b[38;5;241m.\u001b[39mread_csv(\u001b[38;5;124m'\u001b[39m\u001b[38;5;124m../reference_data/LUSC.csv\u001b[39m\u001b[38;5;124m'\u001b[39m)\n",
      "File \u001b[0;32m~/.pyenv/versions/3.10.10/lib/python3.10/site-packages/pandas/io/parsers/readers.py:1026\u001b[0m, in \u001b[0;36mread_csv\u001b[0;34m(filepath_or_buffer, sep, delimiter, header, names, index_col, usecols, dtype, engine, converters, true_values, false_values, skipinitialspace, skiprows, skipfooter, nrows, na_values, keep_default_na, na_filter, verbose, skip_blank_lines, parse_dates, infer_datetime_format, keep_date_col, date_parser, date_format, dayfirst, cache_dates, iterator, chunksize, compression, thousands, decimal, lineterminator, quotechar, quoting, doublequote, escapechar, comment, encoding, encoding_errors, dialect, on_bad_lines, delim_whitespace, low_memory, memory_map, float_precision, storage_options, dtype_backend)\u001b[0m\n\u001b[1;32m   1013\u001b[0m kwds_defaults \u001b[38;5;241m=\u001b[39m _refine_defaults_read(\n\u001b[1;32m   1014\u001b[0m     dialect,\n\u001b[1;32m   1015\u001b[0m     delimiter,\n\u001b[0;32m   (...)\u001b[0m\n\u001b[1;32m   1022\u001b[0m     dtype_backend\u001b[38;5;241m=\u001b[39mdtype_backend,\n\u001b[1;32m   1023\u001b[0m )\n\u001b[1;32m   1024\u001b[0m kwds\u001b[38;5;241m.\u001b[39mupdate(kwds_defaults)\n\u001b[0;32m-> 1026\u001b[0m \u001b[38;5;28;01mreturn\u001b[39;00m \u001b[43m_read\u001b[49m\u001b[43m(\u001b[49m\u001b[43mfilepath_or_buffer\u001b[49m\u001b[43m,\u001b[49m\u001b[43m \u001b[49m\u001b[43mkwds\u001b[49m\u001b[43m)\u001b[49m\n",
      "File \u001b[0;32m~/.pyenv/versions/3.10.10/lib/python3.10/site-packages/pandas/io/parsers/readers.py:620\u001b[0m, in \u001b[0;36m_read\u001b[0;34m(filepath_or_buffer, kwds)\u001b[0m\n\u001b[1;32m    617\u001b[0m _validate_names(kwds\u001b[38;5;241m.\u001b[39mget(\u001b[38;5;124m\"\u001b[39m\u001b[38;5;124mnames\u001b[39m\u001b[38;5;124m\"\u001b[39m, \u001b[38;5;28;01mNone\u001b[39;00m))\n\u001b[1;32m    619\u001b[0m \u001b[38;5;66;03m# Create the parser.\u001b[39;00m\n\u001b[0;32m--> 620\u001b[0m parser \u001b[38;5;241m=\u001b[39m \u001b[43mTextFileReader\u001b[49m\u001b[43m(\u001b[49m\u001b[43mfilepath_or_buffer\u001b[49m\u001b[43m,\u001b[49m\u001b[43m \u001b[49m\u001b[38;5;241;43m*\u001b[39;49m\u001b[38;5;241;43m*\u001b[39;49m\u001b[43mkwds\u001b[49m\u001b[43m)\u001b[49m\n\u001b[1;32m    622\u001b[0m \u001b[38;5;28;01mif\u001b[39;00m chunksize \u001b[38;5;129;01mor\u001b[39;00m iterator:\n\u001b[1;32m    623\u001b[0m     \u001b[38;5;28;01mreturn\u001b[39;00m parser\n",
      "File \u001b[0;32m~/.pyenv/versions/3.10.10/lib/python3.10/site-packages/pandas/io/parsers/readers.py:1620\u001b[0m, in \u001b[0;36mTextFileReader.__init__\u001b[0;34m(self, f, engine, **kwds)\u001b[0m\n\u001b[1;32m   1617\u001b[0m     \u001b[38;5;28mself\u001b[39m\u001b[38;5;241m.\u001b[39moptions[\u001b[38;5;124m\"\u001b[39m\u001b[38;5;124mhas_index_names\u001b[39m\u001b[38;5;124m\"\u001b[39m] \u001b[38;5;241m=\u001b[39m kwds[\u001b[38;5;124m\"\u001b[39m\u001b[38;5;124mhas_index_names\u001b[39m\u001b[38;5;124m\"\u001b[39m]\n\u001b[1;32m   1619\u001b[0m \u001b[38;5;28mself\u001b[39m\u001b[38;5;241m.\u001b[39mhandles: IOHandles \u001b[38;5;241m|\u001b[39m \u001b[38;5;28;01mNone\u001b[39;00m \u001b[38;5;241m=\u001b[39m \u001b[38;5;28;01mNone\u001b[39;00m\n\u001b[0;32m-> 1620\u001b[0m \u001b[38;5;28mself\u001b[39m\u001b[38;5;241m.\u001b[39m_engine \u001b[38;5;241m=\u001b[39m \u001b[38;5;28;43mself\u001b[39;49m\u001b[38;5;241;43m.\u001b[39;49m\u001b[43m_make_engine\u001b[49m\u001b[43m(\u001b[49m\u001b[43mf\u001b[49m\u001b[43m,\u001b[49m\u001b[43m \u001b[49m\u001b[38;5;28;43mself\u001b[39;49m\u001b[38;5;241;43m.\u001b[39;49m\u001b[43mengine\u001b[49m\u001b[43m)\u001b[49m\n",
      "File \u001b[0;32m~/.pyenv/versions/3.10.10/lib/python3.10/site-packages/pandas/io/parsers/readers.py:1880\u001b[0m, in \u001b[0;36mTextFileReader._make_engine\u001b[0;34m(self, f, engine)\u001b[0m\n\u001b[1;32m   1878\u001b[0m     \u001b[38;5;28;01mif\u001b[39;00m \u001b[38;5;124m\"\u001b[39m\u001b[38;5;124mb\u001b[39m\u001b[38;5;124m\"\u001b[39m \u001b[38;5;129;01mnot\u001b[39;00m \u001b[38;5;129;01min\u001b[39;00m mode:\n\u001b[1;32m   1879\u001b[0m         mode \u001b[38;5;241m+\u001b[39m\u001b[38;5;241m=\u001b[39m \u001b[38;5;124m\"\u001b[39m\u001b[38;5;124mb\u001b[39m\u001b[38;5;124m\"\u001b[39m\n\u001b[0;32m-> 1880\u001b[0m \u001b[38;5;28mself\u001b[39m\u001b[38;5;241m.\u001b[39mhandles \u001b[38;5;241m=\u001b[39m \u001b[43mget_handle\u001b[49m\u001b[43m(\u001b[49m\n\u001b[1;32m   1881\u001b[0m \u001b[43m    \u001b[49m\u001b[43mf\u001b[49m\u001b[43m,\u001b[49m\n\u001b[1;32m   1882\u001b[0m \u001b[43m    \u001b[49m\u001b[43mmode\u001b[49m\u001b[43m,\u001b[49m\n\u001b[1;32m   1883\u001b[0m \u001b[43m    \u001b[49m\u001b[43mencoding\u001b[49m\u001b[38;5;241;43m=\u001b[39;49m\u001b[38;5;28;43mself\u001b[39;49m\u001b[38;5;241;43m.\u001b[39;49m\u001b[43moptions\u001b[49m\u001b[38;5;241;43m.\u001b[39;49m\u001b[43mget\u001b[49m\u001b[43m(\u001b[49m\u001b[38;5;124;43m\"\u001b[39;49m\u001b[38;5;124;43mencoding\u001b[39;49m\u001b[38;5;124;43m\"\u001b[39;49m\u001b[43m,\u001b[49m\u001b[43m \u001b[49m\u001b[38;5;28;43;01mNone\u001b[39;49;00m\u001b[43m)\u001b[49m\u001b[43m,\u001b[49m\n\u001b[1;32m   1884\u001b[0m \u001b[43m    \u001b[49m\u001b[43mcompression\u001b[49m\u001b[38;5;241;43m=\u001b[39;49m\u001b[38;5;28;43mself\u001b[39;49m\u001b[38;5;241;43m.\u001b[39;49m\u001b[43moptions\u001b[49m\u001b[38;5;241;43m.\u001b[39;49m\u001b[43mget\u001b[49m\u001b[43m(\u001b[49m\u001b[38;5;124;43m\"\u001b[39;49m\u001b[38;5;124;43mcompression\u001b[39;49m\u001b[38;5;124;43m\"\u001b[39;49m\u001b[43m,\u001b[49m\u001b[43m \u001b[49m\u001b[38;5;28;43;01mNone\u001b[39;49;00m\u001b[43m)\u001b[49m\u001b[43m,\u001b[49m\n\u001b[1;32m   1885\u001b[0m \u001b[43m    \u001b[49m\u001b[43mmemory_map\u001b[49m\u001b[38;5;241;43m=\u001b[39;49m\u001b[38;5;28;43mself\u001b[39;49m\u001b[38;5;241;43m.\u001b[39;49m\u001b[43moptions\u001b[49m\u001b[38;5;241;43m.\u001b[39;49m\u001b[43mget\u001b[49m\u001b[43m(\u001b[49m\u001b[38;5;124;43m\"\u001b[39;49m\u001b[38;5;124;43mmemory_map\u001b[39;49m\u001b[38;5;124;43m\"\u001b[39;49m\u001b[43m,\u001b[49m\u001b[43m \u001b[49m\u001b[38;5;28;43;01mFalse\u001b[39;49;00m\u001b[43m)\u001b[49m\u001b[43m,\u001b[49m\n\u001b[1;32m   1886\u001b[0m \u001b[43m    \u001b[49m\u001b[43mis_text\u001b[49m\u001b[38;5;241;43m=\u001b[39;49m\u001b[43mis_text\u001b[49m\u001b[43m,\u001b[49m\n\u001b[1;32m   1887\u001b[0m \u001b[43m    \u001b[49m\u001b[43merrors\u001b[49m\u001b[38;5;241;43m=\u001b[39;49m\u001b[38;5;28;43mself\u001b[39;49m\u001b[38;5;241;43m.\u001b[39;49m\u001b[43moptions\u001b[49m\u001b[38;5;241;43m.\u001b[39;49m\u001b[43mget\u001b[49m\u001b[43m(\u001b[49m\u001b[38;5;124;43m\"\u001b[39;49m\u001b[38;5;124;43mencoding_errors\u001b[39;49m\u001b[38;5;124;43m\"\u001b[39;49m\u001b[43m,\u001b[49m\u001b[43m \u001b[49m\u001b[38;5;124;43m\"\u001b[39;49m\u001b[38;5;124;43mstrict\u001b[39;49m\u001b[38;5;124;43m\"\u001b[39;49m\u001b[43m)\u001b[49m\u001b[43m,\u001b[49m\n\u001b[1;32m   1888\u001b[0m \u001b[43m    \u001b[49m\u001b[43mstorage_options\u001b[49m\u001b[38;5;241;43m=\u001b[39;49m\u001b[38;5;28;43mself\u001b[39;49m\u001b[38;5;241;43m.\u001b[39;49m\u001b[43moptions\u001b[49m\u001b[38;5;241;43m.\u001b[39;49m\u001b[43mget\u001b[49m\u001b[43m(\u001b[49m\u001b[38;5;124;43m\"\u001b[39;49m\u001b[38;5;124;43mstorage_options\u001b[39;49m\u001b[38;5;124;43m\"\u001b[39;49m\u001b[43m,\u001b[49m\u001b[43m \u001b[49m\u001b[38;5;28;43;01mNone\u001b[39;49;00m\u001b[43m)\u001b[49m\u001b[43m,\u001b[49m\n\u001b[1;32m   1889\u001b[0m \u001b[43m\u001b[49m\u001b[43m)\u001b[49m\n\u001b[1;32m   1890\u001b[0m \u001b[38;5;28;01massert\u001b[39;00m \u001b[38;5;28mself\u001b[39m\u001b[38;5;241m.\u001b[39mhandles \u001b[38;5;129;01mis\u001b[39;00m \u001b[38;5;129;01mnot\u001b[39;00m \u001b[38;5;28;01mNone\u001b[39;00m\n\u001b[1;32m   1891\u001b[0m f \u001b[38;5;241m=\u001b[39m \u001b[38;5;28mself\u001b[39m\u001b[38;5;241m.\u001b[39mhandles\u001b[38;5;241m.\u001b[39mhandle\n",
      "File \u001b[0;32m~/.pyenv/versions/3.10.10/lib/python3.10/site-packages/pandas/io/common.py:873\u001b[0m, in \u001b[0;36mget_handle\u001b[0;34m(path_or_buf, mode, encoding, compression, memory_map, is_text, errors, storage_options)\u001b[0m\n\u001b[1;32m    868\u001b[0m \u001b[38;5;28;01melif\u001b[39;00m \u001b[38;5;28misinstance\u001b[39m(handle, \u001b[38;5;28mstr\u001b[39m):\n\u001b[1;32m    869\u001b[0m     \u001b[38;5;66;03m# Check whether the filename is to be opened in binary mode.\u001b[39;00m\n\u001b[1;32m    870\u001b[0m     \u001b[38;5;66;03m# Binary mode does not support 'encoding' and 'newline'.\u001b[39;00m\n\u001b[1;32m    871\u001b[0m     \u001b[38;5;28;01mif\u001b[39;00m ioargs\u001b[38;5;241m.\u001b[39mencoding \u001b[38;5;129;01mand\u001b[39;00m \u001b[38;5;124m\"\u001b[39m\u001b[38;5;124mb\u001b[39m\u001b[38;5;124m\"\u001b[39m \u001b[38;5;129;01mnot\u001b[39;00m \u001b[38;5;129;01min\u001b[39;00m ioargs\u001b[38;5;241m.\u001b[39mmode:\n\u001b[1;32m    872\u001b[0m         \u001b[38;5;66;03m# Encoding\u001b[39;00m\n\u001b[0;32m--> 873\u001b[0m         handle \u001b[38;5;241m=\u001b[39m \u001b[38;5;28;43mopen\u001b[39;49m\u001b[43m(\u001b[49m\n\u001b[1;32m    874\u001b[0m \u001b[43m            \u001b[49m\u001b[43mhandle\u001b[49m\u001b[43m,\u001b[49m\n\u001b[1;32m    875\u001b[0m \u001b[43m            \u001b[49m\u001b[43mioargs\u001b[49m\u001b[38;5;241;43m.\u001b[39;49m\u001b[43mmode\u001b[49m\u001b[43m,\u001b[49m\n\u001b[1;32m    876\u001b[0m \u001b[43m            \u001b[49m\u001b[43mencoding\u001b[49m\u001b[38;5;241;43m=\u001b[39;49m\u001b[43mioargs\u001b[49m\u001b[38;5;241;43m.\u001b[39;49m\u001b[43mencoding\u001b[49m\u001b[43m,\u001b[49m\n\u001b[1;32m    877\u001b[0m \u001b[43m            \u001b[49m\u001b[43merrors\u001b[49m\u001b[38;5;241;43m=\u001b[39;49m\u001b[43merrors\u001b[49m\u001b[43m,\u001b[49m\n\u001b[1;32m    878\u001b[0m \u001b[43m            \u001b[49m\u001b[43mnewline\u001b[49m\u001b[38;5;241;43m=\u001b[39;49m\u001b[38;5;124;43m\"\u001b[39;49m\u001b[38;5;124;43m\"\u001b[39;49m\u001b[43m,\u001b[49m\n\u001b[1;32m    879\u001b[0m \u001b[43m        \u001b[49m\u001b[43m)\u001b[49m\n\u001b[1;32m    880\u001b[0m     \u001b[38;5;28;01melse\u001b[39;00m:\n\u001b[1;32m    881\u001b[0m         \u001b[38;5;66;03m# Binary mode\u001b[39;00m\n\u001b[1;32m    882\u001b[0m         handle \u001b[38;5;241m=\u001b[39m \u001b[38;5;28mopen\u001b[39m(handle, ioargs\u001b[38;5;241m.\u001b[39mmode)\n",
      "\u001b[0;31mFileNotFoundError\u001b[0m: [Errno 2] No such file or directory: '../reference_data/LUAD.csv'"
     ]
    }
   ],
   "source": [
    "ref8  = pd.read_csv('../reference_data/OV.csv')\n",
    "fr8 = set(ref8['g.name']).intersection(set(f8))\n",
    "\n",
    "ref9  = pd.read_csv('../reference_data/LGG.csv')\n",
    "fr9  = set(ref9['g.name']).intersection(set(f9))\n",
    "\n",
    "ref10  = pd.read_csv('../reference_data/HNSC.csv')\n",
    "fr10  = set(ref10['g.name']).intersection(set(f10))\n",
    "\n",
    "ref11  = pd.read_csv('../reference_data/COAD.csv')\n",
    "fr11 = set(ref11['g.name']).intersection(set(f11))\n",
    "\n",
    "ref12  = pd.read_csv('../reference_data/UCEC.csv')\n",
    "fr12 = set(ref12['g.name']).intersection(set(f12))\n",
    "\n",
    "ref13  = pd.read_csv('../reference_data/SARC.csv')\n",
    "fr13 = set(ref13['g.name']).intersection(set(f13))\n",
    "\n",
    "ref14  = pd.read_csv('../reference_data/LUAD.csv')\n",
    "fr14 = set(ref14['g.name']).intersection(set(f14))\n",
    "\n"
   ]
  },
  {
   "cell_type": "code",
   "execution_count": 1078,
   "metadata": {},
   "outputs": [
    {
     "ename": "FileNotFoundError",
     "evalue": "[Errno 2] No such file or directory: '../reference_data/PCPG.csv'",
     "output_type": "error",
     "traceback": [
      "\u001b[0;31m---------------------------------------------------------------------------\u001b[0m",
      "\u001b[0;31mFileNotFoundError\u001b[0m                         Traceback (most recent call last)",
      "Cell \u001b[0;32mIn[1078], line 13\u001b[0m\n\u001b[1;32m     10\u001b[0m ref18  \u001b[38;5;241m=\u001b[39m pd\u001b[38;5;241m.\u001b[39mread_csv(\u001b[38;5;124m'\u001b[39m\u001b[38;5;124m../reference_data/CESC.csv\u001b[39m\u001b[38;5;124m'\u001b[39m)\n\u001b[1;32m     11\u001b[0m fr18 \u001b[38;5;241m=\u001b[39m \u001b[38;5;28mset\u001b[39m(ref18[\u001b[38;5;124m'\u001b[39m\u001b[38;5;124mg.name\u001b[39m\u001b[38;5;124m'\u001b[39m])\u001b[38;5;241m.\u001b[39mintersection(\u001b[38;5;28mset\u001b[39m(f18))\n\u001b[0;32m---> 13\u001b[0m ref19  \u001b[38;5;241m=\u001b[39m \u001b[43mpd\u001b[49m\u001b[38;5;241;43m.\u001b[39;49m\u001b[43mread_csv\u001b[49m\u001b[43m(\u001b[49m\u001b[38;5;124;43m'\u001b[39;49m\u001b[38;5;124;43m../reference_data/PCPG.csv\u001b[39;49m\u001b[38;5;124;43m'\u001b[39;49m\u001b[43m)\u001b[49m\n\u001b[1;32m     14\u001b[0m fr19 \u001b[38;5;241m=\u001b[39m \u001b[38;5;28mset\u001b[39m(ref19[\u001b[38;5;124m'\u001b[39m\u001b[38;5;124mg.name\u001b[39m\u001b[38;5;124m'\u001b[39m])\u001b[38;5;241m.\u001b[39mintersection(\u001b[38;5;28mset\u001b[39m(f19))\n\u001b[1;32m     16\u001b[0m ref20  \u001b[38;5;241m=\u001b[39m pd\u001b[38;5;241m.\u001b[39mread_csv(\u001b[38;5;124m'\u001b[39m\u001b[38;5;124m../reference_data/TGCT.csv\u001b[39m\u001b[38;5;124m'\u001b[39m)\n",
      "File \u001b[0;32m~/.pyenv/versions/3.10.10/lib/python3.10/site-packages/pandas/io/parsers/readers.py:1026\u001b[0m, in \u001b[0;36mread_csv\u001b[0;34m(filepath_or_buffer, sep, delimiter, header, names, index_col, usecols, dtype, engine, converters, true_values, false_values, skipinitialspace, skiprows, skipfooter, nrows, na_values, keep_default_na, na_filter, verbose, skip_blank_lines, parse_dates, infer_datetime_format, keep_date_col, date_parser, date_format, dayfirst, cache_dates, iterator, chunksize, compression, thousands, decimal, lineterminator, quotechar, quoting, doublequote, escapechar, comment, encoding, encoding_errors, dialect, on_bad_lines, delim_whitespace, low_memory, memory_map, float_precision, storage_options, dtype_backend)\u001b[0m\n\u001b[1;32m   1013\u001b[0m kwds_defaults \u001b[38;5;241m=\u001b[39m _refine_defaults_read(\n\u001b[1;32m   1014\u001b[0m     dialect,\n\u001b[1;32m   1015\u001b[0m     delimiter,\n\u001b[0;32m   (...)\u001b[0m\n\u001b[1;32m   1022\u001b[0m     dtype_backend\u001b[38;5;241m=\u001b[39mdtype_backend,\n\u001b[1;32m   1023\u001b[0m )\n\u001b[1;32m   1024\u001b[0m kwds\u001b[38;5;241m.\u001b[39mupdate(kwds_defaults)\n\u001b[0;32m-> 1026\u001b[0m \u001b[38;5;28;01mreturn\u001b[39;00m \u001b[43m_read\u001b[49m\u001b[43m(\u001b[49m\u001b[43mfilepath_or_buffer\u001b[49m\u001b[43m,\u001b[49m\u001b[43m \u001b[49m\u001b[43mkwds\u001b[49m\u001b[43m)\u001b[49m\n",
      "File \u001b[0;32m~/.pyenv/versions/3.10.10/lib/python3.10/site-packages/pandas/io/parsers/readers.py:620\u001b[0m, in \u001b[0;36m_read\u001b[0;34m(filepath_or_buffer, kwds)\u001b[0m\n\u001b[1;32m    617\u001b[0m _validate_names(kwds\u001b[38;5;241m.\u001b[39mget(\u001b[38;5;124m\"\u001b[39m\u001b[38;5;124mnames\u001b[39m\u001b[38;5;124m\"\u001b[39m, \u001b[38;5;28;01mNone\u001b[39;00m))\n\u001b[1;32m    619\u001b[0m \u001b[38;5;66;03m# Create the parser.\u001b[39;00m\n\u001b[0;32m--> 620\u001b[0m parser \u001b[38;5;241m=\u001b[39m \u001b[43mTextFileReader\u001b[49m\u001b[43m(\u001b[49m\u001b[43mfilepath_or_buffer\u001b[49m\u001b[43m,\u001b[49m\u001b[43m \u001b[49m\u001b[38;5;241;43m*\u001b[39;49m\u001b[38;5;241;43m*\u001b[39;49m\u001b[43mkwds\u001b[49m\u001b[43m)\u001b[49m\n\u001b[1;32m    622\u001b[0m \u001b[38;5;28;01mif\u001b[39;00m chunksize \u001b[38;5;129;01mor\u001b[39;00m iterator:\n\u001b[1;32m    623\u001b[0m     \u001b[38;5;28;01mreturn\u001b[39;00m parser\n",
      "File \u001b[0;32m~/.pyenv/versions/3.10.10/lib/python3.10/site-packages/pandas/io/parsers/readers.py:1620\u001b[0m, in \u001b[0;36mTextFileReader.__init__\u001b[0;34m(self, f, engine, **kwds)\u001b[0m\n\u001b[1;32m   1617\u001b[0m     \u001b[38;5;28mself\u001b[39m\u001b[38;5;241m.\u001b[39moptions[\u001b[38;5;124m\"\u001b[39m\u001b[38;5;124mhas_index_names\u001b[39m\u001b[38;5;124m\"\u001b[39m] \u001b[38;5;241m=\u001b[39m kwds[\u001b[38;5;124m\"\u001b[39m\u001b[38;5;124mhas_index_names\u001b[39m\u001b[38;5;124m\"\u001b[39m]\n\u001b[1;32m   1619\u001b[0m \u001b[38;5;28mself\u001b[39m\u001b[38;5;241m.\u001b[39mhandles: IOHandles \u001b[38;5;241m|\u001b[39m \u001b[38;5;28;01mNone\u001b[39;00m \u001b[38;5;241m=\u001b[39m \u001b[38;5;28;01mNone\u001b[39;00m\n\u001b[0;32m-> 1620\u001b[0m \u001b[38;5;28mself\u001b[39m\u001b[38;5;241m.\u001b[39m_engine \u001b[38;5;241m=\u001b[39m \u001b[38;5;28;43mself\u001b[39;49m\u001b[38;5;241;43m.\u001b[39;49m\u001b[43m_make_engine\u001b[49m\u001b[43m(\u001b[49m\u001b[43mf\u001b[49m\u001b[43m,\u001b[49m\u001b[43m \u001b[49m\u001b[38;5;28;43mself\u001b[39;49m\u001b[38;5;241;43m.\u001b[39;49m\u001b[43mengine\u001b[49m\u001b[43m)\u001b[49m\n",
      "File \u001b[0;32m~/.pyenv/versions/3.10.10/lib/python3.10/site-packages/pandas/io/parsers/readers.py:1880\u001b[0m, in \u001b[0;36mTextFileReader._make_engine\u001b[0;34m(self, f, engine)\u001b[0m\n\u001b[1;32m   1878\u001b[0m     \u001b[38;5;28;01mif\u001b[39;00m \u001b[38;5;124m\"\u001b[39m\u001b[38;5;124mb\u001b[39m\u001b[38;5;124m\"\u001b[39m \u001b[38;5;129;01mnot\u001b[39;00m \u001b[38;5;129;01min\u001b[39;00m mode:\n\u001b[1;32m   1879\u001b[0m         mode \u001b[38;5;241m+\u001b[39m\u001b[38;5;241m=\u001b[39m \u001b[38;5;124m\"\u001b[39m\u001b[38;5;124mb\u001b[39m\u001b[38;5;124m\"\u001b[39m\n\u001b[0;32m-> 1880\u001b[0m \u001b[38;5;28mself\u001b[39m\u001b[38;5;241m.\u001b[39mhandles \u001b[38;5;241m=\u001b[39m \u001b[43mget_handle\u001b[49m\u001b[43m(\u001b[49m\n\u001b[1;32m   1881\u001b[0m \u001b[43m    \u001b[49m\u001b[43mf\u001b[49m\u001b[43m,\u001b[49m\n\u001b[1;32m   1882\u001b[0m \u001b[43m    \u001b[49m\u001b[43mmode\u001b[49m\u001b[43m,\u001b[49m\n\u001b[1;32m   1883\u001b[0m \u001b[43m    \u001b[49m\u001b[43mencoding\u001b[49m\u001b[38;5;241;43m=\u001b[39;49m\u001b[38;5;28;43mself\u001b[39;49m\u001b[38;5;241;43m.\u001b[39;49m\u001b[43moptions\u001b[49m\u001b[38;5;241;43m.\u001b[39;49m\u001b[43mget\u001b[49m\u001b[43m(\u001b[49m\u001b[38;5;124;43m\"\u001b[39;49m\u001b[38;5;124;43mencoding\u001b[39;49m\u001b[38;5;124;43m\"\u001b[39;49m\u001b[43m,\u001b[49m\u001b[43m \u001b[49m\u001b[38;5;28;43;01mNone\u001b[39;49;00m\u001b[43m)\u001b[49m\u001b[43m,\u001b[49m\n\u001b[1;32m   1884\u001b[0m \u001b[43m    \u001b[49m\u001b[43mcompression\u001b[49m\u001b[38;5;241;43m=\u001b[39;49m\u001b[38;5;28;43mself\u001b[39;49m\u001b[38;5;241;43m.\u001b[39;49m\u001b[43moptions\u001b[49m\u001b[38;5;241;43m.\u001b[39;49m\u001b[43mget\u001b[49m\u001b[43m(\u001b[49m\u001b[38;5;124;43m\"\u001b[39;49m\u001b[38;5;124;43mcompression\u001b[39;49m\u001b[38;5;124;43m\"\u001b[39;49m\u001b[43m,\u001b[49m\u001b[43m \u001b[49m\u001b[38;5;28;43;01mNone\u001b[39;49;00m\u001b[43m)\u001b[49m\u001b[43m,\u001b[49m\n\u001b[1;32m   1885\u001b[0m \u001b[43m    \u001b[49m\u001b[43mmemory_map\u001b[49m\u001b[38;5;241;43m=\u001b[39;49m\u001b[38;5;28;43mself\u001b[39;49m\u001b[38;5;241;43m.\u001b[39;49m\u001b[43moptions\u001b[49m\u001b[38;5;241;43m.\u001b[39;49m\u001b[43mget\u001b[49m\u001b[43m(\u001b[49m\u001b[38;5;124;43m\"\u001b[39;49m\u001b[38;5;124;43mmemory_map\u001b[39;49m\u001b[38;5;124;43m\"\u001b[39;49m\u001b[43m,\u001b[49m\u001b[43m \u001b[49m\u001b[38;5;28;43;01mFalse\u001b[39;49;00m\u001b[43m)\u001b[49m\u001b[43m,\u001b[49m\n\u001b[1;32m   1886\u001b[0m \u001b[43m    \u001b[49m\u001b[43mis_text\u001b[49m\u001b[38;5;241;43m=\u001b[39;49m\u001b[43mis_text\u001b[49m\u001b[43m,\u001b[49m\n\u001b[1;32m   1887\u001b[0m \u001b[43m    \u001b[49m\u001b[43merrors\u001b[49m\u001b[38;5;241;43m=\u001b[39;49m\u001b[38;5;28;43mself\u001b[39;49m\u001b[38;5;241;43m.\u001b[39;49m\u001b[43moptions\u001b[49m\u001b[38;5;241;43m.\u001b[39;49m\u001b[43mget\u001b[49m\u001b[43m(\u001b[49m\u001b[38;5;124;43m\"\u001b[39;49m\u001b[38;5;124;43mencoding_errors\u001b[39;49m\u001b[38;5;124;43m\"\u001b[39;49m\u001b[43m,\u001b[49m\u001b[43m \u001b[49m\u001b[38;5;124;43m\"\u001b[39;49m\u001b[38;5;124;43mstrict\u001b[39;49m\u001b[38;5;124;43m\"\u001b[39;49m\u001b[43m)\u001b[49m\u001b[43m,\u001b[49m\n\u001b[1;32m   1888\u001b[0m \u001b[43m    \u001b[49m\u001b[43mstorage_options\u001b[49m\u001b[38;5;241;43m=\u001b[39;49m\u001b[38;5;28;43mself\u001b[39;49m\u001b[38;5;241;43m.\u001b[39;49m\u001b[43moptions\u001b[49m\u001b[38;5;241;43m.\u001b[39;49m\u001b[43mget\u001b[49m\u001b[43m(\u001b[49m\u001b[38;5;124;43m\"\u001b[39;49m\u001b[38;5;124;43mstorage_options\u001b[39;49m\u001b[38;5;124;43m\"\u001b[39;49m\u001b[43m,\u001b[49m\u001b[43m \u001b[49m\u001b[38;5;28;43;01mNone\u001b[39;49;00m\u001b[43m)\u001b[49m\u001b[43m,\u001b[49m\n\u001b[1;32m   1889\u001b[0m \u001b[43m\u001b[49m\u001b[43m)\u001b[49m\n\u001b[1;32m   1890\u001b[0m \u001b[38;5;28;01massert\u001b[39;00m \u001b[38;5;28mself\u001b[39m\u001b[38;5;241m.\u001b[39mhandles \u001b[38;5;129;01mis\u001b[39;00m \u001b[38;5;129;01mnot\u001b[39;00m \u001b[38;5;28;01mNone\u001b[39;00m\n\u001b[1;32m   1891\u001b[0m f \u001b[38;5;241m=\u001b[39m \u001b[38;5;28mself\u001b[39m\u001b[38;5;241m.\u001b[39mhandles\u001b[38;5;241m.\u001b[39mhandle\n",
      "File \u001b[0;32m~/.pyenv/versions/3.10.10/lib/python3.10/site-packages/pandas/io/common.py:873\u001b[0m, in \u001b[0;36mget_handle\u001b[0;34m(path_or_buf, mode, encoding, compression, memory_map, is_text, errors, storage_options)\u001b[0m\n\u001b[1;32m    868\u001b[0m \u001b[38;5;28;01melif\u001b[39;00m \u001b[38;5;28misinstance\u001b[39m(handle, \u001b[38;5;28mstr\u001b[39m):\n\u001b[1;32m    869\u001b[0m     \u001b[38;5;66;03m# Check whether the filename is to be opened in binary mode.\u001b[39;00m\n\u001b[1;32m    870\u001b[0m     \u001b[38;5;66;03m# Binary mode does not support 'encoding' and 'newline'.\u001b[39;00m\n\u001b[1;32m    871\u001b[0m     \u001b[38;5;28;01mif\u001b[39;00m ioargs\u001b[38;5;241m.\u001b[39mencoding \u001b[38;5;129;01mand\u001b[39;00m \u001b[38;5;124m\"\u001b[39m\u001b[38;5;124mb\u001b[39m\u001b[38;5;124m\"\u001b[39m \u001b[38;5;129;01mnot\u001b[39;00m \u001b[38;5;129;01min\u001b[39;00m ioargs\u001b[38;5;241m.\u001b[39mmode:\n\u001b[1;32m    872\u001b[0m         \u001b[38;5;66;03m# Encoding\u001b[39;00m\n\u001b[0;32m--> 873\u001b[0m         handle \u001b[38;5;241m=\u001b[39m \u001b[38;5;28;43mopen\u001b[39;49m\u001b[43m(\u001b[49m\n\u001b[1;32m    874\u001b[0m \u001b[43m            \u001b[49m\u001b[43mhandle\u001b[49m\u001b[43m,\u001b[49m\n\u001b[1;32m    875\u001b[0m \u001b[43m            \u001b[49m\u001b[43mioargs\u001b[49m\u001b[38;5;241;43m.\u001b[39;49m\u001b[43mmode\u001b[49m\u001b[43m,\u001b[49m\n\u001b[1;32m    876\u001b[0m \u001b[43m            \u001b[49m\u001b[43mencoding\u001b[49m\u001b[38;5;241;43m=\u001b[39;49m\u001b[43mioargs\u001b[49m\u001b[38;5;241;43m.\u001b[39;49m\u001b[43mencoding\u001b[49m\u001b[43m,\u001b[49m\n\u001b[1;32m    877\u001b[0m \u001b[43m            \u001b[49m\u001b[43merrors\u001b[49m\u001b[38;5;241;43m=\u001b[39;49m\u001b[43merrors\u001b[49m\u001b[43m,\u001b[49m\n\u001b[1;32m    878\u001b[0m \u001b[43m            \u001b[49m\u001b[43mnewline\u001b[49m\u001b[38;5;241;43m=\u001b[39;49m\u001b[38;5;124;43m\"\u001b[39;49m\u001b[38;5;124;43m\"\u001b[39;49m\u001b[43m,\u001b[49m\n\u001b[1;32m    879\u001b[0m \u001b[43m        \u001b[49m\u001b[43m)\u001b[49m\n\u001b[1;32m    880\u001b[0m     \u001b[38;5;28;01melse\u001b[39;00m:\n\u001b[1;32m    881\u001b[0m         \u001b[38;5;66;03m# Binary mode\u001b[39;00m\n\u001b[1;32m    882\u001b[0m         handle \u001b[38;5;241m=\u001b[39m \u001b[38;5;28mopen\u001b[39m(handle, ioargs\u001b[38;5;241m.\u001b[39mmode)\n",
      "\u001b[0;31mFileNotFoundError\u001b[0m: [Errno 2] No such file or directory: '../reference_data/PCPG.csv'"
     ]
    }
   ],
   "source": [
    "\n",
    "ref15  = pd.read_csv('../reference_data/LUSC.csv')\n",
    "fr15 = set(ref15['g.name']).intersection(set(f15))\n",
    "\n",
    "ref16  = pd.read_csv('../reference_data/LIHC.csv')\n",
    "fr16 = set(ref16['g.name']).intersection(set(f16))\n",
    "\n",
    "ref17  = pd.read_csv('../reference_data/LAML.csv')\n",
    "fr17 = set(ref17['g.name']).intersection(set(f17))\n",
    "\n",
    "ref18  = pd.read_csv('../reference_data/CESC.csv')\n",
    "fr18 = set(ref18['g.name']).intersection(set(f18))\n",
    "\n",
    "ref19  = pd.read_csv('../reference_data/PCPG.csv')\n",
    "fr19 = set(ref19['g.name']).intersection(set(f19))\n"
   ]
  },
  {
   "cell_type": "code",
   "execution_count": 1079,
   "metadata": {},
   "outputs": [],
   "source": [
    "\n",
    "ref20  = pd.read_csv('../reference_data/TGCT.csv')\n",
    "fr20 = set(ref20['g.name']).intersection(set(f20))\n",
    "\n",
    "ref21  = pd.read_csv('../reference_data/PAAD.csv')\n",
    "fr21 = set(ref21['g.name']).intersection(set(f21))\n",
    "\n",
    "ref22  = pd.read_csv('../reference_data/BLCA.csv')\n",
    "fr22 = set(ref22['g.name']).intersection(set(f22))\n",
    "\n",
    "ref23  = pd.read_csv('../reference_data/THYM.csv')\n",
    "fr23 = set(ref23['g.name']).intersection(set(f23))\n",
    "\n",
    "ref24  = pd.read_csv('../reference_data/ACC.csv')\n",
    "fr24= set(ref24['g.name']).intersection(set(f24))\n",
    "\n",
    "ref25  = pd.read_csv('../reference_data/DLBC.csv')\n",
    "fr25 = set(ref25['g.name']).intersection(set(f25))\n"
   ]
  },
  {
   "cell_type": "code",
   "execution_count": 1086,
   "metadata": {},
   "outputs": [
    {
     "data": {
      "text/html": [
       "<div>\n",
       "<style scoped>\n",
       "    .dataframe tbody tr th:only-of-type {\n",
       "        vertical-align: middle;\n",
       "    }\n",
       "\n",
       "    .dataframe tbody tr th {\n",
       "        vertical-align: top;\n",
       "    }\n",
       "\n",
       "    .dataframe thead th {\n",
       "        text-align: right;\n",
       "    }\n",
       "</style>\n",
       "<table border=\"1\" class=\"dataframe\">\n",
       "  <thead>\n",
       "    <tr style=\"text-align: right;\">\n",
       "      <th></th>\n",
       "      <th>ID</th>\n",
       "      <th>SUBCLASS</th>\n",
       "      <th>A2M</th>\n",
       "      <th>AAAS</th>\n",
       "      <th>AADAT</th>\n",
       "      <th>AARS1</th>\n",
       "      <th>ABAT</th>\n",
       "      <th>ABCA1</th>\n",
       "      <th>ABCA2</th>\n",
       "      <th>ABCA3</th>\n",
       "      <th>...</th>\n",
       "      <th>ZNF292</th>\n",
       "      <th>ZNF365</th>\n",
       "      <th>ZNF639</th>\n",
       "      <th>ZNF707</th>\n",
       "      <th>ZNFX1</th>\n",
       "      <th>ZNRF4</th>\n",
       "      <th>ZPBP</th>\n",
       "      <th>ZW10</th>\n",
       "      <th>ZWINT</th>\n",
       "      <th>ZYX</th>\n",
       "    </tr>\n",
       "  </thead>\n",
       "  <tbody>\n",
       "    <tr>\n",
       "      <th>0</th>\n",
       "      <td>TRAIN_0000</td>\n",
       "      <td>KIPAN</td>\n",
       "      <td>WT</td>\n",
       "      <td>WT</td>\n",
       "      <td>WT</td>\n",
       "      <td>WT</td>\n",
       "      <td>WT</td>\n",
       "      <td>WT</td>\n",
       "      <td>WT</td>\n",
       "      <td>WT</td>\n",
       "      <td>...</td>\n",
       "      <td>WT</td>\n",
       "      <td>WT</td>\n",
       "      <td>WT</td>\n",
       "      <td>WT</td>\n",
       "      <td>WT</td>\n",
       "      <td>WT</td>\n",
       "      <td>WT</td>\n",
       "      <td>WT</td>\n",
       "      <td>WT</td>\n",
       "      <td>WT</td>\n",
       "    </tr>\n",
       "    <tr>\n",
       "      <th>1</th>\n",
       "      <td>TRAIN_0001</td>\n",
       "      <td>SARC</td>\n",
       "      <td>WT</td>\n",
       "      <td>WT</td>\n",
       "      <td>WT</td>\n",
       "      <td>WT</td>\n",
       "      <td>WT</td>\n",
       "      <td>WT</td>\n",
       "      <td>WT</td>\n",
       "      <td>WT</td>\n",
       "      <td>...</td>\n",
       "      <td>WT</td>\n",
       "      <td>WT</td>\n",
       "      <td>WT</td>\n",
       "      <td>WT</td>\n",
       "      <td>WT</td>\n",
       "      <td>WT</td>\n",
       "      <td>WT</td>\n",
       "      <td>WT</td>\n",
       "      <td>WT</td>\n",
       "      <td>WT</td>\n",
       "    </tr>\n",
       "    <tr>\n",
       "      <th>2</th>\n",
       "      <td>TRAIN_0002</td>\n",
       "      <td>SKCM</td>\n",
       "      <td>R895R</td>\n",
       "      <td>WT</td>\n",
       "      <td>WT</td>\n",
       "      <td>WT</td>\n",
       "      <td>WT</td>\n",
       "      <td>WT</td>\n",
       "      <td>WT</td>\n",
       "      <td>WT</td>\n",
       "      <td>...</td>\n",
       "      <td>WT</td>\n",
       "      <td>WT</td>\n",
       "      <td>WT</td>\n",
       "      <td>WT</td>\n",
       "      <td>WT</td>\n",
       "      <td>WT</td>\n",
       "      <td>WT</td>\n",
       "      <td>WT</td>\n",
       "      <td>WT</td>\n",
       "      <td>WT</td>\n",
       "    </tr>\n",
       "    <tr>\n",
       "      <th>3</th>\n",
       "      <td>TRAIN_0003</td>\n",
       "      <td>KIRC</td>\n",
       "      <td>WT</td>\n",
       "      <td>WT</td>\n",
       "      <td>WT</td>\n",
       "      <td>WT</td>\n",
       "      <td>WT</td>\n",
       "      <td>WT</td>\n",
       "      <td>WT</td>\n",
       "      <td>WT</td>\n",
       "      <td>...</td>\n",
       "      <td>WT</td>\n",
       "      <td>WT</td>\n",
       "      <td>WT</td>\n",
       "      <td>WT</td>\n",
       "      <td>WT</td>\n",
       "      <td>WT</td>\n",
       "      <td>WT</td>\n",
       "      <td>WT</td>\n",
       "      <td>WT</td>\n",
       "      <td>WT</td>\n",
       "    </tr>\n",
       "    <tr>\n",
       "      <th>4</th>\n",
       "      <td>TRAIN_0004</td>\n",
       "      <td>GBMLGG</td>\n",
       "      <td>WT</td>\n",
       "      <td>WT</td>\n",
       "      <td>WT</td>\n",
       "      <td>WT</td>\n",
       "      <td>WT</td>\n",
       "      <td>WT</td>\n",
       "      <td>WT</td>\n",
       "      <td>WT</td>\n",
       "      <td>...</td>\n",
       "      <td>WT</td>\n",
       "      <td>WT</td>\n",
       "      <td>WT</td>\n",
       "      <td>WT</td>\n",
       "      <td>WT</td>\n",
       "      <td>WT</td>\n",
       "      <td>WT</td>\n",
       "      <td>WT</td>\n",
       "      <td>WT</td>\n",
       "      <td>WT</td>\n",
       "    </tr>\n",
       "    <tr>\n",
       "      <th>...</th>\n",
       "      <td>...</td>\n",
       "      <td>...</td>\n",
       "      <td>...</td>\n",
       "      <td>...</td>\n",
       "      <td>...</td>\n",
       "      <td>...</td>\n",
       "      <td>...</td>\n",
       "      <td>...</td>\n",
       "      <td>...</td>\n",
       "      <td>...</td>\n",
       "      <td>...</td>\n",
       "      <td>...</td>\n",
       "      <td>...</td>\n",
       "      <td>...</td>\n",
       "      <td>...</td>\n",
       "      <td>...</td>\n",
       "      <td>...</td>\n",
       "      <td>...</td>\n",
       "      <td>...</td>\n",
       "      <td>...</td>\n",
       "      <td>...</td>\n",
       "    </tr>\n",
       "    <tr>\n",
       "      <th>6196</th>\n",
       "      <td>TRAIN_6196</td>\n",
       "      <td>LUAD</td>\n",
       "      <td>WT</td>\n",
       "      <td>WT</td>\n",
       "      <td>WT</td>\n",
       "      <td>WT</td>\n",
       "      <td>WT</td>\n",
       "      <td>WT</td>\n",
       "      <td>WT</td>\n",
       "      <td>WT</td>\n",
       "      <td>...</td>\n",
       "      <td>WT</td>\n",
       "      <td>WT</td>\n",
       "      <td>WT</td>\n",
       "      <td>WT</td>\n",
       "      <td>WT</td>\n",
       "      <td>WT</td>\n",
       "      <td>WT</td>\n",
       "      <td>WT</td>\n",
       "      <td>WT</td>\n",
       "      <td>WT</td>\n",
       "    </tr>\n",
       "    <tr>\n",
       "      <th>6197</th>\n",
       "      <td>TRAIN_6197</td>\n",
       "      <td>LGG</td>\n",
       "      <td>WT</td>\n",
       "      <td>WT</td>\n",
       "      <td>WT</td>\n",
       "      <td>WT</td>\n",
       "      <td>WT</td>\n",
       "      <td>WT</td>\n",
       "      <td>WT</td>\n",
       "      <td>WT</td>\n",
       "      <td>...</td>\n",
       "      <td>WT</td>\n",
       "      <td>WT</td>\n",
       "      <td>WT</td>\n",
       "      <td>WT</td>\n",
       "      <td>WT</td>\n",
       "      <td>WT</td>\n",
       "      <td>WT</td>\n",
       "      <td>WT</td>\n",
       "      <td>WT</td>\n",
       "      <td>WT</td>\n",
       "    </tr>\n",
       "    <tr>\n",
       "      <th>6198</th>\n",
       "      <td>TRAIN_6198</td>\n",
       "      <td>COAD</td>\n",
       "      <td>WT</td>\n",
       "      <td>WT</td>\n",
       "      <td>WT</td>\n",
       "      <td>WT</td>\n",
       "      <td>WT</td>\n",
       "      <td>WT</td>\n",
       "      <td>WT</td>\n",
       "      <td>WT</td>\n",
       "      <td>...</td>\n",
       "      <td>WT</td>\n",
       "      <td>WT</td>\n",
       "      <td>WT</td>\n",
       "      <td>WT</td>\n",
       "      <td>WT</td>\n",
       "      <td>WT</td>\n",
       "      <td>WT</td>\n",
       "      <td>WT</td>\n",
       "      <td>T181S</td>\n",
       "      <td>WT</td>\n",
       "    </tr>\n",
       "    <tr>\n",
       "      <th>6199</th>\n",
       "      <td>TRAIN_6199</td>\n",
       "      <td>TGCT</td>\n",
       "      <td>WT</td>\n",
       "      <td>WT</td>\n",
       "      <td>WT</td>\n",
       "      <td>WT</td>\n",
       "      <td>WT</td>\n",
       "      <td>WT</td>\n",
       "      <td>WT</td>\n",
       "      <td>WT</td>\n",
       "      <td>...</td>\n",
       "      <td>WT</td>\n",
       "      <td>WT</td>\n",
       "      <td>WT</td>\n",
       "      <td>WT</td>\n",
       "      <td>WT</td>\n",
       "      <td>WT</td>\n",
       "      <td>WT</td>\n",
       "      <td>WT</td>\n",
       "      <td>WT</td>\n",
       "      <td>WT</td>\n",
       "    </tr>\n",
       "    <tr>\n",
       "      <th>6200</th>\n",
       "      <td>TRAIN_6200</td>\n",
       "      <td>SKCM</td>\n",
       "      <td>WT</td>\n",
       "      <td>WT</td>\n",
       "      <td>WT</td>\n",
       "      <td>WT</td>\n",
       "      <td>WT</td>\n",
       "      <td>WT</td>\n",
       "      <td>WT</td>\n",
       "      <td>WT</td>\n",
       "      <td>...</td>\n",
       "      <td>WT</td>\n",
       "      <td>WT</td>\n",
       "      <td>WT</td>\n",
       "      <td>WT</td>\n",
       "      <td>WT</td>\n",
       "      <td>WT</td>\n",
       "      <td>WT</td>\n",
       "      <td>WT</td>\n",
       "      <td>WT</td>\n",
       "      <td>WT</td>\n",
       "    </tr>\n",
       "  </tbody>\n",
       "</table>\n",
       "<p>6201 rows × 4386 columns</p>\n",
       "</div>"
      ],
      "text/plain": [
       "              ID SUBCLASS    A2M AAAS AADAT AARS1 ABAT ABCA1 ABCA2 ABCA3  ...  \\\n",
       "0     TRAIN_0000    KIPAN     WT   WT    WT    WT   WT    WT    WT    WT  ...   \n",
       "1     TRAIN_0001     SARC     WT   WT    WT    WT   WT    WT    WT    WT  ...   \n",
       "2     TRAIN_0002     SKCM  R895R   WT    WT    WT   WT    WT    WT    WT  ...   \n",
       "3     TRAIN_0003     KIRC     WT   WT    WT    WT   WT    WT    WT    WT  ...   \n",
       "4     TRAIN_0004   GBMLGG     WT   WT    WT    WT   WT    WT    WT    WT  ...   \n",
       "...          ...      ...    ...  ...   ...   ...  ...   ...   ...   ...  ...   \n",
       "6196  TRAIN_6196     LUAD     WT   WT    WT    WT   WT    WT    WT    WT  ...   \n",
       "6197  TRAIN_6197      LGG     WT   WT    WT    WT   WT    WT    WT    WT  ...   \n",
       "6198  TRAIN_6198     COAD     WT   WT    WT    WT   WT    WT    WT    WT  ...   \n",
       "6199  TRAIN_6199     TGCT     WT   WT    WT    WT   WT    WT    WT    WT  ...   \n",
       "6200  TRAIN_6200     SKCM     WT   WT    WT    WT   WT    WT    WT    WT  ...   \n",
       "\n",
       "     ZNF292 ZNF365 ZNF639 ZNF707 ZNFX1 ZNRF4 ZPBP ZW10  ZWINT ZYX  \n",
       "0        WT     WT     WT     WT    WT    WT   WT   WT     WT  WT  \n",
       "1        WT     WT     WT     WT    WT    WT   WT   WT     WT  WT  \n",
       "2        WT     WT     WT     WT    WT    WT   WT   WT     WT  WT  \n",
       "3        WT     WT     WT     WT    WT    WT   WT   WT     WT  WT  \n",
       "4        WT     WT     WT     WT    WT    WT   WT   WT     WT  WT  \n",
       "...     ...    ...    ...    ...   ...   ...  ...  ...    ...  ..  \n",
       "6196     WT     WT     WT     WT    WT    WT   WT   WT     WT  WT  \n",
       "6197     WT     WT     WT     WT    WT    WT   WT   WT     WT  WT  \n",
       "6198     WT     WT     WT     WT    WT    WT   WT   WT  T181S  WT  \n",
       "6199     WT     WT     WT     WT    WT    WT   WT   WT     WT  WT  \n",
       "6200     WT     WT     WT     WT    WT    WT   WT   WT     WT  WT  \n",
       "\n",
       "[6201 rows x 4386 columns]"
      ]
     },
     "execution_count": 1086,
     "metadata": {},
     "output_type": "execute_result"
    }
   ],
   "source": [
    "train_data"
   ]
  },
  {
   "cell_type": "code",
   "execution_count": 1095,
   "metadata": {},
   "outputs": [],
   "source": [
    "ff = [] \n",
    "\n",
    "\n"
   ]
  },
  {
   "cell_type": "code",
   "execution_count": 1099,
   "metadata": {},
   "outputs": [],
   "source": [
    "ff0=set(train_data.columns).intersection(set(ref0['g.name']))\n",
    "ff1=set(train_data.columns).intersection(set(ref1['g.name']))\n",
    "ff2=set(train_data.columns).intersection(set(ref2['g.name']))\n",
    "ff3=set(train_data.columns).intersection(set(ref3['g.name']))\n",
    "ff4=set(train_data.columns).intersection(set(ref4['g.name']))\n",
    "ff5=set(train_data.columns).intersection(set(ref5['g.name']))\n",
    "ff6=set(train_data.columns).intersection(set(ref6['g.name']))\n",
    "ff7=set(train_data.columns).intersection(set(ref7['g.name']))\n",
    "ff8=set(train_data.columns).intersection(set(ref8['g.name']))\n",
    "ff9=set(train_data.columns).intersection(set(ref9['g.name']))\n",
    "ff10=set(train_data.columns).intersection(set(ref10['g.name']))\n",
    "ff11=set(train_data.columns).intersection(set(ref11['g.name']))\n",
    "ff12=set(train_data.columns).intersection(set(ref12['g.name']))\n",
    "ff13=set(train_data.columns).intersection(set(ref13['g.name']))\n",
    "#ff14=set(train_data.columns).intersection(set(ref14['g.name']))\n",
    "ff15=set(train_data.columns).intersection(set(ref15['g.name']))\n",
    "ff16=set(train_data.columns).intersection(set(ref16['g.name']))\n",
    "ff17=set(train_data.columns).intersection(set(ref17['g.name']))\n",
    "ff18=set(train_data.columns).intersection(set(ref18['g.name']))\n",
    "#ff19=set(train_data.columns).intersection(set(ref19['g.name']))\n",
    "ff20=set(train_data.columns).intersection(set(ref20['g.name']))\n",
    "ff21=set(train_data.columns).intersection(set(ref21['g.name']))\n",
    "ff22=set(train_data.columns).intersection(set(ref22['g.name']))\n",
    "ff23=set(train_data.columns).intersection(set(ref23['g.name']))\n",
    "ff24=set(train_data.columns).intersection(set(ref24['g.name']))\n",
    "ff25=set(train_data.columns).intersection(set(ref25['g.name']))"
   ]
  },
  {
   "cell_type": "code",
   "execution_count": 1075,
   "metadata": {},
   "outputs": [
    {
     "data": {
      "text/plain": [
       "1956"
      ]
     },
     "execution_count": 1075,
     "metadata": {},
     "output_type": "execute_result"
    }
   ],
   "source": [
    "len(f8)"
   ]
  },
  {
   "cell_type": "code",
   "execution_count": 1105,
   "metadata": {},
   "outputs": [],
   "source": [
    "y = train_data['SUBCLASS']\n",
    "encoder2 = LabelEncoder()\n",
    "y = encoder2.fit_transform(y)"
   ]
  },
  {
   "cell_type": "code",
   "execution_count": 1030,
   "metadata": {},
   "outputs": [],
   "source": [
    "disease = ['BRCA','KIPAN','GBMLGG','STES','KIRC','THCA','SKCM','PRAD','OV','LGG','HNSC','COAD','UCEC','SARC','LUAD','LUSC','LIHC','LAML','CESC','PCPG','TGCT','PAAD','BLCA''THYM','ACC','DLBC']"
   ]
  },
  {
   "cell_type": "code",
   "execution_count": 1103,
   "metadata": {},
   "outputs": [
    {
     "data": {
      "text/html": [
       "<div>\n",
       "<style scoped>\n",
       "    .dataframe tbody tr th:only-of-type {\n",
       "        vertical-align: middle;\n",
       "    }\n",
       "\n",
       "    .dataframe tbody tr th {\n",
       "        vertical-align: top;\n",
       "    }\n",
       "\n",
       "    .dataframe thead th {\n",
       "        text-align: right;\n",
       "    }\n",
       "</style>\n",
       "<table border=\"1\" class=\"dataframe\">\n",
       "  <thead>\n",
       "    <tr style=\"text-align: right;\">\n",
       "      <th></th>\n",
       "      <th>TGM2</th>\n",
       "      <th>LOXL2</th>\n",
       "      <th>ELL</th>\n",
       "      <th>GPX1</th>\n",
       "      <th>THRB</th>\n",
       "      <th>PPM1D</th>\n",
       "      <th>EPHB4</th>\n",
       "      <th>RACGAP1</th>\n",
       "      <th>HHEX</th>\n",
       "      <th>CXCL9</th>\n",
       "      <th>...</th>\n",
       "      <th>RRM2</th>\n",
       "      <th>ALDOA</th>\n",
       "      <th>ARID5B</th>\n",
       "      <th>TGFBI</th>\n",
       "      <th>BIN1</th>\n",
       "      <th>CKS2</th>\n",
       "      <th>CSTF3</th>\n",
       "      <th>ERBB3</th>\n",
       "      <th>VDR</th>\n",
       "      <th>PDK4</th>\n",
       "    </tr>\n",
       "  </thead>\n",
       "  <tbody>\n",
       "    <tr>\n",
       "      <th>0</th>\n",
       "      <td>0</td>\n",
       "      <td>0</td>\n",
       "      <td>0</td>\n",
       "      <td>0</td>\n",
       "      <td>0</td>\n",
       "      <td>0</td>\n",
       "      <td>1</td>\n",
       "      <td>0</td>\n",
       "      <td>0</td>\n",
       "      <td>0</td>\n",
       "      <td>...</td>\n",
       "      <td>0</td>\n",
       "      <td>0</td>\n",
       "      <td>0</td>\n",
       "      <td>0</td>\n",
       "      <td>0</td>\n",
       "      <td>0</td>\n",
       "      <td>0</td>\n",
       "      <td>0</td>\n",
       "      <td>0</td>\n",
       "      <td>0</td>\n",
       "    </tr>\n",
       "    <tr>\n",
       "      <th>1</th>\n",
       "      <td>0</td>\n",
       "      <td>0</td>\n",
       "      <td>0</td>\n",
       "      <td>0</td>\n",
       "      <td>0</td>\n",
       "      <td>0</td>\n",
       "      <td>0</td>\n",
       "      <td>0</td>\n",
       "      <td>0</td>\n",
       "      <td>0</td>\n",
       "      <td>...</td>\n",
       "      <td>0</td>\n",
       "      <td>0</td>\n",
       "      <td>0</td>\n",
       "      <td>0</td>\n",
       "      <td>0</td>\n",
       "      <td>0</td>\n",
       "      <td>0</td>\n",
       "      <td>0</td>\n",
       "      <td>0</td>\n",
       "      <td>0</td>\n",
       "    </tr>\n",
       "    <tr>\n",
       "      <th>2</th>\n",
       "      <td>0</td>\n",
       "      <td>1</td>\n",
       "      <td>0</td>\n",
       "      <td>0</td>\n",
       "      <td>0</td>\n",
       "      <td>0</td>\n",
       "      <td>0</td>\n",
       "      <td>0</td>\n",
       "      <td>0</td>\n",
       "      <td>0</td>\n",
       "      <td>...</td>\n",
       "      <td>0</td>\n",
       "      <td>0</td>\n",
       "      <td>0</td>\n",
       "      <td>0</td>\n",
       "      <td>0</td>\n",
       "      <td>0</td>\n",
       "      <td>0</td>\n",
       "      <td>0</td>\n",
       "      <td>0</td>\n",
       "      <td>0</td>\n",
       "    </tr>\n",
       "    <tr>\n",
       "      <th>3</th>\n",
       "      <td>0</td>\n",
       "      <td>0</td>\n",
       "      <td>0</td>\n",
       "      <td>0</td>\n",
       "      <td>0</td>\n",
       "      <td>0</td>\n",
       "      <td>0</td>\n",
       "      <td>0</td>\n",
       "      <td>0</td>\n",
       "      <td>0</td>\n",
       "      <td>...</td>\n",
       "      <td>0</td>\n",
       "      <td>0</td>\n",
       "      <td>0</td>\n",
       "      <td>0</td>\n",
       "      <td>0</td>\n",
       "      <td>0</td>\n",
       "      <td>0</td>\n",
       "      <td>0</td>\n",
       "      <td>0</td>\n",
       "      <td>0</td>\n",
       "    </tr>\n",
       "    <tr>\n",
       "      <th>4</th>\n",
       "      <td>0</td>\n",
       "      <td>0</td>\n",
       "      <td>0</td>\n",
       "      <td>0</td>\n",
       "      <td>0</td>\n",
       "      <td>0</td>\n",
       "      <td>0</td>\n",
       "      <td>0</td>\n",
       "      <td>0</td>\n",
       "      <td>0</td>\n",
       "      <td>...</td>\n",
       "      <td>0</td>\n",
       "      <td>0</td>\n",
       "      <td>0</td>\n",
       "      <td>0</td>\n",
       "      <td>0</td>\n",
       "      <td>0</td>\n",
       "      <td>0</td>\n",
       "      <td>0</td>\n",
       "      <td>0</td>\n",
       "      <td>0</td>\n",
       "    </tr>\n",
       "    <tr>\n",
       "      <th>...</th>\n",
       "      <td>...</td>\n",
       "      <td>...</td>\n",
       "      <td>...</td>\n",
       "      <td>...</td>\n",
       "      <td>...</td>\n",
       "      <td>...</td>\n",
       "      <td>...</td>\n",
       "      <td>...</td>\n",
       "      <td>...</td>\n",
       "      <td>...</td>\n",
       "      <td>...</td>\n",
       "      <td>...</td>\n",
       "      <td>...</td>\n",
       "      <td>...</td>\n",
       "      <td>...</td>\n",
       "      <td>...</td>\n",
       "      <td>...</td>\n",
       "      <td>...</td>\n",
       "      <td>...</td>\n",
       "      <td>...</td>\n",
       "      <td>...</td>\n",
       "    </tr>\n",
       "    <tr>\n",
       "      <th>6196</th>\n",
       "      <td>0</td>\n",
       "      <td>0</td>\n",
       "      <td>0</td>\n",
       "      <td>0</td>\n",
       "      <td>0</td>\n",
       "      <td>0</td>\n",
       "      <td>0</td>\n",
       "      <td>0</td>\n",
       "      <td>0</td>\n",
       "      <td>0</td>\n",
       "      <td>...</td>\n",
       "      <td>0</td>\n",
       "      <td>0</td>\n",
       "      <td>0</td>\n",
       "      <td>0</td>\n",
       "      <td>0</td>\n",
       "      <td>0</td>\n",
       "      <td>0</td>\n",
       "      <td>0</td>\n",
       "      <td>0</td>\n",
       "      <td>0</td>\n",
       "    </tr>\n",
       "    <tr>\n",
       "      <th>6197</th>\n",
       "      <td>0</td>\n",
       "      <td>0</td>\n",
       "      <td>0</td>\n",
       "      <td>0</td>\n",
       "      <td>0</td>\n",
       "      <td>0</td>\n",
       "      <td>0</td>\n",
       "      <td>0</td>\n",
       "      <td>0</td>\n",
       "      <td>0</td>\n",
       "      <td>...</td>\n",
       "      <td>0</td>\n",
       "      <td>0</td>\n",
       "      <td>0</td>\n",
       "      <td>0</td>\n",
       "      <td>0</td>\n",
       "      <td>0</td>\n",
       "      <td>0</td>\n",
       "      <td>0</td>\n",
       "      <td>0</td>\n",
       "      <td>0</td>\n",
       "    </tr>\n",
       "    <tr>\n",
       "      <th>6198</th>\n",
       "      <td>0</td>\n",
       "      <td>0</td>\n",
       "      <td>0</td>\n",
       "      <td>0</td>\n",
       "      <td>0</td>\n",
       "      <td>0</td>\n",
       "      <td>0</td>\n",
       "      <td>0</td>\n",
       "      <td>0</td>\n",
       "      <td>0</td>\n",
       "      <td>...</td>\n",
       "      <td>0</td>\n",
       "      <td>0</td>\n",
       "      <td>0</td>\n",
       "      <td>0</td>\n",
       "      <td>0</td>\n",
       "      <td>0</td>\n",
       "      <td>0</td>\n",
       "      <td>0</td>\n",
       "      <td>0</td>\n",
       "      <td>0</td>\n",
       "    </tr>\n",
       "    <tr>\n",
       "      <th>6199</th>\n",
       "      <td>0</td>\n",
       "      <td>0</td>\n",
       "      <td>0</td>\n",
       "      <td>0</td>\n",
       "      <td>0</td>\n",
       "      <td>0</td>\n",
       "      <td>0</td>\n",
       "      <td>0</td>\n",
       "      <td>0</td>\n",
       "      <td>0</td>\n",
       "      <td>...</td>\n",
       "      <td>0</td>\n",
       "      <td>0</td>\n",
       "      <td>0</td>\n",
       "      <td>0</td>\n",
       "      <td>0</td>\n",
       "      <td>0</td>\n",
       "      <td>0</td>\n",
       "      <td>0</td>\n",
       "      <td>0</td>\n",
       "      <td>0</td>\n",
       "    </tr>\n",
       "    <tr>\n",
       "      <th>6200</th>\n",
       "      <td>0</td>\n",
       "      <td>0</td>\n",
       "      <td>0</td>\n",
       "      <td>0</td>\n",
       "      <td>0</td>\n",
       "      <td>0</td>\n",
       "      <td>0</td>\n",
       "      <td>0</td>\n",
       "      <td>0</td>\n",
       "      <td>0</td>\n",
       "      <td>...</td>\n",
       "      <td>0</td>\n",
       "      <td>0</td>\n",
       "      <td>0</td>\n",
       "      <td>0</td>\n",
       "      <td>0</td>\n",
       "      <td>0</td>\n",
       "      <td>0</td>\n",
       "      <td>0</td>\n",
       "      <td>0</td>\n",
       "      <td>0</td>\n",
       "    </tr>\n",
       "  </tbody>\n",
       "</table>\n",
       "<p>6201 rows × 497 columns</p>\n",
       "</div>"
      ],
      "text/plain": [
       "      TGM2  LOXL2  ELL  GPX1  THRB  PPM1D  EPHB4  RACGAP1  HHEX  CXCL9  ...  \\\n",
       "0        0      0    0     0     0      0      1        0     0      0  ...   \n",
       "1        0      0    0     0     0      0      0        0     0      0  ...   \n",
       "2        0      1    0     0     0      0      0        0     0      0  ...   \n",
       "3        0      0    0     0     0      0      0        0     0      0  ...   \n",
       "4        0      0    0     0     0      0      0        0     0      0  ...   \n",
       "...    ...    ...  ...   ...   ...    ...    ...      ...   ...    ...  ...   \n",
       "6196     0      0    0     0     0      0      0        0     0      0  ...   \n",
       "6197     0      0    0     0     0      0      0        0     0      0  ...   \n",
       "6198     0      0    0     0     0      0      0        0     0      0  ...   \n",
       "6199     0      0    0     0     0      0      0        0     0      0  ...   \n",
       "6200     0      0    0     0     0      0      0        0     0      0  ...   \n",
       "\n",
       "      RRM2  ALDOA  ARID5B  TGFBI  BIN1  CKS2  CSTF3  ERBB3  VDR  PDK4  \n",
       "0        0      0       0      0     0     0      0      0    0     0  \n",
       "1        0      0       0      0     0     0      0      0    0     0  \n",
       "2        0      0       0      0     0     0      0      0    0     0  \n",
       "3        0      0       0      0     0     0      0      0    0     0  \n",
       "4        0      0       0      0     0     0      0      0    0     0  \n",
       "...    ...    ...     ...    ...   ...   ...    ...    ...  ...   ...  \n",
       "6196     0      0       0      0     0     0      0      0    0     0  \n",
       "6197     0      0       0      0     0     0      0      0    0     0  \n",
       "6198     0      0       0      0     0     0      0      0    0     0  \n",
       "6199     0      0       0      0     0     0      0      0    0     0  \n",
       "6200     0      0       0      0     0     0      0      0    0     0  \n",
       "\n",
       "[6201 rows x 497 columns]"
      ]
     },
     "execution_count": 1103,
     "metadata": {},
     "output_type": "execute_result"
    }
   ],
   "source": [
    "X_f0"
   ]
  },
  {
   "cell_type": "code",
   "execution_count": 1107,
   "metadata": {},
   "outputs": [
    {
     "data": {
      "text/plain": [
       "6201"
      ]
     },
     "execution_count": 1107,
     "metadata": {},
     "output_type": "execute_result"
    }
   ],
   "source": [
    "len(y)"
   ]
  },
  {
   "cell_type": "code",
   "execution_count": 1154,
   "metadata": {},
   "outputs": [
    {
     "name": "stderr",
     "output_type": "stream",
     "text": [
      "[Parallel(n_jobs=-1)]: Using backend ThreadingBackend with 20 concurrent workers.\n",
      "[Parallel(n_jobs=-1)]: Done  10 tasks      | elapsed:    0.0s\n",
      "[Parallel(n_jobs=-1)]: Done 160 tasks      | elapsed:    0.2s\n",
      "[Parallel(n_jobs=-1)]: Done 410 tasks      | elapsed:    0.5s\n",
      "[Parallel(n_jobs=-1)]: Done 500 out of 500 | elapsed:    0.6s finished\n",
      "[Parallel(n_jobs=20)]: Using backend ThreadingBackend with 20 concurrent workers.\n",
      "[Parallel(n_jobs=20)]: Done  10 tasks      | elapsed:    0.0s\n",
      "[Parallel(n_jobs=20)]: Done 160 tasks      | elapsed:    0.0s\n",
      "[Parallel(n_jobs=20)]: Done 410 tasks      | elapsed:    0.1s\n",
      "[Parallel(n_jobs=20)]: Done 500 out of 500 | elapsed:    0.1s finished\n"
     ]
    },
    {
     "data": {
      "text/plain": [
       "2546"
      ]
     },
     "execution_count": 1154,
     "metadata": {},
     "output_type": "execute_result"
    }
   ],
   "source": [
    "# f0 BRCA 위한 분류기\n",
    "X_f0 = train_data.loc[:, list(ff0)]\n",
    "X_f0 = X_f0.applymap(lambda x : 0 if x=='WT' else 1)\n",
    "X_train_f0, X_test_f0, y_train_f0, y_test_f0 = train_test_split(X_f0, y, test_size = 0.3, random_state=156) \n",
    "clf_f0 = get_rf_classifier(X_train_f0, y_train_f0)\n",
    "y_pred = clf_f0.predict_proba(df_test.loc[:, list(ff0)])\n",
    "f0_list=[]\n",
    "for line1 in y_pred:\n",
    "    f0_list.append(line1.max())\n",
    "len(f0_list)"
   ]
  },
  {
   "cell_type": "code",
   "execution_count": 1156,
   "metadata": {},
   "outputs": [
    {
     "data": {
      "text/html": [
       "<div>\n",
       "<style scoped>\n",
       "    .dataframe tbody tr th:only-of-type {\n",
       "        vertical-align: middle;\n",
       "    }\n",
       "\n",
       "    .dataframe tbody tr th {\n",
       "        vertical-align: top;\n",
       "    }\n",
       "\n",
       "    .dataframe thead th {\n",
       "        text-align: right;\n",
       "    }\n",
       "</style>\n",
       "<table border=\"1\" class=\"dataframe\">\n",
       "  <thead>\n",
       "    <tr style=\"text-align: right;\">\n",
       "      <th></th>\n",
       "      <th>ID</th>\n",
       "      <th>SUBCLASS</th>\n",
       "      <th>A2M</th>\n",
       "      <th>AAAS</th>\n",
       "      <th>AADAT</th>\n",
       "      <th>AARS1</th>\n",
       "      <th>ABAT</th>\n",
       "      <th>ABCA1</th>\n",
       "      <th>ABCA2</th>\n",
       "      <th>ABCA3</th>\n",
       "      <th>...</th>\n",
       "      <th>ZNF292</th>\n",
       "      <th>ZNF365</th>\n",
       "      <th>ZNF639</th>\n",
       "      <th>ZNF707</th>\n",
       "      <th>ZNFX1</th>\n",
       "      <th>ZNRF4</th>\n",
       "      <th>ZPBP</th>\n",
       "      <th>ZW10</th>\n",
       "      <th>ZWINT</th>\n",
       "      <th>ZYX</th>\n",
       "    </tr>\n",
       "  </thead>\n",
       "  <tbody>\n",
       "    <tr>\n",
       "      <th>0</th>\n",
       "      <td>TRAIN_0000</td>\n",
       "      <td>KIPAN</td>\n",
       "      <td>WT</td>\n",
       "      <td>WT</td>\n",
       "      <td>WT</td>\n",
       "      <td>WT</td>\n",
       "      <td>WT</td>\n",
       "      <td>WT</td>\n",
       "      <td>WT</td>\n",
       "      <td>WT</td>\n",
       "      <td>...</td>\n",
       "      <td>WT</td>\n",
       "      <td>WT</td>\n",
       "      <td>WT</td>\n",
       "      <td>WT</td>\n",
       "      <td>WT</td>\n",
       "      <td>WT</td>\n",
       "      <td>WT</td>\n",
       "      <td>WT</td>\n",
       "      <td>WT</td>\n",
       "      <td>WT</td>\n",
       "    </tr>\n",
       "    <tr>\n",
       "      <th>16</th>\n",
       "      <td>TRAIN_0016</td>\n",
       "      <td>KIPAN</td>\n",
       "      <td>WT</td>\n",
       "      <td>WT</td>\n",
       "      <td>WT</td>\n",
       "      <td>WT</td>\n",
       "      <td>WT</td>\n",
       "      <td>WT</td>\n",
       "      <td>WT</td>\n",
       "      <td>WT</td>\n",
       "      <td>...</td>\n",
       "      <td>WT</td>\n",
       "      <td>WT</td>\n",
       "      <td>WT</td>\n",
       "      <td>WT</td>\n",
       "      <td>WT</td>\n",
       "      <td>WT</td>\n",
       "      <td>WT</td>\n",
       "      <td>WT</td>\n",
       "      <td>WT</td>\n",
       "      <td>WT</td>\n",
       "    </tr>\n",
       "    <tr>\n",
       "      <th>17</th>\n",
       "      <td>TRAIN_0017</td>\n",
       "      <td>KIPAN</td>\n",
       "      <td>WT</td>\n",
       "      <td>WT</td>\n",
       "      <td>WT</td>\n",
       "      <td>WT</td>\n",
       "      <td>WT</td>\n",
       "      <td>WT</td>\n",
       "      <td>WT</td>\n",
       "      <td>WT</td>\n",
       "      <td>...</td>\n",
       "      <td>WT</td>\n",
       "      <td>WT</td>\n",
       "      <td>WT</td>\n",
       "      <td>WT</td>\n",
       "      <td>WT</td>\n",
       "      <td>WT</td>\n",
       "      <td>WT</td>\n",
       "      <td>WT</td>\n",
       "      <td>WT</td>\n",
       "      <td>WT</td>\n",
       "    </tr>\n",
       "    <tr>\n",
       "      <th>59</th>\n",
       "      <td>TRAIN_0059</td>\n",
       "      <td>KIPAN</td>\n",
       "      <td>WT</td>\n",
       "      <td>WT</td>\n",
       "      <td>WT</td>\n",
       "      <td>WT</td>\n",
       "      <td>WT</td>\n",
       "      <td>WT</td>\n",
       "      <td>WT</td>\n",
       "      <td>WT</td>\n",
       "      <td>...</td>\n",
       "      <td>WT</td>\n",
       "      <td>WT</td>\n",
       "      <td>WT</td>\n",
       "      <td>WT</td>\n",
       "      <td>WT</td>\n",
       "      <td>WT</td>\n",
       "      <td>WT</td>\n",
       "      <td>WT</td>\n",
       "      <td>WT</td>\n",
       "      <td>WT</td>\n",
       "    </tr>\n",
       "    <tr>\n",
       "      <th>66</th>\n",
       "      <td>TRAIN_0066</td>\n",
       "      <td>KIPAN</td>\n",
       "      <td>WT</td>\n",
       "      <td>WT</td>\n",
       "      <td>WT</td>\n",
       "      <td>WT</td>\n",
       "      <td>WT</td>\n",
       "      <td>WT</td>\n",
       "      <td>WT</td>\n",
       "      <td>WT</td>\n",
       "      <td>...</td>\n",
       "      <td>WT</td>\n",
       "      <td>WT</td>\n",
       "      <td>WT</td>\n",
       "      <td>WT</td>\n",
       "      <td>WT</td>\n",
       "      <td>WT</td>\n",
       "      <td>WT</td>\n",
       "      <td>WT</td>\n",
       "      <td>WT</td>\n",
       "      <td>WT</td>\n",
       "    </tr>\n",
       "    <tr>\n",
       "      <th>...</th>\n",
       "      <td>...</td>\n",
       "      <td>...</td>\n",
       "      <td>...</td>\n",
       "      <td>...</td>\n",
       "      <td>...</td>\n",
       "      <td>...</td>\n",
       "      <td>...</td>\n",
       "      <td>...</td>\n",
       "      <td>...</td>\n",
       "      <td>...</td>\n",
       "      <td>...</td>\n",
       "      <td>...</td>\n",
       "      <td>...</td>\n",
       "      <td>...</td>\n",
       "      <td>...</td>\n",
       "      <td>...</td>\n",
       "      <td>...</td>\n",
       "      <td>...</td>\n",
       "      <td>...</td>\n",
       "      <td>...</td>\n",
       "      <td>...</td>\n",
       "    </tr>\n",
       "    <tr>\n",
       "      <th>6132</th>\n",
       "      <td>TRAIN_6132</td>\n",
       "      <td>KIPAN</td>\n",
       "      <td>WT</td>\n",
       "      <td>WT</td>\n",
       "      <td>WT</td>\n",
       "      <td>WT</td>\n",
       "      <td>WT</td>\n",
       "      <td>WT</td>\n",
       "      <td>WT</td>\n",
       "      <td>WT</td>\n",
       "      <td>...</td>\n",
       "      <td>WT</td>\n",
       "      <td>WT</td>\n",
       "      <td>WT</td>\n",
       "      <td>WT</td>\n",
       "      <td>S196G</td>\n",
       "      <td>WT</td>\n",
       "      <td>WT</td>\n",
       "      <td>WT</td>\n",
       "      <td>WT</td>\n",
       "      <td>WT</td>\n",
       "    </tr>\n",
       "    <tr>\n",
       "      <th>6137</th>\n",
       "      <td>TRAIN_6137</td>\n",
       "      <td>KIPAN</td>\n",
       "      <td>WT</td>\n",
       "      <td>WT</td>\n",
       "      <td>WT</td>\n",
       "      <td>WT</td>\n",
       "      <td>WT</td>\n",
       "      <td>WT</td>\n",
       "      <td>WT</td>\n",
       "      <td>WT</td>\n",
       "      <td>...</td>\n",
       "      <td>WT</td>\n",
       "      <td>WT</td>\n",
       "      <td>WT</td>\n",
       "      <td>WT</td>\n",
       "      <td>WT</td>\n",
       "      <td>WT</td>\n",
       "      <td>WT</td>\n",
       "      <td>WT</td>\n",
       "      <td>WT</td>\n",
       "      <td>WT</td>\n",
       "    </tr>\n",
       "    <tr>\n",
       "      <th>6163</th>\n",
       "      <td>TRAIN_6163</td>\n",
       "      <td>KIPAN</td>\n",
       "      <td>WT</td>\n",
       "      <td>WT</td>\n",
       "      <td>WT</td>\n",
       "      <td>WT</td>\n",
       "      <td>WT</td>\n",
       "      <td>WT</td>\n",
       "      <td>WT</td>\n",
       "      <td>WT</td>\n",
       "      <td>...</td>\n",
       "      <td>WT</td>\n",
       "      <td>WT</td>\n",
       "      <td>WT</td>\n",
       "      <td>WT</td>\n",
       "      <td>WT</td>\n",
       "      <td>WT</td>\n",
       "      <td>WT</td>\n",
       "      <td>WT</td>\n",
       "      <td>WT</td>\n",
       "      <td>WT</td>\n",
       "    </tr>\n",
       "    <tr>\n",
       "      <th>6186</th>\n",
       "      <td>TRAIN_6186</td>\n",
       "      <td>KIPAN</td>\n",
       "      <td>WT</td>\n",
       "      <td>WT</td>\n",
       "      <td>WT</td>\n",
       "      <td>WT</td>\n",
       "      <td>WT</td>\n",
       "      <td>WT</td>\n",
       "      <td>WT</td>\n",
       "      <td>WT</td>\n",
       "      <td>...</td>\n",
       "      <td>WT</td>\n",
       "      <td>WT</td>\n",
       "      <td>WT</td>\n",
       "      <td>WT</td>\n",
       "      <td>WT</td>\n",
       "      <td>WT</td>\n",
       "      <td>WT</td>\n",
       "      <td>WT</td>\n",
       "      <td>WT</td>\n",
       "      <td>WT</td>\n",
       "    </tr>\n",
       "    <tr>\n",
       "      <th>6194</th>\n",
       "      <td>TRAIN_6194</td>\n",
       "      <td>KIPAN</td>\n",
       "      <td>WT</td>\n",
       "      <td>WT</td>\n",
       "      <td>WT</td>\n",
       "      <td>WT</td>\n",
       "      <td>WT</td>\n",
       "      <td>WT</td>\n",
       "      <td>WT</td>\n",
       "      <td>WT</td>\n",
       "      <td>...</td>\n",
       "      <td>WT</td>\n",
       "      <td>WT</td>\n",
       "      <td>WT</td>\n",
       "      <td>WT</td>\n",
       "      <td>WT</td>\n",
       "      <td>WT</td>\n",
       "      <td>WT</td>\n",
       "      <td>WT</td>\n",
       "      <td>WT</td>\n",
       "      <td>WT</td>\n",
       "    </tr>\n",
       "  </tbody>\n",
       "</table>\n",
       "<p>515 rows × 4386 columns</p>\n",
       "</div>"
      ],
      "text/plain": [
       "              ID SUBCLASS A2M AAAS AADAT AARS1 ABAT ABCA1 ABCA2 ABCA3  ...  \\\n",
       "0     TRAIN_0000    KIPAN  WT   WT    WT    WT   WT    WT    WT    WT  ...   \n",
       "16    TRAIN_0016    KIPAN  WT   WT    WT    WT   WT    WT    WT    WT  ...   \n",
       "17    TRAIN_0017    KIPAN  WT   WT    WT    WT   WT    WT    WT    WT  ...   \n",
       "59    TRAIN_0059    KIPAN  WT   WT    WT    WT   WT    WT    WT    WT  ...   \n",
       "66    TRAIN_0066    KIPAN  WT   WT    WT    WT   WT    WT    WT    WT  ...   \n",
       "...          ...      ...  ..  ...   ...   ...  ...   ...   ...   ...  ...   \n",
       "6132  TRAIN_6132    KIPAN  WT   WT    WT    WT   WT    WT    WT    WT  ...   \n",
       "6137  TRAIN_6137    KIPAN  WT   WT    WT    WT   WT    WT    WT    WT  ...   \n",
       "6163  TRAIN_6163    KIPAN  WT   WT    WT    WT   WT    WT    WT    WT  ...   \n",
       "6186  TRAIN_6186    KIPAN  WT   WT    WT    WT   WT    WT    WT    WT  ...   \n",
       "6194  TRAIN_6194    KIPAN  WT   WT    WT    WT   WT    WT    WT    WT  ...   \n",
       "\n",
       "     ZNF292 ZNF365 ZNF639 ZNF707  ZNFX1 ZNRF4 ZPBP ZW10 ZWINT ZYX  \n",
       "0        WT     WT     WT     WT     WT    WT   WT   WT    WT  WT  \n",
       "16       WT     WT     WT     WT     WT    WT   WT   WT    WT  WT  \n",
       "17       WT     WT     WT     WT     WT    WT   WT   WT    WT  WT  \n",
       "59       WT     WT     WT     WT     WT    WT   WT   WT    WT  WT  \n",
       "66       WT     WT     WT     WT     WT    WT   WT   WT    WT  WT  \n",
       "...     ...    ...    ...    ...    ...   ...  ...  ...   ...  ..  \n",
       "6132     WT     WT     WT     WT  S196G    WT   WT   WT    WT  WT  \n",
       "6137     WT     WT     WT     WT     WT    WT   WT   WT    WT  WT  \n",
       "6163     WT     WT     WT     WT     WT    WT   WT   WT    WT  WT  \n",
       "6186     WT     WT     WT     WT     WT    WT   WT   WT    WT  WT  \n",
       "6194     WT     WT     WT     WT     WT    WT   WT   WT    WT  WT  \n",
       "\n",
       "[515 rows x 4386 columns]"
      ]
     },
     "execution_count": 1156,
     "metadata": {},
     "output_type": "execute_result"
    }
   ],
   "source": [
    "tdf = train_data[train_data.SUBCLASS=='KIPAN']\n",
    "tdf"
   ]
  },
  {
   "cell_type": "code",
   "execution_count": 1157,
   "metadata": {},
   "outputs": [
    {
     "name": "stderr",
     "output_type": "stream",
     "text": [
      "[Parallel(n_jobs=-1)]: Using backend ThreadingBackend with 20 concurrent workers.\n",
      "[Parallel(n_jobs=-1)]: Done  10 tasks      | elapsed:    0.0s\n",
      "[Parallel(n_jobs=-1)]: Done 160 tasks      | elapsed:    0.2s\n",
      "[Parallel(n_jobs=-1)]: Done 410 tasks      | elapsed:    0.5s\n",
      "[Parallel(n_jobs=-1)]: Done 500 out of 500 | elapsed:    0.5s finished\n",
      "[Parallel(n_jobs=20)]: Using backend ThreadingBackend with 20 concurrent workers.\n",
      "[Parallel(n_jobs=20)]: Done  10 tasks      | elapsed:    0.0s\n",
      "[Parallel(n_jobs=20)]: Done 160 tasks      | elapsed:    0.0s\n",
      "[Parallel(n_jobs=20)]: Done 410 tasks      | elapsed:    0.1s\n",
      "[Parallel(n_jobs=20)]: Done 500 out of 500 | elapsed:    0.1s finished\n"
     ]
    },
    {
     "data": {
      "text/plain": [
       "2546"
      ]
     },
     "execution_count": 1157,
     "metadata": {},
     "output_type": "execute_result"
    }
   ],
   "source": [
    "# f1 KIPAN을 위한 분류기\n",
    "X_f1 = train_data.loc[:, list(ff1)]\n",
    "X_f1 = X_f1.applymap(lambda x : 0 if x=='WT' else 1)\n",
    "X_train_f1, X_test_f1, y_train_f1, y_test_f1 = train_test_split(X_f1, y, test_size = 0.3, random_state=156) \n",
    "clf_f1 = get_rf_classifier(X_train_f1, y_train_f1) #RandomForestClassifier() \n",
    "\n",
    "y_pred = clf_f1.predict_proba(df_test.loc[:, list(ff1)])\n",
    "f1_list=[]\n",
    "for line1 in y_pred:\n",
    "    f1_list.append(line1.max())\n",
    "len(f1_list)"
   ]
  },
  {
   "cell_type": "code",
   "execution_count": 1158,
   "metadata": {},
   "outputs": [
    {
     "data": {
      "text/plain": [
       "array([[1., 1.],\n",
       "       [1., 1.],\n",
       "       [1., 1.],\n",
       "       ...,\n",
       "       [1., 1.],\n",
       "       [1., 1.],\n",
       "       [1., 1.]])"
      ]
     },
     "execution_count": 1158,
     "metadata": {},
     "output_type": "execute_result"
    }
   ],
   "source": [
    "res_arr = np.column_stack((f0_list, f1_list))\n",
    "res_arr"
   ]
  },
  {
   "cell_type": "code",
   "execution_count": 1112,
   "metadata": {},
   "outputs": [],
   "source": [
    "max_columns = np.argmax(res_arr, axis=1)"
   ]
  },
  {
   "cell_type": "code",
   "execution_count": 1113,
   "metadata": {},
   "outputs": [
    {
     "data": {
      "text/plain": [
       "array([1, 1, 0, ..., 1, 0, 0])"
      ]
     },
     "execution_count": 1113,
     "metadata": {},
     "output_type": "execute_result"
    }
   ],
   "source": [
    "max_columns"
   ]
  },
  {
   "cell_type": "code",
   "execution_count": null,
   "metadata": {},
   "outputs": [],
   "source": []
  },
  {
   "cell_type": "code",
   "execution_count": null,
   "metadata": {},
   "outputs": [],
   "source": []
  },
  {
   "cell_type": "code",
   "execution_count": 1118,
   "metadata": {},
   "outputs": [],
   "source": [
    "# f2 command_r('GBMLGG', 0, 0, 'logi', 0.62)\n",
    "def get_res_list(sclass, features, ctype):\n",
    "    res_list = []\n",
    "    X = train_data.loc[:, list(features)]\n",
    "    X = X.applymap(lambda x : 0 if x=='WT' else 1)\n",
    "    X_train_f1, _, y_train_f1, _ = train_test_split(X, y, test_size = 0.3, random_state=156) \n",
    "    \n",
    "    clf_fx = get_rf_classifier(X_train_f1, y_train_f1) \n",
    "    if ctype == 'logi':\n",
    "        clf_fx = get_logi_classifier(X_train_f1, y_train_f1)\n",
    "    y_pred = clf_fx.predict_proba(df_test.loc[:, list(features)])\n",
    "    \n",
    "    for line1 in y_pred:\n",
    "        res_list.append(line1.max())\n",
    "    print(sclass, len(res_list))\n",
    "    return res_list\n",
    "\n",
    "#f3 command_r('STES', 0, 0, 'logi', 0.81) #0.73"
   ]
  },
  {
   "cell_type": "code",
   "execution_count": null,
   "metadata": {},
   "outputs": [],
   "source": []
  },
  {
   "cell_type": "code",
   "execution_count": 1119,
   "metadata": {},
   "outputs": [
    {
     "data": {
      "text/plain": [
       "array([[0.20971087, 0.23266374],\n",
       "       [0.202     , 0.99677407],\n",
       "       [0.168     , 0.1233505 ],\n",
       "       ...,\n",
       "       [0.316     , 0.99090573],\n",
       "       [0.16698461, 0.12646705],\n",
       "       [0.37679787, 0.1233505 ]])"
      ]
     },
     "execution_count": 1119,
     "metadata": {},
     "output_type": "execute_result"
    }
   ],
   "source": [
    "#res_arr = np.column_stack((res_arr, rlist))\n",
    "res_arr"
   ]
  },
  {
   "cell_type": "code",
   "execution_count": null,
   "metadata": {},
   "outputs": [],
   "source": []
  },
  {
   "cell_type": "code",
   "execution_count": 1120,
   "metadata": {},
   "outputs": [
    {
     "name": "stderr",
     "output_type": "stream",
     "text": [
      "[Parallel(n_jobs=-1)]: Using backend ThreadingBackend with 20 concurrent workers.\n",
      "[Parallel(n_jobs=-1)]: Done  10 tasks      | elapsed:    0.0s\n",
      "[Parallel(n_jobs=-1)]: Done 160 tasks      | elapsed:    0.2s\n",
      "[Parallel(n_jobs=-1)]: Done 410 tasks      | elapsed:    0.6s\n",
      "[Parallel(n_jobs=-1)]: Done 500 out of 500 | elapsed:    0.7s finished\n"
     ]
    },
    {
     "name": "stdout",
     "output_type": "stream",
     "text": [
      "GBMLGG 2546\n"
     ]
    }
   ],
   "source": [
    "import numpy as np \n",
    "rlist = get_res_list('GBMLGG', ff2, 'logi')\n",
    "#"
   ]
  },
  {
   "cell_type": "code",
   "execution_count": 1121,
   "metadata": {},
   "outputs": [
    {
     "data": {
      "text/plain": [
       "array([[0.20971087, 0.23266374, 0.21200249],\n",
       "       [0.202     , 0.99677407, 0.52863337],\n",
       "       [0.168     , 0.1233505 , 0.1482251 ],\n",
       "       ...,\n",
       "       [0.316     , 0.99090573, 0.57924835],\n",
       "       [0.16698461, 0.12646705, 0.14297567],\n",
       "       [0.37679787, 0.1233505 , 0.46557616]])"
      ]
     },
     "execution_count": 1121,
     "metadata": {},
     "output_type": "execute_result"
    }
   ],
   "source": [
    "res_arr = np.column_stack((res_arr, rlist))\n",
    "res_arr"
   ]
  },
  {
   "cell_type": "code",
   "execution_count": 1123,
   "metadata": {},
   "outputs": [
    {
     "name": "stderr",
     "output_type": "stream",
     "text": [
      "[Parallel(n_jobs=-1)]: Using backend ThreadingBackend with 20 concurrent workers.\n",
      "[Parallel(n_jobs=-1)]: Done  10 tasks      | elapsed:    0.0s\n",
      "[Parallel(n_jobs=-1)]: Done 160 tasks      | elapsed:    0.2s\n",
      "[Parallel(n_jobs=-1)]: Done 410 tasks      | elapsed:    0.6s\n",
      "[Parallel(n_jobs=-1)]: Done 500 out of 500 | elapsed:    0.7s finished\n"
     ]
    },
    {
     "name": "stdout",
     "output_type": "stream",
     "text": [
      "STES 2546\n"
     ]
    },
    {
     "data": {
      "text/plain": [
       "array([[0.20971087, 0.23266374, 0.21200249, 0.19612629],\n",
       "       [0.202     , 0.99677407, 0.52863337, 0.25359826],\n",
       "       [0.168     , 0.1233505 , 0.1482251 , 0.14445191],\n",
       "       ...,\n",
       "       [0.316     , 0.99090573, 0.57924835, 0.9249606 ],\n",
       "       [0.16698461, 0.12646705, 0.14297567, 0.59744306],\n",
       "       [0.37679787, 0.1233505 , 0.46557616, 0.14445191]])"
      ]
     },
     "execution_count": 1123,
     "metadata": {},
     "output_type": "execute_result"
    }
   ],
   "source": [
    "rlist = get_res_list('STES', ff3, 'logi')\n",
    "res_arr = np.column_stack((res_arr, rlist))\n",
    "res_arr"
   ]
  },
  {
   "cell_type": "code",
   "execution_count": 1124,
   "metadata": {},
   "outputs": [
    {
     "name": "stderr",
     "output_type": "stream",
     "text": [
      "[Parallel(n_jobs=-1)]: Using backend ThreadingBackend with 20 concurrent workers.\n",
      "[Parallel(n_jobs=-1)]: Done  10 tasks      | elapsed:    0.0s\n",
      "[Parallel(n_jobs=-1)]: Done 160 tasks      | elapsed:    0.2s\n",
      "[Parallel(n_jobs=-1)]: Done 410 tasks      | elapsed:    0.6s\n",
      "[Parallel(n_jobs=-1)]: Done 500 out of 500 | elapsed:    0.8s finished\n",
      "[Parallel(n_jobs=20)]: Using backend ThreadingBackend with 20 concurrent workers.\n",
      "[Parallel(n_jobs=20)]: Done  10 tasks      | elapsed:    0.0s\n",
      "[Parallel(n_jobs=20)]: Done 160 tasks      | elapsed:    0.0s\n"
     ]
    },
    {
     "name": "stdout",
     "output_type": "stream",
     "text": [
      "KIRC 2546\n"
     ]
    },
    {
     "name": "stderr",
     "output_type": "stream",
     "text": [
      "[Parallel(n_jobs=20)]: Done 410 tasks      | elapsed:    0.1s\n",
      "[Parallel(n_jobs=20)]: Done 500 out of 500 | elapsed:    0.1s finished\n"
     ]
    },
    {
     "data": {
      "text/plain": [
       "array([[0.20971087, 0.23266374, 0.21200249, 0.19612629, 0.05644045],\n",
       "       [0.202     , 0.99677407, 0.52863337, 0.25359826, 0.15282781],\n",
       "       [0.168     , 0.1233505 , 0.1482251 , 0.14445191, 0.05644045],\n",
       "       ...,\n",
       "       [0.316     , 0.99090573, 0.57924835, 0.9249606 , 0.172     ],\n",
       "       [0.16698461, 0.12646705, 0.14297567, 0.59744306, 0.05644045],\n",
       "       [0.37679787, 0.1233505 , 0.46557616, 0.14445191, 0.05644045]])"
      ]
     },
     "execution_count": 1124,
     "metadata": {},
     "output_type": "execute_result"
    }
   ],
   "source": [
    "rlist = get_res_list('KIRC', ff4, 'rf')\n",
    "res_arr = np.column_stack((res_arr, rlist))\n",
    "res_arr"
   ]
  },
  {
   "cell_type": "code",
   "execution_count": 1125,
   "metadata": {},
   "outputs": [
    {
     "name": "stderr",
     "output_type": "stream",
     "text": [
      "[Parallel(n_jobs=-1)]: Using backend ThreadingBackend with 20 concurrent workers.\n",
      "[Parallel(n_jobs=-1)]: Done  10 tasks      | elapsed:    0.0s\n",
      "[Parallel(n_jobs=-1)]: Done 160 tasks      | elapsed:    0.2s\n",
      "[Parallel(n_jobs=-1)]: Done 410 tasks      | elapsed:    0.6s\n",
      "[Parallel(n_jobs=-1)]: Done 500 out of 500 | elapsed:    0.7s finished\n",
      "[Parallel(n_jobs=20)]: Using backend ThreadingBackend with 20 concurrent workers.\n",
      "[Parallel(n_jobs=20)]: Done  10 tasks      | elapsed:    0.0s\n",
      "[Parallel(n_jobs=20)]: Done 160 tasks      | elapsed:    0.0s\n"
     ]
    },
    {
     "name": "stdout",
     "output_type": "stream",
     "text": [
      "THCA 2546\n"
     ]
    },
    {
     "name": "stderr",
     "output_type": "stream",
     "text": [
      "[Parallel(n_jobs=20)]: Done 410 tasks      | elapsed:    0.1s\n",
      "[Parallel(n_jobs=20)]: Done 500 out of 500 | elapsed:    0.1s finished\n"
     ]
    },
    {
     "data": {
      "text/plain": [
       "array([[0.20971087, 0.23266374, 0.21200249, 0.19612629, 0.05644045,\n",
       "        0.1383737 ],\n",
       "       [0.202     , 0.99677407, 0.52863337, 0.25359826, 0.15282781,\n",
       "        0.453803  ],\n",
       "       [0.168     , 0.1233505 , 0.1482251 , 0.14445191, 0.05644045,\n",
       "        0.15580118],\n",
       "       ...,\n",
       "       [0.316     , 0.99090573, 0.57924835, 0.9249606 , 0.172     ,\n",
       "        0.502     ],\n",
       "       [0.16698461, 0.12646705, 0.14297567, 0.59744306, 0.05644045,\n",
       "        0.07025364],\n",
       "       [0.37679787, 0.1233505 , 0.46557616, 0.14445191, 0.05644045,\n",
       "        0.07025364]])"
      ]
     },
     "execution_count": 1125,
     "metadata": {},
     "output_type": "execute_result"
    }
   ],
   "source": [
    "#f5 = get_genes('THCA', 0, 0)\n",
    "rlist = get_res_list('THCA', ff5, 'rf')\n",
    "res_arr = np.column_stack((res_arr, rlist))\n",
    "res_arr\n"
   ]
  },
  {
   "cell_type": "code",
   "execution_count": 1126,
   "metadata": {},
   "outputs": [
    {
     "name": "stderr",
     "output_type": "stream",
     "text": [
      "[Parallel(n_jobs=-1)]: Using backend ThreadingBackend with 20 concurrent workers.\n",
      "[Parallel(n_jobs=-1)]: Done  10 tasks      | elapsed:    0.0s\n",
      "[Parallel(n_jobs=-1)]: Done 160 tasks      | elapsed:    0.2s\n",
      "[Parallel(n_jobs=-1)]: Done 410 tasks      | elapsed:    0.6s\n",
      "[Parallel(n_jobs=-1)]: Done 500 out of 500 | elapsed:    0.7s finished\n",
      "[Parallel(n_jobs=20)]: Using backend ThreadingBackend with 20 concurrent workers.\n",
      "[Parallel(n_jobs=20)]: Done  10 tasks      | elapsed:    0.0s\n",
      "[Parallel(n_jobs=20)]: Done 160 tasks      | elapsed:    0.0s\n"
     ]
    },
    {
     "name": "stdout",
     "output_type": "stream",
     "text": [
      "SKCM 2546\n"
     ]
    },
    {
     "name": "stderr",
     "output_type": "stream",
     "text": [
      "[Parallel(n_jobs=20)]: Done 410 tasks      | elapsed:    0.1s\n",
      "[Parallel(n_jobs=20)]: Done 500 out of 500 | elapsed:    0.1s finished\n"
     ]
    },
    {
     "data": {
      "text/plain": [
       "array([[0.20971087, 0.23266374, 0.21200249, ..., 0.05644045, 0.1383737 ,\n",
       "        0.39270928],\n",
       "       [0.202     , 0.99677407, 0.52863337, ..., 0.15282781, 0.453803  ,\n",
       "        0.2695202 ],\n",
       "       [0.168     , 0.1233505 , 0.1482251 , ..., 0.05644045, 0.15580118,\n",
       "        0.06547412],\n",
       "       ...,\n",
       "       [0.316     , 0.99090573, 0.57924835, ..., 0.172     , 0.502     ,\n",
       "        0.292     ],\n",
       "       [0.16698461, 0.12646705, 0.14297567, ..., 0.05644045, 0.07025364,\n",
       "        0.06547412],\n",
       "       [0.37679787, 0.1233505 , 0.46557616, ..., 0.05644045, 0.07025364,\n",
       "        0.06547412]])"
      ]
     },
     "execution_count": 1126,
     "metadata": {},
     "output_type": "execute_result"
    }
   ],
   "source": [
    "#f6 = get_genes('SKCM', 0, 5)\n",
    "rlist = get_res_list('SKCM', ff6, 'rf')\n",
    "res_arr = np.column_stack((res_arr, rlist))\n",
    "res_arr"
   ]
  },
  {
   "cell_type": "code",
   "execution_count": 1127,
   "metadata": {},
   "outputs": [
    {
     "name": "stderr",
     "output_type": "stream",
     "text": [
      "[Parallel(n_jobs=-1)]: Using backend ThreadingBackend with 20 concurrent workers.\n",
      "[Parallel(n_jobs=-1)]: Done  10 tasks      | elapsed:    0.0s\n",
      "[Parallel(n_jobs=-1)]: Done 160 tasks      | elapsed:    0.3s\n",
      "[Parallel(n_jobs=-1)]: Done 410 tasks      | elapsed:    0.8s\n",
      "[Parallel(n_jobs=-1)]: Done 500 out of 500 | elapsed:    1.0s finished\n",
      "[Parallel(n_jobs=20)]: Using backend ThreadingBackend with 20 concurrent workers.\n",
      "[Parallel(n_jobs=20)]: Done  10 tasks      | elapsed:    0.0s\n"
     ]
    },
    {
     "name": "stdout",
     "output_type": "stream",
     "text": [
      "PRAD 2546\n"
     ]
    },
    {
     "name": "stderr",
     "output_type": "stream",
     "text": [
      "[Parallel(n_jobs=20)]: Done 160 tasks      | elapsed:    0.0s\n",
      "[Parallel(n_jobs=20)]: Done 410 tasks      | elapsed:    0.1s\n",
      "[Parallel(n_jobs=20)]: Done 500 out of 500 | elapsed:    0.1s finished\n"
     ]
    },
    {
     "data": {
      "text/plain": [
       "array([[0.20971087, 0.23266374, 0.21200249, ..., 0.1383737 , 0.39270928,\n",
       "        0.20498049],\n",
       "       [0.202     , 0.99677407, 0.52863337, ..., 0.453803  , 0.2695202 ,\n",
       "        0.376     ],\n",
       "       [0.168     , 0.1233505 , 0.1482251 , ..., 0.15580118, 0.06547412,\n",
       "        0.12042469],\n",
       "       ...,\n",
       "       [0.316     , 0.99090573, 0.57924835, ..., 0.502     , 0.292     ,\n",
       "        0.28      ],\n",
       "       [0.16698461, 0.12646705, 0.14297567, ..., 0.07025364, 0.06547412,\n",
       "        0.12042469],\n",
       "       [0.37679787, 0.1233505 , 0.46557616, ..., 0.07025364, 0.06547412,\n",
       "        0.12042469]])"
      ]
     },
     "execution_count": 1127,
     "metadata": {},
     "output_type": "execute_result"
    }
   ],
   "source": [
    "#f7 = get_genes('PRAD', 0, 0)\n",
    "rlist = get_res_list('PRAD', ff7, 'rf')\n",
    "res_arr = np.column_stack((res_arr, rlist))\n",
    "res_arr"
   ]
  },
  {
   "cell_type": "code",
   "execution_count": 1128,
   "metadata": {},
   "outputs": [
    {
     "name": "stderr",
     "output_type": "stream",
     "text": [
      "[Parallel(n_jobs=-1)]: Using backend ThreadingBackend with 20 concurrent workers.\n",
      "[Parallel(n_jobs=-1)]: Done  10 tasks      | elapsed:    0.0s\n",
      "[Parallel(n_jobs=-1)]: Done 160 tasks      | elapsed:    0.2s\n",
      "[Parallel(n_jobs=-1)]: Done 410 tasks      | elapsed:    0.6s\n",
      "[Parallel(n_jobs=-1)]: Done 500 out of 500 | elapsed:    0.7s finished\n",
      "[Parallel(n_jobs=20)]: Using backend ThreadingBackend with 20 concurrent workers.\n",
      "[Parallel(n_jobs=20)]: Done  10 tasks      | elapsed:    0.0s\n",
      "[Parallel(n_jobs=20)]: Done 160 tasks      | elapsed:    0.0s\n"
     ]
    },
    {
     "name": "stdout",
     "output_type": "stream",
     "text": [
      "OV 2546\n"
     ]
    },
    {
     "name": "stderr",
     "output_type": "stream",
     "text": [
      "[Parallel(n_jobs=20)]: Done 410 tasks      | elapsed:    0.1s\n",
      "[Parallel(n_jobs=20)]: Done 500 out of 500 | elapsed:    0.1s finished\n"
     ]
    },
    {
     "data": {
      "text/plain": [
       "array([[0.20971087, 0.23266374, 0.21200249, ..., 0.39270928, 0.20498049,\n",
       "        0.65589227],\n",
       "       [0.202     , 0.99677407, 0.52863337, ..., 0.2695202 , 0.376     ,\n",
       "        0.622     ],\n",
       "       [0.168     , 0.1233505 , 0.1482251 , ..., 0.06547412, 0.12042469,\n",
       "        0.19721354],\n",
       "       ...,\n",
       "       [0.316     , 0.99090573, 0.57924835, ..., 0.292     , 0.28      ,\n",
       "        0.338     ],\n",
       "       [0.16698461, 0.12646705, 0.14297567, ..., 0.06547412, 0.12042469,\n",
       "        0.0873156 ],\n",
       "       [0.37679787, 0.1233505 , 0.46557616, ..., 0.06547412, 0.12042469,\n",
       "        0.0873156 ]])"
      ]
     },
     "execution_count": 1128,
     "metadata": {},
     "output_type": "execute_result"
    }
   ],
   "source": [
    "#f8 = get_genes('OV', 1, 0)\n",
    "rlist = get_res_list('OV', ff8, 'rf')\n",
    "res_arr = np.column_stack((res_arr, rlist))\n",
    "res_arr\n",
    "\n"
   ]
  },
  {
   "cell_type": "code",
   "execution_count": 1129,
   "metadata": {},
   "outputs": [
    {
     "name": "stderr",
     "output_type": "stream",
     "text": [
      "[Parallel(n_jobs=-1)]: Using backend ThreadingBackend with 20 concurrent workers.\n",
      "[Parallel(n_jobs=-1)]: Done  10 tasks      | elapsed:    0.0s\n",
      "[Parallel(n_jobs=-1)]: Done 160 tasks      | elapsed:    0.2s\n",
      "[Parallel(n_jobs=-1)]: Done 410 tasks      | elapsed:    0.6s\n",
      "[Parallel(n_jobs=-1)]: Done 500 out of 500 | elapsed:    0.7s finished\n",
      "[Parallel(n_jobs=20)]: Using backend ThreadingBackend with 20 concurrent workers.\n",
      "[Parallel(n_jobs=20)]: Done  10 tasks      | elapsed:    0.0s\n",
      "[Parallel(n_jobs=20)]: Done 160 tasks      | elapsed:    0.0s\n"
     ]
    },
    {
     "name": "stdout",
     "output_type": "stream",
     "text": [
      "LGG 2546\n"
     ]
    },
    {
     "name": "stderr",
     "output_type": "stream",
     "text": [
      "[Parallel(n_jobs=20)]: Done 410 tasks      | elapsed:    0.1s\n",
      "[Parallel(n_jobs=20)]: Done 500 out of 500 | elapsed:    0.1s finished\n"
     ]
    },
    {
     "data": {
      "text/plain": [
       "array([[0.20971087, 0.23266374, 0.21200249, ..., 0.20498049, 0.65589227,\n",
       "        0.48707938],\n",
       "       [0.202     , 0.99677407, 0.52863337, ..., 0.376     , 0.622     ,\n",
       "        0.28698855],\n",
       "       [0.168     , 0.1233505 , 0.1482251 , ..., 0.12042469, 0.19721354,\n",
       "        0.07440454],\n",
       "       ...,\n",
       "       [0.316     , 0.99090573, 0.57924835, ..., 0.28      , 0.338     ,\n",
       "        0.22574522],\n",
       "       [0.16698461, 0.12646705, 0.14297567, ..., 0.12042469, 0.0873156 ,\n",
       "        0.07440454],\n",
       "       [0.37679787, 0.1233505 , 0.46557616, ..., 0.12042469, 0.0873156 ,\n",
       "        0.48153333]])"
      ]
     },
     "execution_count": 1129,
     "metadata": {},
     "output_type": "execute_result"
    }
   ],
   "source": [
    "#f9 = get_genes('LGG', 2, 0)\n",
    "rlist = get_res_list('LGG', ff9, 'rf')\n",
    "res_arr = np.column_stack((res_arr, rlist))\n",
    "res_arr"
   ]
  },
  {
   "cell_type": "code",
   "execution_count": 1130,
   "metadata": {},
   "outputs": [
    {
     "name": "stderr",
     "output_type": "stream",
     "text": [
      "[Parallel(n_jobs=-1)]: Using backend ThreadingBackend with 20 concurrent workers.\n",
      "[Parallel(n_jobs=-1)]: Done  10 tasks      | elapsed:    0.0s\n",
      "[Parallel(n_jobs=-1)]: Done 160 tasks      | elapsed:    0.2s\n",
      "[Parallel(n_jobs=-1)]: Done 410 tasks      | elapsed:    0.6s\n",
      "[Parallel(n_jobs=-1)]: Done 500 out of 500 | elapsed:    0.7s finished\n",
      "[Parallel(n_jobs=20)]: Using backend ThreadingBackend with 20 concurrent workers.\n",
      "[Parallel(n_jobs=20)]: Done  10 tasks      | elapsed:    0.0s\n",
      "[Parallel(n_jobs=20)]: Done 160 tasks      | elapsed:    0.0s\n"
     ]
    },
    {
     "name": "stdout",
     "output_type": "stream",
     "text": [
      "HNSC 2546\n"
     ]
    },
    {
     "name": "stderr",
     "output_type": "stream",
     "text": [
      "[Parallel(n_jobs=20)]: Done 410 tasks      | elapsed:    0.1s\n",
      "[Parallel(n_jobs=20)]: Done 500 out of 500 | elapsed:    0.1s finished\n"
     ]
    },
    {
     "data": {
      "text/plain": [
       "array([[0.20971087, 0.23266374, 0.21200249, ..., 0.65589227, 0.48707938,\n",
       "        0.14369212],\n",
       "       [0.202     , 0.99677407, 0.52863337, ..., 0.622     , 0.28698855,\n",
       "        0.37382808],\n",
       "       [0.168     , 0.1233505 , 0.1482251 , ..., 0.19721354, 0.07440454,\n",
       "        0.06837821],\n",
       "       ...,\n",
       "       [0.316     , 0.99090573, 0.57924835, ..., 0.338     , 0.22574522,\n",
       "        0.1646909 ],\n",
       "       [0.16698461, 0.12646705, 0.14297567, ..., 0.0873156 , 0.07440454,\n",
       "        0.06837821],\n",
       "       [0.37679787, 0.1233505 , 0.46557616, ..., 0.0873156 , 0.48153333,\n",
       "        0.06837821]])"
      ]
     },
     "execution_count": 1130,
     "metadata": {},
     "output_type": "execute_result"
    }
   ],
   "source": [
    "#f10 = get_genes('HNSC', 2, 1)\n",
    "rlist = get_res_list('HNSC', ff10, 'rf')\n",
    "res_arr = np.column_stack((res_arr, rlist))\n",
    "res_arr\n"
   ]
  },
  {
   "cell_type": "code",
   "execution_count": 1131,
   "metadata": {},
   "outputs": [
    {
     "name": "stderr",
     "output_type": "stream",
     "text": [
      "[Parallel(n_jobs=-1)]: Using backend ThreadingBackend with 20 concurrent workers.\n",
      "[Parallel(n_jobs=-1)]: Done  10 tasks      | elapsed:    0.0s\n",
      "[Parallel(n_jobs=-1)]: Done 160 tasks      | elapsed:    0.3s\n",
      "[Parallel(n_jobs=-1)]: Done 410 tasks      | elapsed:    0.7s\n",
      "[Parallel(n_jobs=-1)]: Done 500 out of 500 | elapsed:    0.9s finished\n",
      "[Parallel(n_jobs=20)]: Using backend ThreadingBackend with 20 concurrent workers.\n",
      "[Parallel(n_jobs=20)]: Done  10 tasks      | elapsed:    0.0s\n"
     ]
    },
    {
     "name": "stdout",
     "output_type": "stream",
     "text": [
      "COAD 2546\n"
     ]
    },
    {
     "name": "stderr",
     "output_type": "stream",
     "text": [
      "[Parallel(n_jobs=20)]: Done 160 tasks      | elapsed:    0.0s\n",
      "[Parallel(n_jobs=20)]: Done 410 tasks      | elapsed:    0.1s\n",
      "[Parallel(n_jobs=20)]: Done 500 out of 500 | elapsed:    0.1s finished\n"
     ]
    },
    {
     "data": {
      "text/plain": [
       "array([[0.20971087, 0.23266374, 0.21200249, ..., 0.48707938, 0.14369212,\n",
       "        0.31447477],\n",
       "       [0.202     , 0.99677407, 0.52863337, ..., 0.28698855, 0.37382808,\n",
       "        0.23634434],\n",
       "       [0.168     , 0.1233505 , 0.1482251 , ..., 0.07440454, 0.06837821,\n",
       "        0.11404244],\n",
       "       ...,\n",
       "       [0.316     , 0.99090573, 0.57924835, ..., 0.22574522, 0.1646909 ,\n",
       "        0.256     ],\n",
       "       [0.16698461, 0.12646705, 0.14297567, ..., 0.07440454, 0.06837821,\n",
       "        1.        ],\n",
       "       [0.37679787, 0.1233505 , 0.46557616, ..., 0.48153333, 0.06837821,\n",
       "        0.11404244]])"
      ]
     },
     "execution_count": 1131,
     "metadata": {},
     "output_type": "execute_result"
    }
   ],
   "source": [
    "#f11 = get_genes('COAD', 0, 2)\n",
    "rlist = get_res_list('COAD', ff11, 'rf')\n",
    "res_arr = np.column_stack((res_arr, rlist))\n",
    "res_arr\n"
   ]
  },
  {
   "cell_type": "code",
   "execution_count": 1132,
   "metadata": {},
   "outputs": [
    {
     "name": "stderr",
     "output_type": "stream",
     "text": [
      "[Parallel(n_jobs=-1)]: Using backend ThreadingBackend with 20 concurrent workers.\n",
      "[Parallel(n_jobs=-1)]: Done  10 tasks      | elapsed:    0.0s\n",
      "[Parallel(n_jobs=-1)]: Done 160 tasks      | elapsed:    0.3s\n",
      "[Parallel(n_jobs=-1)]: Done 410 tasks      | elapsed:    0.6s\n",
      "[Parallel(n_jobs=-1)]: Done 500 out of 500 | elapsed:    0.7s finished\n",
      "[Parallel(n_jobs=20)]: Using backend ThreadingBackend with 20 concurrent workers.\n",
      "[Parallel(n_jobs=20)]: Done  10 tasks      | elapsed:    0.0s\n",
      "[Parallel(n_jobs=20)]: Done 160 tasks      | elapsed:    0.0s\n"
     ]
    },
    {
     "name": "stdout",
     "output_type": "stream",
     "text": [
      "UCEC 2546\n"
     ]
    },
    {
     "name": "stderr",
     "output_type": "stream",
     "text": [
      "[Parallel(n_jobs=20)]: Done 410 tasks      | elapsed:    0.1s\n",
      "[Parallel(n_jobs=20)]: Done 500 out of 500 | elapsed:    0.1s finished\n"
     ]
    },
    {
     "data": {
      "text/plain": [
       "array([[0.20971087, 0.23266374, 0.21200249, ..., 0.14369212, 0.31447477,\n",
       "        0.15085519],\n",
       "       [0.202     , 0.99677407, 0.52863337, ..., 0.37382808, 0.23634434,\n",
       "        0.75625227],\n",
       "       [0.168     , 0.1233505 , 0.1482251 , ..., 0.06837821, 0.11404244,\n",
       "        0.07549751],\n",
       "       ...,\n",
       "       [0.316     , 0.99090573, 0.57924835, ..., 0.1646909 , 0.256     ,\n",
       "        0.374     ],\n",
       "       [0.16698461, 0.12646705, 0.14297567, ..., 0.06837821, 1.        ,\n",
       "        0.07549751],\n",
       "       [0.37679787, 0.1233505 , 0.46557616, ..., 0.06837821, 0.11404244,\n",
       "        0.07549751]])"
      ]
     },
     "execution_count": 1132,
     "metadata": {},
     "output_type": "execute_result"
    }
   ],
   "source": [
    "#f12 = get_genes('UCEC', 0, 2)\n",
    "rlist = get_res_list('UCEC', ff12, 'rf')\n",
    "res_arr = np.column_stack((res_arr, rlist))\n",
    "res_arr\n"
   ]
  },
  {
   "cell_type": "code",
   "execution_count": 1133,
   "metadata": {},
   "outputs": [
    {
     "name": "stderr",
     "output_type": "stream",
     "text": [
      "[Parallel(n_jobs=-1)]: Using backend ThreadingBackend with 20 concurrent workers.\n",
      "[Parallel(n_jobs=-1)]: Done  10 tasks      | elapsed:    0.0s\n",
      "[Parallel(n_jobs=-1)]: Done 160 tasks      | elapsed:    0.2s\n",
      "[Parallel(n_jobs=-1)]: Done 410 tasks      | elapsed:    0.6s\n",
      "[Parallel(n_jobs=-1)]: Done 500 out of 500 | elapsed:    0.7s finished\n",
      "[Parallel(n_jobs=20)]: Using backend ThreadingBackend with 20 concurrent workers.\n",
      "[Parallel(n_jobs=20)]: Done  10 tasks      | elapsed:    0.0s\n",
      "[Parallel(n_jobs=20)]: Done 160 tasks      | elapsed:    0.0s\n"
     ]
    },
    {
     "name": "stdout",
     "output_type": "stream",
     "text": [
      "SARC 2546\n"
     ]
    },
    {
     "name": "stderr",
     "output_type": "stream",
     "text": [
      "[Parallel(n_jobs=20)]: Done 410 tasks      | elapsed:    0.1s\n",
      "[Parallel(n_jobs=20)]: Done 500 out of 500 | elapsed:    0.1s finished\n"
     ]
    },
    {
     "data": {
      "text/plain": [
       "array([[0.20971087, 0.23266374, 0.21200249, ..., 0.31447477, 0.15085519,\n",
       "        0.28499389],\n",
       "       [0.202     , 0.99677407, 0.52863337, ..., 0.23634434, 0.75625227,\n",
       "        0.54741761],\n",
       "       [0.168     , 0.1233505 , 0.1482251 , ..., 0.11404244, 0.07549751,\n",
       "        0.06527683],\n",
       "       ...,\n",
       "       [0.316     , 0.99090573, 0.57924835, ..., 0.256     , 0.374     ,\n",
       "        0.18560714],\n",
       "       [0.16698461, 0.12646705, 0.14297567, ..., 1.        , 0.07549751,\n",
       "        0.83823847],\n",
       "       [0.37679787, 0.1233505 , 0.46557616, ..., 0.11404244, 0.07549751,\n",
       "        0.06527683]])"
      ]
     },
     "execution_count": 1133,
     "metadata": {},
     "output_type": "execute_result"
    }
   ],
   "source": [
    "#f13 = get_genes('SARC', 0, 2)\n",
    "rlist = get_res_list('SARC', ff13, 'rf')\n",
    "res_arr = np.column_stack((res_arr, rlist))\n",
    "res_arr\n"
   ]
  },
  {
   "cell_type": "code",
   "execution_count": 1134,
   "metadata": {},
   "outputs": [
    {
     "name": "stderr",
     "output_type": "stream",
     "text": [
      "[Parallel(n_jobs=-1)]: Using backend ThreadingBackend with 20 concurrent workers.\n",
      "[Parallel(n_jobs=-1)]: Done  10 tasks      | elapsed:    0.1s\n",
      "[Parallel(n_jobs=-1)]: Done 160 tasks      | elapsed:    0.8s\n",
      "[Parallel(n_jobs=-1)]: Done 410 tasks      | elapsed:    1.9s\n",
      "[Parallel(n_jobs=-1)]: Done 500 out of 500 | elapsed:    2.3s finished\n",
      "[Parallel(n_jobs=20)]: Using backend ThreadingBackend with 20 concurrent workers.\n",
      "[Parallel(n_jobs=20)]: Done  10 tasks      | elapsed:    0.0s\n",
      "[Parallel(n_jobs=20)]: Done 160 tasks      | elapsed:    0.0s\n",
      "[Parallel(n_jobs=20)]: Done 410 tasks      | elapsed:    0.1s\n",
      "[Parallel(n_jobs=20)]: Done 500 out of 500 | elapsed:    0.1s finished\n"
     ]
    },
    {
     "name": "stdout",
     "output_type": "stream",
     "text": [
      "LUAD 2546\n"
     ]
    },
    {
     "data": {
      "text/plain": [
       "array([[0.20971087, 0.23266374, 0.21200249, ..., 0.15085519, 0.28499389,\n",
       "        0.194     ],\n",
       "       [0.202     , 0.99677407, 0.52863337, ..., 0.75625227, 0.54741761,\n",
       "        0.122     ],\n",
       "       [0.168     , 0.1233505 , 0.1482251 , ..., 0.07549751, 0.06527683,\n",
       "        0.51454932],\n",
       "       ...,\n",
       "       [0.316     , 0.99090573, 0.57924835, ..., 0.374     , 0.18560714,\n",
       "        0.306     ],\n",
       "       [0.16698461, 0.12646705, 0.14297567, ..., 0.07549751, 0.83823847,\n",
       "        0.972     ],\n",
       "       [0.37679787, 0.1233505 , 0.46557616, ..., 0.07549751, 0.06527683,\n",
       "        0.75619698]])"
      ]
     },
     "execution_count": 1134,
     "metadata": {},
     "output_type": "execute_result"
    }
   ],
   "source": [
    "#f14 = get_genes('LUAD', 0, 2)\n",
    "rlist = get_res_list('LUAD', f14, 'rf')\n",
    "res_arr = np.column_stack((res_arr, rlist))\n",
    "res_arr"
   ]
  },
  {
   "cell_type": "code",
   "execution_count": 1135,
   "metadata": {},
   "outputs": [
    {
     "name": "stderr",
     "output_type": "stream",
     "text": [
      "[Parallel(n_jobs=-1)]: Using backend ThreadingBackend with 20 concurrent workers.\n",
      "[Parallel(n_jobs=-1)]: Done  10 tasks      | elapsed:    0.0s\n",
      "[Parallel(n_jobs=-1)]: Done 160 tasks      | elapsed:    0.3s\n",
      "[Parallel(n_jobs=-1)]: Done 410 tasks      | elapsed:    0.7s\n",
      "[Parallel(n_jobs=-1)]: Done 500 out of 500 | elapsed:    0.9s finished\n",
      "[Parallel(n_jobs=20)]: Using backend ThreadingBackend with 20 concurrent workers.\n",
      "[Parallel(n_jobs=20)]: Done  10 tasks      | elapsed:    0.0s\n",
      "[Parallel(n_jobs=20)]: Done 160 tasks      | elapsed:    0.0s\n"
     ]
    },
    {
     "name": "stdout",
     "output_type": "stream",
     "text": [
      "LUSC 2546\n"
     ]
    },
    {
     "name": "stderr",
     "output_type": "stream",
     "text": [
      "[Parallel(n_jobs=20)]: Done 410 tasks      | elapsed:    0.1s\n",
      "[Parallel(n_jobs=20)]: Done 500 out of 500 | elapsed:    0.1s finished\n"
     ]
    },
    {
     "data": {
      "text/plain": [
       "array([[0.20971087, 0.23266374, 0.21200249, ..., 0.28499389, 0.194     ,\n",
       "        0.14943162],\n",
       "       [0.202     , 0.99677407, 0.52863337, ..., 0.54741761, 0.122     ,\n",
       "        0.3684141 ],\n",
       "       [0.168     , 0.1233505 , 0.1482251 , ..., 0.06527683, 0.51454932,\n",
       "        0.11653009],\n",
       "       ...,\n",
       "       [0.316     , 0.99090573, 0.57924835, ..., 0.18560714, 0.306     ,\n",
       "        0.266     ],\n",
       "       [0.16698461, 0.12646705, 0.14297567, ..., 0.83823847, 0.972     ,\n",
       "        0.11653009],\n",
       "       [0.37679787, 0.1233505 , 0.46557616, ..., 0.06527683, 0.75619698,\n",
       "        0.11653009]])"
      ]
     },
     "execution_count": 1135,
     "metadata": {},
     "output_type": "execute_result"
    }
   ],
   "source": [
    "#f15 = get_genes('LUSC', 0, 2)\n",
    "rlist = get_res_list('LUSC', ff15, 'rf')\n",
    "res_arr = np.column_stack((res_arr, rlist))\n",
    "res_arr"
   ]
  },
  {
   "cell_type": "code",
   "execution_count": 1136,
   "metadata": {},
   "outputs": [
    {
     "name": "stderr",
     "output_type": "stream",
     "text": [
      "[Parallel(n_jobs=-1)]: Using backend ThreadingBackend with 20 concurrent workers.\n",
      "[Parallel(n_jobs=-1)]: Done  10 tasks      | elapsed:    0.0s\n",
      "[Parallel(n_jobs=-1)]: Done 160 tasks      | elapsed:    0.2s\n",
      "[Parallel(n_jobs=-1)]: Done 410 tasks      | elapsed:    0.6s\n",
      "[Parallel(n_jobs=-1)]: Done 500 out of 500 | elapsed:    0.7s finished\n",
      "[Parallel(n_jobs=20)]: Using backend ThreadingBackend with 20 concurrent workers.\n",
      "[Parallel(n_jobs=20)]: Done  10 tasks      | elapsed:    0.0s\n",
      "[Parallel(n_jobs=20)]: Done 160 tasks      | elapsed:    0.0s\n"
     ]
    },
    {
     "name": "stdout",
     "output_type": "stream",
     "text": [
      "LIHC 2546\n"
     ]
    },
    {
     "name": "stderr",
     "output_type": "stream",
     "text": [
      "[Parallel(n_jobs=20)]: Done 410 tasks      | elapsed:    0.1s\n",
      "[Parallel(n_jobs=20)]: Done 500 out of 500 | elapsed:    0.1s finished\n"
     ]
    },
    {
     "data": {
      "text/plain": [
       "array([[0.20971087, 0.23266374, 0.21200249, ..., 0.194     , 0.14943162,\n",
       "        0.67169785],\n",
       "       [0.202     , 0.99677407, 0.52863337, ..., 0.122     , 0.3684141 ,\n",
       "        0.36702798],\n",
       "       [0.168     , 0.1233505 , 0.1482251 , ..., 0.51454932, 0.11653009,\n",
       "        0.08996482],\n",
       "       ...,\n",
       "       [0.316     , 0.99090573, 0.57924835, ..., 0.306     , 0.266     ,\n",
       "        0.242     ],\n",
       "       [0.16698461, 0.12646705, 0.14297567, ..., 0.972     , 0.11653009,\n",
       "        0.08996482],\n",
       "       [0.37679787, 0.1233505 , 0.46557616, ..., 0.75619698, 0.11653009,\n",
       "        0.08996482]])"
      ]
     },
     "execution_count": 1136,
     "metadata": {},
     "output_type": "execute_result"
    }
   ],
   "source": [
    "#f16 = get_genes('LIHC', 0, 1)\n",
    "rlist = get_res_list('LIHC', ff16, 'rf')\n",
    "res_arr = np.column_stack((res_arr, rlist))\n",
    "res_arr"
   ]
  },
  {
   "cell_type": "code",
   "execution_count": 1137,
   "metadata": {},
   "outputs": [
    {
     "name": "stderr",
     "output_type": "stream",
     "text": [
      "[Parallel(n_jobs=-1)]: Using backend ThreadingBackend with 20 concurrent workers.\n",
      "[Parallel(n_jobs=-1)]: Done  10 tasks      | elapsed:    0.1s\n",
      "[Parallel(n_jobs=-1)]: Done 160 tasks      | elapsed:    0.4s\n",
      "[Parallel(n_jobs=-1)]: Done 410 tasks      | elapsed:    1.0s\n",
      "[Parallel(n_jobs=-1)]: Done 500 out of 500 | elapsed:    1.1s finished\n",
      "[Parallel(n_jobs=20)]: Using backend ThreadingBackend with 20 concurrent workers.\n",
      "[Parallel(n_jobs=20)]: Done  10 tasks      | elapsed:    0.0s\n",
      "[Parallel(n_jobs=20)]: Done 160 tasks      | elapsed:    0.0s\n",
      "[Parallel(n_jobs=20)]: Done 410 tasks      | elapsed:    0.1s\n",
      "[Parallel(n_jobs=20)]: Done 500 out of 500 | elapsed:    0.1s finished\n"
     ]
    },
    {
     "name": "stdout",
     "output_type": "stream",
     "text": [
      "LAML 2546\n"
     ]
    },
    {
     "data": {
      "text/plain": [
       "array([[0.20971087, 0.23266374, 0.21200249, ..., 0.14943162, 0.67169785,\n",
       "        0.36      ],\n",
       "       [0.202     , 0.99677407, 0.52863337, ..., 0.3684141 , 0.36702798,\n",
       "        0.24915006],\n",
       "       [0.168     , 0.1233505 , 0.1482251 , ..., 0.11653009, 0.08996482,\n",
       "        0.23700685],\n",
       "       ...,\n",
       "       [0.316     , 0.99090573, 0.57924835, ..., 0.266     , 0.242     ,\n",
       "        0.27      ],\n",
       "       [0.16698461, 0.12646705, 0.14297567, ..., 0.11653009, 0.08996482,\n",
       "        1.        ],\n",
       "       [0.37679787, 0.1233505 , 0.46557616, ..., 0.11653009, 0.08996482,\n",
       "        0.53992657]])"
      ]
     },
     "execution_count": 1137,
     "metadata": {},
     "output_type": "execute_result"
    }
   ],
   "source": [
    "#f17 = get_genes('LAML', 0, 0)\n",
    "rlist = get_res_list('LAML', ff17, 'rf')\n",
    "res_arr = np.column_stack((res_arr, rlist))\n",
    "res_arr"
   ]
  },
  {
   "cell_type": "code",
   "execution_count": 1138,
   "metadata": {},
   "outputs": [
    {
     "name": "stderr",
     "output_type": "stream",
     "text": [
      "[Parallel(n_jobs=-1)]: Using backend ThreadingBackend with 20 concurrent workers.\n",
      "[Parallel(n_jobs=-1)]: Done  10 tasks      | elapsed:    0.0s\n",
      "[Parallel(n_jobs=-1)]: Done 160 tasks      | elapsed:    0.3s\n",
      "[Parallel(n_jobs=-1)]: Done 410 tasks      | elapsed:    0.6s\n",
      "[Parallel(n_jobs=-1)]: Done 500 out of 500 | elapsed:    0.7s finished\n",
      "[Parallel(n_jobs=20)]: Using backend ThreadingBackend with 20 concurrent workers.\n",
      "[Parallel(n_jobs=20)]: Done  10 tasks      | elapsed:    0.0s\n",
      "[Parallel(n_jobs=20)]: Done 160 tasks      | elapsed:    0.0s\n"
     ]
    },
    {
     "name": "stdout",
     "output_type": "stream",
     "text": [
      "CESC 2546\n"
     ]
    },
    {
     "name": "stderr",
     "output_type": "stream",
     "text": [
      "[Parallel(n_jobs=20)]: Done 410 tasks      | elapsed:    0.1s\n",
      "[Parallel(n_jobs=20)]: Done 500 out of 500 | elapsed:    0.1s finished\n"
     ]
    },
    {
     "data": {
      "text/plain": [
       "array([[0.20971087, 0.23266374, 0.21200249, ..., 0.67169785, 0.36      ,\n",
       "        0.13264124],\n",
       "       [0.202     , 0.99677407, 0.52863337, ..., 0.36702798, 0.24915006,\n",
       "        0.66115656],\n",
       "       [0.168     , 0.1233505 , 0.1482251 , ..., 0.08996482, 0.23700685,\n",
       "        0.0676837 ],\n",
       "       ...,\n",
       "       [0.316     , 0.99090573, 0.57924835, ..., 0.242     , 0.27      ,\n",
       "        0.26471501],\n",
       "       [0.16698461, 0.12646705, 0.14297567, ..., 0.08996482, 1.        ,\n",
       "        0.0676837 ],\n",
       "       [0.37679787, 0.1233505 , 0.46557616, ..., 0.08996482, 0.53992657,\n",
       "        0.0676837 ]])"
      ]
     },
     "execution_count": 1138,
     "metadata": {},
     "output_type": "execute_result"
    }
   ],
   "source": [
    "#f18 = get_genes('CESC', 0, 2)\n",
    "rlist = get_res_list('CESC', ff18, 'rf')\n",
    "res_arr = np.column_stack((res_arr, rlist))\n",
    "res_arr"
   ]
  },
  {
   "cell_type": "code",
   "execution_count": 1139,
   "metadata": {},
   "outputs": [
    {
     "name": "stderr",
     "output_type": "stream",
     "text": [
      "[Parallel(n_jobs=-1)]: Using backend ThreadingBackend with 20 concurrent workers.\n",
      "[Parallel(n_jobs=-1)]: Done  10 tasks      | elapsed:    0.1s\n",
      "[Parallel(n_jobs=-1)]: Done 160 tasks      | elapsed:    0.4s\n",
      "[Parallel(n_jobs=-1)]: Done 410 tasks      | elapsed:    1.0s\n",
      "[Parallel(n_jobs=-1)]: Done 500 out of 500 | elapsed:    1.2s finished\n",
      "[Parallel(n_jobs=20)]: Using backend ThreadingBackend with 20 concurrent workers.\n",
      "[Parallel(n_jobs=20)]: Done  10 tasks      | elapsed:    0.0s\n",
      "[Parallel(n_jobs=20)]: Done 160 tasks      | elapsed:    0.1s\n",
      "[Parallel(n_jobs=20)]: Done 410 tasks      | elapsed:    0.1s\n",
      "[Parallel(n_jobs=20)]: Done 500 out of 500 | elapsed:    0.1s finished\n"
     ]
    },
    {
     "name": "stdout",
     "output_type": "stream",
     "text": [
      "PCPG 2546\n"
     ]
    },
    {
     "data": {
      "text/plain": [
       "array([[0.20971087, 0.23266374, 0.21200249, ..., 0.36      , 0.13264124,\n",
       "        0.258     ],\n",
       "       [0.202     , 0.99677407, 0.52863337, ..., 0.24915006, 0.66115656,\n",
       "        0.144     ],\n",
       "       [0.168     , 0.1233505 , 0.1482251 , ..., 0.23700685, 0.0676837 ,\n",
       "        0.64622607],\n",
       "       ...,\n",
       "       [0.316     , 0.99090573, 0.57924835, ..., 0.27      , 0.26471501,\n",
       "        0.306     ],\n",
       "       [0.16698461, 0.12646705, 0.14297567, ..., 1.        , 0.0676837 ,\n",
       "        0.69579098],\n",
       "       [0.37679787, 0.1233505 , 0.46557616, ..., 0.53992657, 0.0676837 ,\n",
       "        0.35484088]])"
      ]
     },
     "execution_count": 1139,
     "metadata": {},
     "output_type": "execute_result"
    }
   ],
   "source": [
    "#f19 = get_genes('PCPG', 0, 0)\n",
    "rlist = get_res_list('PCPG', f19, 'rf')\n",
    "res_arr = np.column_stack((res_arr, rlist))\n",
    "res_arr"
   ]
  },
  {
   "cell_type": "code",
   "execution_count": 1140,
   "metadata": {},
   "outputs": [
    {
     "name": "stderr",
     "output_type": "stream",
     "text": [
      "[Parallel(n_jobs=-1)]: Using backend ThreadingBackend with 20 concurrent workers.\n",
      "[Parallel(n_jobs=-1)]: Done  10 tasks      | elapsed:    0.0s\n",
      "[Parallel(n_jobs=-1)]: Done 160 tasks      | elapsed:    0.2s\n",
      "[Parallel(n_jobs=-1)]: Done 410 tasks      | elapsed:    0.6s\n",
      "[Parallel(n_jobs=-1)]: Done 500 out of 500 | elapsed:    0.7s finished\n",
      "[Parallel(n_jobs=20)]: Using backend ThreadingBackend with 20 concurrent workers.\n",
      "[Parallel(n_jobs=20)]: Done  10 tasks      | elapsed:    0.0s\n",
      "[Parallel(n_jobs=20)]: Done 160 tasks      | elapsed:    0.0s\n"
     ]
    },
    {
     "name": "stdout",
     "output_type": "stream",
     "text": [
      "TGCT 2546\n"
     ]
    },
    {
     "name": "stderr",
     "output_type": "stream",
     "text": [
      "[Parallel(n_jobs=20)]: Done 410 tasks      | elapsed:    0.1s\n",
      "[Parallel(n_jobs=20)]: Done 500 out of 500 | elapsed:    0.1s finished\n"
     ]
    },
    {
     "data": {
      "text/plain": [
       "array([[0.20971087, 0.23266374, 0.21200249, ..., 0.13264124, 0.258     ,\n",
       "        0.04191637],\n",
       "       [0.202     , 0.99677407, 0.52863337, ..., 0.66115656, 0.144     ,\n",
       "        0.17065983],\n",
       "       [0.168     , 0.1233505 , 0.1482251 , ..., 0.0676837 , 0.64622607,\n",
       "        0.04191637],\n",
       "       ...,\n",
       "       [0.316     , 0.99090573, 0.57924835, ..., 0.26471501, 0.306     ,\n",
       "        0.36632578],\n",
       "       [0.16698461, 0.12646705, 0.14297567, ..., 0.0676837 , 0.69579098,\n",
       "        0.04191637],\n",
       "       [0.37679787, 0.1233505 , 0.46557616, ..., 0.0676837 , 0.35484088,\n",
       "        0.04191637]])"
      ]
     },
     "execution_count": 1140,
     "metadata": {},
     "output_type": "execute_result"
    }
   ],
   "source": [
    "#f20 = get_genes('TGCT', 0, 0)\n",
    "rlist = get_res_list('TGCT', ff20, 'rf')\n",
    "res_arr = np.column_stack((res_arr, rlist))\n",
    "res_arr"
   ]
  },
  {
   "cell_type": "code",
   "execution_count": 1141,
   "metadata": {},
   "outputs": [
    {
     "name": "stderr",
     "output_type": "stream",
     "text": [
      "[Parallel(n_jobs=-1)]: Using backend ThreadingBackend with 20 concurrent workers.\n",
      "[Parallel(n_jobs=-1)]: Done  10 tasks      | elapsed:    0.0s\n",
      "[Parallel(n_jobs=-1)]: Done 160 tasks      | elapsed:    0.3s\n",
      "[Parallel(n_jobs=-1)]: Done 410 tasks      | elapsed:    0.8s\n",
      "[Parallel(n_jobs=-1)]: Done 500 out of 500 | elapsed:    0.9s finished\n",
      "[Parallel(n_jobs=20)]: Using backend ThreadingBackend with 20 concurrent workers.\n",
      "[Parallel(n_jobs=20)]: Done  10 tasks      | elapsed:    0.0s\n",
      "[Parallel(n_jobs=20)]: Done 160 tasks      | elapsed:    0.0s\n"
     ]
    },
    {
     "name": "stdout",
     "output_type": "stream",
     "text": [
      "PAAD 2546\n"
     ]
    },
    {
     "name": "stderr",
     "output_type": "stream",
     "text": [
      "[Parallel(n_jobs=20)]: Done 410 tasks      | elapsed:    0.1s\n",
      "[Parallel(n_jobs=20)]: Done 500 out of 500 | elapsed:    0.1s finished\n"
     ]
    },
    {
     "data": {
      "text/plain": [
       "array([[0.20971087, 0.23266374, 0.21200249, ..., 0.258     , 0.04191637,\n",
       "        0.20793625],\n",
       "       [0.202     , 0.99677407, 0.52863337, ..., 0.144     , 0.17065983,\n",
       "        0.31295463],\n",
       "       [0.168     , 0.1233505 , 0.1482251 , ..., 0.64622607, 0.04191637,\n",
       "        0.90473553],\n",
       "       ...,\n",
       "       [0.316     , 0.99090573, 0.57924835, ..., 0.306     , 0.36632578,\n",
       "        0.288     ],\n",
       "       [0.16698461, 0.12646705, 0.14297567, ..., 0.69579098, 0.04191637,\n",
       "        0.36190171],\n",
       "       [0.37679787, 0.1233505 , 0.46557616, ..., 0.35484088, 0.04191637,\n",
       "        0.6269888 ]])"
      ]
     },
     "execution_count": 1141,
     "metadata": {},
     "output_type": "execute_result"
    }
   ],
   "source": [
    "#f21 = get_genes('PAAD', 0, 1)\n",
    "rlist = get_res_list('PAAD', ff21, 'rf')\n",
    "res_arr = np.column_stack((res_arr, rlist))\n",
    "res_arr"
   ]
  },
  {
   "cell_type": "code",
   "execution_count": 1142,
   "metadata": {},
   "outputs": [
    {
     "name": "stderr",
     "output_type": "stream",
     "text": [
      "[Parallel(n_jobs=-1)]: Using backend ThreadingBackend with 20 concurrent workers.\n",
      "[Parallel(n_jobs=-1)]: Done  10 tasks      | elapsed:    0.0s\n",
      "[Parallel(n_jobs=-1)]: Done 160 tasks      | elapsed:    0.3s\n",
      "[Parallel(n_jobs=-1)]: Done 410 tasks      | elapsed:    0.6s\n",
      "[Parallel(n_jobs=-1)]: Done 500 out of 500 | elapsed:    0.7s finished\n",
      "[Parallel(n_jobs=20)]: Using backend ThreadingBackend with 20 concurrent workers.\n",
      "[Parallel(n_jobs=20)]: Done  10 tasks      | elapsed:    0.0s\n",
      "[Parallel(n_jobs=20)]: Done 160 tasks      | elapsed:    0.0s\n"
     ]
    },
    {
     "name": "stdout",
     "output_type": "stream",
     "text": [
      "BLCA 2546\n"
     ]
    },
    {
     "name": "stderr",
     "output_type": "stream",
     "text": [
      "[Parallel(n_jobs=20)]: Done 410 tasks      | elapsed:    0.1s\n",
      "[Parallel(n_jobs=20)]: Done 500 out of 500 | elapsed:    0.1s finished\n"
     ]
    },
    {
     "data": {
      "text/plain": [
       "array([[0.20971087, 0.23266374, 0.21200249, ..., 0.04191637, 0.20793625,\n",
       "        0.57359599],\n",
       "       [0.202     , 0.99677407, 0.52863337, ..., 0.17065983, 0.31295463,\n",
       "        0.40315194],\n",
       "       [0.168     , 0.1233505 , 0.1482251 , ..., 0.04191637, 0.90473553,\n",
       "        0.07740839],\n",
       "       ...,\n",
       "       [0.316     , 0.99090573, 0.57924835, ..., 0.36632578, 0.288     ,\n",
       "        0.256     ],\n",
       "       [0.16698461, 0.12646705, 0.14297567, ..., 0.04191637, 0.36190171,\n",
       "        0.07740839],\n",
       "       [0.37679787, 0.1233505 , 0.46557616, ..., 0.04191637, 0.6269888 ,\n",
       "        0.07740839]])"
      ]
     },
     "execution_count": 1142,
     "metadata": {},
     "output_type": "execute_result"
    }
   ],
   "source": [
    "#f22 = get_genes('BLCA', 0, 0)\n",
    "rlist = get_res_list('BLCA', ff22, 'rf')\n",
    "res_arr = np.column_stack((res_arr, rlist))\n",
    "res_arr"
   ]
  },
  {
   "cell_type": "code",
   "execution_count": 1143,
   "metadata": {},
   "outputs": [
    {
     "name": "stderr",
     "output_type": "stream",
     "text": [
      "[Parallel(n_jobs=-1)]: Using backend ThreadingBackend with 20 concurrent workers.\n",
      "[Parallel(n_jobs=-1)]: Done  10 tasks      | elapsed:    0.0s\n",
      "[Parallel(n_jobs=-1)]: Done 160 tasks      | elapsed:    0.2s\n",
      "[Parallel(n_jobs=-1)]: Done 410 tasks      | elapsed:    0.6s\n",
      "[Parallel(n_jobs=-1)]: Done 500 out of 500 | elapsed:    0.6s finished\n",
      "[Parallel(n_jobs=20)]: Using backend ThreadingBackend with 20 concurrent workers.\n",
      "[Parallel(n_jobs=20)]: Done  10 tasks      | elapsed:    0.0s\n",
      "[Parallel(n_jobs=20)]: Done 160 tasks      | elapsed:    0.0s\n"
     ]
    },
    {
     "name": "stdout",
     "output_type": "stream",
     "text": [
      "THYM 2546\n"
     ]
    },
    {
     "name": "stderr",
     "output_type": "stream",
     "text": [
      "[Parallel(n_jobs=20)]: Done 410 tasks      | elapsed:    0.1s\n",
      "[Parallel(n_jobs=20)]: Done 500 out of 500 | elapsed:    0.1s finished\n"
     ]
    },
    {
     "data": {
      "text/plain": [
       "array([[0.20971087, 0.23266374, 0.21200249, ..., 0.20793625, 0.57359599,\n",
       "        0.124871  ],\n",
       "       [0.202     , 0.99677407, 0.52863337, ..., 0.31295463, 0.40315194,\n",
       "        0.19325521],\n",
       "       [0.168     , 0.1233505 , 0.1482251 , ..., 0.90473553, 0.07740839,\n",
       "        0.05689029],\n",
       "       ...,\n",
       "       [0.316     , 0.99090573, 0.57924835, ..., 0.288     , 0.256     ,\n",
       "        0.32059465],\n",
       "       [0.16698461, 0.12646705, 0.14297567, ..., 0.36190171, 0.07740839,\n",
       "        0.05689029],\n",
       "       [0.37679787, 0.1233505 , 0.46557616, ..., 0.6269888 , 0.07740839,\n",
       "        0.05689029]])"
      ]
     },
     "execution_count": 1143,
     "metadata": {},
     "output_type": "execute_result"
    }
   ],
   "source": [
    "#f23 = get_genes('THYM', 0, 0)\n",
    "rlist = get_res_list('THYM', ff23, 'rf')\n",
    "res_arr = np.column_stack((res_arr, rlist))\n",
    "res_arr"
   ]
  },
  {
   "cell_type": "code",
   "execution_count": 1144,
   "metadata": {},
   "outputs": [
    {
     "name": "stderr",
     "output_type": "stream",
     "text": [
      "[Parallel(n_jobs=-1)]: Using backend ThreadingBackend with 20 concurrent workers.\n",
      "[Parallel(n_jobs=-1)]: Done  10 tasks      | elapsed:    0.0s\n",
      "[Parallel(n_jobs=-1)]: Done 160 tasks      | elapsed:    0.2s\n",
      "[Parallel(n_jobs=-1)]: Done 410 tasks      | elapsed:    0.6s\n",
      "[Parallel(n_jobs=-1)]: Done 500 out of 500 | elapsed:    0.7s finished\n",
      "[Parallel(n_jobs=20)]: Using backend ThreadingBackend with 20 concurrent workers.\n",
      "[Parallel(n_jobs=20)]: Done  10 tasks      | elapsed:    0.0s\n",
      "[Parallel(n_jobs=20)]: Done 160 tasks      | elapsed:    0.0s\n"
     ]
    },
    {
     "name": "stdout",
     "output_type": "stream",
     "text": [
      "ACC 2546\n"
     ]
    },
    {
     "name": "stderr",
     "output_type": "stream",
     "text": [
      "[Parallel(n_jobs=20)]: Done 410 tasks      | elapsed:    0.1s\n",
      "[Parallel(n_jobs=20)]: Done 500 out of 500 | elapsed:    0.1s finished\n"
     ]
    },
    {
     "data": {
      "text/plain": [
       "array([[0.20971087, 0.23266374, 0.21200249, ..., 0.57359599, 0.124871  ,\n",
       "        0.14032492],\n",
       "       [0.202     , 0.99677407, 0.52863337, ..., 0.40315194, 0.19325521,\n",
       "        0.24312257],\n",
       "       [0.168     , 0.1233505 , 0.1482251 , ..., 0.07740839, 0.05689029,\n",
       "        0.06660189],\n",
       "       ...,\n",
       "       [0.316     , 0.99090573, 0.57924835, ..., 0.256     , 0.32059465,\n",
       "        0.50381818],\n",
       "       [0.16698461, 0.12646705, 0.14297567, ..., 0.07740839, 0.05689029,\n",
       "        0.06660189],\n",
       "       [0.37679787, 0.1233505 , 0.46557616, ..., 0.07740839, 0.05689029,\n",
       "        0.06660189]])"
      ]
     },
     "execution_count": 1144,
     "metadata": {},
     "output_type": "execute_result"
    }
   ],
   "source": [
    "#f24 = get_genes('ACC', 0, 1)\n",
    "rlist = get_res_list('ACC', ff24, 'rf')\n",
    "res_arr = np.column_stack((res_arr, rlist))\n",
    "res_arr"
   ]
  },
  {
   "cell_type": "code",
   "execution_count": 1145,
   "metadata": {},
   "outputs": [
    {
     "name": "stderr",
     "output_type": "stream",
     "text": [
      "[Parallel(n_jobs=-1)]: Using backend ThreadingBackend with 20 concurrent workers.\n",
      "[Parallel(n_jobs=-1)]: Done  10 tasks      | elapsed:    0.0s\n",
      "[Parallel(n_jobs=-1)]: Done 160 tasks      | elapsed:    0.2s\n",
      "[Parallel(n_jobs=-1)]: Done 410 tasks      | elapsed:    0.5s\n",
      "[Parallel(n_jobs=-1)]: Done 500 out of 500 | elapsed:    0.6s finished\n",
      "[Parallel(n_jobs=20)]: Using backend ThreadingBackend with 20 concurrent workers.\n",
      "[Parallel(n_jobs=20)]: Done  10 tasks      | elapsed:    0.0s\n",
      "[Parallel(n_jobs=20)]: Done 160 tasks      | elapsed:    0.0s\n",
      "[Parallel(n_jobs=20)]: Done 410 tasks      | elapsed:    0.1s\n"
     ]
    },
    {
     "name": "stdout",
     "output_type": "stream",
     "text": [
      "DLBC 2546\n"
     ]
    },
    {
     "name": "stderr",
     "output_type": "stream",
     "text": [
      "[Parallel(n_jobs=20)]: Done 500 out of 500 | elapsed:    0.1s finished\n"
     ]
    },
    {
     "data": {
      "text/plain": [
       "array([[0.20971087, 0.23266374, 0.21200249, ..., 0.124871  , 0.14032492,\n",
       "        0.04072439],\n",
       "       [0.202     , 0.99677407, 0.52863337, ..., 0.19325521, 0.24312257,\n",
       "        0.85386445],\n",
       "       [0.168     , 0.1233505 , 0.1482251 , ..., 0.05689029, 0.06660189,\n",
       "        0.04072439],\n",
       "       ...,\n",
       "       [0.316     , 0.99090573, 0.57924835, ..., 0.32059465, 0.50381818,\n",
       "        0.39335616],\n",
       "       [0.16698461, 0.12646705, 0.14297567, ..., 0.05689029, 0.06660189,\n",
       "        0.85386445],\n",
       "       [0.37679787, 0.1233505 , 0.46557616, ..., 0.05689029, 0.06660189,\n",
       "        0.04072439]])"
      ]
     },
     "execution_count": 1145,
     "metadata": {},
     "output_type": "execute_result"
    }
   ],
   "source": [
    "#f25 = get_genes('DLBC', 0, 0)\n",
    "rlist = get_res_list('DLBC', ff25, 'rf')\n",
    "res_arr = np.column_stack((res_arr, rlist))\n",
    "res_arr"
   ]
  },
  {
   "cell_type": "code",
   "execution_count": null,
   "metadata": {},
   "outputs": [],
   "source": []
  },
  {
   "cell_type": "code",
   "execution_count": 1146,
   "metadata": {},
   "outputs": [
    {
     "data": {
      "text/plain": [
       "26"
      ]
     },
     "execution_count": 1146,
     "metadata": {},
     "output_type": "execute_result"
    }
   ],
   "source": [
    "len(res_arr[0])"
   ]
  },
  {
   "cell_type": "code",
   "execution_count": null,
   "metadata": {},
   "outputs": [],
   "source": []
  },
  {
   "cell_type": "code",
   "execution_count": null,
   "metadata": {},
   "outputs": [],
   "source": []
  },
  {
   "cell_type": "code",
   "execution_count": null,
   "metadata": {},
   "outputs": [],
   "source": []
  },
  {
   "cell_type": "code",
   "execution_count": 1147,
   "metadata": {},
   "outputs": [],
   "source": [
    "max_columns = np.argmax(res_arr, axis=1)"
   ]
  },
  {
   "cell_type": "code",
   "execution_count": 1148,
   "metadata": {},
   "outputs": [
    {
     "data": {
      "text/plain": [
       "array([[0.20971087, 0.23266374, 0.21200249, ..., 0.124871  , 0.14032492,\n",
       "        0.04072439],\n",
       "       [0.202     , 0.99677407, 0.52863337, ..., 0.19325521, 0.24312257,\n",
       "        0.85386445],\n",
       "       [0.168     , 0.1233505 , 0.1482251 , ..., 0.05689029, 0.06660189,\n",
       "        0.04072439],\n",
       "       ...,\n",
       "       [0.316     , 0.99090573, 0.57924835, ..., 0.32059465, 0.50381818,\n",
       "        0.39335616],\n",
       "       [0.16698461, 0.12646705, 0.14297567, ..., 0.05689029, 0.06660189,\n",
       "        0.85386445],\n",
       "       [0.37679787, 0.1233505 , 0.46557616, ..., 0.05689029, 0.06660189,\n",
       "        0.04072439]])"
      ]
     },
     "execution_count": 1148,
     "metadata": {},
     "output_type": "execute_result"
    }
   ],
   "source": [
    "res_arr"
   ]
  },
  {
   "cell_type": "code",
   "execution_count": 1149,
   "metadata": {},
   "outputs": [
    {
     "data": {
      "text/plain": [
       "array([16,  1, 21, ...,  1, 11, 14])"
      ]
     },
     "execution_count": 1149,
     "metadata": {},
     "output_type": "execute_result"
    }
   ],
   "source": [
    "max_columns"
   ]
  },
  {
   "cell_type": "code",
   "execution_count": 1150,
   "metadata": {},
   "outputs": [
    {
     "data": {
      "text/plain": [
       "2546"
      ]
     },
     "execution_count": 1150,
     "metadata": {},
     "output_type": "execute_result"
    }
   ],
   "source": [
    "len(max_columns)"
   ]
  },
  {
   "cell_type": "code",
   "execution_count": 1151,
   "metadata": {},
   "outputs": [],
   "source": [
    "res_ensemble = encoder2.inverse_transform(max_columns)"
   ]
  },
  {
   "cell_type": "code",
   "execution_count": 1152,
   "metadata": {},
   "outputs": [],
   "source": [
    "\n",
    "df_test1 = pd.read_csv('../input/test.csv')\n",
    "res_df = pd.DataFrame ({'ID' : df_test1['ID'], 'SUBCLASS' : res_ensemble})\n",
    "res_df\n",
    "res_df.to_csv('res-ensemble02.csv',index = False)"
   ]
  },
  {
   "cell_type": "code",
   "execution_count": 1153,
   "metadata": {},
   "outputs": [
    {
     "data": {
      "text/plain": [
       "SUBCLASS\n",
       "BLCA      230\n",
       "OV        216\n",
       "ACC       208\n",
       "LGG       188\n",
       "SARC      184\n",
       "LUSC      174\n",
       "BRCA      170\n",
       "PCPG      157\n",
       "PAAD      144\n",
       "KIPAN     133\n",
       "HNSC      130\n",
       "STES      123\n",
       "KIRC      107\n",
       "LIHC       68\n",
       "LAML       64\n",
       "TGCT       60\n",
       "DLBC       39\n",
       "LUAD       29\n",
       "PRAD       29\n",
       "THYM       27\n",
       "GBMLGG     25\n",
       "COAD       18\n",
       "CESC       11\n",
       "THCA        6\n",
       "SKCM        4\n",
       "UCEC        2\n",
       "Name: count, dtype: int64"
      ]
     },
     "execution_count": 1153,
     "metadata": {},
     "output_type": "execute_result"
    }
   ],
   "source": [
    "res_df.SUBCLASS.value_counts()"
   ]
  },
  {
   "cell_type": "code",
   "execution_count": null,
   "metadata": {},
   "outputs": [],
   "source": []
  },
  {
   "cell_type": "code",
   "execution_count": 946,
   "metadata": {},
   "outputs": [],
   "source": [
    "query_d = 'LAML'"
   ]
  },
  {
   "cell_type": "code",
   "execution_count": 955,
   "metadata": {},
   "outputs": [
    {
     "name": "stdout",
     "output_type": "stream",
     "text": [
      "        index  count\n",
      "2712     NPM1     41\n",
      "1888     IDH1     18\n",
      "1889     IDH2     17\n",
      "3463    RUNX1     12\n",
      "4107     TP53     11\n",
      "...       ...    ...\n",
      "811    CLDN14      1\n",
      "814    CLDN18      1\n",
      "829     CLIP2      1\n",
      "855     CNOT6      1\n",
      "302   ARHGEF6      1\n",
      "\n",
      "[316 rows x 2 columns]\n"
     ]
    }
   ],
   "source": [
    "selectedg = get_gset(query_d, 0, 0)\n",
    "data1 = train_data.loc[:, list(selectedg)]\n",
    "test1 = test_data.loc[:, list(selectedg)]\n",
    "total = pd.concat([data1, test1])\n",
    "total = total.applymap(lambda x : 0 if x=='WT' else 1)\n",
    "\n",
    "nRows = train_data.shape[0]\n",
    "X = total[:nRows]\n",
    "df_test = total[nRows:]\n",
    "y = train_data['SUBCLASS']\n",
    "encoder2 = LabelEncoder()\n",
    "y = encoder2.fit_transform(y)\n",
    "X_train, X_test, y_train, y_test = train_test_split(X, y, test_size = 0.3, random_state=156)  "
   ]
  },
  {
   "cell_type": "code",
   "execution_count": 964,
   "metadata": {},
   "outputs": [
    {
     "name": "stdout",
     "output_type": "stream",
     "text": [
      "원본 문자열과 변환된 값의 매핑: {'ACC': 0, 'BLCA': 1, 'BRCA': 2, 'CESC': 3, 'COAD': 4, 'DLBC': 5, 'GBMLGG': 6, 'HNSC': 7, 'KIPAN': 8, 'KIRC': 9, 'LAML': 10, 'LGG': 11, 'LIHC': 12, 'LUAD': 13, 'LUSC': 14, 'OV': 15, 'PAAD': 16, 'PCPG': 17, 'PRAD': 18, 'SARC': 19, 'SKCM': 20, 'STES': 21, 'TGCT': 22, 'THCA': 23, 'THYM': 24, 'UCEC': 25}\n"
     ]
    }
   ],
   "source": [
    "# 어떤 문자열이 어떤 숫자로 매핑되었는지 확인\n",
    "class_mapping = dict(zip(encoder2.classes_, range(len(encoder2.classes_))))\n",
    "\n",
    "# 결과 출력\n",
    "print(f\"원본 문자열과 변환된 값의 매핑: {class_mapping}\")"
   ]
  },
  {
   "cell_type": "code",
   "execution_count": 956,
   "metadata": {},
   "outputs": [
    {
     "data": {
      "text/plain": [
       "(158, 316)"
      ]
     },
     "execution_count": 956,
     "metadata": {},
     "output_type": "execute_result"
    }
   ],
   "source": [
    "#To compare\n",
    "#query_d = 'B'\n",
    "X_test2 = X[train_data['SUBCLASS']==query_d]\n",
    "X_test2.shape"
   ]
  },
  {
   "cell_type": "code",
   "execution_count": 957,
   "metadata": {},
   "outputs": [
    {
     "data": {
      "text/plain": [
       "158"
      ]
     },
     "execution_count": 957,
     "metadata": {},
     "output_type": "execute_result"
    }
   ],
   "source": [
    "y_test2 = [class_mapping[query_d]] * X_test2.shape[0]\n",
    "len(y_test2)"
   ]
  },
  {
   "cell_type": "code",
   "execution_count": 959,
   "metadata": {},
   "outputs": [
    {
     "name": "stdout",
     "output_type": "stream",
     "text": [
      "Accuracy: 0.21708758731864589\n"
     ]
    }
   ],
   "source": [
    "#Logi\n",
    "clf = LogisticRegression()\n",
    "clf.fit(X_train, y_train)\n",
    "\n",
    "# 테스트 데이터에 대한 예측\n",
    "y_pred = clf.predict(X_test)\n",
    "#probability = clf.predict_proba(new_data)\n",
    "\n",
    "# 모델 성능 평가\n",
    "accuracy = accuracy_score(y_test, y_pred)\n",
    "conf_matrix = confusion_matrix(y_test, y_pred)\n",
    "class_report = classification_report(y_test, y_pred)\n",
    "\n",
    "print(f'Accuracy: {accuracy}')\n"
   ]
  },
  {
   "cell_type": "code",
   "execution_count": 960,
   "metadata": {},
   "outputs": [
    {
     "name": "stdout",
     "output_type": "stream",
     "text": [
      "Accuracy: 0.45569620253164556\n",
      "Classification Report:\n",
      "              precision    recall  f1-score   support\n",
      "\n",
      "           2       0.00      0.00      0.00         0\n",
      "           4       0.00      0.00      0.00         0\n",
      "           6       0.00      0.00      0.00         0\n",
      "           8       0.00      0.00      0.00         0\n",
      "           9       0.00      0.00      0.00         0\n",
      "          10       1.00      0.46      0.63       158\n",
      "          11       0.00      0.00      0.00         0\n",
      "          15       0.00      0.00      0.00         0\n",
      "          16       0.00      0.00      0.00         0\n",
      "          17       0.00      0.00      0.00         0\n",
      "          18       0.00      0.00      0.00         0\n",
      "          19       0.00      0.00      0.00         0\n",
      "          20       0.00      0.00      0.00         0\n",
      "          21       0.00      0.00      0.00         0\n",
      "          22       0.00      0.00      0.00         0\n",
      "          23       0.00      0.00      0.00         0\n",
      "\n",
      "    accuracy                           0.46       158\n",
      "   macro avg       0.06      0.03      0.04       158\n",
      "weighted avg       1.00      0.46      0.63       158\n",
      "\n"
     ]
    }
   ],
   "source": [
    "# 테스트 데이터에 대한 예측\n",
    "y_pred = clf.predict(X_test2)\n",
    "\n",
    "# 모델 성능 평가\n",
    "accuracy = accuracy_score(y_test2, y_pred)\n",
    "conf_matrix = confusion_matrix(y_test2, y_pred)\n",
    "class_report = classification_report(y_test2, y_pred)\n",
    "\n",
    "print(f'Accuracy: {accuracy}')\n",
    "#print('Confusion Matrix:')\n",
    "#print(conf_matrix)\n",
    "print('Classification Report:')\n",
    "print(class_report)"
   ]
  },
  {
   "cell_type": "code",
   "execution_count": 961,
   "metadata": {},
   "outputs": [
    {
     "name": "stderr",
     "output_type": "stream",
     "text": [
      "[Parallel(n_jobs=-1)]: Using backend ThreadingBackend with 20 concurrent workers.\n",
      "[Parallel(n_jobs=-1)]: Done  10 tasks      | elapsed:    0.1s\n",
      "[Parallel(n_jobs=-1)]: Done 160 tasks      | elapsed:    0.4s\n",
      "[Parallel(n_jobs=-1)]: Done 410 tasks      | elapsed:    0.9s\n",
      "[Parallel(n_jobs=-1)]: Done 500 out of 500 | elapsed:    1.1s finished\n",
      "[Parallel(n_jobs=20)]: Using backend ThreadingBackend with 20 concurrent workers.\n"
     ]
    },
    {
     "name": "stdout",
     "output_type": "stream",
     "text": [
      "Accuracy: 0.15206878022568512\n"
     ]
    },
    {
     "name": "stderr",
     "output_type": "stream",
     "text": [
      "[Parallel(n_jobs=20)]: Done  10 tasks      | elapsed:    0.0s\n",
      "[Parallel(n_jobs=20)]: Done 160 tasks      | elapsed:    0.1s\n",
      "[Parallel(n_jobs=20)]: Done 410 tasks      | elapsed:    0.1s\n",
      "[Parallel(n_jobs=20)]: Done 500 out of 500 | elapsed:    0.1s finished\n"
     ]
    }
   ],
   "source": [
    "from sklearn.ensemble import RandomForestClassifier\n",
    "\n",
    "clf = RandomForestClassifier(\n",
    "    n_estimators= 500,             # 트리의 개수 (너무 적으면 모델이 불안정하고, 너무 많으면 학습 시간이 오래 걸림)\n",
    "    max_features= 'sqrt',          # 각 트리에서 선택할 피처의 수 (sqrt는 약 63개 피처를 사용, 피처가 많을 때 좋은 기본값)\n",
    "    max_depth= None,               # 트리의 최대 깊이 (None이면 트리가 완전히 성장할 때까지 분할)\n",
    "    min_samples_split= 2,          # 노드를 분할하기 위한 최소 샘플 수 (default값)\n",
    "    min_samples_leaf= 1,           # 리프 노드에 있어야 하는 최소 샘플 수 (default값)\n",
    "    bootstrap= True,               # 부트스트랩 샘플링을 사용할지 여부 (default는 True, 부트스트랩을 사용하면 트리 간의 다양성을 증가)\n",
    "    n_jobs= -1,                    # 가능한 모든 CPU 코어를 사용하여 학습 (병렬 처리)\n",
    "    random_state= 42,              # 재현성을 위해 랜덤 시드 설정\n",
    "    class_weight='balanced',      # 데이터 불균형일 경우 자동으로 가중치 조정\n",
    "    verbose=1                     # 학습 과정에서 출력 메시지 (진행 상황을 확인할 수 있음)\n",
    "    )\n",
    "clf.fit(X_train, y_train)\n",
    "y_pred = clf.predict(X_test)\n",
    "\n",
    "accuracy = accuracy_score(y_test, y_pred)\n",
    "conf_matrix = confusion_matrix(y_test, y_pred)\n",
    "class_report = classification_report(y_test, y_pred)\n",
    "\n",
    "print(f'Accuracy: {accuracy}')\n",
    "#print('Confusion Matrix:')\n",
    "#print(conf_matrix)\n",
    "#print('Classification Report:')\n",
    "#print(class_report)\n",
    "\n"
   ]
  },
  {
   "cell_type": "code",
   "execution_count": 962,
   "metadata": {},
   "outputs": [
    {
     "name": "stderr",
     "output_type": "stream",
     "text": [
      "[Parallel(n_jobs=20)]: Using backend ThreadingBackend with 20 concurrent workers.\n",
      "[Parallel(n_jobs=20)]: Done  10 tasks      | elapsed:    0.0s\n"
     ]
    },
    {
     "name": "stdout",
     "output_type": "stream",
     "text": [
      "Accuracy: 0.6835443037974683\n",
      "Confusion Matrix:\n",
      "[[  0   0   0   0   0   0   0   0   0   0   0   0   0   0   0   0]\n",
      " [  0   0   0   0   0   0   0   0   0   0   0   0   0   0   0   0]\n",
      " [  0   0   0   0   0   0   0   0   0   0   0   0   0   0   0   0]\n",
      " [  0   0   0   0   0   0   0   0   0   0   0   0   0   0   0   0]\n",
      " [  0   0   0   0   0   0   0   0   0   0   0   0   0   0   0   0]\n",
      " [  0   0   0   0   0   0   0   0   0   0   0   0   0   0   0   0]\n",
      " [  1   6   1   3   2   2 108   4   3   2   1   1   7   1  14   2]\n",
      " [  0   0   0   0   0   0   0   0   0   0   0   0   0   0   0   0]\n",
      " [  0   0   0   0   0   0   0   0   0   0   0   0   0   0   0   0]\n",
      " [  0   0   0   0   0   0   0   0   0   0   0   0   0   0   0   0]\n",
      " [  0   0   0   0   0   0   0   0   0   0   0   0   0   0   0   0]\n",
      " [  0   0   0   0   0   0   0   0   0   0   0   0   0   0   0   0]\n",
      " [  0   0   0   0   0   0   0   0   0   0   0   0   0   0   0   0]\n",
      " [  0   0   0   0   0   0   0   0   0   0   0   0   0   0   0   0]\n",
      " [  0   0   0   0   0   0   0   0   0   0   0   0   0   0   0   0]\n",
      " [  0   0   0   0   0   0   0   0   0   0   0   0   0   0   0   0]]\n",
      "Classification Report:\n",
      "              precision    recall  f1-score   support\n",
      "\n",
      "           0       0.00      0.00      0.00         0\n",
      "           2       0.00      0.00      0.00         0\n",
      "           5       0.00      0.00      0.00         0\n",
      "           6       0.00      0.00      0.00         0\n",
      "           8       0.00      0.00      0.00         0\n",
      "           9       0.00      0.00      0.00         0\n",
      "          10       1.00      0.68      0.81       158\n",
      "          11       0.00      0.00      0.00         0\n",
      "          15       0.00      0.00      0.00         0\n",
      "          16       0.00      0.00      0.00         0\n",
      "          17       0.00      0.00      0.00         0\n",
      "          20       0.00      0.00      0.00         0\n",
      "          22       0.00      0.00      0.00         0\n",
      "          23       0.00      0.00      0.00         0\n",
      "          24       0.00      0.00      0.00         0\n",
      "          25       0.00      0.00      0.00         0\n",
      "\n",
      "    accuracy                           0.68       158\n",
      "   macro avg       0.06      0.04      0.05       158\n",
      "weighted avg       1.00      0.68      0.81       158\n",
      "\n"
     ]
    },
    {
     "name": "stderr",
     "output_type": "stream",
     "text": [
      "[Parallel(n_jobs=20)]: Done 160 tasks      | elapsed:    0.0s\n",
      "[Parallel(n_jobs=20)]: Done 410 tasks      | elapsed:    0.1s\n",
      "[Parallel(n_jobs=20)]: Done 500 out of 500 | elapsed:    0.1s finished\n"
     ]
    }
   ],
   "source": [
    "y_pred = clf.predict(X_test2)\n",
    "\n",
    "accuracy = accuracy_score(y_test2, y_pred)\n",
    "conf_matrix = confusion_matrix(y_test2, y_pred)\n",
    "class_report = classification_report(y_test2, y_pred)\n",
    "\n",
    "print(f'Accuracy: {accuracy}')\n",
    "print('Confusion Matrix:')\n",
    "print(conf_matrix)\n",
    "print('Classification Report:')\n",
    "print(class_report)\n"
   ]
  },
  {
   "cell_type": "code",
   "execution_count": 963,
   "metadata": {},
   "outputs": [
    {
     "data": {
      "text/plain": [
       "array([ 2, 10, 10, 24, 10, 10, 10, 10, 10, 10,  2, 10, 15, 10, 16, 20, 10,\n",
       "       10, 10, 10, 10, 10, 10, 24, 10, 10, 24, 10, 24, 10, 10, 10, 10,  2,\n",
       "       10, 10, 24, 11, 10, 10, 10, 10,  8, 10, 10, 24, 24, 10, 10, 10,  6,\n",
       "       10,  9, 10, 10, 10, 24, 10, 10, 10, 10, 10, 16, 10, 22, 10, 10, 10,\n",
       "       10,  2, 10, 10, 10, 24, 10, 10, 22, 10, 10, 10, 10, 10, 10,  2, 10,\n",
       "       11, 10, 10, 10,  2, 10,  9, 15, 10, 10, 22, 10, 22,  8,  6, 11, 10,\n",
       "       11, 10, 10, 10, 23, 10,  0, 10, 10, 10, 25, 10, 10, 10, 10, 10, 10,\n",
       "       15, 22, 10, 10, 10, 24, 10, 22, 10, 10, 22, 17, 10, 10, 10, 24, 10,\n",
       "       10, 24, 24, 10, 10,  5, 10, 10, 10,  6, 24, 10, 25, 10, 10, 10, 10,\n",
       "       10, 10, 10, 10, 10])"
      ]
     },
     "execution_count": 963,
     "metadata": {},
     "output_type": "execute_result"
    }
   ],
   "source": [
    "y_pred"
   ]
  },
  {
   "cell_type": "code",
   "execution_count": null,
   "metadata": {},
   "outputs": [],
   "source": []
  },
  {
   "cell_type": "code",
   "execution_count": null,
   "metadata": {},
   "outputs": [],
   "source": []
  },
  {
   "cell_type": "code",
   "execution_count": null,
   "metadata": {},
   "outputs": [],
   "source": []
  },
  {
   "cell_type": "code",
   "execution_count": null,
   "metadata": {},
   "outputs": [],
   "source": []
  },
  {
   "cell_type": "code",
   "execution_count": null,
   "metadata": {},
   "outputs": [],
   "source": [
    "\n",
    "# 새로운 데이터 하나를 생성 (예: 공부 시간 7시간, 성적 88점인 학생)\n",
    "new_data = pd.DataFrame({'study_hours': [9], 'grades': [60]})\n",
    "\n",
    "# 새로운 데이터에 대한 합격 확률 예측\n",
    "probability = clf.predict_proba(new_data)\n",
    "\n",
    "# 확률 출력 (첫 번째 열: 불합격 확률, 두 번째 열: 합격 확률)\n",
    "print(f\"합격할 확률: {probability[0][1] * 100:.2f}%\")"
   ]
  },
  {
   "cell_type": "code",
   "execution_count": null,
   "metadata": {},
   "outputs": [],
   "source": []
  },
  {
   "cell_type": "code",
   "execution_count": null,
   "metadata": {},
   "outputs": [],
   "source": []
  },
  {
   "cell_type": "code",
   "execution_count": null,
   "metadata": {},
   "outputs": [],
   "source": []
  },
  {
   "cell_type": "code",
   "execution_count": 92,
   "metadata": {},
   "outputs": [],
   "source": [
    "tdd = data[data.SUBCLASS=='DLBC'].drop(['ID','SUBCLASS'],axis=1)"
   ]
  },
  {
   "cell_type": "code",
   "execution_count": 112,
   "metadata": {},
   "outputs": [
    {
     "name": "stdout",
     "output_type": "stream",
     "text": [
      "4\n",
      "{'B2M', 'KALRN', 'HLA-A', 'IRF8'}\n",
      "18\n",
      "{'ABCA3', 'HLA-A', 'MET', 'LAMA1', 'HLA-C', 'TNFAIP3', 'NOTCH2', 'CACNA1H', 'IRF4', 'PLEC', 'KMT2D', 'KALRN', 'PCLO', 'LRP1', 'PLXNB2', 'PDE4DIP', 'NCOA3', 'LRIG1'}\n",
      "2\n",
      "{'BTG2', 'BTG1'}\n",
      "3\n",
      "{'LAMA3', 'KMT2D', 'LAMA1'}\n",
      "1\n",
      "{'TNFAIP3'}\n",
      "5\n",
      "{'ABCA3', 'SYNE1', 'MYC', 'KMT2D', 'PLXNB2'}\n",
      "4\n",
      "{'MYC', 'NCOA3', 'BCL11B', 'BTG2'}\n",
      "2\n",
      "{'NOTCH2', 'BTG1'}\n",
      "5\n",
      "{'SYNE1', 'TNFAIP3', 'BTG1', 'KMT2D', 'IRF4'}\n",
      "1\n",
      "{'CREBBP'}\n",
      "7\n",
      "{'LAMA1', 'HLA-C', 'NOTCH2', 'BTG2', 'DTX1', 'KMT2D', 'DUSP2'}\n",
      "8\n",
      "{'ABCA3', 'SOCS1', 'STAT3', 'BTG2', 'PLEC', 'KALRN', 'PIM1', 'DST'}\n",
      "2\n",
      "{'MYC', 'LRIG1'}\n",
      "13\n",
      "{'LAMA3', 'HLA-C', 'CACNA1H', 'SYNE1', 'TNFAIP3', 'NOTCH2', 'HNF1A', 'BTG2', 'KMT2D', 'KALRN', 'LRIG1', 'PDE4DIP', 'MET'}\n",
      "6\n",
      "{'BCL11B', 'ABCA3', 'B2M', 'PCLO', 'PLXNB2', 'NCOA3'}\n",
      "6\n",
      "{'HLA-C', 'SYNE1', 'STAT3', 'IRF4', 'MYC', 'DUSP2'}\n",
      "7\n",
      "{'TNFAIP3', 'BTG2', 'BTG1', 'DTX1', 'KMT2D', 'PIM1', 'IRF4'}\n",
      "8\n",
      "{'SYNE1', 'STAT3', 'BTG2', 'BTG1', 'B2M', 'PCLO', 'PIM1', 'DUSP2'}\n",
      "5\n",
      "{'BCL11B', 'SOCS1', 'HLA-A', 'TNFAIP3', 'IRF8'}\n",
      "8\n",
      "{'BCL11B', 'STAT3', 'BTG2', 'BTG1', 'PLEC', 'PIM1', 'IRF4', 'DST'}\n",
      "10\n",
      "{'LAMA3', 'ABCA3', 'HLA-A', 'CACNA1H', 'MYH10', 'HNF1A', 'KALRN', 'LRP1', 'DST', 'LRIG1'}\n",
      "5\n",
      "{'BTG1', 'DTX1', 'KMT2D', 'IRF4', 'DST'}\n",
      "1\n",
      "{'MYH10'}\n",
      "2\n",
      "{'B2M', 'MYC'}\n",
      "7\n",
      "{'BCL11B', 'BTG2', 'KMT2D', 'IRF8', 'PIM1', 'DST', 'PDE4DIP'}\n",
      "0\n",
      "set()\n",
      "4\n",
      "{'PIM1', 'IRF4', 'PLXNB2', 'BTG2'}\n",
      "5\n",
      "{'HLA-C', 'SYNE1', 'KMT2D', 'PCLO', 'PIM1'}\n",
      "0\n",
      "set()\n",
      "17\n",
      "{'LAMA1', 'MET', 'HLA-C', 'NOTCH2', 'MYH10', 'HNF1A', 'BTG1', 'KMT2D', 'KALRN', 'PCLO', 'IRF8', 'CREBBP', 'LRP1', 'DST', 'PDE4DIP', 'NCOA3', 'LRIG1'}\n",
      "16\n",
      "{'HLA-C', 'SOCS1', 'HLA-A', 'CACNA1H', 'SYNE1', 'BTG2', 'BTG1', 'DTX1', 'PDE4DIP', 'IRF8', 'PIM1', 'LRP1', 'DST', 'PLXNB2', 'DUSP2', 'MET'}\n",
      "4\n",
      "{'CREBBP', 'SOCS1', 'PDE4DIP', 'PLXNB2'}\n",
      "6\n",
      "{'BTG2', 'BTG1', 'DTX1', 'KMT2D', 'PCLO', 'PIM1'}\n",
      "11\n",
      "{'LAMA3', 'LAMA1', 'CACNA1H', 'SYNE1', 'STAT3', 'MYH10', 'HNF1A', 'KMT2D', 'KALRN', 'LRP1', 'MET'}\n",
      "7\n",
      "{'SOCS1', 'TNFAIP3', 'PLEC', 'KMT2D', 'B2M', 'DUSP2', 'NCOA3'}\n",
      "3\n",
      "{'LAMA3', 'B2M', 'CREBBP'}\n",
      "3\n",
      "{'KMT2D', 'DST', 'SYNE1'}\n",
      "10\n",
      "{'ABCA3', 'LAMA1', 'SYNE1', 'MYH10', 'HNF1A', 'PLEC', 'PCLO', 'CREBBP', 'DST', 'MET'}\n"
     ]
    }
   ],
   "source": [
    "for i in range(tdd.shape[0]):\n",
    "    iset = set(tdd.iloc[i][tdd.iloc[i].apply(lambda x : x!='WT')].reset_index()['index'].values)\n",
    "    inters=tset.intersection(iset)\n",
    "    print(len(inters))\n",
    "    print(inters)"
   ]
  },
  {
   "cell_type": "code",
   "execution_count": null,
   "metadata": {},
   "outputs": [],
   "source": []
  },
  {
   "cell_type": "code",
   "execution_count": null,
   "metadata": {},
   "outputs": [],
   "source": []
  },
  {
   "cell_type": "code",
   "execution_count": null,
   "metadata": {},
   "outputs": [],
   "source": []
  },
  {
   "cell_type": "code",
   "execution_count": null,
   "metadata": {},
   "outputs": [],
   "source": [
    "import pandas as pd\n",
    "from sklearn.model_selection import train_test_split\n",
    "from sklearn.ensemble import VotingClassifier\n",
    "from sklearn.ensemble import RandomForestClassifier\n",
    "from xgboost import XGBClassifier\n",
    "from sklearn.svm import SVC\n",
    "from sklearn.metrics import accuracy_score\n",
    "\n",
    "# 데이터 로드 (train.csv를 기반으로)\n",
    "data = pd.read_csv('train.csv')\n",
    "\n",
    "# 각 클래스에 사용할 주요 컬럼 그룹을 정의\n",
    "features_a = ['feature_1', 'feature_2', 'feature_3', 'feature_4']  # A 클래스에서 중요한 컬럼들\n",
    "features_b = ['feature_5', 'feature_6']                             # B 클래스에서 중요한 컬럼들\n",
    "features_c = ['feature_7', 'feature_8', 'feature_9']                # C 클래스에서 중요한 컬럼들\n",
    "\n",
    "# 각 모델에 맞는 피처를 사용해 데이터를 나눔\n",
    "X_a = data[features_a]\n",
    "X_b = data[features_b]\n",
    "X_c = data[features_c]\n",
    "\n",
    "# 타겟 (SUBCLASS) 설정\n",
    "y = data['SUBCLASS']\n",
    "\n",
    "# 데이터를 학습용/검증용으로 분리 (동일한 타겟을 사용)\n",
    "X_train_a, X_test_a, y_train, y_test = train_test_split(X_a, y, test_size=0.2, random_state=42)\n",
    "X_train_b, X_test_b, _, _ = train_test_split(X_b, y, test_size=0.2, random_state=42)\n",
    "X_train_c, X_test_c, _, _ = train_test_split(X_c, y, test_size=0.2, random_state=42)\n",
    "\n",
    "# 각 클래스에 대해 모델 정의\n",
    "model_a = RandomForestClassifier()  # A 클래스\n",
    "model_b = XGBClassifier()           # B 클래스\n",
    "model_c = SVC(probability=True)     # C 클래스\n",
    "\n",
    "# 각 모델을 개별적으로 학습\n",
    "model_a.fit(X_train_a, y_train)\n",
    "model_b.fit(X_train_b, y_train)\n",
    "model_c.fit(X_train_c, y_train)\n",
    "\n",
    "# 예측을 위한 Voting 앙상블 정의 (각 모델의 예측 결과를 결합)\n",
    "# 여기서 사용하는 컬럼이 서로 다르므로 예측할 때 각 모델에 맞는 데이터셋을 사용\n",
    "class CustomVotingClassifier:\n",
    "    def __init__(self, models):\n",
    "        self.models = models\n",
    "\n",
    "    def predict(self, X_test_a, X_test_b, X_test_c):\n",
    "        # 각 모델에 맞는 데이터셋으로 예측\n",
    "        preds_a = self.models[0].predict(X_test_a)\n",
    "        preds_b = self.models[1].predict(X_test_b)\n",
    "        preds_c = self.models[2].predict(X_test_c)\n",
    "\n",
    "        # 예를 들어, 각 모델의 결과를 다수결로 결정\n",
    "        final_preds = []\n",
    "        for a, b, c in zip(preds_a, preds_b, preds_c):\n",
    "            # 간단한 예: 가장 많은 클래스가 선택된 것을 예측으로\n",
    "            final_preds.append(max(set([a, b, c]), key=[a, b, c].count))\n",
    "\n",
    "        return final_preds\n",
    "\n",
    "# Voting 모델 인스턴스 생성 및 예측\n",
    "voting_clf = CustomVotingClassifier(models=[model_a, model_b, model_c])\n",
    "y_pred = voting_clf.predict(X_test_a, X_test_b, X_test_c)\n",
    "\n",
    "# 정확도 평가\n",
    "accuracy = accuracy_score(y_test, y_pred)\n",
    "print(f'Ensemble Model Accuracy: {accuracy}')\n"
   ]
  },
  {
   "cell_type": "code",
   "execution_count": null,
   "metadata": {},
   "outputs": [],
   "source": [
    "import pandas as pd\n",
    "from sklearn.model_selection import train_test_split\n",
    "from sklearn.ensemble import RandomForestClassifier\n",
    "from xgboost import XGBClassifier\n",
    "from sklearn.svm import SVC\n",
    "from sklearn.metrics import accuracy_score\n",
    "\n",
    "\n",
    "\n",
    "# 각 서브클래스별로 사용할 주요 컬럼 그룹을 정의\n",
    "features_kipan = ['feature_1', 'feature_2', 'feature_3']  # KIPAN에 중요한 컬럼\n",
    "features_gbmlgg = ['feature_4', 'feature_5']               # GBMLGG에 중요한 컬럼\n",
    "features_brca = ['feature_6', 'feature_7']                 # BRCA에 중요한 컬럼\n",
    "\n",
    "# 각 서브클래스 데이터를 추출\n",
    "data_kipan = data[data['SUBCLASS'] == 'KIPAN']\n",
    "data_gbmlgg = data[data['SUBCLASS'] == 'GBMLGG']\n",
    "data_brca = data[data['SUBCLASS'] == 'BRCA']\n",
    "\n",
    "# 타겟 설정 (SUBCLASS 열 제거)\n",
    "y_kipan = data_kipan['SUBCLASS']\n",
    "X_kipan = data_kipan[features_kipan]\n",
    "\n",
    "y_gbmlgg = data_gbmlgg['SUBCLASS']\n",
    "X_gbmlgg = data_gbmlgg[features_gbmlgg]\n",
    "\n",
    "y_brca = data_brca['SUBCLASS']\n",
    "X_brca = data_brca[features_brca]\n",
    "\n",
    "# 각각의 classifier를 정의\n",
    "clf_kipan = RandomForestClassifier()  # KIPAN을 위한 분류기\n",
    "clf_gbmlgg = XGBClassifier()          # GBMLGG을 위한 분류기\n",
    "clf_brca = SVC(probability=True)      # BRCA를 위한 분류기\n",
    "\n",
    "# 데이터를 학습용/검증용으로 분리\n",
    "X_train_kipan, X_test_kipan, y_train_kipan, y_test_kipan = train_test_split(X_kipan, y_kipan, test_size=0.2, random_state=42)\n",
    "X_train_gbmlgg, X_test_gbmlgg, y_train_gbmlgg, y_test_gbmlgg = train_test_split(X_gbmlgg, y_gbmlgg, test_size=0.2, random_state=42)\n",
    "X_train_brca, X_test_brca, y_train_brca, y_test_brca = train_test_split(X_brca, y_brca, test_size=0.2, random_state=42)\n",
    "\n",
    "# 각 classifier에 대해 학습\n",
    "clf_kipan.fit(X_train_kipan, y_train_kipan)\n",
    "clf_gbmlgg.fit(X_train_gbmlgg, y_train_gbmlgg)\n",
    "clf_brca.fit(X_train_brca, y_train_brca)\n",
    "\n",
    "# 테스트 데이터에 대한 예측\n",
    "y_pred_kipan = clf_kipan.predict(X_test_kipan)\n",
    "y_pred_gbmlgg = clf_gbmlgg.predict(X_test_gbmlgg)\n",
    "y_pred_brca = clf_brca.predict(X_test_brca)\n",
    "\n",
    "# 각 서브클래스별 정확도 평가\n",
    "accuracy_kipan = accuracy_score(y_test_kipan, y_pred_kipan)\n",
    "accuracy_gbmlgg = accuracy_score(y_test_gbmlgg, y_pred_gbmlgg)\n",
    "accuracy_brca = accuracy_score(y_test_brca, y_pred_brca)\n",
    "\n",
    "print(f'KIPAN Classifier Accuracy: {accuracy_kipan}')\n",
    "print(f'GBMLGG Classifier Accuracy: {accuracy_gbmlgg}')\n",
    "print(f'BRCA Classifier Accuracy: {accuracy_brca}')\n"
   ]
  }
 ],
 "metadata": {
  "kernelspec": {
   "display_name": "Python 3",
   "language": "python",
   "name": "python3"
  },
  "language_info": {
   "codemirror_mode": {
    "name": "ipython",
    "version": 3
   },
   "file_extension": ".py",
   "mimetype": "text/x-python",
   "name": "python",
   "nbconvert_exporter": "python",
   "pygments_lexer": "ipython3",
   "version": "3.10.10"
  }
 },
 "nbformat": 4,
 "nbformat_minor": 2
}
