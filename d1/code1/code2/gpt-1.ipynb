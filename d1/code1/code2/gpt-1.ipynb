{
 "cells": [
  {
   "cell_type": "code",
   "execution_count": null,
   "metadata": {},
   "outputs": [],
   "source": []
  },
  {
   "cell_type": "code",
   "execution_count": null,
   "metadata": {},
   "outputs": [],
   "source": [
    "# 필수 라이브러리 import\n",
    "import pandas as pd\n",
    "from sklearn.ensemble import RandomForestClassifier\n",
    "from sklearn.model_selection import train_test_split\n",
    "from sklearn.metrics import accuracy_score, classification_report\n",
    "from sklearn.preprocessing import OneHotEncoder\n",
    "\n",
    "# 데이터 로드\n",
    "data = pd.read_csv('train.csv')\n",
    "\n",
    "# 피처와 타깃 변수 정의\n",
    "X = data.drop(['ID', 'SUBCLASS'], axis=1)  # ID와 타깃 열은 피처에서 제외\n",
    "y = data['SUBCLASS']  # 타깃 변수 (암종)\n",
    "\n",
    "# 문자열 데이터를 수치형으로 변환 (One-Hot Encoding)\n",
    "encoder = OneHotEncoder(sparse=False)\n",
    "X_encoded = encoder.fit_transform(X)\n",
    "\n",
    "# 학습 데이터와 테스트 데이터 분리\n",
    "X_train, X_test, y_train, y_test = train_test_split(X_encoded, y, test_size=0.2, random_state=42)\n",
    "\n",
    "# 모델 초기화 및 학습\n",
    "clf = RandomForestClassifier(n_estimators=500, max_features='sqrt', random_state=42)\n",
    "clf.fit(X_train, y_train)\n",
    "\n",
    "# 예측 및 평가\n",
    "y_pred = clf.predict(X_test)\n",
    "accuracy = accuracy_score(y_test, y_pred)\n",
    "print(f'Accuracy: {accuracy}')\n",
    "print(classification_report(y_test, y_pred))\n"
   ]
  },
  {
   "cell_type": "code",
   "execution_count": null,
   "metadata": {},
   "outputs": [],
   "source": [
    "from sklearn.preprocessing import LabelEncoder\n",
    "\n",
    "# 데이터 로드 및 전처리\n",
    "data = pd.read_csv('train.csv')\n",
    "\n",
    "X = data.drop(['ID', 'SUBCLASS'], axis=1)  # ID와 타깃 열은 피처에서 제외\n",
    "y = data['SUBCLASS']\n",
    "\n",
    "# Label Encoding (카테고리 데이터를 정수로 변환)\n",
    "label_encoders = {}\n",
    "for column in X.columns:\n",
    "    le = LabelEncoder()\n",
    "    X[column] = le.fit_transform(X[column])\n",
    "    label_encoders[column] = le  # 이후 디코딩에 사용 가능\n",
    "\n",
    "# 학습 데이터와 테스트 데이터 분리\n",
    "X_train, X_test, y_train, y_test = train_test_split(X, y, test_size=0.2, random_state=42)\n",
    "\n",
    "# RandomForest 모델 적용\n",
    "clf = RandomForestClassifier(n_estimators=500, max_features='sqrt', random_state=42)\n",
    "clf.fit(X_train, y_train)\n",
    "\n",
    "# 예측 및 평가\n",
    "y_pred = clf.predict(X_test)\n",
    "accuracy = accuracy_score(y_test, y_pred)\n",
    "print(f'Accuracy: {accuracy}')\n",
    "print(classification_report(y_test, y_pred))\n"
   ]
  },
  {
   "cell_type": "code",
   "execution_count": null,
   "metadata": {},
   "outputs": [],
   "source": [
    "# Frequency Encoding을 사용한 변이 데이터 처리\n",
    "for column in X.columns:\n",
    "    freq = X[column].value_counts(normalize=True)  # 빈도를 계산\n",
    "    X[column] = X[column].map(freq)  # 빈도 값으로 대체\n",
    "\n",
    "# 이후 RandomForest 등 모델 적용\n",
    "X_train, X_test, y_train, y_test = train_test_split(X, y, test_size=0.2, random_state=42)\n",
    "\n",
    "clf = RandomForestClassifier(n_estimators=500, max_features='sqrt', random_state=42)\n",
    "clf.fit(X_train, y_train)\n",
    "\n",
    "y_pred = clf.predict(X_test)\n",
    "accuracy = accuracy_score(y_test, y_pred)\n",
    "print(f'Accuracy: {accuracy}')\n"
   ]
  }
 ],
 "metadata": {
  "language_info": {
   "name": "python"
  }
 },
 "nbformat": 4,
 "nbformat_minor": 2
}
