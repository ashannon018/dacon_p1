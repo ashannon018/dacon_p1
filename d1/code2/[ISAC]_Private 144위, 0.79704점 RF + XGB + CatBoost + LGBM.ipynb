{
 "cells": [
  {
   "cell_type": "markdown",
   "metadata": {},
   "source": [
    "# RandomForest, XGBoost, LGBMClassifier, CatBoost Ensemble\n",
    "\n",
    "안녕하세요 ISCA 입니다.  \n",
    "  \n",
    "저희는 RandomForest, XGBoost, LGBMClassifier, CatBoost 모델 4개를 Ensemble 하여 모델 집합을 생성한 후, 그 모델 집합들을 다른 데이터 셋(4개)으로 각각 학습하여 최종 3개의 모델 집합들을 Ensemble을 진행하였습니다. 마지막 데이터에 대해서는 성능적 측면에서 학습에 제외를 하였습니다.  \n",
    "즉, Ensemble 기법을 2번 사용한 것이라고 생각하면 될 것 같습니다.(도합 12개의 각각의 모델 사용)  \n",
    "  \n",
    "유감이게도, 최종 예측을 확률이 아닌 1 또는 0 인 최종 분류로 제출을 해서 비록 성능이 제대로 측정되지는 않았습니다.(저희 팀 모두 아쉽게 생각하는 부분입니다.)  \n",
    "다음에는 이런 실수를 하지 않도록 배울 수 있었던 기회가 된 것 같습니다.  \n",
    "  \n",
    "여러 모델개발을 시도하면서 머신러닝 개발에 대한 많은 지식을 얻을 수 있었던 기회였다고 생각됩니다"
   ]
  },
  {
   "cell_type": "markdown",
   "metadata": {
    "id": "VwZdhLEsHrQO"
   },
   "source": [
    "## 데이터 셋 생성을 위한 코드\n",
    "데이터 셋은 Feature Engeenering 기법을 가미하여 총 4개를 생성하였습니다.  \n",
    "  \n",
    "생성된 4개의 데이터 셋 중 3개의 데이터를 위의 모델 집합들을 학습하는데 한개씩 이용하였습니다.  \n",
    "(4개의 데이테 셋에 대한 자세한 내용은 이후 단계에서 한개씩 언급하도록 하겠습니다.)"
   ]
  },
  {
   "cell_type": "code",
   "execution_count": 1,
   "metadata": {
    "id": "9_OzXf_uHwVv"
   },
   "outputs": [],
   "source": [
    "# library import \n",
    "import numpy as np\n",
    "import pandas as pd\n",
    "import matplotlib.pyplot as plt\n",
    "\n",
    "from sklearn import svm \n",
    "from sklearn.preprocessing import PolynomialFeatures\n",
    "from sklearn.decomposition import PCA\n",
    "from sklearn.preprocessing import StandardScaler"
   ]
  },
  {
   "cell_type": "code",
   "execution_count": 2,
   "metadata": {
    "id": "kGAGXuXnHyaN"
   },
   "outputs": [],
   "source": [
    "# data read\n",
    "# Need to set up a flexiable data file path\n",
    "train = pd.read_csv(\"train.csv\")\n",
    "test = pd.read_csv(\"test.csv\")"
   ]
  },
  {
   "cell_type": "markdown",
   "metadata": {},
   "source": [
    "### 결측치 처리\n",
    "데이터에는 결측치가 존재합니다.  \n",
    "이런 결측치를 저희는 각 feature의 \"중간값\"을 이용하여 처리했습니다.  \n",
    "  \n",
    "country feature 에 대해서는 drop을 하였습니다."
   ]
  },
  {
   "cell_type": "code",
   "execution_count": 3,
   "metadata": {
    "colab": {
     "base_uri": "https://localhost:8080/"
    },
    "id": "FriYP5UzHygE",
    "outputId": "8ba6f812-6fa4-439b-ba6e-56d601d4ae7c"
   },
   "outputs": [
    {
     "name": "stderr",
     "output_type": "stream",
     "text": [
      "C:\\Users\\Public\\Documents\\ESTsoft\\CreatorTemp\\ipykernel_14400\\3929533334.py:3: FutureWarning: Dropping of nuisance columns in DataFrame reductions (with 'numeric_only=None') is deprecated; in a future version this will raise TypeError.  Select only valid columns before calling the reduction.\n",
      "  train.fillna(train.median(), inplace=True)\n",
      "C:\\Users\\Public\\Documents\\ESTsoft\\CreatorTemp\\ipykernel_14400\\3929533334.py:4: FutureWarning: Dropping of nuisance columns in DataFrame reductions (with 'numeric_only=None') is deprecated; in a future version this will raise TypeError.  Select only valid columns before calling the reduction.\n",
      "  test.fillna(train.median(), inplace=True)\n"
     ]
    }
   ],
   "source": [
    "# missing value processing\n",
    "# replace with median\n",
    "train.fillna(train.median(), inplace=True)  \n",
    "test.fillna(train.median(), inplace=True)\n",
    "\n",
    "# drop country feature\n",
    "train.drop(['country'], axis=1, inplace=True)\n",
    "test.drop(['country'], axis=1, inplace=True)"
   ]
  },
  {
   "cell_type": "code",
   "execution_count": 4,
   "metadata": {
    "colab": {
     "base_uri": "https://localhost:8080/",
     "height": 427
    },
    "id": "O5P9g89gOw3f",
    "outputId": "21d42333-0169-4a6a-8182-c3b6e84026a2"
   },
   "outputs": [
    {
     "data": {
      "text/html": [
       "<div>\n",
       "<style scoped>\n",
       "    .dataframe tbody tr th:only-of-type {\n",
       "        vertical-align: middle;\n",
       "    }\n",
       "\n",
       "    .dataframe tbody tr th {\n",
       "        vertical-align: top;\n",
       "    }\n",
       "\n",
       "    .dataframe thead th {\n",
       "        text-align: right;\n",
       "    }\n",
       "</style>\n",
       "<table border=\"1\" class=\"dataframe\">\n",
       "  <thead>\n",
       "    <tr style=\"text-align: right;\">\n",
       "      <th></th>\n",
       "      <th>index</th>\n",
       "      <th>Q1</th>\n",
       "      <th>Q2</th>\n",
       "      <th>Q3</th>\n",
       "      <th>Q4</th>\n",
       "      <th>Q5</th>\n",
       "      <th>Q6</th>\n",
       "      <th>Q7</th>\n",
       "      <th>Q8</th>\n",
       "      <th>Q9</th>\n",
       "      <th>...</th>\n",
       "      <th>engnat</th>\n",
       "      <th>age</th>\n",
       "      <th>hand</th>\n",
       "      <th>religion</th>\n",
       "      <th>orientation</th>\n",
       "      <th>voted</th>\n",
       "      <th>married</th>\n",
       "      <th>familysize</th>\n",
       "      <th>ASD</th>\n",
       "      <th>nerdiness</th>\n",
       "    </tr>\n",
       "  </thead>\n",
       "  <tbody>\n",
       "    <tr>\n",
       "      <th>0</th>\n",
       "      <td>0</td>\n",
       "      <td>1.0</td>\n",
       "      <td>5.0</td>\n",
       "      <td>5.0</td>\n",
       "      <td>5.0</td>\n",
       "      <td>1.0</td>\n",
       "      <td>4.0</td>\n",
       "      <td>5.0</td>\n",
       "      <td>5.0</td>\n",
       "      <td>1.0</td>\n",
       "      <td>...</td>\n",
       "      <td>1.0</td>\n",
       "      <td>20</td>\n",
       "      <td>2.0</td>\n",
       "      <td>12.0</td>\n",
       "      <td>4.0</td>\n",
       "      <td>2.0</td>\n",
       "      <td>1.0</td>\n",
       "      <td>4.0</td>\n",
       "      <td>2.0</td>\n",
       "      <td>1</td>\n",
       "    </tr>\n",
       "    <tr>\n",
       "      <th>1</th>\n",
       "      <td>1</td>\n",
       "      <td>4.0</td>\n",
       "      <td>4.0</td>\n",
       "      <td>4.0</td>\n",
       "      <td>4.0</td>\n",
       "      <td>4.0</td>\n",
       "      <td>5.0</td>\n",
       "      <td>4.0</td>\n",
       "      <td>4.0</td>\n",
       "      <td>3.0</td>\n",
       "      <td>...</td>\n",
       "      <td>1.0</td>\n",
       "      <td>49</td>\n",
       "      <td>1.0</td>\n",
       "      <td>2.0</td>\n",
       "      <td>1.0</td>\n",
       "      <td>1.0</td>\n",
       "      <td>2.0</td>\n",
       "      <td>4.0</td>\n",
       "      <td>2.0</td>\n",
       "      <td>1</td>\n",
       "    </tr>\n",
       "    <tr>\n",
       "      <th>2</th>\n",
       "      <td>2</td>\n",
       "      <td>4.0</td>\n",
       "      <td>5.0</td>\n",
       "      <td>5.0</td>\n",
       "      <td>4.0</td>\n",
       "      <td>3.0</td>\n",
       "      <td>5.0</td>\n",
       "      <td>5.0</td>\n",
       "      <td>5.0</td>\n",
       "      <td>4.0</td>\n",
       "      <td>...</td>\n",
       "      <td>2.0</td>\n",
       "      <td>43</td>\n",
       "      <td>1.0</td>\n",
       "      <td>2.0</td>\n",
       "      <td>2.0</td>\n",
       "      <td>2.0</td>\n",
       "      <td>3.0</td>\n",
       "      <td>4.0</td>\n",
       "      <td>2.0</td>\n",
       "      <td>1</td>\n",
       "    </tr>\n",
       "    <tr>\n",
       "      <th>3</th>\n",
       "      <td>3</td>\n",
       "      <td>4.0</td>\n",
       "      <td>4.0</td>\n",
       "      <td>4.0</td>\n",
       "      <td>2.0</td>\n",
       "      <td>4.0</td>\n",
       "      <td>3.0</td>\n",
       "      <td>3.0</td>\n",
       "      <td>5.0</td>\n",
       "      <td>3.0</td>\n",
       "      <td>...</td>\n",
       "      <td>1.0</td>\n",
       "      <td>17</td>\n",
       "      <td>2.0</td>\n",
       "      <td>1.0</td>\n",
       "      <td>1.0</td>\n",
       "      <td>2.0</td>\n",
       "      <td>1.0</td>\n",
       "      <td>2.0</td>\n",
       "      <td>2.0</td>\n",
       "      <td>1</td>\n",
       "    </tr>\n",
       "    <tr>\n",
       "      <th>4</th>\n",
       "      <td>4</td>\n",
       "      <td>4.0</td>\n",
       "      <td>4.0</td>\n",
       "      <td>4.0</td>\n",
       "      <td>4.0</td>\n",
       "      <td>3.0</td>\n",
       "      <td>3.0</td>\n",
       "      <td>4.0</td>\n",
       "      <td>2.0</td>\n",
       "      <td>3.0</td>\n",
       "      <td>...</td>\n",
       "      <td>2.0</td>\n",
       "      <td>18</td>\n",
       "      <td>2.0</td>\n",
       "      <td>12.0</td>\n",
       "      <td>1.0</td>\n",
       "      <td>2.0</td>\n",
       "      <td>1.0</td>\n",
       "      <td>1.0</td>\n",
       "      <td>2.0</td>\n",
       "      <td>0</td>\n",
       "    </tr>\n",
       "    <tr>\n",
       "      <th>5</th>\n",
       "      <td>5</td>\n",
       "      <td>5.0</td>\n",
       "      <td>4.0</td>\n",
       "      <td>5.0</td>\n",
       "      <td>5.0</td>\n",
       "      <td>5.0</td>\n",
       "      <td>5.0</td>\n",
       "      <td>5.0</td>\n",
       "      <td>4.0</td>\n",
       "      <td>4.0</td>\n",
       "      <td>...</td>\n",
       "      <td>1.0</td>\n",
       "      <td>26</td>\n",
       "      <td>1.0</td>\n",
       "      <td>1.0</td>\n",
       "      <td>1.0</td>\n",
       "      <td>1.0</td>\n",
       "      <td>1.0</td>\n",
       "      <td>1.0</td>\n",
       "      <td>1.0</td>\n",
       "      <td>1</td>\n",
       "    </tr>\n",
       "    <tr>\n",
       "      <th>6</th>\n",
       "      <td>6</td>\n",
       "      <td>4.0</td>\n",
       "      <td>3.0</td>\n",
       "      <td>4.0</td>\n",
       "      <td>3.0</td>\n",
       "      <td>5.0</td>\n",
       "      <td>4.0</td>\n",
       "      <td>5.0</td>\n",
       "      <td>4.0</td>\n",
       "      <td>5.0</td>\n",
       "      <td>...</td>\n",
       "      <td>2.0</td>\n",
       "      <td>40</td>\n",
       "      <td>1.0</td>\n",
       "      <td>1.0</td>\n",
       "      <td>1.0</td>\n",
       "      <td>2.0</td>\n",
       "      <td>1.0</td>\n",
       "      <td>1.0</td>\n",
       "      <td>2.0</td>\n",
       "      <td>1</td>\n",
       "    </tr>\n",
       "    <tr>\n",
       "      <th>7</th>\n",
       "      <td>7</td>\n",
       "      <td>4.0</td>\n",
       "      <td>5.0</td>\n",
       "      <td>4.0</td>\n",
       "      <td>4.0</td>\n",
       "      <td>4.0</td>\n",
       "      <td>4.0</td>\n",
       "      <td>2.0</td>\n",
       "      <td>5.0</td>\n",
       "      <td>3.0</td>\n",
       "      <td>...</td>\n",
       "      <td>2.0</td>\n",
       "      <td>34</td>\n",
       "      <td>1.0</td>\n",
       "      <td>2.0</td>\n",
       "      <td>5.0</td>\n",
       "      <td>1.0</td>\n",
       "      <td>1.0</td>\n",
       "      <td>2.0</td>\n",
       "      <td>2.0</td>\n",
       "      <td>1</td>\n",
       "    </tr>\n",
       "    <tr>\n",
       "      <th>8</th>\n",
       "      <td>8</td>\n",
       "      <td>4.0</td>\n",
       "      <td>4.0</td>\n",
       "      <td>3.0</td>\n",
       "      <td>4.0</td>\n",
       "      <td>4.0</td>\n",
       "      <td>5.0</td>\n",
       "      <td>4.0</td>\n",
       "      <td>3.0</td>\n",
       "      <td>3.0</td>\n",
       "      <td>...</td>\n",
       "      <td>1.0</td>\n",
       "      <td>20</td>\n",
       "      <td>1.0</td>\n",
       "      <td>7.0</td>\n",
       "      <td>1.0</td>\n",
       "      <td>1.0</td>\n",
       "      <td>1.0</td>\n",
       "      <td>3.0</td>\n",
       "      <td>2.0</td>\n",
       "      <td>0</td>\n",
       "    </tr>\n",
       "    <tr>\n",
       "      <th>9</th>\n",
       "      <td>9</td>\n",
       "      <td>3.0</td>\n",
       "      <td>3.0</td>\n",
       "      <td>4.0</td>\n",
       "      <td>3.0</td>\n",
       "      <td>4.0</td>\n",
       "      <td>2.0</td>\n",
       "      <td>4.0</td>\n",
       "      <td>2.0</td>\n",
       "      <td>4.0</td>\n",
       "      <td>...</td>\n",
       "      <td>2.0</td>\n",
       "      <td>17</td>\n",
       "      <td>1.0</td>\n",
       "      <td>10.0</td>\n",
       "      <td>1.0</td>\n",
       "      <td>2.0</td>\n",
       "      <td>1.0</td>\n",
       "      <td>5.0</td>\n",
       "      <td>2.0</td>\n",
       "      <td>0</td>\n",
       "    </tr>\n",
       "  </tbody>\n",
       "</table>\n",
       "<p>10 rows × 69 columns</p>\n",
       "</div>"
      ],
      "text/plain": [
       "   index   Q1   Q2   Q3   Q4   Q5   Q6   Q7   Q8   Q9  ...  engnat  age  hand  \\\n",
       "0      0  1.0  5.0  5.0  5.0  1.0  4.0  5.0  5.0  1.0  ...     1.0   20   2.0   \n",
       "1      1  4.0  4.0  4.0  4.0  4.0  5.0  4.0  4.0  3.0  ...     1.0   49   1.0   \n",
       "2      2  4.0  5.0  5.0  4.0  3.0  5.0  5.0  5.0  4.0  ...     2.0   43   1.0   \n",
       "3      3  4.0  4.0  4.0  2.0  4.0  3.0  3.0  5.0  3.0  ...     1.0   17   2.0   \n",
       "4      4  4.0  4.0  4.0  4.0  3.0  3.0  4.0  2.0  3.0  ...     2.0   18   2.0   \n",
       "5      5  5.0  4.0  5.0  5.0  5.0  5.0  5.0  4.0  4.0  ...     1.0   26   1.0   \n",
       "6      6  4.0  3.0  4.0  3.0  5.0  4.0  5.0  4.0  5.0  ...     2.0   40   1.0   \n",
       "7      7  4.0  5.0  4.0  4.0  4.0  4.0  2.0  5.0  3.0  ...     2.0   34   1.0   \n",
       "8      8  4.0  4.0  3.0  4.0  4.0  5.0  4.0  3.0  3.0  ...     1.0   20   1.0   \n",
       "9      9  3.0  3.0  4.0  3.0  4.0  2.0  4.0  2.0  4.0  ...     2.0   17   1.0   \n",
       "\n",
       "   religion  orientation  voted  married  familysize  ASD  nerdiness  \n",
       "0      12.0          4.0    2.0      1.0         4.0  2.0          1  \n",
       "1       2.0          1.0    1.0      2.0         4.0  2.0          1  \n",
       "2       2.0          2.0    2.0      3.0         4.0  2.0          1  \n",
       "3       1.0          1.0    2.0      1.0         2.0  2.0          1  \n",
       "4      12.0          1.0    2.0      1.0         1.0  2.0          0  \n",
       "5       1.0          1.0    1.0      1.0         1.0  1.0          1  \n",
       "6       1.0          1.0    2.0      1.0         1.0  2.0          1  \n",
       "7       2.0          5.0    1.0      1.0         2.0  2.0          1  \n",
       "8       7.0          1.0    1.0      1.0         3.0  2.0          0  \n",
       "9      10.0          1.0    2.0      1.0         5.0  2.0          0  \n",
       "\n",
       "[10 rows x 69 columns]"
      ]
     },
     "metadata": {},
     "output_type": "display_data"
    }
   ],
   "source": [
    "# Checking processed data\n",
    "display(train[:10])"
   ]
  },
  {
   "cell_type": "code",
   "execution_count": 5,
   "metadata": {
    "id": "W5wg4MaQHyl5"
   },
   "outputs": [],
   "source": [
    "# train_data_split\n",
    "# train_input : train feature data\n",
    "# train_target : train target data\n",
    "train_input = train.iloc[:, :-1]\n",
    "train_target = train.iloc[:, -1]"
   ]
  },
  {
   "cell_type": "code",
   "execution_count": 6,
   "metadata": {
    "colab": {
     "base_uri": "https://localhost:8080/",
     "height": 427
    },
    "id": "ue13gRl-O9Ql",
    "outputId": "02167989-9f9d-4287-90f2-200bce31b449"
   },
   "outputs": [
    {
     "data": {
      "text/html": [
       "<div>\n",
       "<style scoped>\n",
       "    .dataframe tbody tr th:only-of-type {\n",
       "        vertical-align: middle;\n",
       "    }\n",
       "\n",
       "    .dataframe tbody tr th {\n",
       "        vertical-align: top;\n",
       "    }\n",
       "\n",
       "    .dataframe thead th {\n",
       "        text-align: right;\n",
       "    }\n",
       "</style>\n",
       "<table border=\"1\" class=\"dataframe\">\n",
       "  <thead>\n",
       "    <tr style=\"text-align: right;\">\n",
       "      <th></th>\n",
       "      <th>index</th>\n",
       "      <th>Q1</th>\n",
       "      <th>Q2</th>\n",
       "      <th>Q3</th>\n",
       "      <th>Q4</th>\n",
       "      <th>Q5</th>\n",
       "      <th>Q6</th>\n",
       "      <th>Q7</th>\n",
       "      <th>Q8</th>\n",
       "      <th>Q9</th>\n",
       "      <th>...</th>\n",
       "      <th>gender</th>\n",
       "      <th>engnat</th>\n",
       "      <th>age</th>\n",
       "      <th>hand</th>\n",
       "      <th>religion</th>\n",
       "      <th>orientation</th>\n",
       "      <th>voted</th>\n",
       "      <th>married</th>\n",
       "      <th>familysize</th>\n",
       "      <th>ASD</th>\n",
       "    </tr>\n",
       "  </thead>\n",
       "  <tbody>\n",
       "    <tr>\n",
       "      <th>0</th>\n",
       "      <td>0</td>\n",
       "      <td>1.0</td>\n",
       "      <td>5.0</td>\n",
       "      <td>5.0</td>\n",
       "      <td>5.0</td>\n",
       "      <td>1.0</td>\n",
       "      <td>4.0</td>\n",
       "      <td>5.0</td>\n",
       "      <td>5.0</td>\n",
       "      <td>1.0</td>\n",
       "      <td>...</td>\n",
       "      <td>3.0</td>\n",
       "      <td>1.0</td>\n",
       "      <td>20</td>\n",
       "      <td>2.0</td>\n",
       "      <td>12.0</td>\n",
       "      <td>4.0</td>\n",
       "      <td>2.0</td>\n",
       "      <td>1.0</td>\n",
       "      <td>4.0</td>\n",
       "      <td>2.0</td>\n",
       "    </tr>\n",
       "    <tr>\n",
       "      <th>1</th>\n",
       "      <td>1</td>\n",
       "      <td>4.0</td>\n",
       "      <td>4.0</td>\n",
       "      <td>4.0</td>\n",
       "      <td>4.0</td>\n",
       "      <td>4.0</td>\n",
       "      <td>5.0</td>\n",
       "      <td>4.0</td>\n",
       "      <td>4.0</td>\n",
       "      <td>3.0</td>\n",
       "      <td>...</td>\n",
       "      <td>2.0</td>\n",
       "      <td>1.0</td>\n",
       "      <td>49</td>\n",
       "      <td>1.0</td>\n",
       "      <td>2.0</td>\n",
       "      <td>1.0</td>\n",
       "      <td>1.0</td>\n",
       "      <td>2.0</td>\n",
       "      <td>4.0</td>\n",
       "      <td>2.0</td>\n",
       "    </tr>\n",
       "    <tr>\n",
       "      <th>2</th>\n",
       "      <td>2</td>\n",
       "      <td>4.0</td>\n",
       "      <td>5.0</td>\n",
       "      <td>5.0</td>\n",
       "      <td>4.0</td>\n",
       "      <td>3.0</td>\n",
       "      <td>5.0</td>\n",
       "      <td>5.0</td>\n",
       "      <td>5.0</td>\n",
       "      <td>4.0</td>\n",
       "      <td>...</td>\n",
       "      <td>1.0</td>\n",
       "      <td>2.0</td>\n",
       "      <td>43</td>\n",
       "      <td>1.0</td>\n",
       "      <td>2.0</td>\n",
       "      <td>2.0</td>\n",
       "      <td>2.0</td>\n",
       "      <td>3.0</td>\n",
       "      <td>4.0</td>\n",
       "      <td>2.0</td>\n",
       "    </tr>\n",
       "    <tr>\n",
       "      <th>3</th>\n",
       "      <td>3</td>\n",
       "      <td>4.0</td>\n",
       "      <td>4.0</td>\n",
       "      <td>4.0</td>\n",
       "      <td>2.0</td>\n",
       "      <td>4.0</td>\n",
       "      <td>3.0</td>\n",
       "      <td>3.0</td>\n",
       "      <td>5.0</td>\n",
       "      <td>3.0</td>\n",
       "      <td>...</td>\n",
       "      <td>1.0</td>\n",
       "      <td>1.0</td>\n",
       "      <td>17</td>\n",
       "      <td>2.0</td>\n",
       "      <td>1.0</td>\n",
       "      <td>1.0</td>\n",
       "      <td>2.0</td>\n",
       "      <td>1.0</td>\n",
       "      <td>2.0</td>\n",
       "      <td>2.0</td>\n",
       "    </tr>\n",
       "    <tr>\n",
       "      <th>4</th>\n",
       "      <td>4</td>\n",
       "      <td>4.0</td>\n",
       "      <td>4.0</td>\n",
       "      <td>4.0</td>\n",
       "      <td>4.0</td>\n",
       "      <td>3.0</td>\n",
       "      <td>3.0</td>\n",
       "      <td>4.0</td>\n",
       "      <td>2.0</td>\n",
       "      <td>3.0</td>\n",
       "      <td>...</td>\n",
       "      <td>2.0</td>\n",
       "      <td>2.0</td>\n",
       "      <td>18</td>\n",
       "      <td>2.0</td>\n",
       "      <td>12.0</td>\n",
       "      <td>1.0</td>\n",
       "      <td>2.0</td>\n",
       "      <td>1.0</td>\n",
       "      <td>1.0</td>\n",
       "      <td>2.0</td>\n",
       "    </tr>\n",
       "    <tr>\n",
       "      <th>5</th>\n",
       "      <td>5</td>\n",
       "      <td>5.0</td>\n",
       "      <td>4.0</td>\n",
       "      <td>5.0</td>\n",
       "      <td>5.0</td>\n",
       "      <td>5.0</td>\n",
       "      <td>5.0</td>\n",
       "      <td>5.0</td>\n",
       "      <td>4.0</td>\n",
       "      <td>4.0</td>\n",
       "      <td>...</td>\n",
       "      <td>1.0</td>\n",
       "      <td>1.0</td>\n",
       "      <td>26</td>\n",
       "      <td>1.0</td>\n",
       "      <td>1.0</td>\n",
       "      <td>1.0</td>\n",
       "      <td>1.0</td>\n",
       "      <td>1.0</td>\n",
       "      <td>1.0</td>\n",
       "      <td>1.0</td>\n",
       "    </tr>\n",
       "    <tr>\n",
       "      <th>6</th>\n",
       "      <td>6</td>\n",
       "      <td>4.0</td>\n",
       "      <td>3.0</td>\n",
       "      <td>4.0</td>\n",
       "      <td>3.0</td>\n",
       "      <td>5.0</td>\n",
       "      <td>4.0</td>\n",
       "      <td>5.0</td>\n",
       "      <td>4.0</td>\n",
       "      <td>5.0</td>\n",
       "      <td>...</td>\n",
       "      <td>2.0</td>\n",
       "      <td>2.0</td>\n",
       "      <td>40</td>\n",
       "      <td>1.0</td>\n",
       "      <td>1.0</td>\n",
       "      <td>1.0</td>\n",
       "      <td>2.0</td>\n",
       "      <td>1.0</td>\n",
       "      <td>1.0</td>\n",
       "      <td>2.0</td>\n",
       "    </tr>\n",
       "    <tr>\n",
       "      <th>7</th>\n",
       "      <td>7</td>\n",
       "      <td>4.0</td>\n",
       "      <td>5.0</td>\n",
       "      <td>4.0</td>\n",
       "      <td>4.0</td>\n",
       "      <td>4.0</td>\n",
       "      <td>4.0</td>\n",
       "      <td>2.0</td>\n",
       "      <td>5.0</td>\n",
       "      <td>3.0</td>\n",
       "      <td>...</td>\n",
       "      <td>2.0</td>\n",
       "      <td>2.0</td>\n",
       "      <td>34</td>\n",
       "      <td>1.0</td>\n",
       "      <td>2.0</td>\n",
       "      <td>5.0</td>\n",
       "      <td>1.0</td>\n",
       "      <td>1.0</td>\n",
       "      <td>2.0</td>\n",
       "      <td>2.0</td>\n",
       "    </tr>\n",
       "    <tr>\n",
       "      <th>8</th>\n",
       "      <td>8</td>\n",
       "      <td>4.0</td>\n",
       "      <td>4.0</td>\n",
       "      <td>3.0</td>\n",
       "      <td>4.0</td>\n",
       "      <td>4.0</td>\n",
       "      <td>5.0</td>\n",
       "      <td>4.0</td>\n",
       "      <td>3.0</td>\n",
       "      <td>3.0</td>\n",
       "      <td>...</td>\n",
       "      <td>2.0</td>\n",
       "      <td>1.0</td>\n",
       "      <td>20</td>\n",
       "      <td>1.0</td>\n",
       "      <td>7.0</td>\n",
       "      <td>1.0</td>\n",
       "      <td>1.0</td>\n",
       "      <td>1.0</td>\n",
       "      <td>3.0</td>\n",
       "      <td>2.0</td>\n",
       "    </tr>\n",
       "    <tr>\n",
       "      <th>9</th>\n",
       "      <td>9</td>\n",
       "      <td>3.0</td>\n",
       "      <td>3.0</td>\n",
       "      <td>4.0</td>\n",
       "      <td>3.0</td>\n",
       "      <td>4.0</td>\n",
       "      <td>2.0</td>\n",
       "      <td>4.0</td>\n",
       "      <td>2.0</td>\n",
       "      <td>4.0</td>\n",
       "      <td>...</td>\n",
       "      <td>1.0</td>\n",
       "      <td>2.0</td>\n",
       "      <td>17</td>\n",
       "      <td>1.0</td>\n",
       "      <td>10.0</td>\n",
       "      <td>1.0</td>\n",
       "      <td>2.0</td>\n",
       "      <td>1.0</td>\n",
       "      <td>5.0</td>\n",
       "      <td>2.0</td>\n",
       "    </tr>\n",
       "  </tbody>\n",
       "</table>\n",
       "<p>10 rows × 68 columns</p>\n",
       "</div>"
      ],
      "text/plain": [
       "   index   Q1   Q2   Q3   Q4   Q5   Q6   Q7   Q8   Q9  ...  gender  engnat  \\\n",
       "0      0  1.0  5.0  5.0  5.0  1.0  4.0  5.0  5.0  1.0  ...     3.0     1.0   \n",
       "1      1  4.0  4.0  4.0  4.0  4.0  5.0  4.0  4.0  3.0  ...     2.0     1.0   \n",
       "2      2  4.0  5.0  5.0  4.0  3.0  5.0  5.0  5.0  4.0  ...     1.0     2.0   \n",
       "3      3  4.0  4.0  4.0  2.0  4.0  3.0  3.0  5.0  3.0  ...     1.0     1.0   \n",
       "4      4  4.0  4.0  4.0  4.0  3.0  3.0  4.0  2.0  3.0  ...     2.0     2.0   \n",
       "5      5  5.0  4.0  5.0  5.0  5.0  5.0  5.0  4.0  4.0  ...     1.0     1.0   \n",
       "6      6  4.0  3.0  4.0  3.0  5.0  4.0  5.0  4.0  5.0  ...     2.0     2.0   \n",
       "7      7  4.0  5.0  4.0  4.0  4.0  4.0  2.0  5.0  3.0  ...     2.0     2.0   \n",
       "8      8  4.0  4.0  3.0  4.0  4.0  5.0  4.0  3.0  3.0  ...     2.0     1.0   \n",
       "9      9  3.0  3.0  4.0  3.0  4.0  2.0  4.0  2.0  4.0  ...     1.0     2.0   \n",
       "\n",
       "   age  hand  religion  orientation  voted  married  familysize  ASD  \n",
       "0   20   2.0      12.0          4.0    2.0      1.0         4.0  2.0  \n",
       "1   49   1.0       2.0          1.0    1.0      2.0         4.0  2.0  \n",
       "2   43   1.0       2.0          2.0    2.0      3.0         4.0  2.0  \n",
       "3   17   2.0       1.0          1.0    2.0      1.0         2.0  2.0  \n",
       "4   18   2.0      12.0          1.0    2.0      1.0         1.0  2.0  \n",
       "5   26   1.0       1.0          1.0    1.0      1.0         1.0  1.0  \n",
       "6   40   1.0       1.0          1.0    2.0      1.0         1.0  2.0  \n",
       "7   34   1.0       2.0          5.0    1.0      1.0         2.0  2.0  \n",
       "8   20   1.0       7.0          1.0    1.0      1.0         3.0  2.0  \n",
       "9   17   1.0      10.0          1.0    2.0      1.0         5.0  2.0  \n",
       "\n",
       "[10 rows x 68 columns]"
      ]
     },
     "metadata": {},
     "output_type": "display_data"
    }
   ],
   "source": [
    "# check train_input data\n",
    "display(train_input[:10])"
   ]
  },
  {
   "cell_type": "code",
   "execution_count": 7,
   "metadata": {
    "colab": {
     "base_uri": "https://localhost:8080/",
     "height": 208
    },
    "id": "OOCQl2sxQFoZ",
    "outputId": "9c03c3a6-b0be-4e26-9005-172b0a54e31b"
   },
   "outputs": [
    {
     "data": {
      "text/plain": [
       "0    1\n",
       "1    1\n",
       "2    1\n",
       "3    1\n",
       "4    0\n",
       "5    1\n",
       "6    1\n",
       "7    1\n",
       "8    0\n",
       "9    0\n",
       "Name: nerdiness, dtype: int64"
      ]
     },
     "metadata": {},
     "output_type": "display_data"
    }
   ],
   "source": [
    "# check train_target data\n",
    "display(train_target[:10])"
   ]
  },
  {
   "cell_type": "markdown",
   "metadata": {
    "id": "WwKQluIDTwqs"
   },
   "source": [
    "### 데이터 정규화\n",
    "이후 모든 실행 코드는 함수 단위로 작성되어 있습니다.  \n",
    "  \n",
    "아래 함수는 생성된 데이터에 대해서 표준 정규화를 수행합니다."
   ]
  },
  {
   "cell_type": "code",
   "execution_count": 8,
   "metadata": {
    "id": "KCm3_jHBHyqB"
   },
   "outputs": [],
   "source": [
    "# standard scaler\n",
    "def scaler(dataset):\n",
    "  scaler = StandardScaler()\n",
    "  out = scaler.fit_transform(dataset)\n",
    "  return out"
   ]
  },
  {
   "cell_type": "markdown",
   "metadata": {},
   "source": [
    "### 데이터를 생성 작업\n",
    "\n",
    "#### full_data\n",
    "전체데이터를 모두 사용합니다.(country feature 제거한 table)  \n",
    "전체데이터에서 범주형 데이터에 해당하는 feature은 one hot encoding 작업을 통해 transform 시켰습니다."
   ]
  },
  {
   "cell_type": "code",
   "execution_count": 9,
   "metadata": {
    "id": "fkyW1G3nHytb"
   },
   "outputs": [],
   "source": [
    "# full data generate function\n",
    "def full_data(dataset):\n",
    "  full_data = pd.get_dummies(dataset, columns=['gender', 'hand', 'religion', 'orientation', 'voted', 'married', 'ASD'], drop_first=True)\n",
    "  full_data = scaler(full_data)\n",
    "  return full_data"
   ]
  },
  {
   "cell_type": "markdown",
   "metadata": {},
   "source": [
    "#### 마키아벨리즘 Feature Engineering\n",
    "해당 데이터 들이 마키아벨리즘 테스트와 연관이 있어 관련 정보를 이용하여 Feature Engineering을 진행하였습니다.  \n",
    "\n",
    "[참고자료 : https://dacon.io/codeshare/1711]"
   ]
  },
  {
   "cell_type": "code",
   "execution_count": 10,
   "metadata": {
    "id": "rq5JVKurHyw6"
   },
   "outputs": [],
   "source": [
    "# feature Engineering - MV data\n",
    "def MV_data(dataset):\n",
    "  MV_data = dataset.iloc[:, [1,2,3,4,5,7,8,9,10,11,12,13,15,16,17,19,20]]\n",
    "\n",
    "  for i in [3,7,10,16,4,11,17,9]:\n",
    "    MV_data['Q' + str(i)] = 6 - MV_data['Q' + str(i)]\n",
    "\n",
    "  MV_data['score'] = np.sum(MV_data, axis=1)\n",
    "\n",
    "  MV_data = scaler(MV_data)\n",
    "\n",
    "  return MV_data"
   ]
  },
  {
   "cell_type": "markdown",
   "metadata": {},
   "source": [
    "#### Survey data\n",
    "모델을 학습했을 때 성능이 비교적 우수하게 나왔던 Q1 ~ Q26에 대한 데이터들만 따로 추출하여 데이터 셋을 만들었습니다."
   ]
  },
  {
   "cell_type": "code",
   "execution_count": 11,
   "metadata": {
    "id": "eoibaB4wHy0R"
   },
   "outputs": [],
   "source": [
    "# survey data - Q1~Q26\n",
    "def survey_data(dataset):\n",
    "  survey_data = dataset.iloc[:, 1:26]\n",
    "  survey_data = scaler(survey_data)\n",
    "  return survey_data"
   ]
  },
  {
   "cell_type": "markdown",
   "metadata": {},
   "source": [
    "#### pca data\n",
    "위에서 생성된 survey 데이터를 sklearn 내장 클래스인 PolynomialFeatures 를 이용하여 추가적인 특징을 생성한 다음 pca 차원축소알고리즘을 이용하여 50개로 축소하였습니다.  \n",
    "그러나 해당 데이터는 모델의 전반적인 성능과 균형을 고려하여 사용을 하지 않았습니다."
   ]
  },
  {
   "cell_type": "code",
   "execution_count": 12,
   "metadata": {
    "id": "uKWe3vWgHy3Z"
   },
   "outputs": [],
   "source": [
    "# pca data - maximized dimention about input data and decrese of dimention\n",
    "# input : survey data\n",
    "def pca_data(dataset):\n",
    "  poly = PolynomialFeatures(include_bias=False, degree=2)\n",
    "  poly_data = poly.fit_transform(dataset)\n",
    "\n",
    "  pca = PCA(n_components=50)\n",
    "  pca_data = pca.fit_transform(poly_data)\n",
    "  return pca_data"
   ]
  },
  {
   "cell_type": "markdown",
   "metadata": {
    "id": "WDgmf2MIIczQ"
   },
   "source": [
    "## 모델 개발\n",
    "맨 위 인트로에서 말했던 모델 부분입니다.  \n",
    "아래 리스트에 적혀있는 4개의 모델들을 1개의 모델 집합으로 생성하였습니다.\n",
    "- 모델 집합은 각 데이터 셋(4개)당 1개씩 3개 생성하였습니다.\n",
    "  - XGBoostClassifier\n",
    "  - LGBMClassifier\n",
    "  - RandomForestClassifier\n",
    "  - CatboostClassifier\n",
    "  \n",
    "*catboost는 colab에 기본 설치된 모델이 아니므로 추가적인 설치과정이 필요합니다.*"
   ]
  },
  {
   "cell_type": "code",
   "execution_count": 13,
   "metadata": {
    "colab": {
     "base_uri": "https://localhost:8080/"
    },
    "id": "TXlmkNdn_qQi",
    "outputId": "d1a470ed-c66b-44d6-cff2-28cd29e37dce"
   },
   "outputs": [
    {
     "name": "stdout",
     "output_type": "stream",
     "text": [
      "Requirement already satisfied: catboost in c:\\users\\user\\anaconda3\\lib\\site-packages (1.0.6)\n",
      "Requirement already satisfied: six in c:\\users\\user\\anaconda3\\lib\\site-packages (from catboost) (1.16.0)\n",
      "Requirement already satisfied: matplotlib in c:\\users\\user\\anaconda3\\lib\\site-packages (from catboost) (3.5.1)\n",
      "Requirement already satisfied: scipy in c:\\users\\user\\anaconda3\\lib\\site-packages (from catboost) (1.7.3)\n",
      "Requirement already satisfied: plotly in c:\\users\\user\\anaconda3\\lib\\site-packages (from catboost) (5.6.0)\n",
      "Requirement already satisfied: graphviz in c:\\users\\user\\anaconda3\\lib\\site-packages (from catboost) (0.20.1)\n",
      "Requirement already satisfied: pandas>=0.24.0 in c:\\users\\user\\anaconda3\\lib\\site-packages (from catboost) (1.4.2)\n",
      "Requirement already satisfied: numpy>=1.16.0 in c:\\users\\user\\anaconda3\\lib\\site-packages (from catboost) (1.21.5)\n",
      "Requirement already satisfied: pytz>=2020.1 in c:\\users\\user\\anaconda3\\lib\\site-packages (from pandas>=0.24.0->catboost) (2021.3)\n",
      "Requirement already satisfied: python-dateutil>=2.8.1 in c:\\users\\user\\anaconda3\\lib\\site-packages (from pandas>=0.24.0->catboost) (2.8.2)\n",
      "Requirement already satisfied: cycler>=0.10 in c:\\users\\user\\anaconda3\\lib\\site-packages (from matplotlib->catboost) (0.11.0)\n",
      "Requirement already satisfied: kiwisolver>=1.0.1 in c:\\users\\user\\anaconda3\\lib\\site-packages (from matplotlib->catboost) (1.3.2)\n",
      "Requirement already satisfied: fonttools>=4.22.0 in c:\\users\\user\\anaconda3\\lib\\site-packages (from matplotlib->catboost) (4.25.0)\n",
      "Requirement already satisfied: packaging>=20.0 in c:\\users\\user\\anaconda3\\lib\\site-packages (from matplotlib->catboost) (21.3)\n",
      "Requirement already satisfied: pyparsing>=2.2.1 in c:\\users\\user\\anaconda3\\lib\\site-packages (from matplotlib->catboost) (3.0.4)\n",
      "Requirement already satisfied: pillow>=6.2.0 in c:\\users\\user\\anaconda3\\lib\\site-packages (from matplotlib->catboost) (9.0.1)\n",
      "Requirement already satisfied: tenacity>=6.2.0 in c:\\users\\user\\anaconda3\\lib\\site-packages (from plotly->catboost) (8.0.1)\n"
     ]
    }
   ],
   "source": [
    "# install catboost\n",
    "!pip install catboost"
   ]
  },
  {
   "cell_type": "markdown",
   "metadata": {},
   "source": [
    "#### 모델 집합 생성\n",
    "\n",
    "역시 모델의 훈련을 한번에 진행할 수 있도록 함수로 작성을 합니다.  \n",
    "4개의 모델은 예측한 결과(0 또는 1)을 투표 형식으로 Ensemble하여 모델 집합의 최종 결론을 0 또는 1로 내립니다."
   ]
  },
  {
   "cell_type": "code",
   "execution_count": 14,
   "metadata": {
    "id": "nq7vfJ5qIfoa"
   },
   "outputs": [],
   "source": [
    "# Functions that create and predict modelsfrom sklearn.ensemble import RandomForestClassifier\n",
    "from sklearn.ensemble import RandomForestClassifier\n",
    "from xgboost import XGBClassifier\n",
    "from lightgbm import LGBMClassifier\n",
    "from catboost import CatBoostClassifier, Pool\n",
    "\n",
    "def model_fit_predict(dataset, targetdata, testset):\n",
    "  model1 = RandomForestClassifier()\n",
    "  model2 = XGBClassifier(n_estimators=2000, learning_rate=0.03, max_depth=20)\n",
    "  model3 = LGBMClassifier(n_estimators=2000, max_depth=20)\n",
    "  model4 = CatBoostClassifier(iterations=2, depth=7, learning_rate=0.03, \n",
    "                              loss_function='Logloss', verbose=True)\n",
    "\n",
    "\n",
    "  # fit\n",
    "  model1.fit(dataset,targetdata)\n",
    "  model2.fit(dataset,targetdata)\n",
    "  model3.fit(dataset,targetdata)\n",
    "  model4.fit(dataset,targetdata)\n",
    "    \n",
    "  # predict\n",
    "  pred1 = model1.predict(testset)\n",
    "  pred2 = model2.predict(testset)\n",
    "  pred3 = model3.predict(testset)\n",
    "  pred4 = model4.predict(testset)\n",
    "\n",
    "  pred_sum = pred1 + pred2 + pred3 + pred4\n",
    "\n",
    "  # voting ensemble\n",
    "  predict_final = []\n",
    "  for pred in pred_sum:\n",
    "    if pred > 2:\n",
    "      predict_final.append(1)\n",
    "    else:\n",
    "      predict_final.append(0)\n",
    "\n",
    "  return np.array(predict_final)"
   ]
  },
  {
   "cell_type": "markdown",
   "metadata": {
    "id": "YMpVF5kVIwsP"
   },
   "source": [
    "### 데이터 생성\n",
    "이전에 만든 함수들로 실제 데이터들을 설정합니다."
   ]
  },
  {
   "cell_type": "code",
   "execution_count": 15,
   "metadata": {
    "colab": {
     "base_uri": "https://localhost:8080/"
    },
    "id": "eXEu9ln0IfvV",
    "outputId": "c8753a13-8db3-4b03-8c07-7782231d70bc"
   },
   "outputs": [
    {
     "name": "stderr",
     "output_type": "stream",
     "text": [
      "C:\\Users\\Public\\Documents\\ESTsoft\\CreatorTemp\\ipykernel_14400\\1655268469.py:6: SettingWithCopyWarning: \n",
      "A value is trying to be set on a copy of a slice from a DataFrame.\n",
      "Try using .loc[row_indexer,col_indexer] = value instead\n",
      "\n",
      "See the caveats in the documentation: https://pandas.pydata.org/pandas-docs/stable/user_guide/indexing.html#returning-a-view-versus-a-copy\n",
      "  MV_data['Q' + str(i)] = 6 - MV_data['Q' + str(i)]\n",
      "C:\\Users\\Public\\Documents\\ESTsoft\\CreatorTemp\\ipykernel_14400\\1655268469.py:8: SettingWithCopyWarning: \n",
      "A value is trying to be set on a copy of a slice from a DataFrame.\n",
      "Try using .loc[row_indexer,col_indexer] = value instead\n",
      "\n",
      "See the caveats in the documentation: https://pandas.pydata.org/pandas-docs/stable/user_guide/indexing.html#returning-a-view-versus-a-copy\n",
      "  MV_data['score'] = np.sum(MV_data, axis=1)\n",
      "C:\\Users\\Public\\Documents\\ESTsoft\\CreatorTemp\\ipykernel_14400\\1655268469.py:6: SettingWithCopyWarning: \n",
      "A value is trying to be set on a copy of a slice from a DataFrame.\n",
      "Try using .loc[row_indexer,col_indexer] = value instead\n",
      "\n",
      "See the caveats in the documentation: https://pandas.pydata.org/pandas-docs/stable/user_guide/indexing.html#returning-a-view-versus-a-copy\n",
      "  MV_data['Q' + str(i)] = 6 - MV_data['Q' + str(i)]\n",
      "C:\\Users\\Public\\Documents\\ESTsoft\\CreatorTemp\\ipykernel_14400\\1655268469.py:8: SettingWithCopyWarning: \n",
      "A value is trying to be set on a copy of a slice from a DataFrame.\n",
      "Try using .loc[row_indexer,col_indexer] = value instead\n",
      "\n",
      "See the caveats in the documentation: https://pandas.pydata.org/pandas-docs/stable/user_guide/indexing.html#returning-a-view-versus-a-copy\n",
      "  MV_data['score'] = np.sum(MV_data, axis=1)\n"
     ]
    }
   ],
   "source": [
    "# generating data\n",
    "full_data_train = full_data(train_input)\n",
    "full_data_test = full_data(test)\n",
    "\n",
    "MV_data_train = MV_data(train_input)\n",
    "MV_data_test = MV_data(test)\n",
    "\n",
    "survey_data_train = survey_data(train_input)\n",
    "survey_data_test = survey_data(test)\n",
    "\n",
    "# not using\n",
    "pca_data_train = pca_data(survey_data_train)\n",
    "pca_data_test = pca_data(survey_data_test)"
   ]
  },
  {
   "cell_type": "markdown",
   "metadata": {
    "id": "iYLYMzBfI44j"
   },
   "source": [
    "### 실제 모델 생성\n",
    "모델 집합을 생성해주는 함수와 생성한 데이터들을 이용하여 각각 데이터에 맞추어진 모델을 생성합니다.  \n",
    "각각의 모델은 model**n**_pred라는 이름으로 생성됩니다.  \n",
    "  \n",
    "일단 모델은 5개를 생성했지만 실 사용은 \"model1_pred, model2_pred, model3_pred\" 입니다."
   ]
  },
  {
   "cell_type": "code",
   "execution_count": 16,
   "metadata": {
    "colab": {
     "base_uri": "https://localhost:8080/"
    },
    "id": "L2vk2IfnIf0R",
    "outputId": "11f90fbe-4ada-4748-95ac-7dc3d352f066"
   },
   "outputs": [
    {
     "name": "stdout",
     "output_type": "stream",
     "text": [
      "0:\tlearn: 0.6852859\ttotal: 210ms\tremaining: 210ms\n",
      "1:\tlearn: 0.6777590\ttotal: 258ms\tremaining: 0us\n"
     ]
    }
   ],
   "source": [
    "model1_pred = model_fit_predict(full_data_train, train_target, full_data_test)"
   ]
  },
  {
   "cell_type": "code",
   "execution_count": 17,
   "metadata": {
    "colab": {
     "base_uri": "https://localhost:8080/"
    },
    "id": "zSZHudjbIf5V",
    "outputId": "54cf570b-e5a1-4a72-f137-a8408e30bae8"
   },
   "outputs": [
    {
     "name": "stdout",
     "output_type": "stream",
     "text": [
      "0:\tlearn: 0.6878181\ttotal: 2.18ms\tremaining: 2.18ms\n",
      "1:\tlearn: 0.6828444\ttotal: 4.24ms\tremaining: 0us\n"
     ]
    }
   ],
   "source": [
    "model2_pred = model_fit_predict(MV_data_train, train_target, MV_data_test)"
   ]
  },
  {
   "cell_type": "code",
   "execution_count": 18,
   "metadata": {
    "colab": {
     "base_uri": "https://localhost:8080/"
    },
    "id": "G4hSKvqHI8jF",
    "outputId": "774317a4-0c9e-4c7d-9ea4-1518dc581bc2"
   },
   "outputs": [
    {
     "name": "stdout",
     "output_type": "stream",
     "text": [
      "0:\tlearn: 0.6856796\ttotal: 17.8ms\tremaining: 17.8ms\n",
      "1:\tlearn: 0.6781058\ttotal: 21.8ms\tremaining: 0us\n"
     ]
    }
   ],
   "source": [
    "model3_pred = model_fit_predict(survey_data_train, train_target, survey_data_test)"
   ]
  },
  {
   "cell_type": "markdown",
   "metadata": {
    "id": "vi66dLpsJpEQ"
   },
   "source": [
    "### 모델 테스트\n",
    "\n",
    "생성한 모델에 대해서 예측 성능 테스트를 진행했습니다.  \n",
    "위에서 생성한 model4와 model5 는 이후 Ensemble에는 사용하지 않았습니다."
   ]
  },
  {
   "cell_type": "code",
   "execution_count": 19,
   "metadata": {
    "colab": {
     "base_uri": "https://localhost:8080/"
    },
    "id": "3aCzpJU_JhPQ",
    "outputId": "e5b4c3b2-842a-485e-e33d-4b4a8f4ec6b1"
   },
   "outputs": [
    {
     "name": "stdout",
     "output_type": "stream",
     "text": [
      "[0 1 1 1 1 0 1 1 0 0]\n",
      "[0 1 1 1 1 0 1 1 0 0]\n",
      "[0 1 1 1 1 0 1 1 0 0]\n"
     ]
    }
   ],
   "source": [
    "# model predict\n",
    "# Disable Model4 <- comment\n",
    "print(model1_pred[:10])\n",
    "print(model2_pred[:10])\n",
    "print(model3_pred[:10])"
   ]
  },
  {
   "cell_type": "markdown",
   "metadata": {},
   "source": [
    "### 실제 예측값 만들기\n",
    "model1, model2, model3 에 해당하는 값들을 일단 모두 더합니다.  \n",
    "  \n",
    "그 후 3개의 모델 집합 중 2개 이상의 모델 집합이 판단하는 쪽으로 예측을 진행합니다."
   ]
  },
  {
   "cell_type": "code",
   "execution_count": 20,
   "metadata": {
    "id": "_lW7liKBJzGm"
   },
   "outputs": [],
   "source": [
    "preds = model1_pred + model2_pred + model3_pred"
   ]
  },
  {
   "cell_type": "code",
   "execution_count": 21,
   "metadata": {
    "id": "w1r16ZpxJzZJ"
   },
   "outputs": [],
   "source": [
    "# final model Ensemble\n",
    "predict_final = []\n",
    "for pred in preds:\n",
    "  if pred >= 1.5:\n",
    "    predict_final.append(1)\n",
    "  else:\n",
    "    predict_final.append(0)\n",
    "\n",
    "result = np.array(predict_final)"
   ]
  },
  {
   "cell_type": "markdown",
   "metadata": {
    "id": "QUBmVZ6HSUnp"
   },
   "source": [
    "## 제출 파일 생성"
   ]
  },
  {
   "cell_type": "code",
   "execution_count": 22,
   "metadata": {
    "id": "zwpqAHSpJziB"
   },
   "outputs": [],
   "source": [
    "# generate submission file\n",
    "submission = pd.read_csv('sample_submission.csv')\n",
    "submission['nerdiness'] = result\n",
    "submission.to_csv(\"submission.csv\", index = False)"
   ]
  }
 ],
 "metadata": {
  "accelerator": "TPU",
  "colab": {
   "collapsed_sections": [],
   "name": "\bss_yk_dacon_ai.ipynb",
   "provenance": []
  },
  "gpuClass": "standard",
  "kernelspec": {
   "display_name": "Python 3 (ipykernel)",
   "language": "python",
   "name": "python3"
  },
  "language_info": {
   "codemirror_mode": {
    "name": "ipython",
    "version": 3
   },
   "file_extension": ".py",
   "mimetype": "text/x-python",
   "name": "python",
   "nbconvert_exporter": "python",
   "pygments_lexer": "ipython3",
   "version": "3.9.12"
  }
 },
 "nbformat": 4,
 "nbformat_minor": 1
}
